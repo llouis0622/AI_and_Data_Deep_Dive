{
 "cells": [
  {
   "cell_type": "code",
   "id": "initial_id",
   "metadata": {
    "collapsed": true,
    "ExecuteTime": {
     "end_time": "2024-08-05T08:10:57.404060Z",
     "start_time": "2024-08-05T08:10:57.399444Z"
    }
   },
   "source": [
    "import math\n",
    "\n",
    "\n",
    "def predict_probability(x, b0, b1):\n",
    "    p = 1.0 / (1.0 + math.exp(-(b0 + b1 * x)))\n",
    "    return p"
   ],
   "outputs": [],
   "execution_count": 1
  },
  {
   "metadata": {
    "ExecuteTime": {
     "end_time": "2024-08-05T08:11:06.526520Z",
     "start_time": "2024-08-05T08:11:05.516776Z"
    }
   },
   "cell_type": "code",
   "source": [
    "from sympy import *\n",
    "\n",
    "b0, b1, x = symbols('b0 b1 x')\n",
    "\n",
    "p = 1.0 / (1.0 + exp(-(b0 + b1 * x)))\n",
    "\n",
    "p = p.subs(b0, -2.823)\n",
    "p = p.subs(b1, 0.620)\n",
    "print(p)\n",
    "\n",
    "plot(p)"
   ],
   "id": "fd890d24727ff37d",
   "outputs": [
    {
     "name": "stdout",
     "output_type": "stream",
     "text": [
      "1.0/(1.0 + 16.8272567955368*exp(-0.62*x))\n"
     ]
    },
    {
     "data": {
      "text/plain": [
       "<Figure size 640x480 with 1 Axes>"
      ],
      "image/png": "[encoded data removed]"
     },
     "metadata": {},
     "output_type": "display_data"
    },
    {
     "data": {
      "text/plain": [
       "<sympy.plotting.plot.Plot at 0x104691bd0>"
      ]
     },
     "execution_count": 2,
     "metadata": {},
     "output_type": "execute_result"
    }
   ],
   "execution_count": 2
  },
  {
   "metadata": {
    "ExecuteTime": {
     "end_time": "2024-08-05T08:11:35.207780Z",
     "start_time": "2024-08-05T08:11:32.796426Z"
    }
   },
   "cell_type": "code",
   "source": [
    "import pandas as pd\n",
    "from sklearn.linear_model import LogisticRegression\n",
    "\n",
    "df = pd.read_csv('https://bit.ly/33ebs2R', delimiter=\",\")\n",
    "\n",
    "X = df.values[:, :-1]\n",
    "Y = df.values[:, -1]\n",
    "\n",
    "model = LogisticRegression(penalty=None)\n",
    "model.fit(X, Y)\n",
    "\n",
    "print(model.coef_.flatten())\n",
    "print(model.intercept_.flatten())"
   ],
   "id": "d9d0e532632639a3",
   "outputs": [
    {
     "name": "stdout",
     "output_type": "stream",
     "text": [
      "[0.69268939]\n",
      "[-3.17580504]\n"
     ]
    }
   ],
   "execution_count": 3
  },
  {
   "metadata": {
    "ExecuteTime": {
     "end_time": "2024-08-05T08:11:53.242031Z",
     "start_time": "2024-08-05T08:11:52.807568Z"
    }
   },
   "cell_type": "code",
   "source": [
    "import math\n",
    "import pandas as pd\n",
    "\n",
    "patient_data = pd.read_csv('https://bit.ly/33ebs2R', delimiter=\",\").itertuples()\n",
    "\n",
    "b0 = -3.17576395\n",
    "b1 = 0.69267212\n",
    "\n",
    "\n",
    "def logistic_function(x):\n",
    "    p = 1.0 / (1.0 + math.exp(-(b0 + b1 * x)))\n",
    "    return p\n",
    "\n",
    "\n",
    "joint_likelihood = 1.0\n",
    "\n",
    "for p in patient_data:\n",
    "    if p.y == 1.0:\n",
    "        joint_likelihood *= logistic_function(p.x)\n",
    "    elif p.y == 0.0:\n",
    "        joint_likelihood *= (1.0 - logistic_function(p.x))\n",
    "\n",
    "print(joint_likelihood)"
   ],
   "id": "9657c9df65eb1ff1",
   "outputs": [
    {
     "name": "stdout",
     "output_type": "stream",
     "text": [
      "4.7911180221699105e-05\n"
     ]
    }
   ],
   "execution_count": 4
  },
  {
   "metadata": {
    "ExecuteTime": {
     "end_time": "2024-08-05T08:12:02.141941Z",
     "start_time": "2024-08-05T08:12:02.139633Z"
    }
   },
   "cell_type": "code",
   "source": [
    "for p in patient_data:\n",
    "    joint_likelihood *= logistic_function(p.x) ** p.y * (1.0 - logistic_function(p.x)) ** (1.0 - p.y)"
   ],
   "id": "a954b122132c8a65",
   "outputs": [],
   "execution_count": 5
  },
  {
   "metadata": {
    "ExecuteTime": {
     "end_time": "2024-08-05T08:12:13.403921Z",
     "start_time": "2024-08-05T08:12:13.401514Z"
    }
   },
   "cell_type": "code",
   "source": [
    "joint_likelihood = 0.0\n",
    "\n",
    "for p in patient_data:\n",
    "    joint_likelihood += math.log(logistic_function(p.x) ** p.y * (1.0 - logistic_function(p.x)) ** (1.0 - p.y))\n",
    "\n",
    "joint_likelihood = math.exp(joint_likelihood)"
   ],
   "id": "1fd1766588b71a4a",
   "outputs": [],
   "execution_count": 6
  },
  {
   "metadata": {
    "ExecuteTime": {
     "end_time": "2024-08-05T08:12:22.534499Z",
     "start_time": "2024-08-05T08:12:22.518938Z"
    }
   },
   "cell_type": "code",
   "source": [
    "from sympy import *\n",
    "\n",
    "b, m, i, n = symbols('b m i n')\n",
    "x, y = symbols('x y', cls=Function)\n",
    "joint_likelihood = Sum(\n",
    "    log((1.0 / (1.0 + exp(-(b + m * x(i))))) ** y(i) * (1.0 - (1.0 / (1.0 + exp(-(b + m * x(i)))))) ** (1 - y(i))),\n",
    "    (i, 0, n))"
   ],
   "id": "c63b4c67c73067ee",
   "outputs": [],
   "execution_count": 7
  },
  {
   "metadata": {
    "ExecuteTime": {
     "end_time": "2024-08-05T08:13:06.454026Z",
     "start_time": "2024-08-05T08:13:03.268030Z"
    }
   },
   "cell_type": "code",
   "source": [
    "from sympy import *\n",
    "import pandas as pd\n",
    "\n",
    "points = list(pd.read_csv(\"https://tinyurl.com/y2cocoo7\").itertuples())\n",
    "\n",
    "b1, b0, i, n = symbols('b1 b0 i n')\n",
    "x, y = symbols('x y', cls=Function)\n",
    "joint_likelihood = Sum(\n",
    "    log((1.0 / (1.0 + exp(-(b0 + b1 * x(i))))) ** y(i) * (1.0 - (1.0 / (1.0 + exp(-(b0 + b1 * x(i)))))) ** (1 - y(i))),\n",
    "    (i, 0, n))\n",
    "\n",
    "d_b1 = diff(joint_likelihood, b1).subs(n, len(points) - 1).doit().replace(x, lambda i: points[i].x).replace(y, lambda i:\n",
    "points[i].y)\n",
    "d_b0 = diff(joint_likelihood, b0).subs(n, len(points) - 1).doit().replace(x, lambda i: points[i].x).replace(y, lambda i:\n",
    "points[i].y)\n",
    "\n",
    "d_b1 = lambdify([b1, b0], d_b1)\n",
    "d_b0 = lambdify([b1, b0], d_b0)\n",
    "\n",
    "b1 = 0.01\n",
    "b0 = 0.01\n",
    "L = .01\n",
    "\n",
    "for j in range(10_000):\n",
    "    b1 += d_b1(b1, b0) * L\n",
    "    b0 += d_b0(b1, b0) * L\n",
    "\n",
    "print(b1, b0)"
   ],
   "id": "dc00fa9c59a2ba34",
   "outputs": [
    {
     "name": "stdout",
     "output_type": "stream",
     "text": [
      "0.6926693075370819 -3.1757515504098244\n"
     ]
    }
   ],
   "execution_count": 8
  },
  {
   "metadata": {
    "ExecuteTime": {
     "end_time": "2024-08-05T08:13:46.683136Z",
     "start_time": "2024-08-05T08:13:43.158132Z"
    }
   },
   "cell_type": "code",
   "source": [
    "import pandas as pd\n",
    "from sklearn.linear_model import LogisticRegression\n",
    "\n",
    "employee_data = pd.read_csv(\"https://tinyurl.com/y6r7qjrp\")\n",
    "\n",
    "inputs = employee_data.iloc[:, :-1]\n",
    "output = employee_data.iloc[:, -1]\n",
    "\n",
    "fit = LogisticRegression(penalty=None).fit(inputs.to_numpy(), output)\n",
    "\n",
    "print(\"계수: {0}\".format(fit.coef_.flatten()))\n",
    "print(\"절편: {0}\".format(fit.intercept_.flatten()))\n",
    "\n",
    "\n",
    "def predict_employee_will_stay(sex, age, promotions, years_employed):\n",
    "    prediction = fit.predict([[sex, age, promotions, years_employed]])\n",
    "    probabilities = fit.predict_proba([[sex, age, promotions, years_employed]])\n",
    "    if prediction == [[1]]:\n",
    "        return \"퇴사: {0}\".format(probabilities)\n",
    "    else:\n",
    "        return \"재직: {0}\".format(probabilities)\n",
    "\n",
    "\n",
    "while True:\n",
    "    n = input(\"직원이 떠날지 남을지 예측하기\" + \"{sex},{age},{promotions},{years employed}: \")\n",
    "    if n == \"\":\n",
    "        break\n",
    "    (sex, age, promotions, years_employed) = n.split(\",\")\n",
    "    print(predict_employee_will_stay(int(sex), int(age), int(promotions), int(years_employed)))"
   ],
   "id": "41bba942f794bb92",
   "outputs": [
    {
     "name": "stdout",
     "output_type": "stream",
     "text": [
      "계수: [ 0.03216406  0.03683014 -2.50414078  0.97423186]\n",
      "절편: [-2.73503152]\n"
     ]
    }
   ],
   "execution_count": 9
  },
  {
   "metadata": {
    "ExecuteTime": {
     "end_time": "2024-08-05T08:14:01.800115Z",
     "start_time": "2024-08-05T08:14:01.009530Z"
    }
   },
   "cell_type": "code",
   "source": [
    "from math import log, exp\n",
    "import pandas as pd\n",
    "\n",
    "patient_data = pd.read_csv('https://bit.ly/33ebs2R', delimiter=\",\").itertuples()\n",
    "\n",
    "b0 = -3.17576395\n",
    "b1 = 0.69267212\n",
    "\n",
    "\n",
    "def logistic_function(x):\n",
    "    p = 1.0 / (1.0 + exp(-(b0 + b1 * x)))\n",
    "    return p\n",
    "\n",
    "\n",
    "log_likelihood_fit = 0.0\n",
    "\n",
    "for p in patient_data:\n",
    "    if p.y == 1.0:\n",
    "        log_likelihood_fit += log(logistic_function(p.x))\n",
    "    elif p.y == 0.0:\n",
    "        log_likelihood_fit += log(1.0 - logistic_function(p.x))\n",
    "\n",
    "print(log_likelihood_fit)"
   ],
   "id": "42676a0e06527f62",
   "outputs": [
    {
     "name": "stdout",
     "output_type": "stream",
     "text": [
      "-9.946161673231583\n"
     ]
    }
   ],
   "execution_count": 10
  },
  {
   "metadata": {
    "ExecuteTime": {
     "end_time": "2024-08-05T08:14:12.170725Z",
     "start_time": "2024-08-05T08:14:12.168208Z"
    }
   },
   "cell_type": "code",
   "source": [
    "log_likelihood_fit = sum(\n",
    "    log(logistic_function(p.x)) * p.y + log(1.0 - logistic_function(p.x)) * (1.0 - p.y) for p in patient_data)"
   ],
   "id": "b0a370754eb66b56",
   "outputs": [],
   "execution_count": 11
  },
  {
   "metadata": {
    "ExecuteTime": {
     "end_time": "2024-08-05T08:14:25.298430Z",
     "start_time": "2024-08-05T08:14:24.919260Z"
    }
   },
   "cell_type": "code",
   "source": [
    "import pandas as pd\n",
    "from math import log, exp\n",
    "\n",
    "patient_data = list(pd.read_csv('https://bit.ly/33ebs2R', delimiter=\",\").itertuples())\n",
    "likelihood = sum(p.y for p in patient_data) / len(patient_data)\n",
    "\n",
    "log_likelihood = 0.0\n",
    "\n",
    "for p in patient_data:\n",
    "    if p.y == 1.0:\n",
    "        log_likelihood += log(likelihood)\n",
    "    elif p.y == 0.0:\n",
    "        log_likelihood += log(1.0 - likelihood)\n",
    "\n",
    "print(log_likelihood)"
   ],
   "id": "b2a565b92ee85e43",
   "outputs": [
    {
     "name": "stdout",
     "output_type": "stream",
     "text": [
      "-14.341070198709906\n"
     ]
    }
   ],
   "execution_count": 12
  },
  {
   "metadata": {
    "ExecuteTime": {
     "end_time": "2024-08-05T08:14:33.572194Z",
     "start_time": "2024-08-05T08:14:33.569870Z"
    }
   },
   "cell_type": "code",
   "source": "log_likelihood = sum(log(likelihood) * p.y + log(1.0 - likelihood) * (1.0 - p.y) for p in patient_data)",
   "id": "23a7891004c04b1",
   "outputs": [],
   "execution_count": 13
  },
  {
   "metadata": {
    "ExecuteTime": {
     "end_time": "2024-08-05T08:15:03.204207Z",
     "start_time": "2024-08-05T08:15:02.796017Z"
    }
   },
   "cell_type": "code",
   "source": [
    "import pandas as pd\n",
    "from math import log, exp\n",
    "\n",
    "patient_data = list(pd.read_csv('https://bit.ly/33ebs2R', delimiter=\",\").itertuples())\n",
    "\n",
    "b0 = -3.17576395\n",
    "b1 = 0.69267212\n",
    "\n",
    "\n",
    "def logistic_function(x):\n",
    "    p = 1.0 / (1.0 + exp(-(b0 + b1 * x)))\n",
    "    return p\n",
    "\n",
    "\n",
    "log_likelihood_fit = sum(\n",
    "    log(logistic_function(p.x)) * p.y + log(1.0 - logistic_function(p.x)) * (1.0 - p.y) for p in patient_data)\n",
    "\n",
    "likelihood = sum(p.y for p in patient_data) / len(patient_data)\n",
    "log_likelihood = sum(log(likelihood) * p.y + log(1.0 - likelihood) * (1.0 - p.y) for p in patient_data)\n",
    "\n",
    "r2 = (log_likelihood - log_likelihood_fit) / log_likelihood\n",
    "\n",
    "print(r2)"
   ],
   "id": "5268ffc05d8a4911",
   "outputs": [
    {
     "name": "stdout",
     "output_type": "stream",
     "text": [
      "0.306456105756576\n"
     ]
    }
   ],
   "execution_count": 14
  },
  {
   "metadata": {
    "ExecuteTime": {
     "end_time": "2024-08-05T08:15:39.426582Z",
     "start_time": "2024-08-05T08:15:39.023372Z"
    }
   },
   "cell_type": "code",
   "source": [
    "import pandas as pd\n",
    "from math import log, exp\n",
    "from scipy.stats import chi2\n",
    "\n",
    "patient_data = list(pd.read_csv('https://bit.ly/33ebs2R', delimiter=\",\").itertuples())\n",
    "\n",
    "b0 = -3.17576395\n",
    "b1 = 0.69267212\n",
    "\n",
    "\n",
    "def logistic_function(x):\n",
    "    p = 1.0 / (1.0 + exp(-(b0 + b1 * x)))\n",
    "    return p\n",
    "\n",
    "\n",
    "log_likelihood_fit = sum(\n",
    "    log(logistic_function(p.x)) * p.y + log(1.0 - logistic_function(p.x)) * (1.0 - p.y) for p in patient_data)\n",
    "\n",
    "likelihood = sum(p.y for p in patient_data) / len(patient_data)\n",
    "log_likelihood = sum(log(likelihood) * p.y + log(1.0 - likelihood) * (1.0 - p.y) for p in patient_data)\n",
    "\n",
    "chi2_input = 2 * (log_likelihood_fit - log_likelihood)\n",
    "p_value = chi2.pdf(chi2_input, 1)\n",
    "\n",
    "print(p_value)"
   ],
   "id": "6c429103bdc25b08",
   "outputs": [
    {
     "name": "stdout",
     "output_type": "stream",
     "text": [
      "0.0016604875618753787\n"
     ]
    }
   ],
   "execution_count": 15
  },
  {
   "metadata": {
    "ExecuteTime": {
     "end_time": "2024-08-05T08:15:55.046887Z",
     "start_time": "2024-08-05T08:15:54.591846Z"
    }
   },
   "cell_type": "code",
   "source": [
    "import pandas as pd\n",
    "from sklearn.linear_model import LogisticRegression\n",
    "from sklearn.model_selection import KFold, cross_val_score\n",
    "\n",
    "df = pd.read_csv(\"https://tinyurl.com/y6r7qjrp\", delimiter=\",\")\n",
    "\n",
    "X = df.values[:, :-1]\n",
    "Y = df.values[:, -1]\n",
    "\n",
    "kfold = KFold(n_splits=3, random_state=7, shuffle=True)\n",
    "model = LogisticRegression(penalty=None)\n",
    "results = cross_val_score(model, X, Y, cv=kfold)\n",
    "\n",
    "print(\"정확도 평균: %.3f (표준 편차=%.3f)\" % (results.mean(), results.std()))"
   ],
   "id": "4885ed93f03abb7b",
   "outputs": [
    {
     "name": "stdout",
     "output_type": "stream",
     "text": [
      "정확도 평균: 0.611 (표준 편차=0.000)\n"
     ]
    }
   ],
   "execution_count": 16
  },
  {
   "metadata": {
    "ExecuteTime": {
     "end_time": "2024-08-05T08:16:16.394294Z",
     "start_time": "2024-08-05T08:16:15.990623Z"
    }
   },
   "cell_type": "code",
   "source": [
    "import pandas as pd\n",
    "from sklearn.linear_model import LogisticRegression\n",
    "from sklearn.metrics import confusion_matrix\n",
    "from sklearn.model_selection import train_test_split\n",
    "\n",
    "df = pd.read_csv('https://bit.ly/3cManTi', delimiter=\",\")\n",
    "\n",
    "X = df.values[:, :-1]\n",
    "Y = df.values[:, -1]\n",
    "\n",
    "model = LogisticRegression(solver='liblinear')\n",
    "\n",
    "X_train, X_test, Y_train, Y_test = train_test_split(X, Y, test_size=.33, random_state=10)\n",
    "model.fit(X_train, Y_train)\n",
    "prediction = model.predict(X_test)\n",
    "\n",
    "matrix = confusion_matrix(y_true=Y_test, y_pred=prediction)\n",
    "print(matrix)"
   ],
   "id": "5213ddfb5f441762",
   "outputs": [
    {
     "name": "stdout",
     "output_type": "stream",
     "text": [
      "[[6 3]\n",
      " [4 5]]\n"
     ]
    }
   ],
   "execution_count": 17
  },
  {
   "metadata": {
    "ExecuteTime": {
     "end_time": "2024-08-05T08:16:21.873902Z",
     "start_time": "2024-08-05T08:16:21.869900Z"
    }
   },
   "cell_type": "code",
   "source": "Y_test, prediction",
   "id": "b60bf5c05299f234",
   "outputs": [
    {
     "data": {
      "text/plain": [
       "(array([0, 0, 0, 0, 1, 1, 0, 1, 0, 1, 1, 1, 1, 0, 0, 0, 1, 1]),\n",
       " array([0, 0, 1, 0, 1, 1, 0, 0, 1, 1, 0, 1, 0, 0, 1, 0, 0, 1]))"
      ]
     },
     "execution_count": 18,
     "metadata": {},
     "output_type": "execute_result"
    }
   ],
   "execution_count": 18
  },
  {
   "metadata": {
    "ExecuteTime": {
     "end_time": "2024-08-05T08:17:00.331892Z",
     "start_time": "2024-08-05T08:16:59.505449Z"
    }
   },
   "cell_type": "code",
   "source": [
    "import pandas as pd\n",
    "from sklearn.linear_model import LogisticRegression\n",
    "from sklearn.metrics import confusion_matrix\n",
    "from sklearn.model_selection import KFold, cross_val_score\n",
    "\n",
    "df = pd.read_csv(\"https://bit.ly/3imidqa\", delimiter=\",\")\n",
    "\n",
    "X = df.values[:, :-1]\n",
    "Y = df.values[:, -1]\n",
    "\n",
    "kfold = KFold(n_splits=3, shuffle=True)\n",
    "model = LogisticRegression(penalty=None)\n",
    "results = cross_val_score(model, X, Y, cv=kfold)\n",
    "\n",
    "print(\"평균 정확도: %.3f (stdev=%.3f)\" % (results.mean(), results.std()))"
   ],
   "id": "18e84c227302a1cc",
   "outputs": [
    {
     "name": "stdout",
     "output_type": "stream",
     "text": [
      "평균 정확도: 1.000 (stdev=0.000)\n"
     ]
    }
   ],
   "execution_count": 19
  },
  {
   "metadata": {
    "ExecuteTime": {
     "end_time": "2024-08-05T08:17:18.232005Z",
     "start_time": "2024-08-05T08:17:17.909355Z"
    }
   },
   "cell_type": "code",
   "source": [
    "import pandas as pd\n",
    "from sklearn.linear_model import LogisticRegression\n",
    "from sklearn.metrics import confusion_matrix\n",
    "from sklearn.model_selection import train_test_split\n",
    "\n",
    "df = pd.read_csv(\"https://bit.ly/3imidqa\", delimiter=\",\")\n",
    "\n",
    "X = df.values[:, :-1]\n",
    "Y = df.values[:, -1]\n",
    "\n",
    "model = LogisticRegression(solver='liblinear')\n",
    "\n",
    "X_train, X_test, Y_train, Y_test = train_test_split(X, Y, test_size=.33)\n",
    "model.fit(X_train, Y_train)\n",
    "prediction = model.predict(X_test)\n",
    "\n",
    "matrix = confusion_matrix(y_true=Y_test, y_pred=prediction)\n",
    "print(matrix)"
   ],
   "id": "165853bf527ebc9f",
   "outputs": [
    {
     "name": "stdout",
     "output_type": "stream",
     "text": [
      "[[171   7]\n",
      " [  1 265]]\n"
     ]
    }
   ],
   "execution_count": 20
  },
  {
   "metadata": {
    "ExecuteTime": {
     "end_time": "2024-08-05T08:17:50.650998Z",
     "start_time": "2024-08-05T08:17:35.812120Z"
    }
   },
   "cell_type": "code",
   "source": [
    "import pandas as pd\n",
    "from sklearn.linear_model import LogisticRegression\n",
    "import numpy as np\n",
    "from sklearn.model_selection import train_test_split\n",
    "\n",
    "df = pd.read_csv(\"https://bit.ly/3imidqa\", delimiter=\",\")\n",
    "\n",
    "X = df.values[:, :-1]\n",
    "Y = df.values[:, -1]\n",
    "\n",
    "model = LogisticRegression(solver='liblinear')\n",
    "\n",
    "X_train, X_test, Y_train, Y_test = train_test_split(X, Y, test_size=.33)\n",
    "model.fit(X_train, Y_train)\n",
    "prediction = model.predict(X_test)\n",
    "\n",
    "for _ in range(2):\n",
    "    n = input(\"색깔을 입력하세요. {red},{green},{blue}: \")\n",
    "    (r, g, b) = n.split(\",\")\n",
    "    x = model.predict(np.array([[int(r), int(g), int(b)]]))\n",
    "    if model.predict(np.array([[int(r), int(g), int(b)]]))[0] == 0.0:\n",
    "        print(\"LIGHT\")\n",
    "    else:\n",
    "        print(\"DARK\")"
   ],
   "id": "550a5f9161ff8c36",
   "outputs": [
    {
     "name": "stdout",
     "output_type": "stream",
     "text": [
      "DARK\n"
     ]
    },
    {
     "ename": "ValueError",
     "evalue": "not enough values to unpack (expected 3, got 1)",
     "output_type": "error",
     "traceback": [
      "\u001B[0;31m---------------------------------------------------------------------------\u001B[0m",
      "\u001B[0;31mValueError\u001B[0m                                Traceback (most recent call last)",
      "Cell \u001B[0;32mIn[21], line 19\u001B[0m\n\u001B[1;32m     17\u001B[0m \u001B[38;5;28;01mfor\u001B[39;00m _ \u001B[38;5;129;01min\u001B[39;00m \u001B[38;5;28mrange\u001B[39m(\u001B[38;5;241m2\u001B[39m):\n\u001B[1;32m     18\u001B[0m     n \u001B[38;5;241m=\u001B[39m \u001B[38;5;28minput\u001B[39m(\u001B[38;5;124m\"\u001B[39m\u001B[38;5;124m색깔을 입력하세요. \u001B[39m\u001B[38;5;132;01m{red}\u001B[39;00m\u001B[38;5;124m,\u001B[39m\u001B[38;5;132;01m{green}\u001B[39;00m\u001B[38;5;124m,\u001B[39m\u001B[38;5;132;01m{blue}\u001B[39;00m\u001B[38;5;124m: \u001B[39m\u001B[38;5;124m\"\u001B[39m)\n\u001B[0;32m---> 19\u001B[0m     (r, g, b) \u001B[38;5;241m=\u001B[39m n\u001B[38;5;241m.\u001B[39msplit(\u001B[38;5;124m\"\u001B[39m\u001B[38;5;124m,\u001B[39m\u001B[38;5;124m\"\u001B[39m)\n\u001B[1;32m     20\u001B[0m     x \u001B[38;5;241m=\u001B[39m model\u001B[38;5;241m.\u001B[39mpredict(np\u001B[38;5;241m.\u001B[39marray([[\u001B[38;5;28mint\u001B[39m(r), \u001B[38;5;28mint\u001B[39m(g), \u001B[38;5;28mint\u001B[39m(b)]]))\n\u001B[1;32m     21\u001B[0m     \u001B[38;5;28;01mif\u001B[39;00m model\u001B[38;5;241m.\u001B[39mpredict(np\u001B[38;5;241m.\u001B[39marray([[\u001B[38;5;28mint\u001B[39m(r), \u001B[38;5;28mint\u001B[39m(g), \u001B[38;5;28mint\u001B[39m(b)]]))[\u001B[38;5;241m0\u001B[39m] \u001B[38;5;241m==\u001B[39m \u001B[38;5;241m0.0\u001B[39m:\n",
      "\u001B[0;31mValueError\u001B[0m: not enough values to unpack (expected 3, got 1)"
     ]
    }
   ],
   "execution_count": 21
  }
 ],
 "metadata": {
  "kernelspec": {
   "display_name": "Python 3",
   "language": "python",
   "name": "python3"
  },
  "language_info": {
   "codemirror_mode": {
    "name": "ipython",
    "version": 2
   },
   "file_extension": ".py",
   "mimetype": "text/x-python",
   "name": "python",
   "nbconvert_exporter": "python",
   "pygments_lexer": "ipython2",
   "version": "2.7.6"
  }
 },
 "nbformat": 4,
 "nbformat_minor": 5
}
