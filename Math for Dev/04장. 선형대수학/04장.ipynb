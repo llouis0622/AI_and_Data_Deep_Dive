{
 "cells": [
  {
   "cell_type": "code",
   "id": "initial_id",
   "metadata": {
    "collapsed": true,
    "ExecuteTime": {
     "end_time": "2024-08-03T06:11:28.080265Z",
     "start_time": "2024-08-03T06:11:28.074861Z"
    }
   },
   "source": [
    "v = [3, 2]\n",
    "print(v)"
   ],
   "outputs": [
    {
     "name": "stdout",
     "output_type": "stream",
     "text": [
      "[3, 2]\n"
     ]
    }
   ],
   "execution_count": 1
  },
  {
   "metadata": {
    "ExecuteTime": {
     "end_time": "2024-08-03T06:11:38.124270Z",
     "start_time": "2024-08-03T06:11:37.968228Z"
    }
   },
   "cell_type": "code",
   "source": [
    "import numpy as np\n",
    "\n",
    "v = np.array([3, 2])\n",
    "print(v)"
   ],
   "id": "29381db8f67fa5de",
   "outputs": [
    {
     "name": "stdout",
     "output_type": "stream",
     "text": [
      "[3 2]\n"
     ]
    }
   ],
   "execution_count": 2
  },
  {
   "metadata": {
    "ExecuteTime": {
     "end_time": "2024-08-03T06:12:41.251554Z",
     "start_time": "2024-08-03T06:12:41.119735Z"
    }
   },
   "cell_type": "code",
   "source": [
    "import numpy as np\n",
    "\n",
    "v = np.array([4, 1, 2])\n",
    "print(v)"
   ],
   "id": "f680db569d96075c",
   "outputs": [
    {
     "name": "stdout",
     "output_type": "stream",
     "text": [
      "[4 1 2]\n"
     ]
    }
   ],
   "execution_count": 1
  },
  {
   "metadata": {
    "ExecuteTime": {
     "end_time": "2024-08-03T06:12:58.799865Z",
     "start_time": "2024-08-03T06:12:58.796629Z"
    }
   },
   "cell_type": "code",
   "source": [
    "import numpy as np\n",
    "\n",
    "v = np.array([6, 1, 5, 8, 3])\n",
    "print(v)"
   ],
   "id": "5c713154ad74ea71",
   "outputs": [
    {
     "name": "stdout",
     "output_type": "stream",
     "text": [
      "[6 1 5 8 3]\n"
     ]
    }
   ],
   "execution_count": 2
  },
  {
   "metadata": {
    "ExecuteTime": {
     "end_time": "2024-08-03T06:14:12.075787Z",
     "start_time": "2024-08-03T06:14:12.072604Z"
    }
   },
   "cell_type": "code",
   "source": [
    "from numpy import array\n",
    "\n",
    "v = array([3, 2])\n",
    "w = array([2, -1])\n",
    "v_plus_w = v + w\n",
    "print(v_plus_w)"
   ],
   "id": "52fa0045d90c8f42",
   "outputs": [
    {
     "name": "stdout",
     "output_type": "stream",
     "text": [
      "[5 1]\n"
     ]
    }
   ],
   "execution_count": 3
  },
  {
   "metadata": {
    "ExecuteTime": {
     "end_time": "2024-08-03T06:15:53.046845Z",
     "start_time": "2024-08-03T06:15:53.043423Z"
    }
   },
   "cell_type": "code",
   "source": [
    "from numpy import array\n",
    "\n",
    "v = array([3, 1])\n",
    "scaled_v = 2.0 * v\n",
    "print(scaled_v)"
   ],
   "id": "e3b8bb7a86cc31f5",
   "outputs": [
    {
     "name": "stdout",
     "output_type": "stream",
     "text": [
      "[6. 2.]\n"
     ]
    }
   ],
   "execution_count": 4
  },
  {
   "metadata": {
    "ExecuteTime": {
     "end_time": "2024-08-03T07:20:29.155759Z",
     "start_time": "2024-08-03T07:20:29.136831Z"
    }
   },
   "cell_type": "code",
   "source": [
    "from numpy import array\n",
    "\n",
    "basis = array(\n",
    "    [[3, 0],\n",
    "     [0, 2]]\n",
    ")\n",
    "v = array([1, 1])\n",
    "new_v = basis.dot(v)\n",
    "print(new_v)"
   ],
   "id": "25db25db04c4bf07",
   "outputs": [
    {
     "name": "stdout",
     "output_type": "stream",
     "text": [
      "[3 2]\n"
     ]
    }
   ],
   "execution_count": 5
  },
  {
   "metadata": {
    "ExecuteTime": {
     "end_time": "2024-08-03T07:21:09.369013Z",
     "start_time": "2024-08-03T07:21:09.365975Z"
    }
   },
   "cell_type": "code",
   "source": [
    "from numpy import array\n",
    "\n",
    "i_hat = array([2, 0])\n",
    "j_hat = array([0, 3])\n",
    "basis = array([i_hat, j_hat]).transpose()\n",
    "v = array([1, 1])\n",
    "new_v = basis.dot(v)\n",
    "print(new_v)"
   ],
   "id": "ff91466b44dbefbe",
   "outputs": [
    {
     "name": "stdout",
     "output_type": "stream",
     "text": [
      "[2 3]\n"
     ]
    }
   ],
   "execution_count": 6
  },
  {
   "metadata": {
    "ExecuteTime": {
     "end_time": "2024-08-03T07:21:30.725250Z",
     "start_time": "2024-08-03T07:21:30.722460Z"
    }
   },
   "cell_type": "code",
   "source": [
    "from numpy import array\n",
    "\n",
    "i_hat = array([2, 0])\n",
    "j_hat = array([0, 3])\n",
    "basis = array([i_hat, j_hat]).transpose()\n",
    "v = array([2, 1])\n",
    "new_v = basis.dot(v)\n",
    "print(new_v)"
   ],
   "id": "adee2bcdd4b7724",
   "outputs": [
    {
     "name": "stdout",
     "output_type": "stream",
     "text": [
      "[4 3]\n"
     ]
    }
   ],
   "execution_count": 7
  },
  {
   "metadata": {
    "ExecuteTime": {
     "end_time": "2024-08-03T07:21:55.362715Z",
     "start_time": "2024-08-03T07:21:55.359466Z"
    }
   },
   "cell_type": "code",
   "source": [
    "from numpy import array\n",
    "\n",
    "i_hat = array([2, 3])\n",
    "j_hat = array([2, -1])\n",
    "basis = array([i_hat, j_hat]).transpose()\n",
    "v = array([2, 1])\n",
    "new_v = basis.dot(v)\n",
    "print(new_v)"
   ],
   "id": "bd25feb8ad8166e9",
   "outputs": [
    {
     "name": "stdout",
     "output_type": "stream",
     "text": [
      "[6 5]\n"
     ]
    }
   ],
   "execution_count": 8
  },
  {
   "metadata": {
    "ExecuteTime": {
     "end_time": "2024-08-03T07:26:27.705091Z",
     "start_time": "2024-08-03T07:26:27.698044Z"
    }
   },
   "cell_type": "code",
   "source": [
    "from numpy import array\n",
    "\n",
    "i_hat1 = array([0, 1])\n",
    "j_hat1 = array([-1, 0])\n",
    "transform1 = array([i_hat1, j_hat1]).transpose()\n",
    "i_hat2 = array([1, 0])\n",
    "j_hat2 = array([1, 1])\n",
    "transform2 = array([i_hat2, j_hat2]).transpose()\n",
    "combined = transform2 @ transform1\n",
    "print(\"통합 행렬:\\n {}\".format(combined))\n",
    "v = array([1, 2])\n",
    "print(combined.dot(v))"
   ],
   "id": "6f9ca5c77f1002c5",
   "outputs": [
    {
     "name": "stdout",
     "output_type": "stream",
     "text": [
      "통합 행렬:\n",
      " [[ 1 -1]\n",
      " [ 1  0]]\n",
      "[-1  1]\n"
     ]
    }
   ],
   "execution_count": 9
  },
  {
   "metadata": {
    "ExecuteTime": {
     "end_time": "2024-08-03T07:27:00.222802Z",
     "start_time": "2024-08-03T07:27:00.219460Z"
    }
   },
   "cell_type": "code",
   "source": [
    "from numpy import array\n",
    "\n",
    "i_hat1 = array([0, 1])\n",
    "j_hat1 = array([-1, 0])\n",
    "transform1 = array([i_hat1, j_hat1]).transpose()\n",
    "i_hat2 = array([1, 0])\n",
    "j_hat2 = array([1, 1])\n",
    "transform2 = array([i_hat2, j_hat2]).transpose()\n",
    "combined = transform1 @ transform2\n",
    "print(\"통합 행렬:\\n {}\".format(combined))\n",
    "v = array([1, 2])\n",
    "print(combined.dot(v))"
   ],
   "id": "ac0872a3e145319c",
   "outputs": [
    {
     "name": "stdout",
     "output_type": "stream",
     "text": [
      "통합 행렬:\n",
      " [[ 0 -1]\n",
      " [ 1  1]]\n",
      "[-2  3]\n"
     ]
    }
   ],
   "execution_count": 10
  },
  {
   "metadata": {
    "ExecuteTime": {
     "end_time": "2024-08-03T07:28:00.690312Z",
     "start_time": "2024-08-03T07:28:00.684356Z"
    }
   },
   "cell_type": "code",
   "source": [
    "from numpy.linalg import det\n",
    "from numpy import array\n",
    "\n",
    "i_hat = array([3, 0])\n",
    "j_hat = array([0, 2])\n",
    "basis = array([i_hat, j_hat]).transpose()\n",
    "determinant = det(basis)\n",
    "print(determinant)"
   ],
   "id": "7bfe1ab105b52b44",
   "outputs": [
    {
     "name": "stdout",
     "output_type": "stream",
     "text": [
      "6.0\n"
     ]
    }
   ],
   "execution_count": 11
  },
  {
   "metadata": {
    "ExecuteTime": {
     "end_time": "2024-08-03T07:28:12.710086Z",
     "start_time": "2024-08-03T07:28:12.707154Z"
    }
   },
   "cell_type": "code",
   "source": [
    "from numpy.linalg import det\n",
    "from numpy import array\n",
    "\n",
    "i_hat = array([1, 0])\n",
    "j_hat = array([1, 1])\n",
    "basis = array([i_hat, j_hat]).transpose()\n",
    "determinant = det(basis)\n",
    "print(determinant)"
   ],
   "id": "f7967ab62e753f03",
   "outputs": [
    {
     "name": "stdout",
     "output_type": "stream",
     "text": [
      "1.0\n"
     ]
    }
   ],
   "execution_count": 12
  },
  {
   "metadata": {
    "ExecuteTime": {
     "end_time": "2024-08-03T07:28:23.704691Z",
     "start_time": "2024-08-03T07:28:23.701285Z"
    }
   },
   "cell_type": "code",
   "source": [
    "from numpy.linalg import det\n",
    "from numpy import array\n",
    "\n",
    "i_hat = array([-2, 1])\n",
    "j_hat = array([1, 2])\n",
    "basis = array([i_hat, j_hat]).transpose()\n",
    "determinant = det(basis)\n",
    "print(determinant)"
   ],
   "id": "373525a88826e8e1",
   "outputs": [
    {
     "name": "stdout",
     "output_type": "stream",
     "text": [
      "-5.000000000000001\n"
     ]
    }
   ],
   "execution_count": 13
  },
  {
   "metadata": {
    "ExecuteTime": {
     "end_time": "2024-08-03T07:28:34.629858Z",
     "start_time": "2024-08-03T07:28:34.626996Z"
    }
   },
   "cell_type": "code",
   "source": [
    "from numpy.linalg import det\n",
    "from numpy import array\n",
    "\n",
    "i_hat = array([3, -1.5])\n",
    "j_hat = array([-2, 1])\n",
    "basis = array([i_hat, j_hat]).transpose()\n",
    "determinant = det(basis)\n",
    "print(determinant)"
   ],
   "id": "e3effedcc53c01d3",
   "outputs": [
    {
     "name": "stdout",
     "output_type": "stream",
     "text": [
      "0.0\n"
     ]
    }
   ],
   "execution_count": 14
  },
  {
   "metadata": {
    "ExecuteTime": {
     "end_time": "2024-08-03T07:43:48.732821Z",
     "start_time": "2024-08-03T07:43:48.272132Z"
    }
   },
   "cell_type": "code",
   "source": [
    "from sympy import *\n",
    "\n",
    "A = Matrix([\n",
    "    [4, 2, 4],\n",
    "    [5, 3, 7],\n",
    "    [9, 3, 6]\n",
    "])\n",
    "inverse = A.inv()\n",
    "identity = inverse * A\n",
    "print(\"역행렬: {}\".format(inverse))\n",
    "print(\"항등 행렬: {}\".format(identity))"
   ],
   "id": "edc57a37c01cab15",
   "outputs": [
    {
     "name": "stdout",
     "output_type": "stream",
     "text": [
      "역행렬: Matrix([[-1/2, 0, 1/3], [11/2, -2, -4/3], [-2, 1, 1/3]])\n",
      "항등 행렬: Matrix([[1, 0, 0], [0, 1, 0], [0, 0, 1]])\n"
     ]
    }
   ],
   "execution_count": 15
  },
  {
   "metadata": {
    "ExecuteTime": {
     "end_time": "2024-08-03T07:44:04.822223Z",
     "start_time": "2024-08-03T07:44:04.816597Z"
    }
   },
   "cell_type": "code",
   "source": [
    "from numpy import array\n",
    "from numpy.linalg import inv\n",
    "\n",
    "A = array([\n",
    "    [4, 2, 4],\n",
    "    [5, 3, 7],\n",
    "    [9, 3, 6]\n",
    "])\n",
    "B = array([\n",
    "    44,\n",
    "    56,\n",
    "    72\n",
    "])\n",
    "X = inv(A).dot(B)\n",
    "print(X)"
   ],
   "id": "da562777be0ad8f",
   "outputs": [
    {
     "name": "stdout",
     "output_type": "stream",
     "text": [
      "[ 2. 34. -8.]\n"
     ]
    }
   ],
   "execution_count": 16
  },
  {
   "metadata": {
    "ExecuteTime": {
     "end_time": "2024-08-03T07:44:20.190853Z",
     "start_time": "2024-08-03T07:44:20.186792Z"
    }
   },
   "cell_type": "code",
   "source": [
    "from sympy import *\n",
    "\n",
    "A = Matrix([\n",
    "    [4, 2, 4],\n",
    "    [5, 3, 7],\n",
    "    [9, 3, 6]\n",
    "])\n",
    "B = Matrix([\n",
    "    44,\n",
    "    56,\n",
    "    72\n",
    "])\n",
    "X = A.inv() * B\n",
    "print(X)"
   ],
   "id": "db0da7089c4d49b1",
   "outputs": [
    {
     "name": "stdout",
     "output_type": "stream",
     "text": [
      "Matrix([[2], [34], [-8]])\n"
     ]
    }
   ],
   "execution_count": 17
  },
  {
   "metadata": {
    "ExecuteTime": {
     "end_time": "2024-08-03T07:46:33.899650Z",
     "start_time": "2024-08-03T07:46:33.890079Z"
    }
   },
   "cell_type": "code",
   "source": [
    "from numpy import array, diag\n",
    "from numpy.linalg import eig, inv\n",
    "\n",
    "A = array([\n",
    "    [1, 2],\n",
    "    [4, 5]\n",
    "])\n",
    "eigenvals, eigenvecs = eig(A)\n",
    "print(\"고윳값\")\n",
    "print(eigenvals)\n",
    "print(\"\\n고유 벡터\")\n",
    "print(eigenvecs)"
   ],
   "id": "193a9d0d08a64387",
   "outputs": [
    {
     "name": "stdout",
     "output_type": "stream",
     "text": [
      "고윳값\n",
      "[-0.46410162  6.46410162]\n",
      "\n",
      "고유 벡터\n",
      "[[-0.80689822 -0.34372377]\n",
      " [ 0.59069049 -0.9390708 ]]\n"
     ]
    }
   ],
   "execution_count": 18
  },
  {
   "metadata": {
    "ExecuteTime": {
     "end_time": "2024-08-03T07:46:48.422240Z",
     "start_time": "2024-08-03T07:46:48.417607Z"
    }
   },
   "cell_type": "code",
   "source": [
    "from numpy import array, diag\n",
    "from numpy.linalg import eig, inv\n",
    "\n",
    "A = array([\n",
    "    [1, 2],\n",
    "    [4, 5]\n",
    "])\n",
    "eigenvals, eigenvecs = eig(A)\n",
    "print(\"고윳값\")\n",
    "print(eigenvals)\n",
    "print(\"\\n고유 벡터\")\n",
    "print(eigenvecs)\n",
    "print(\"\\n재구성 행렬\")\n",
    "Q = eigenvecs\n",
    "R = inv(Q)\n",
    "L = diag(eigenvals)\n",
    "B = Q @ L @ R\n",
    "print(B)"
   ],
   "id": "d0e81946b0a655f1",
   "outputs": [
    {
     "name": "stdout",
     "output_type": "stream",
     "text": [
      "고윳값\n",
      "[-0.46410162  6.46410162]\n",
      "\n",
      "고유 벡터\n",
      "[[-0.80689822 -0.34372377]\n",
      " [ 0.59069049 -0.9390708 ]]\n",
      "\n",
      "재구성 행렬\n",
      "[[1. 2.]\n",
      " [4. 5.]]\n"
     ]
    }
   ],
   "execution_count": 19
  },
  {
   "metadata": {
    "ExecuteTime": {
     "end_time": "2024-08-03T07:47:46.745727Z",
     "start_time": "2024-08-03T07:47:46.742664Z"
    }
   },
   "cell_type": "code",
   "source": [
    "from numpy import array\n",
    "\n",
    "v = array([1, 2])\n",
    "i_hat = array([2, 0])\n",
    "j_hat = array([0, 1.5])\n",
    "basis = array([i_hat, j_hat])\n",
    "w = basis.dot(v)\n",
    "print(w)"
   ],
   "id": "94e4beb08b163201",
   "outputs": [
    {
     "name": "stdout",
     "output_type": "stream",
     "text": [
      "[2. 3.]\n"
     ]
    }
   ],
   "execution_count": 20
  },
  {
   "metadata": {
    "ExecuteTime": {
     "end_time": "2024-08-03T07:47:55.092695Z",
     "start_time": "2024-08-03T07:47:55.089859Z"
    }
   },
   "cell_type": "code",
   "source": [
    "from numpy import array\n",
    "\n",
    "v = array([1, 2])\n",
    "i_hat = array([-2, 1])\n",
    "j_hat = array([1, -2])\n",
    "basis = array([i_hat, j_hat])\n",
    "w = basis.dot(v)\n",
    "print(w)"
   ],
   "id": "a292d6dfb483588d",
   "outputs": [
    {
     "name": "stdout",
     "output_type": "stream",
     "text": [
      "[ 0 -3]\n"
     ]
    }
   ],
   "execution_count": 21
  },
  {
   "metadata": {
    "ExecuteTime": {
     "end_time": "2024-08-03T07:48:00.602878Z",
     "start_time": "2024-08-03T07:48:00.600362Z"
    }
   },
   "cell_type": "code",
   "source": [
    "import numpy as np\n",
    "\n",
    "a = np.array([[3, -2], [1, 4]])\n",
    "b = np.array([[5, 2], [3, -1]])\n",
    "c = a.dot(b)\n",
    "print(c)"
   ],
   "id": "89ae5087abedcb5e",
   "outputs": [
    {
     "name": "stdout",
     "output_type": "stream",
     "text": [
      "[[ 9  8]\n",
      " [17 -2]]\n"
     ]
    }
   ],
   "execution_count": 22
  },
  {
   "metadata": {
    "ExecuteTime": {
     "end_time": "2024-08-03T07:48:08.006809Z",
     "start_time": "2024-08-03T07:48:08.003879Z"
    }
   },
   "cell_type": "code",
   "source": [
    "import numpy as np\n",
    "from numpy.linalg import det\n",
    "\n",
    "i_hat = np.array([1, 0])\n",
    "j_hat = np.array([2, 2])\n",
    "basis = np.array([i_hat, j_hat]).transpose()\n",
    "determinant = det(basis)\n",
    "print(determinant)"
   ],
   "id": "79bf67ab422994ea",
   "outputs": [
    {
     "name": "stdout",
     "output_type": "stream",
     "text": [
      "2.0\n"
     ]
    }
   ],
   "execution_count": 23
  },
  {
   "metadata": {
    "ExecuteTime": {
     "end_time": "2024-08-03T07:48:16.240130Z",
     "start_time": "2024-08-03T07:48:16.236948Z"
    }
   },
   "cell_type": "code",
   "source": [
    "import numpy as np\n",
    "\n",
    "A = np.array([\n",
    "    [3, 1, 0],\n",
    "    [2, 4, 1],\n",
    "    [3, 1, 8]\n",
    "])\n",
    "A_inverse = np.linalg.inv(A)\n",
    "print(A_inverse)"
   ],
   "id": "30613182a4fccf9a",
   "outputs": [
    {
     "name": "stdout",
     "output_type": "stream",
     "text": [
      "[[ 0.3875 -0.1     0.0125]\n",
      " [-0.1625  0.3    -0.0375]\n",
      " [-0.125   0.      0.125 ]]\n"
     ]
    }
   ],
   "execution_count": 24
  },
  {
   "metadata": {
    "ExecuteTime": {
     "end_time": "2024-08-03T07:48:25.592288Z",
     "start_time": "2024-08-03T07:48:25.589333Z"
    }
   },
   "cell_type": "code",
   "source": [
    "from numpy import array\n",
    "from numpy.linalg import inv\n",
    "\n",
    "A = array([\n",
    "    [3, 1, 0],\n",
    "    [2, 4, 1],\n",
    "    [3, 1, 8]\n",
    "])\n",
    "B = array([\n",
    "    54,\n",
    "    12,\n",
    "    6\n",
    "])\n",
    "X = inv(A).dot(B)\n",
    "print(X)"
   ],
   "id": "d980f92a9ce7622c",
   "outputs": [
    {
     "name": "stdout",
     "output_type": "stream",
     "text": [
      "[19.8 -5.4 -6. ]\n"
     ]
    }
   ],
   "execution_count": 25
  },
  {
   "metadata": {
    "ExecuteTime": {
     "end_time": "2024-08-03T07:48:35.927692Z",
     "start_time": "2024-08-03T07:48:35.924867Z"
    }
   },
   "cell_type": "code",
   "source": [
    "from numpy.linalg import det\n",
    "from numpy import array\n",
    "\n",
    "i_hat = array([2, 6])\n",
    "j_hat = array([1, 3])\n",
    "basis = array([i_hat, j_hat]).transpose()\n",
    "print(basis)\n",
    "determinant = det(basis)\n",
    "print(determinant)"
   ],
   "id": "a24ebed5dbb139d8",
   "outputs": [
    {
     "name": "stdout",
     "output_type": "stream",
     "text": [
      "[[2 1]\n",
      " [6 3]]\n",
      "-3.330669073875464e-16\n"
     ]
    }
   ],
   "execution_count": 26
  },
  {
   "metadata": {
    "ExecuteTime": {
     "end_time": "2024-08-03T07:48:45.889501Z",
     "start_time": "2024-08-03T07:48:45.884540Z"
    }
   },
   "cell_type": "code",
   "source": [
    "import numpy as np\n",
    "\n",
    "A = np.array([\n",
    "    [3, 1, 0],\n",
    "    [2, 4, 1],\n",
    "    [3, 1, 8]\n",
    "])\n",
    "eigenvals, eigenvecs = np.linalg.eig(A)\n",
    "print(\"고윳값\\n\", eigenvals)\n",
    "print(\"고유벡터\\n\", eigenvecs)\n",
    "A_reconstruction = eigenvecs @ np.diag(eigenvals) @ np.linalg.inv(eigenvecs)\n",
    "print(\"재구성 행렬\\n\", np.round(A_reconstruction))"
   ],
   "id": "d9bc421078f0c538",
   "outputs": [
    {
     "name": "stdout",
     "output_type": "stream",
     "text": [
      "고윳값\n",
      " [8.38761906 2.12592447 4.48645647]\n",
      "고유벡터\n",
      " [[-0.04479915 -0.72643433 -0.45454378]\n",
      " [-0.24136078  0.63495848 -0.67565954]\n",
      " [-0.96940085  0.26290852  0.5804086 ]]\n",
      "재구성 행렬\n",
      " [[3. 1. 0.]\n",
      " [2. 4. 1.]\n",
      " [3. 1. 8.]]\n"
     ]
    }
   ],
   "execution_count": 27
  }
 ],
 "metadata": {
  "kernelspec": {
   "display_name": "Python 3",
   "language": "python",
   "name": "python3"
  },
  "language_info": {
   "codemirror_mode": {
    "name": "ipython",
    "version": 2
   },
   "file_extension": ".py",
   "mimetype": "text/x-python",
   "name": "python",
   "nbconvert_exporter": "python",
   "pygments_lexer": "ipython2",
   "version": "2.7.6"
  }
 },
 "nbformat": 4,
 "nbformat_minor": 5
}
