{
 "cells": [
  {
   "cell_type": "code",
   "id": "initial_id",
   "metadata": {
    "collapsed": true,
    "ExecuteTime": {
     "end_time": "2024-07-31T08:03:51.433077Z",
     "start_time": "2024-07-31T08:03:51.427936Z"
    }
   },
   "source": [
    "p_coffee_drinker = 0.65\n",
    "p_cancer = 0.005\n",
    "p_coffee_drinker_given_cancer = 0.85\n",
    "p_cancer_given_coffee_drinker = p_coffee_drinker_given_cancer * p_cancer / p_coffee_drinker\n",
    "print(p_cancer_given_coffee_drinker)"
   ],
   "outputs": [
    {
     "name": "stdout",
     "output_type": "stream",
     "text": [
      "0.006538461538461539\n"
     ]
    }
   ],
   "execution_count": 1
  },
  {
   "metadata": {
    "ExecuteTime": {
     "end_time": "2024-07-31T08:13:31.623222Z",
     "start_time": "2024-07-31T08:13:31.057088Z"
    }
   },
   "cell_type": "code",
   "source": [
    "from scipy.stats import binom\n",
    "\n",
    "n = 10\n",
    "p = 0.9\n",
    "for k in range(n + 1):\n",
    "    probability = binom.pmf(k, n, p)\n",
    "    print(\"{0} - {1}\".format(k, probability))"
   ],
   "id": "498bee9b5bf2aaca",
   "outputs": [
    {
     "name": "stdout",
     "output_type": "stream",
     "text": [
      "0 - 9.999999999999981e-11\n",
      "1 - 8.999999999999986e-09\n",
      "2 - 3.644999999999997e-07\n",
      "3 - 8.747999999999995e-06\n",
      "4 - 0.00013778099999999982\n",
      "5 - 0.0014880347999999988\n",
      "6 - 0.011160261000000001\n",
      "7 - 0.05739562799999998\n",
      "8 - 0.1937102445\n",
      "9 - 0.387420489\n",
      "10 - 0.3486784401000001\n"
     ]
    }
   ],
   "execution_count": 2
  },
  {
   "metadata": {
    "ExecuteTime": {
     "end_time": "2024-07-31T08:19:48.364113Z",
     "start_time": "2024-07-31T08:19:48.359323Z"
    }
   },
   "cell_type": "code",
   "source": [
    "from scipy.stats import beta\n",
    "\n",
    "a = 8\n",
    "b = 2\n",
    "p = beta.cdf(.90, a, b)\n",
    "print(p)"
   ],
   "id": "234d958a5ba6673a",
   "outputs": [
    {
     "name": "stdout",
     "output_type": "stream",
     "text": [
      "0.7748409780000002\n"
     ]
    }
   ],
   "execution_count": 3
  },
  {
   "metadata": {
    "ExecuteTime": {
     "end_time": "2024-07-31T08:20:09.141764Z",
     "start_time": "2024-07-31T08:20:09.138768Z"
    }
   },
   "cell_type": "code",
   "source": [
    "from scipy.stats import beta\n",
    "\n",
    "a = 8\n",
    "b = 2\n",
    "p = 1.0 - beta.cdf(.90, a, b)\n",
    "print(p)"
   ],
   "id": "24c167191512286",
   "outputs": [
    {
     "name": "stdout",
     "output_type": "stream",
     "text": [
      "0.22515902199999982\n"
     ]
    }
   ],
   "execution_count": 4
  },
  {
   "metadata": {
    "ExecuteTime": {
     "end_time": "2024-07-31T08:20:21.634097Z",
     "start_time": "2024-07-31T08:20:21.631115Z"
    }
   },
   "cell_type": "code",
   "source": [
    "from scipy.stats import beta\n",
    "\n",
    "a = 30\n",
    "b = 6\n",
    "p = 1.0 - beta.cdf(.90, a, b)\n",
    "print(p)"
   ],
   "id": "820a52598fe613fd",
   "outputs": [
    {
     "name": "stdout",
     "output_type": "stream",
     "text": [
      "0.13163577484183697\n"
     ]
    }
   ],
   "execution_count": 5
  },
  {
   "metadata": {
    "ExecuteTime": {
     "end_time": "2024-07-31T08:20:29.306983Z",
     "start_time": "2024-07-31T08:20:29.304089Z"
    }
   },
   "cell_type": "code",
   "source": [
    "from scipy.stats import beta\n",
    "\n",
    "a = 8\n",
    "b = 2\n",
    "p = beta.cdf(.90, a, b) - beta.cdf(.80, a, b)\n",
    "print(p)"
   ],
   "id": "aa116f1cf95a1c87",
   "outputs": [
    {
     "name": "stdout",
     "output_type": "stream",
     "text": [
      "0.33863336199999994\n"
     ]
    }
   ],
   "execution_count": 6
  },
  {
   "metadata": {
    "ExecuteTime": {
     "end_time": "2024-07-31T08:23:03.544043Z",
     "start_time": "2024-07-31T08:23:03.536177Z"
    }
   },
   "cell_type": "code",
   "source": [
    "n = 137\n",
    "p = 0.40\n",
    "p_50_or_more_noshows = 0.0\n",
    "for x in range(50, 138):\n",
    "    p_50_or_more_noshows += binom.pmf(x, n, p)\n",
    "print(p_50_or_more_noshows)"
   ],
   "id": "4a13d045bc9d55b7",
   "outputs": [
    {
     "name": "stdout",
     "output_type": "stream",
     "text": [
      "0.8220955881474249\n"
     ]
    }
   ],
   "execution_count": 7
  },
  {
   "metadata": {
    "ExecuteTime": {
     "end_time": "2024-07-31T08:23:12.948751Z",
     "start_time": "2024-07-31T08:23:12.945666Z"
    }
   },
   "cell_type": "code",
   "source": [
    "heads = 15\n",
    "tails = 4\n",
    "p = 1.0 - beta.cdf(.5, heads, tails)\n",
    "print(p)"
   ],
   "id": "ef500ec85276cf7f",
   "outputs": [
    {
     "name": "stdout",
     "output_type": "stream",
     "text": [
      "0.9962310791015625\n"
     ]
    }
   ],
   "execution_count": 8
  },
  {
   "metadata": {
    "ExecuteTime": {
     "end_time": "2024-07-31T08:23:21.744477Z",
     "start_time": "2024-07-31T08:23:21.741193Z"
    }
   },
   "cell_type": "code",
   "source": [
    "heads = 15\n",
    "tails = 4\n",
    "p = beta.cdf(0.8, heads, tails) - beta.cdf(0.7, heads, tails)\n",
    "print(p)"
   ],
   "id": "93f5965514f43e72",
   "outputs": [
    {
     "name": "stdout",
     "output_type": "stream",
     "text": [
      "0.33647497661034353\n"
     ]
    }
   ],
   "execution_count": 9
  }
 ],
 "metadata": {
  "kernelspec": {
   "display_name": "Python 3",
   "language": "python",
   "name": "python3"
  },
  "language_info": {
   "codemirror_mode": {
    "name": "ipython",
    "version": 2
   },
   "file_extension": ".py",
   "mimetype": "text/x-python",
   "name": "python",
   "nbconvert_exporter": "python",
   "pygments_lexer": "ipython2",
   "version": "2.7.6"
  }
 },
 "nbformat": 4,
 "nbformat_minor": 5
}
