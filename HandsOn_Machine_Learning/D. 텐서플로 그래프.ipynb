{
 "cells": [
  {
   "metadata": {},
   "cell_type": "markdown",
   "source": [
    "# 1. TF 함수와 콘크리트 함수\n",
    "\n",
    "- 다형성 함수\n",
    "- 여러 가지 타입의 입력 지원\n",
    "- 콘크리트 함수 : 입력 조합에 특화된 그래프를 가진 함수\n",
    "\n",
    "# 2. 함수 정의와 함수 그래프 탐험하기\n",
    "\n",
    "- 콘크리트 함수 → 계산 그래프\n",
    "\n",
    "# 3. 트레이싱 자세히 보기\n",
    "\n",
    "- 심볼릭 텐서 → 파이썬 함수 트레이싱 될 때 실행\n",
    "\n",
    "# 4. 오토그래프로 제어 흐름 표현하기\n",
    "\n",
    "- 동적 반복문 → 직관적이지 않음\n",
    "- 오토그래프 사용\n",
    "\n",
    "# 5. TF 함수에서 변수와 다른 리소스 다루기\n",
    "\n",
    "- 리소스 : 변수, 큐, 데이터셋과 같이 상태가 있는 객체\n",
    "- 상태가 있는 연산 → 등장 순서대로 실행\n",
    "\n",
    "# 6. 케라스로 TF 함수 사용하기\n",
    "\n",
    "- 자동 TF 함수 변환\n",
    "- 직접 작성한 코드 → TF 함수 변환 불가\n",
    "- 코드 디버깅 → 즉시 실행 모드"
   ],
   "id": "6e9b0466d9c11084"
  },
  {
   "cell_type": "code",
   "id": "initial_id",
   "metadata": {
    "collapsed": true,
    "ExecuteTime": {
     "end_time": "2024-06-29T06:39:07.583450Z",
     "start_time": "2024-06-29T06:39:04.631523Z"
    }
   },
   "source": [
    "import tensorflow as tf\n",
    "\n",
    "\n",
    "@tf.function\n",
    "def tf_cube(x):\n",
    "    return x ** 3"
   ],
   "outputs": [],
   "execution_count": 1
  },
  {
   "metadata": {
    "ExecuteTime": {
     "end_time": "2024-06-29T06:41:29.767739Z",
     "start_time": "2024-06-29T06:41:29.730104Z"
    }
   },
   "cell_type": "code",
   "source": [
    "concrete_function = tf_cube.get_concrete_function(tf.constant(2.0))\n",
    "concrete_function"
   ],
   "id": "d078a78be36c05a0",
   "outputs": [
    {
     "data": {
      "text/plain": [
       "<ConcreteFunction (x: TensorSpec(shape=(), dtype=tf.float32, name=None)) -> TensorSpec(shape=(), dtype=tf.float32, name=None) at 0x1641CF3D0>"
      ]
     },
     "execution_count": 2,
     "metadata": {},
     "output_type": "execute_result"
    }
   ],
   "execution_count": 2
  },
  {
   "metadata": {
    "ExecuteTime": {
     "end_time": "2024-06-29T06:41:40.470192Z",
     "start_time": "2024-06-29T06:41:40.426502Z"
    }
   },
   "cell_type": "code",
   "source": "concrete_function(tf.constant(2.0))",
   "id": "e1b6291c629e7bb7",
   "outputs": [
    {
     "data": {
      "text/plain": [
       "<tf.Tensor: shape=(), dtype=float32, numpy=8.0>"
      ]
     },
     "execution_count": 3,
     "metadata": {},
     "output_type": "execute_result"
    }
   ],
   "execution_count": 3
  },
  {
   "metadata": {
    "ExecuteTime": {
     "end_time": "2024-06-29T06:42:35.318110Z",
     "start_time": "2024-06-29T06:42:35.315058Z"
    }
   },
   "cell_type": "code",
   "source": "concrete_function.graph",
   "id": "dd38dd9c4a23cb0e",
   "outputs": [
    {
     "data": {
      "text/plain": [
       "<tensorflow.python.framework.func_graph.FuncGraph at 0x164197140>"
      ]
     },
     "execution_count": 4,
     "metadata": {},
     "output_type": "execute_result"
    }
   ],
   "execution_count": 4
  },
  {
   "metadata": {
    "ExecuteTime": {
     "end_time": "2024-06-29T06:42:52.099471Z",
     "start_time": "2024-06-29T06:42:52.095845Z"
    }
   },
   "cell_type": "code",
   "source": [
    "ops = concrete_function.graph.get_operations()\n",
    "ops"
   ],
   "id": "7c5cba21605a8e41",
   "outputs": [
    {
     "data": {
      "text/plain": [
       "[<tf.Operation 'x' type=Placeholder>,\n",
       " <tf.Operation 'pow/y' type=Const>,\n",
       " <tf.Operation 'pow' type=Pow>,\n",
       " <tf.Operation 'Identity' type=Identity>]"
      ]
     },
     "execution_count": 6,
     "metadata": {},
     "output_type": "execute_result"
    }
   ],
   "execution_count": 6
  },
  {
   "metadata": {
    "ExecuteTime": {
     "end_time": "2024-06-29T06:43:20.871099Z",
     "start_time": "2024-06-29T06:43:20.867829Z"
    }
   },
   "cell_type": "code",
   "source": [
    "pow_op = ops[2]\n",
    "list(pow_op.inputs)"
   ],
   "id": "2ca671b265932ba5",
   "outputs": [
    {
     "data": {
      "text/plain": [
       "[<tf.Tensor 'x:0' shape=() dtype=float32>,\n",
       " <tf.Tensor 'pow/y:0' shape=() dtype=float32>]"
      ]
     },
     "execution_count": 7,
     "metadata": {},
     "output_type": "execute_result"
    }
   ],
   "execution_count": 7
  },
  {
   "metadata": {
    "ExecuteTime": {
     "end_time": "2024-06-29T06:43:24.503858Z",
     "start_time": "2024-06-29T06:43:24.500288Z"
    }
   },
   "cell_type": "code",
   "source": "pow_op.outputs",
   "id": "6129d479591dec5d",
   "outputs": [
    {
     "data": {
      "text/plain": [
       "[<tf.Tensor 'pow:0' shape=() dtype=float32>]"
      ]
     },
     "execution_count": 8,
     "metadata": {},
     "output_type": "execute_result"
    }
   ],
   "execution_count": 8
  },
  {
   "metadata": {
    "ExecuteTime": {
     "end_time": "2024-06-29T06:43:52.411028Z",
     "start_time": "2024-06-29T06:43:52.407778Z"
    }
   },
   "cell_type": "code",
   "source": "concrete_function.graph.get_operation_by_name('x')",
   "id": "f4a2f707dd55a280",
   "outputs": [
    {
     "data": {
      "text/plain": [
       "<tf.Operation 'x' type=Placeholder>"
      ]
     },
     "execution_count": 9,
     "metadata": {},
     "output_type": "execute_result"
    }
   ],
   "execution_count": 9
  },
  {
   "metadata": {
    "ExecuteTime": {
     "end_time": "2024-06-29T06:44:16.246363Z",
     "start_time": "2024-06-29T06:44:16.242046Z"
    }
   },
   "cell_type": "code",
   "source": "concrete_function.graph.get_tensor_by_name('Identity:0')",
   "id": "faf9f823319b2404",
   "outputs": [
    {
     "data": {
      "text/plain": [
       "<tf.Tensor 'Identity:0' shape=() dtype=float32>"
      ]
     },
     "execution_count": 11,
     "metadata": {},
     "output_type": "execute_result"
    }
   ],
   "execution_count": 11
  },
  {
   "metadata": {
    "ExecuteTime": {
     "end_time": "2024-06-29T06:45:02.809304Z",
     "start_time": "2024-06-29T06:45:02.804972Z"
    }
   },
   "cell_type": "code",
   "source": "concrete_function.function_def.signature",
   "id": "44f0946c67c2e71a",
   "outputs": [
    {
     "data": {
      "text/plain": [
       "name: \"__inference_tf_cube_7\"\n",
       "input_arg {\n",
       "  name: \"x\"\n",
       "  type: DT_FLOAT\n",
       "}\n",
       "output_arg {\n",
       "  name: \"identity\"\n",
       "  type: DT_FLOAT\n",
       "}"
      ]
     },
     "execution_count": 13,
     "metadata": {},
     "output_type": "execute_result"
    }
   ],
   "execution_count": 13
  },
  {
   "metadata": {
    "ExecuteTime": {
     "end_time": "2024-06-29T08:52:48.083565Z",
     "start_time": "2024-06-29T08:52:48.077538Z"
    }
   },
   "cell_type": "code",
   "source": [
    "@tf.function\n",
    "def tf_cube(x):\n",
    "    print(f\"x=, {x}\")\n",
    "    return x ** 3"
   ],
   "id": "9d7c98151d035c46",
   "outputs": [],
   "execution_count": 15
  },
  {
   "metadata": {
    "ExecuteTime": {
     "end_time": "2024-06-29T08:53:02.367479Z",
     "start_time": "2024-06-29T08:53:02.325392Z"
    }
   },
   "cell_type": "code",
   "source": "result = tf_cube(tf.constant(2.0))",
   "id": "e7ed87b1d6207a9d",
   "outputs": [
    {
     "name": "stdout",
     "output_type": "stream",
     "text": [
      "x=, Tensor(\"x:0\", shape=(), dtype=float32)\n"
     ]
    }
   ],
   "execution_count": 16
  },
  {
   "metadata": {
    "ExecuteTime": {
     "end_time": "2024-06-29T08:53:05.827871Z",
     "start_time": "2024-06-29T08:53:05.824693Z"
    }
   },
   "cell_type": "code",
   "source": "result",
   "id": "5ed9765e6a1b4647",
   "outputs": [
    {
     "data": {
      "text/plain": [
       "<tf.Tensor: shape=(), dtype=float32, numpy=8.0>"
      ]
     },
     "execution_count": 17,
     "metadata": {},
     "output_type": "execute_result"
    }
   ],
   "execution_count": 17
  },
  {
   "metadata": {
    "ExecuteTime": {
     "end_time": "2024-06-29T08:53:19.333161Z",
     "start_time": "2024-06-29T08:53:19.329743Z"
    }
   },
   "cell_type": "code",
   "source": [
    "result = tf_cube(tf.constant(3.0))\n",
    "result = tf_cube(tf.constant(4.0))"
   ],
   "id": "6a0df4995e50475c",
   "outputs": [],
   "execution_count": 18
  },
  {
   "metadata": {
    "ExecuteTime": {
     "end_time": "2024-06-29T08:53:28.448317Z",
     "start_time": "2024-06-29T08:53:28.439800Z"
    }
   },
   "cell_type": "code",
   "source": "result = tf_cube(2)",
   "id": "bb1de53fe1ee8d67",
   "outputs": [
    {
     "name": "stdout",
     "output_type": "stream",
     "text": [
      "x=, 2\n"
     ]
    }
   ],
   "execution_count": 19
  },
  {
   "metadata": {
    "ExecuteTime": {
     "end_time": "2024-06-29T08:53:36.392583Z",
     "start_time": "2024-06-29T08:53:36.385484Z"
    }
   },
   "cell_type": "code",
   "source": "result = tf_cube(3)",
   "id": "f918feec0fa00a3e",
   "outputs": [
    {
     "name": "stdout",
     "output_type": "stream",
     "text": [
      "x=, 3\n"
     ]
    }
   ],
   "execution_count": 20
  },
  {
   "metadata": {
    "ExecuteTime": {
     "end_time": "2024-06-29T08:54:05.997280Z",
     "start_time": "2024-06-29T08:54:05.986597Z"
    }
   },
   "cell_type": "code",
   "source": "result = tf_cube(tf.constant([[1., 2.]]))",
   "id": "fb8a0c420e4aa72f",
   "outputs": [
    {
     "name": "stdout",
     "output_type": "stream",
     "text": [
      "x=, Tensor(\"x:0\", shape=(1, 2), dtype=float32)\n"
     ]
    }
   ],
   "execution_count": 21
  },
  {
   "metadata": {
    "ExecuteTime": {
     "end_time": "2024-06-29T08:54:34.921873Z",
     "start_time": "2024-06-29T08:54:34.913259Z"
    }
   },
   "cell_type": "code",
   "source": "result = tf_cube(tf.constant([[3., 4.], [5., 6.]]))",
   "id": "da3d522620657cd3",
   "outputs": [
    {
     "name": "stdout",
     "output_type": "stream",
     "text": [
      "x=, Tensor(\"x:0\", shape=(2, 2), dtype=float32)\n",
      "WARNING:tensorflow:5 out of the last 7 calls to <function tf_cube at 0x1667ad260> triggered tf.function retracing. Tracing is expensive and the excessive number of tracings could be due to (1) creating @tf.function repeatedly in a loop, (2) passing tensors with different shapes, (3) passing Python objects instead of tensors. For (1), please define your @tf.function outside of the loop. For (2), @tf.function has reduce_retracing=True option that can avoid unnecessary retracing. For (3), please refer to https://www.tensorflow.org/guide/function#controlling_retracing and https://www.tensorflow.org/api_docs/python/tf/function for  more details.\n"
     ]
    }
   ],
   "execution_count": 22
  },
  {
   "metadata": {
    "ExecuteTime": {
     "end_time": "2024-06-29T08:55:12.526118Z",
     "start_time": "2024-06-29T08:55:12.517426Z"
    }
   },
   "cell_type": "code",
   "source": "result = tf_cube(tf.constant([[[7., 8.], [9., 10.]]]))",
   "id": "7a5dff9e43976458",
   "outputs": [
    {
     "name": "stdout",
     "output_type": "stream",
     "text": [
      "x=, Tensor(\"x:0\", shape=(1, 2, 2), dtype=float32)\n",
      "WARNING:tensorflow:6 out of the last 8 calls to <function tf_cube at 0x1667ad260> triggered tf.function retracing. Tracing is expensive and the excessive number of tracings could be due to (1) creating @tf.function repeatedly in a loop, (2) passing tensors with different shapes, (3) passing Python objects instead of tensors. For (1), please define your @tf.function outside of the loop. For (2), @tf.function has reduce_retracing=True option that can avoid unnecessary retracing. For (3), please refer to https://www.tensorflow.org/guide/function#controlling_retracing and https://www.tensorflow.org/api_docs/python/tf/function for  more details.\n"
     ]
    }
   ],
   "execution_count": 23
  },
  {
   "metadata": {
    "ExecuteTime": {
     "end_time": "2024-06-29T08:56:26.080914Z",
     "start_time": "2024-06-29T08:56:26.077999Z"
    }
   },
   "cell_type": "code",
   "source": [
    "@tf.function(input_signature=[tf.TensorSpec([None, 28, 28], tf.float32)])\n",
    "def shrink(images):\n",
    "    return images[:, ::2, ::2]"
   ],
   "id": "38613133650fe0b7",
   "outputs": [],
   "execution_count": 24
  },
  {
   "metadata": {
    "ExecuteTime": {
     "end_time": "2024-06-29T08:57:20.619195Z",
     "start_time": "2024-06-29T08:57:20.613280Z"
    }
   },
   "cell_type": "code",
   "source": [
    "img_batch_1 = tf.random.uniform(shape=[100, 28, 28])\n",
    "img_batch_2 = tf.random.uniform(shape=[50, 28, 28])\n",
    "preprocessed_images = shrink(img_batch_1)\n",
    "preprocessed_images = shrink(img_batch_2)"
   ],
   "id": "3ba3bcc77f669edd",
   "outputs": [],
   "execution_count": 26
  },
  {
   "metadata": {
    "ExecuteTime": {
     "end_time": "2024-06-29T08:57:42.597534Z",
     "start_time": "2024-06-29T08:57:42.545764Z"
    }
   },
   "cell_type": "code",
   "source": [
    "img_batch_3 = tf.random.uniform(shape=[2, 2, 2])\n",
    "preprocessed_images = shrink(img_batch_3)"
   ],
   "id": "445cfc46f1736a31",
   "outputs": [
    {
     "ename": "TypeError",
     "evalue": "Binding inputs to tf.function failed due to `Can not cast TensorSpec(shape=(2, 2, 2), dtype=tf.float32, name=None) to TensorSpec(shape=(None, 28, 28), dtype=tf.float32, name=None)`. Received args: (<tf.Tensor: shape=(2, 2, 2), dtype=float32, numpy=\narray([[[0.0862695 , 0.7483548 ],\n        [0.91220474, 0.72628903]],\n\n       [[0.17323399, 0.8117585 ],\n        [0.40414655, 0.00920999]]], dtype=float32)>,) and kwargs: {} for signature: (images: TensorSpec(shape=(None, 28, 28), dtype=tf.float32, name=None)).",
     "output_type": "error",
     "traceback": [
      "\u001B[0;31m---------------------------------------------------------------------------\u001B[0m",
      "\u001B[0;31mTypeError\u001B[0m                                 Traceback (most recent call last)",
      "Cell \u001B[0;32mIn[27], line 2\u001B[0m\n\u001B[1;32m      1\u001B[0m img_batch_3 \u001B[38;5;241m=\u001B[39m tf\u001B[38;5;241m.\u001B[39mrandom\u001B[38;5;241m.\u001B[39muniform(shape\u001B[38;5;241m=\u001B[39m[\u001B[38;5;241m2\u001B[39m, \u001B[38;5;241m2\u001B[39m, \u001B[38;5;241m2\u001B[39m])\n\u001B[0;32m----> 2\u001B[0m preprocessed_images \u001B[38;5;241m=\u001B[39m shrink(img_batch_3)\n",
      "File \u001B[0;32m/opt/anaconda3/lib/python3.11/site-packages/tensorflow/python/util/traceback_utils.py:153\u001B[0m, in \u001B[0;36mfilter_traceback.<locals>.error_handler\u001B[0;34m(*args, **kwargs)\u001B[0m\n\u001B[1;32m    151\u001B[0m \u001B[38;5;28;01mexcept\u001B[39;00m \u001B[38;5;167;01mException\u001B[39;00m \u001B[38;5;28;01mas\u001B[39;00m e:\n\u001B[1;32m    152\u001B[0m   filtered_tb \u001B[38;5;241m=\u001B[39m _process_traceback_frames(e\u001B[38;5;241m.\u001B[39m__traceback__)\n\u001B[0;32m--> 153\u001B[0m   \u001B[38;5;28;01mraise\u001B[39;00m e\u001B[38;5;241m.\u001B[39mwith_traceback(filtered_tb) \u001B[38;5;28;01mfrom\u001B[39;00m \u001B[38;5;28;01mNone\u001B[39;00m\n\u001B[1;32m    154\u001B[0m \u001B[38;5;28;01mfinally\u001B[39;00m:\n\u001B[1;32m    155\u001B[0m   \u001B[38;5;28;01mdel\u001B[39;00m filtered_tb\n",
      "File \u001B[0;32m/opt/anaconda3/lib/python3.11/site-packages/tensorflow/python/eager/polymorphic_function/function_type_utils.py:446\u001B[0m, in \u001B[0;36mbind_function_inputs\u001B[0;34m(args, kwargs, function_type, default_values)\u001B[0m\n\u001B[1;32m    442\u001B[0m   bound_arguments \u001B[38;5;241m=\u001B[39m function_type\u001B[38;5;241m.\u001B[39mbind_with_defaults(\n\u001B[1;32m    443\u001B[0m       args, sanitized_kwargs, default_values\n\u001B[1;32m    444\u001B[0m   )\n\u001B[1;32m    445\u001B[0m \u001B[38;5;28;01mexcept\u001B[39;00m \u001B[38;5;167;01mException\u001B[39;00m \u001B[38;5;28;01mas\u001B[39;00m e:\n\u001B[0;32m--> 446\u001B[0m   \u001B[38;5;28;01mraise\u001B[39;00m \u001B[38;5;167;01mTypeError\u001B[39;00m(\n\u001B[1;32m    447\u001B[0m       \u001B[38;5;124mf\u001B[39m\u001B[38;5;124m\"\u001B[39m\u001B[38;5;124mBinding inputs to tf.function failed due to `\u001B[39m\u001B[38;5;132;01m{\u001B[39;00me\u001B[38;5;132;01m}\u001B[39;00m\u001B[38;5;124m`. \u001B[39m\u001B[38;5;124m\"\u001B[39m\n\u001B[1;32m    448\u001B[0m       \u001B[38;5;124mf\u001B[39m\u001B[38;5;124m\"\u001B[39m\u001B[38;5;124mReceived args: \u001B[39m\u001B[38;5;132;01m{\u001B[39;00margs\u001B[38;5;132;01m}\u001B[39;00m\u001B[38;5;124m and kwargs: \u001B[39m\u001B[38;5;132;01m{\u001B[39;00msanitized_kwargs\u001B[38;5;132;01m}\u001B[39;00m\u001B[38;5;124m for signature:\u001B[39m\u001B[38;5;124m\"\u001B[39m\n\u001B[1;32m    449\u001B[0m       \u001B[38;5;124mf\u001B[39m\u001B[38;5;124m\"\u001B[39m\u001B[38;5;124m \u001B[39m\u001B[38;5;132;01m{\u001B[39;00mfunction_type\u001B[38;5;132;01m}\u001B[39;00m\u001B[38;5;124m.\u001B[39m\u001B[38;5;124m\"\u001B[39m\n\u001B[1;32m    450\u001B[0m   ) \u001B[38;5;28;01mfrom\u001B[39;00m \u001B[38;5;21;01me\u001B[39;00m\n\u001B[1;32m    451\u001B[0m \u001B[38;5;28;01mreturn\u001B[39;00m bound_arguments\n",
      "\u001B[0;31mTypeError\u001B[0m: Binding inputs to tf.function failed due to `Can not cast TensorSpec(shape=(2, 2, 2), dtype=tf.float32, name=None) to TensorSpec(shape=(None, 28, 28), dtype=tf.float32, name=None)`. Received args: (<tf.Tensor: shape=(2, 2, 2), dtype=float32, numpy=\narray([[[0.0862695 , 0.7483548 ],\n        [0.91220474, 0.72628903]],\n\n       [[0.17323399, 0.8117585 ],\n        [0.40414655, 0.00920999]]], dtype=float32)>,) and kwargs: {} for signature: (images: TensorSpec(shape=(None, 28, 28), dtype=tf.float32, name=None))."
     ]
    }
   ],
   "execution_count": 27
  },
  {
   "metadata": {
    "ExecuteTime": {
     "end_time": "2024-06-29T08:59:47.540424Z",
     "start_time": "2024-06-29T08:59:47.537705Z"
    }
   },
   "cell_type": "code",
   "source": [
    "@tf.function\n",
    "def add_10(x):\n",
    "    for i in range(10):\n",
    "        x += 1\n",
    "    return x"
   ],
   "id": "52f87f6dd6a47ac9",
   "outputs": [],
   "execution_count": 28
  },
  {
   "metadata": {
    "ExecuteTime": {
     "end_time": "2024-06-29T08:59:59.414635Z",
     "start_time": "2024-06-29T08:59:59.379735Z"
    }
   },
   "cell_type": "code",
   "source": "add_10(tf.constant(0))",
   "id": "1f0aec79ab5b36b",
   "outputs": [
    {
     "data": {
      "text/plain": [
       "<tf.Tensor: shape=(), dtype=int32, numpy=10>"
      ]
     },
     "execution_count": 29,
     "metadata": {},
     "output_type": "execute_result"
    }
   ],
   "execution_count": 29
  },
  {
   "metadata": {
    "ExecuteTime": {
     "end_time": "2024-06-29T09:00:41.957426Z",
     "start_time": "2024-06-29T09:00:41.954148Z"
    }
   },
   "cell_type": "code",
   "source": "add_10.get_concrete_function(tf.constant(0)).graph.get_operations()",
   "id": "a6548429c9242b4a",
   "outputs": [
    {
     "data": {
      "text/plain": [
       "[<tf.Operation 'x' type=Placeholder>,\n",
       " <tf.Operation 'add/y' type=Const>,\n",
       " <tf.Operation 'add' type=AddV2>,\n",
       " <tf.Operation 'add_1/y' type=Const>,\n",
       " <tf.Operation 'add_1' type=AddV2>,\n",
       " <tf.Operation 'add_2/y' type=Const>,\n",
       " <tf.Operation 'add_2' type=AddV2>,\n",
       " <tf.Operation 'add_3/y' type=Const>,\n",
       " <tf.Operation 'add_3' type=AddV2>,\n",
       " <tf.Operation 'add_4/y' type=Const>,\n",
       " <tf.Operation 'add_4' type=AddV2>,\n",
       " <tf.Operation 'add_5/y' type=Const>,\n",
       " <tf.Operation 'add_5' type=AddV2>,\n",
       " <tf.Operation 'add_6/y' type=Const>,\n",
       " <tf.Operation 'add_6' type=AddV2>,\n",
       " <tf.Operation 'add_7/y' type=Const>,\n",
       " <tf.Operation 'add_7' type=AddV2>,\n",
       " <tf.Operation 'add_8/y' type=Const>,\n",
       " <tf.Operation 'add_8' type=AddV2>,\n",
       " <tf.Operation 'add_9/y' type=Const>,\n",
       " <tf.Operation 'add_9' type=AddV2>,\n",
       " <tf.Operation 'Identity' type=Identity>]"
      ]
     },
     "execution_count": 30,
     "metadata": {},
     "output_type": "execute_result"
    }
   ],
   "execution_count": 30
  },
  {
   "metadata": {
    "ExecuteTime": {
     "end_time": "2024-06-29T09:01:08.607846Z",
     "start_time": "2024-06-29T09:01:08.604427Z"
    }
   },
   "cell_type": "code",
   "source": "add_10.get_concrete_function(tf.constant(0)).graph.get_operations()",
   "id": "db5641c5047df826",
   "outputs": [
    {
     "data": {
      "text/plain": [
       "[<tf.Operation 'x' type=Placeholder>,\n",
       " <tf.Operation 'add/y' type=Const>,\n",
       " <tf.Operation 'add' type=AddV2>,\n",
       " <tf.Operation 'add_1/y' type=Const>,\n",
       " <tf.Operation 'add_1' type=AddV2>,\n",
       " <tf.Operation 'add_2/y' type=Const>,\n",
       " <tf.Operation 'add_2' type=AddV2>,\n",
       " <tf.Operation 'add_3/y' type=Const>,\n",
       " <tf.Operation 'add_3' type=AddV2>,\n",
       " <tf.Operation 'add_4/y' type=Const>,\n",
       " <tf.Operation 'add_4' type=AddV2>,\n",
       " <tf.Operation 'add_5/y' type=Const>,\n",
       " <tf.Operation 'add_5' type=AddV2>,\n",
       " <tf.Operation 'add_6/y' type=Const>,\n",
       " <tf.Operation 'add_6' type=AddV2>,\n",
       " <tf.Operation 'add_7/y' type=Const>,\n",
       " <tf.Operation 'add_7' type=AddV2>,\n",
       " <tf.Operation 'add_8/y' type=Const>,\n",
       " <tf.Operation 'add_8' type=AddV2>,\n",
       " <tf.Operation 'add_9/y' type=Const>,\n",
       " <tf.Operation 'add_9' type=AddV2>,\n",
       " <tf.Operation 'Identity' type=Identity>]"
      ]
     },
     "execution_count": 31,
     "metadata": {},
     "output_type": "execute_result"
    }
   ],
   "execution_count": 31
  },
  {
   "metadata": {
    "ExecuteTime": {
     "end_time": "2024-06-29T09:02:31.288433Z",
     "start_time": "2024-06-29T09:02:31.260294Z"
    }
   },
   "cell_type": "code",
   "source": [
    "counter = tf.Variable(0)\n",
    "\n",
    "\n",
    "@tf.function\n",
    "def increment(counter, c=1):\n",
    "    return counter.assign_add(c)\n",
    "\n",
    "\n",
    "increment(counter)\n",
    "increment(counter)"
   ],
   "id": "1b40c3d059a53fc2",
   "outputs": [
    {
     "data": {
      "text/plain": [
       "<tf.Tensor: shape=(), dtype=int32, numpy=2>"
      ]
     },
     "execution_count": 32,
     "metadata": {},
     "output_type": "execute_result"
    }
   ],
   "execution_count": 32
  },
  {
   "metadata": {
    "ExecuteTime": {
     "end_time": "2024-06-29T09:03:13.332946Z",
     "start_time": "2024-06-29T09:03:13.328938Z"
    }
   },
   "cell_type": "code",
   "source": [
    "function_def = increment.get_concrete_function(counter).function_def\n",
    "function_def.signature.input_arg[0]"
   ],
   "id": "ba9835e434b4206f",
   "outputs": [
    {
     "data": {
      "text/plain": [
       "name: \"counter\"\n",
       "type: DT_RESOURCE"
      ]
     },
     "execution_count": 34,
     "metadata": {},
     "output_type": "execute_result"
    }
   ],
   "execution_count": 34
  },
  {
   "metadata": {
    "ExecuteTime": {
     "end_time": "2024-06-29T09:03:37.341484Z",
     "start_time": "2024-06-29T09:03:37.338446Z"
    }
   },
   "cell_type": "code",
   "source": [
    "counter = tf.Variable(0)\n",
    "\n",
    "\n",
    "@tf.function\n",
    "def increment(c=1):\n",
    "    return counter.assign_add(c)"
   ],
   "id": "150fa120f5ab86f0",
   "outputs": [],
   "execution_count": 35
  },
  {
   "metadata": {
    "ExecuteTime": {
     "end_time": "2024-06-29T09:04:13.244931Z",
     "start_time": "2024-06-29T09:04:13.242436Z"
    }
   },
   "cell_type": "code",
   "source": [
    "class Counter:\n",
    "    def __init__(self):\n",
    "        self.counter = tf.Variable(0)\n",
    "        \n",
    "    @tf.function\n",
    "    def increment(self, c=1):\n",
    "        return self.counter.assign_add(c)"
   ],
   "id": "213dfc88450daa14",
   "outputs": [],
   "execution_count": 36
  }
 ],
 "metadata": {
  "kernelspec": {
   "display_name": "Python 3",
   "language": "python",
   "name": "python3"
  },
  "language_info": {
   "codemirror_mode": {
    "name": "ipython",
    "version": 2
   },
   "file_extension": ".py",
   "mimetype": "text/x-python",
   "name": "python",
   "nbconvert_exporter": "python",
   "pygments_lexer": "ipython2",
   "version": "2.7.6"
  }
 },
 "nbformat": 4,
 "nbformat_minor": 5
}
