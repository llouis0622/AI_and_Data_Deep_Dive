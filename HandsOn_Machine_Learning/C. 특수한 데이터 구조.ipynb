{
 "cells": [
  {
   "metadata": {},
   "cell_type": "markdown",
   "source": [
    "# 1. 문자열\n",
    "\n",
    "- 텐서 → 자연어 처리에 특히 유용한 바이트 문자열 담기 가능\n",
    "\n",
    "# 2. 래그드 텐서(Ragged Tensor)\n",
    "\n",
    "- 크기가 다른 배열의 리스트를 표현하는 특별한 종류의 텐서\n",
    "- 하나 이상의 래그드 차원을 가진 텐서\n",
    "\n",
    "# 3. 희소 텐서\n",
    "\n",
    "- 대부분 0으로 채워진 텐서\n",
    "\n",
    "# 4. 텐서 배열\n",
    "\n",
    "- 텐서 리스트 표현\n",
    "- 배열의 모든 위치에서 텐서 읽기/쓰기 가능\n",
    "\n",
    "# 5. 집합\n",
    "\n",
    "- 정수, 문자열 집합 지원\n",
    "\n",
    "# 6. 큐\n",
    "\n",
    "- 데이터 레코드를 넣고 나중에 추출하는 데이터 구조\n",
    "- 데이터 적재 및 파이프라인 구현 시 유용\n",
    "- PaddingFIFOQueue\n",
    "- PriorityQueue\n",
    "- RandomShuffleQueue"
   ],
   "id": "bcac753e447e4d7f"
  },
  {
   "cell_type": "code",
   "id": "initial_id",
   "metadata": {
    "collapsed": true,
    "ExecuteTime": {
     "end_time": "2024-06-29T06:16:16.199093Z",
     "start_time": "2024-06-29T06:16:13.355275Z"
    }
   },
   "source": [
    "import tensorflow as tf\n",
    "\n",
    "tf.constant(b\"Hello world\")"
   ],
   "outputs": [
    {
     "data": {
      "text/plain": [
       "<tf.Tensor: shape=(), dtype=string, numpy=b'Hello world'>"
      ]
     },
     "execution_count": 1,
     "metadata": {},
     "output_type": "execute_result"
    }
   ],
   "execution_count": 1
  },
  {
   "metadata": {
    "ExecuteTime": {
     "end_time": "2024-06-29T06:17:25.645062Z",
     "start_time": "2024-06-29T06:17:25.641186Z"
    }
   },
   "cell_type": "code",
   "source": "tf.constant(\"café\")",
   "id": "98540579d8871fa3",
   "outputs": [
    {
     "data": {
      "text/plain": [
       "<tf.Tensor: shape=(), dtype=string, numpy=b'caf\\xc3\\xa9'>"
      ]
     },
     "execution_count": 2,
     "metadata": {},
     "output_type": "execute_result"
    }
   ],
   "execution_count": 2
  },
  {
   "metadata": {
    "ExecuteTime": {
     "end_time": "2024-06-29T06:17:57.747821Z",
     "start_time": "2024-06-29T06:17:57.743143Z"
    }
   },
   "cell_type": "code",
   "source": [
    "u = tf.constant([ord(c) for c in \"café\"])\n",
    "u"
   ],
   "id": "1cd66166c8854ba",
   "outputs": [
    {
     "data": {
      "text/plain": [
       "<tf.Tensor: shape=(4,), dtype=int32, numpy=array([ 99,  97, 102, 233], dtype=int32)>"
      ]
     },
     "execution_count": 3,
     "metadata": {},
     "output_type": "execute_result"
    }
   ],
   "execution_count": 3
  },
  {
   "metadata": {
    "ExecuteTime": {
     "end_time": "2024-06-29T06:18:19.255943Z",
     "start_time": "2024-06-29T06:18:19.243531Z"
    }
   },
   "cell_type": "code",
   "source": [
    "b = tf.strings.unicode_encode(u, \"UTF-8\")\n",
    "b"
   ],
   "id": "25816883156c40b3",
   "outputs": [
    {
     "data": {
      "text/plain": [
       "<tf.Tensor: shape=(), dtype=string, numpy=b'caf\\xc3\\xa9'>"
      ]
     },
     "execution_count": 4,
     "metadata": {},
     "output_type": "execute_result"
    }
   ],
   "execution_count": 4
  },
  {
   "metadata": {
    "ExecuteTime": {
     "end_time": "2024-06-29T06:18:40.410079Z",
     "start_time": "2024-06-29T06:18:40.405703Z"
    }
   },
   "cell_type": "code",
   "source": "tf.strings.length(b, unit=\"UTF8_CHAR\")",
   "id": "aa31ff628894e5f5",
   "outputs": [
    {
     "data": {
      "text/plain": [
       "<tf.Tensor: shape=(), dtype=int32, numpy=4>"
      ]
     },
     "execution_count": 5,
     "metadata": {},
     "output_type": "execute_result"
    }
   ],
   "execution_count": 5
  },
  {
   "metadata": {
    "ExecuteTime": {
     "end_time": "2024-06-29T06:19:02.062357Z",
     "start_time": "2024-06-29T06:19:02.057078Z"
    }
   },
   "cell_type": "code",
   "source": "tf.strings.unicode_decode(b, \"UTF-8\")",
   "id": "341d9a6bbd07f5af",
   "outputs": [
    {
     "data": {
      "text/plain": [
       "<tf.Tensor: shape=(4,), dtype=int32, numpy=array([ 99,  97, 102, 233], dtype=int32)>"
      ]
     },
     "execution_count": 7,
     "metadata": {},
     "output_type": "execute_result"
    }
   ],
   "execution_count": 7
  },
  {
   "metadata": {
    "ExecuteTime": {
     "end_time": "2024-06-29T06:20:57.629006Z",
     "start_time": "2024-06-29T06:20:57.624132Z"
    }
   },
   "cell_type": "code",
   "source": [
    "p = tf.constant([\"café\", \"Coffee\", \"caffe\"])\n",
    "tf.strings.length(p, unit=\"UTF8_CHAR\")"
   ],
   "id": "700fd1bb9f168ceb",
   "outputs": [
    {
     "data": {
      "text/plain": [
       "<tf.Tensor: shape=(3,), dtype=int32, numpy=array([4, 6, 5], dtype=int32)>"
      ]
     },
     "execution_count": 8,
     "metadata": {},
     "output_type": "execute_result"
    }
   ],
   "execution_count": 8
  },
  {
   "metadata": {
    "ExecuteTime": {
     "end_time": "2024-06-29T06:21:17.826027Z",
     "start_time": "2024-06-29T06:21:17.821759Z"
    }
   },
   "cell_type": "code",
   "source": [
    "r = tf.strings.unicode_decode(p, \"UTF-8\")\n",
    "r"
   ],
   "id": "34c56355ef008dc6",
   "outputs": [
    {
     "data": {
      "text/plain": [
       "<tf.RaggedTensor [[99, 97, 102, 233], [67, 111, 102, 102, 101, 101],\n",
       " [99, 97, 102, 102, 101]]>"
      ]
     },
     "execution_count": 11,
     "metadata": {},
     "output_type": "execute_result"
    }
   ],
   "execution_count": 11
  },
  {
   "metadata": {
    "ExecuteTime": {
     "end_time": "2024-06-29T06:22:26.071118Z",
     "start_time": "2024-06-29T06:22:26.062127Z"
    }
   },
   "cell_type": "code",
   "source": "r[1]",
   "id": "9626af94709cadd0",
   "outputs": [
    {
     "data": {
      "text/plain": [
       "<tf.Tensor: shape=(6,), dtype=int32, numpy=array([ 67, 111, 102, 102, 101, 101], dtype=int32)>"
      ]
     },
     "execution_count": 12,
     "metadata": {},
     "output_type": "execute_result"
    }
   ],
   "execution_count": 12
  },
  {
   "metadata": {
    "ExecuteTime": {
     "end_time": "2024-06-29T06:23:03.719260Z",
     "start_time": "2024-06-29T06:23:03.711889Z"
    }
   },
   "cell_type": "code",
   "source": [
    "r2 = tf.ragged.constant([[65, 66], [], [67]])\n",
    "tf.concat([r, r2], axis=0)"
   ],
   "id": "763aac9c4652efba",
   "outputs": [
    {
     "data": {
      "text/plain": [
       "<tf.RaggedTensor [[99, 97, 102, 233], [67, 111, 102, 102, 101, 101],\n",
       " [99, 97, 102, 102, 101], [65, 66], [], [67]]>"
      ]
     },
     "execution_count": 13,
     "metadata": {},
     "output_type": "execute_result"
    }
   ],
   "execution_count": 13
  },
  {
   "metadata": {
    "ExecuteTime": {
     "end_time": "2024-06-29T06:23:48.844601Z",
     "start_time": "2024-06-29T06:23:48.822160Z"
    }
   },
   "cell_type": "code",
   "source": [
    "r3 = tf.ragged.constant([[68, 69, 70], [71], [], [72, 73]])\n",
    "print(tf.concat([r, r3], axis=1))"
   ],
   "id": "5f4bcb32ba7bc9d0",
   "outputs": [
    {
     "ename": "InvalidArgumentError",
     "evalue": "Input tensors at index 0 (=x) and 1 (=y) have incompatible shapes.\nCondition x == y did not hold.\nFirst 1 elements of x:\n[3]\nFirst 1 elements of y:\n[4]",
     "output_type": "error",
     "traceback": [
      "\u001B[0;31m---------------------------------------------------------------------------\u001B[0m",
      "\u001B[0;31mInvalidArgumentError\u001B[0m                      Traceback (most recent call last)",
      "Cell \u001B[0;32mIn[15], line 2\u001B[0m\n\u001B[1;32m      1\u001B[0m r3 \u001B[38;5;241m=\u001B[39m tf\u001B[38;5;241m.\u001B[39mragged\u001B[38;5;241m.\u001B[39mconstant([[\u001B[38;5;241m68\u001B[39m, \u001B[38;5;241m69\u001B[39m, \u001B[38;5;241m70\u001B[39m], [\u001B[38;5;241m71\u001B[39m], [], [\u001B[38;5;241m72\u001B[39m, \u001B[38;5;241m73\u001B[39m]])\n\u001B[0;32m----> 2\u001B[0m \u001B[38;5;28mprint\u001B[39m(tf\u001B[38;5;241m.\u001B[39mconcat([r, r3], axis\u001B[38;5;241m=\u001B[39m\u001B[38;5;241m1\u001B[39m))\n",
      "File \u001B[0;32m/opt/anaconda3/lib/python3.11/site-packages/tensorflow/python/util/traceback_utils.py:153\u001B[0m, in \u001B[0;36mfilter_traceback.<locals>.error_handler\u001B[0;34m(*args, **kwargs)\u001B[0m\n\u001B[1;32m    151\u001B[0m \u001B[38;5;28;01mexcept\u001B[39;00m \u001B[38;5;167;01mException\u001B[39;00m \u001B[38;5;28;01mas\u001B[39;00m e:\n\u001B[1;32m    152\u001B[0m   filtered_tb \u001B[38;5;241m=\u001B[39m _process_traceback_frames(e\u001B[38;5;241m.\u001B[39m__traceback__)\n\u001B[0;32m--> 153\u001B[0m   \u001B[38;5;28;01mraise\u001B[39;00m e\u001B[38;5;241m.\u001B[39mwith_traceback(filtered_tb) \u001B[38;5;28;01mfrom\u001B[39;00m \u001B[38;5;28;01mNone\u001B[39;00m\n\u001B[1;32m    154\u001B[0m \u001B[38;5;28;01mfinally\u001B[39;00m:\n\u001B[1;32m    155\u001B[0m   \u001B[38;5;28;01mdel\u001B[39;00m filtered_tb\n",
      "File \u001B[0;32m/opt/anaconda3/lib/python3.11/site-packages/tensorflow/python/ops/check_ops.py:488\u001B[0m, in \u001B[0;36m_binary_assert\u001B[0;34m(sym, opname, op_func, static_func, x, y, data, summarize, message, name)\u001B[0m\n\u001B[1;32m    485\u001B[0m   \u001B[38;5;28;01mif\u001B[39;00m message \u001B[38;5;129;01mis\u001B[39;00m \u001B[38;5;129;01mnot\u001B[39;00m \u001B[38;5;28;01mNone\u001B[39;00m:\n\u001B[1;32m    486\u001B[0m     data \u001B[38;5;241m=\u001B[39m [message] \u001B[38;5;241m+\u001B[39m \u001B[38;5;28mlist\u001B[39m(data)\n\u001B[0;32m--> 488\u001B[0m   \u001B[38;5;28;01mraise\u001B[39;00m errors\u001B[38;5;241m.\u001B[39mInvalidArgumentError(\n\u001B[1;32m    489\u001B[0m       node_def\u001B[38;5;241m=\u001B[39m\u001B[38;5;28;01mNone\u001B[39;00m,\n\u001B[1;32m    490\u001B[0m       op\u001B[38;5;241m=\u001B[39m\u001B[38;5;28;01mNone\u001B[39;00m,\n\u001B[1;32m    491\u001B[0m       message\u001B[38;5;241m=\u001B[39m(\u001B[38;5;124m'\u001B[39m\u001B[38;5;130;01m\\n\u001B[39;00m\u001B[38;5;124m'\u001B[39m\u001B[38;5;241m.\u001B[39mjoin(_pretty_print(d, summarize) \u001B[38;5;28;01mfor\u001B[39;00m d \u001B[38;5;129;01min\u001B[39;00m data)))\n\u001B[1;32m    493\u001B[0m \u001B[38;5;28;01melse\u001B[39;00m:  \u001B[38;5;66;03m# not context.executing_eagerly()\u001B[39;00m\n\u001B[1;32m    494\u001B[0m   \u001B[38;5;28;01mif\u001B[39;00m data \u001B[38;5;129;01mis\u001B[39;00m \u001B[38;5;28;01mNone\u001B[39;00m:\n",
      "\u001B[0;31mInvalidArgumentError\u001B[0m: Input tensors at index 0 (=x) and 1 (=y) have incompatible shapes.\nCondition x == y did not hold.\nFirst 1 elements of x:\n[3]\nFirst 1 elements of y:\n[4]"
     ]
    }
   ],
   "execution_count": 15
  },
  {
   "metadata": {
    "ExecuteTime": {
     "end_time": "2024-06-29T06:24:50.162001Z",
     "start_time": "2024-06-29T06:24:50.156116Z"
    }
   },
   "cell_type": "code",
   "source": "r.to_tensor()",
   "id": "614b01e81027df78",
   "outputs": [
    {
     "data": {
      "text/plain": [
       "<tf.Tensor: shape=(3, 6), dtype=int32, numpy=\n",
       "array([[ 99,  97, 102, 233,   0,   0],\n",
       "       [ 67, 111, 102, 102, 101, 101],\n",
       "       [ 99,  97, 102, 102, 101,   0]], dtype=int32)>"
      ]
     },
     "execution_count": 16,
     "metadata": {},
     "output_type": "execute_result"
    }
   ],
   "execution_count": 16
  },
  {
   "metadata": {
    "ExecuteTime": {
     "end_time": "2024-06-29T06:26:25.217127Z",
     "start_time": "2024-06-29T06:26:25.209593Z"
    }
   },
   "cell_type": "code",
   "source": [
    "s = tf.SparseTensor(indices=[[0, 1], [1, 0], [2, 3]], values=[1., 2., 3.], dense_shape=[3, 4])\n",
    "tf.sparse.to_dense(s)"
   ],
   "id": "da6a06f1b5bd772a",
   "outputs": [
    {
     "data": {
      "text/plain": [
       "<tf.Tensor: shape=(3, 4), dtype=float32, numpy=\n",
       "array([[0., 1., 0., 0.],\n",
       "       [2., 0., 0., 0.],\n",
       "       [0., 0., 0., 3.]], dtype=float32)>"
      ]
     },
     "execution_count": 17,
     "metadata": {},
     "output_type": "execute_result"
    }
   ],
   "execution_count": 17
  },
  {
   "metadata": {
    "ExecuteTime": {
     "end_time": "2024-06-29T06:26:34.874965Z",
     "start_time": "2024-06-29T06:26:34.869828Z"
    }
   },
   "cell_type": "code",
   "source": "s * 42.0",
   "id": "71748d9797a336be",
   "outputs": [
    {
     "data": {
      "text/plain": [
       "SparseTensor(indices=tf.Tensor(\n",
       "[[0 1]\n",
       " [1 0]\n",
       " [2 3]], shape=(3, 2), dtype=int64), values=tf.Tensor([ 42.  84. 126.], shape=(3,), dtype=float32), dense_shape=tf.Tensor([3 4], shape=(2,), dtype=int64))"
      ]
     },
     "execution_count": 18,
     "metadata": {},
     "output_type": "execute_result"
    }
   ],
   "execution_count": 18
  },
  {
   "metadata": {
    "ExecuteTime": {
     "end_time": "2024-06-29T06:26:39.637483Z",
     "start_time": "2024-06-29T06:26:39.626735Z"
    }
   },
   "cell_type": "code",
   "source": "s + 42.0",
   "id": "6c71fad890ac2626",
   "outputs": [
    {
     "ename": "TypeError",
     "evalue": "unsupported operand type(s) for +: 'SparseTensor' and 'float'",
     "output_type": "error",
     "traceback": [
      "\u001B[0;31m---------------------------------------------------------------------------\u001B[0m",
      "\u001B[0;31mTypeError\u001B[0m                                 Traceback (most recent call last)",
      "Cell \u001B[0;32mIn[19], line 1\u001B[0m\n\u001B[0;32m----> 1\u001B[0m s \u001B[38;5;241m+\u001B[39m \u001B[38;5;241m42.0\u001B[39m\n",
      "\u001B[0;31mTypeError\u001B[0m: unsupported operand type(s) for +: 'SparseTensor' and 'float'"
     ]
    }
   ],
   "execution_count": 19
  },
  {
   "metadata": {
    "ExecuteTime": {
     "end_time": "2024-06-29T06:29:22.582943Z",
     "start_time": "2024-06-29T06:29:22.579519Z"
    }
   },
   "cell_type": "code",
   "source": [
    "array = tf.TensorArray(dtype=tf.float32, size=3)\n",
    "array = array.write(0, tf.constant([1., 2.]))\n",
    "array = array.write(1, tf.constant([3., 10.]))\n",
    "array = array.write(2, tf.constant([5., 7.]))\n",
    "tensor1 = array.read(1)"
   ],
   "id": "300c851017f8b28e",
   "outputs": [],
   "execution_count": 20
  },
  {
   "metadata": {
    "ExecuteTime": {
     "end_time": "2024-06-29T06:29:28.693341Z",
     "start_time": "2024-06-29T06:29:28.688804Z"
    }
   },
   "cell_type": "code",
   "source": "array.stack()",
   "id": "31da9e817010f11c",
   "outputs": [
    {
     "data": {
      "text/plain": [
       "<tf.Tensor: shape=(3, 2), dtype=float32, numpy=\n",
       "array([[1., 2.],\n",
       "       [0., 0.],\n",
       "       [5., 7.]], dtype=float32)>"
      ]
     },
     "execution_count": 21,
     "metadata": {},
     "output_type": "execute_result"
    }
   ],
   "execution_count": 21
  },
  {
   "metadata": {
    "ExecuteTime": {
     "end_time": "2024-06-29T06:30:24.117874Z",
     "start_time": "2024-06-29T06:30:24.112555Z"
    }
   },
   "cell_type": "code",
   "source": [
    "a = tf.constant([[1, 5, 9]])\n",
    "b = tf.constant([[5, 6, 9, 11]])\n",
    "u = tf.sets.union(a, b)\n",
    "u"
   ],
   "id": "108e5c884ba1d273",
   "outputs": [
    {
     "data": {
      "text/plain": [
       "SparseTensor(indices=tf.Tensor(\n",
       "[[0 0]\n",
       " [0 1]\n",
       " [0 2]\n",
       " [0 3]\n",
       " [0 4]], shape=(5, 2), dtype=int64), values=tf.Tensor([ 1  5  6  9 11], shape=(5,), dtype=int32), dense_shape=tf.Tensor([1 5], shape=(2,), dtype=int64))"
      ]
     },
     "execution_count": 22,
     "metadata": {},
     "output_type": "execute_result"
    }
   ],
   "execution_count": 22
  },
  {
   "metadata": {
    "ExecuteTime": {
     "end_time": "2024-06-29T06:30:28.805975Z",
     "start_time": "2024-06-29T06:30:28.801518Z"
    }
   },
   "cell_type": "code",
   "source": "tf.sparse.to_dense(u)",
   "id": "13565a9d2e8f20b6",
   "outputs": [
    {
     "data": {
      "text/plain": [
       "<tf.Tensor: shape=(1, 5), dtype=int32, numpy=array([[ 1,  5,  6,  9, 11]], dtype=int32)>"
      ]
     },
     "execution_count": 23,
     "metadata": {},
     "output_type": "execute_result"
    }
   ],
   "execution_count": 23
  },
  {
   "metadata": {
    "ExecuteTime": {
     "end_time": "2024-06-29T06:31:15.794674Z",
     "start_time": "2024-06-29T06:31:15.790247Z"
    }
   },
   "cell_type": "code",
   "source": [
    "a = tf.constant([[1, 5, 9], [10, 0, 0]])\n",
    "b = tf.constant([[5, 6, 9, 11], [13, 0, 0, 0]])\n",
    "u = tf.sets.union(a, b)\n",
    "tf.sparse.to_dense(u)"
   ],
   "id": "bf649a951b9c9e15",
   "outputs": [
    {
     "data": {
      "text/plain": [
       "<tf.Tensor: shape=(2, 5), dtype=int32, numpy=\n",
       "array([[ 1,  5,  6,  9, 11],\n",
       "       [ 0, 10, 13,  0,  0]], dtype=int32)>"
      ]
     },
     "execution_count": 24,
     "metadata": {},
     "output_type": "execute_result"
    }
   ],
   "execution_count": 24
  },
  {
   "metadata": {
    "ExecuteTime": {
     "end_time": "2024-06-29T06:32:50.392007Z",
     "start_time": "2024-06-29T06:32:50.384586Z"
    }
   },
   "cell_type": "code",
   "source": [
    "q = tf.queue.FIFOQueue(3, [tf.int32, tf.string], shapes=[(), ()])\n",
    "q.enqueue([10, b\"windy\"])\n",
    "q.enqueue([15, b\"sunny\"])\n",
    "q.size()"
   ],
   "id": "382ae3cc02456098",
   "outputs": [
    {
     "data": {
      "text/plain": [
       "<tf.Tensor: shape=(), dtype=int32, numpy=2>"
      ]
     },
     "execution_count": 25,
     "metadata": {},
     "output_type": "execute_result"
    }
   ],
   "execution_count": 25
  },
  {
   "metadata": {
    "ExecuteTime": {
     "end_time": "2024-06-29T06:32:57.026032Z",
     "start_time": "2024-06-29T06:32:57.021634Z"
    }
   },
   "cell_type": "code",
   "source": "q.dequeue()",
   "id": "2c91b2d80d3938fc",
   "outputs": [
    {
     "data": {
      "text/plain": [
       "[<tf.Tensor: shape=(), dtype=int32, numpy=10>,\n",
       " <tf.Tensor: shape=(), dtype=string, numpy=b'windy'>]"
      ]
     },
     "execution_count": 26,
     "metadata": {},
     "output_type": "execute_result"
    }
   ],
   "execution_count": 26
  },
  {
   "metadata": {
    "ExecuteTime": {
     "end_time": "2024-06-29T06:33:33.471038Z",
     "start_time": "2024-06-29T06:33:33.466102Z"
    }
   },
   "cell_type": "code",
   "source": [
    "q.enqueue_many([[13, 16], [b\"cloudy\", b\"rainy\"]])\n",
    "q.dequeue_many(3)"
   ],
   "id": "5c1fda47efc867ea",
   "outputs": [
    {
     "data": {
      "text/plain": [
       "[<tf.Tensor: shape=(3,), dtype=int32, numpy=array([15, 13, 16], dtype=int32)>,\n",
       " <tf.Tensor: shape=(3,), dtype=string, numpy=array([b'sunny', b'cloudy', b'rainy'], dtype=object)>]"
      ]
     },
     "execution_count": 27,
     "metadata": {},
     "output_type": "execute_result"
    }
   ],
   "execution_count": 27
  }
 ],
 "metadata": {
  "kernelspec": {
   "display_name": "Python 3",
   "language": "python",
   "name": "python3"
  },
  "language_info": {
   "codemirror_mode": {
    "name": "ipython",
    "version": 2
   },
   "file_extension": ".py",
   "mimetype": "text/x-python",
   "name": "python",
   "nbconvert_exporter": "python",
   "pygments_lexer": "ipython2",
   "version": "2.7.6"
  }
 },
 "nbformat": 4,
 "nbformat_minor": 5
}
