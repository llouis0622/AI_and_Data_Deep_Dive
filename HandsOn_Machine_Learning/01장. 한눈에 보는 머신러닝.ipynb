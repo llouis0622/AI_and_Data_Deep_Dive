{
 "cells": [
  {
   "metadata": {},
   "cell_type": "markdown",
   "source": [
    "# 1. 머신러닝이란\n",
    "\n",
    "- 데이터에서 학습하도록 컴퓨터에서 프로그래밍하는 과학\n",
    "- 명시적인 프로그래밍 없이 컴퓨터가 학습하는 능력을 갖추게 하는 연구 분야\n",
    "- 어떤 작업 T에 대한 컴퓨터 프로그램의 성능을 P로 측정했을 때 경험 E로 인해 성능이 향상됐다면 컴퓨터 프로그램은 작업 T와 성능 측정 P에 대해 경험 E로 학습한 것\n",
    "- 훈련 세트 : 시스템이 학습하는 데 사용하는 샘플\n",
    "- 훈련 사례 : 각각의 훈련 데이터, 샘플\n",
    "- 모델 : 머신러닝 시스템에서 학습하고 예측을 만드는 부분\n",
    "- 정확도 : 성능 측정\n",
    "\n",
    "# 2. 왜 머신러닝을 사용하는가\n",
    "\n",
    "- 문제 연구 → 머신러닝 모델 훈련 → 평가 → 오류 분석 → 서비스\n",
    "- 데이터 마이닝 : 대용량의 데이터를 분석하여 숨겨진 패턴을 발견하는 것\n",
    "- 문제 연구 → 머신러닝 모델 훈련 → 솔루션 분석 → 문제에 대한 이해 증가 → 반복\n",
    "- 기존 솔루션으로는 많은 수동 조정과 규칙이 필요한 문제\n",
    "- 전통적인 방식으로는 해결 방법이 없는 복잡한 문제\n",
    "- 유동적인 환경\n",
    "- 복잡한 문제와 대량의 데이터에서 인사이트 얻기\n",
    "\n",
    "# 3. 머신러닝 시스템 종류\n",
    "\n",
    "## 1. 훈련 지도 방식\n",
    "\n",
    "- 학습하는 동안의 지도 형태나 정보량에 따라 분류\n",
    "- 지도 학습(Supervised Learning)\n",
    "    - 알고리즘에 주입하는 훈련 데이터에 레이블이라는 원하는 답 포함\n",
    "    - 분류(Classification) : 특정 데이터를 분류하는 것\n",
    "    - 회귀(Regression) : 특성을 사용해 타깃 수치를 예측하는 것\n",
    "- 비지도 학습(Unsupervised Learning)\n",
    "    - 훈련데이터에 레이블이 없음\n",
    "    - 시각화(Visualization) : 레이블이 없는 대규모 고차원 데이터를 넣어 도식화가 가능한 2D나 3D 표현 생성\n",
    "    - 차원 축소(Dimensionality Reduction) : 너무 많은 정보를 잃지 않으면서 데이터 간소화하는 것\n",
    "    - 이상치 탐지(Outlier Detection) : 학습 알고리즘에 주입하기 전 데이터셋에서 이상한 값을 자동으로 제거\n",
    "    - 특이치 탐지(Novelty Detection) : 훈련 세트에 있는 모든 샘플과 달라 보이는 새로운 샘플 탐지\n",
    "    - 연관 규칙 학습(Association Rule Learning) : 대량의 데이터에서 특성 간의 흥미로운 관계를 찾는 것\n",
    "- 준지도 학습(Semi-Supervised Learning)\n",
    "    - 레이블이 일부만 있는 데이터를 다루는 것\n",
    "    - 지도 학습 + 비지도 학습\n",
    "- 자기 지도 학습(Self-Supervised Learning)\n",
    "    - 레이블이 전혀 없는 데이터셋에서 레이블이 완전히 부여된 데이터셋 생성하는 것\n",
    "- 강화 학습(Reinforcement Learning)\n",
    "    - 에이전트(Agent) : 학습하는 시스템\n",
    "    - 환경을 관찰해서 행동을 실행하고 그 결과로 보상을 받음 → 가장 큰 보상을 얻기 위해 정책을 학습하는 것\n",
    "\n",
    "## 2. 배치 학습과 온라인 학습\n",
    "\n",
    "- 입력 데이터의 스트림으로부터 점진적으로 학습할 수 있는지 여부\n",
    "- 배치 학습(Batch Learning)\n",
    "    - 오프라인 학습(Offline Learning)\n",
    "    - 가용한 데이터를 모두 사용해 훈련\n",
    "    - 모델 부패(Model Rot) : 모델의 성능이 시간이 지남에 따라 천천히 감소하는 것, 데이터 드리프트(Data Drift)\n",
    "- 온라인 학습(Online Learning)\n",
    "    - 데이터를 순차적으로 한 개씩 혹은 미니배치라 부르는 작은 묶음 단위로 주입하여 시스템 훈련\n",
    "    - 외부 메모리 학습(Out-of-Core Learning) : 컴퓨터 한 대의 메인 메모리에 들어갈 수 없는 아주 큰 데이터셋에서 모델 훈련 가능, 점진적 학습(Incremental Learning)\n",
    "    - 학습률(Learning Rate) : 변화하는 데이터에 얼마나 빠르게 적응하는가\n",
    "\n",
    "## 3. 사례 기반 학습과 모델 기반 학습\n",
    "\n",
    "- 어떻게 일반화 되는가에 따라 분류\n",
    "- 사례 기반 학습(Instance-based Learning)\n",
    "    - 시스템이 훈련 샘플을 기억함으로써 학습함 → 유사도 측정을 사용해 새로운 데이터와 학습한 샘플 비교\n",
    "- 모델 기반 학습(Model-based Learning)\n",
    "    - 샘플들의 모델을 만들어 예측에 사용하는 것\n",
    "    - 모델 파라미터(Model Parameter) : 선형 함수를 표현\n",
    "    - 효용 함수(Utility Function) : 모델이 얼마나 좋은지 측정하는 함수, 적합도 함수\n",
    "    - 비용 함수(Cost Function) : 모델이 얼마나 나쁜지 측정하는 함수\n",
    "\n",
    "# 4. 머신러닝 주요 도전 과제\n",
    "\n",
    "- 충분하지 않은 양의 훈련 데이터\n",
    "- 대표성 없는 훈련 데이터\n",
    "    - 샘플링 잡음(Sampling Noise) : 샘플이 작을때 생김\n",
    "    - 샘플링 편향(Sampling Bias) : 표본 추출 방법이 잘못되어 대표성을 띄지 못하는 것\n",
    "- 낮은 품질의 데이터\n",
    "- 관련없는 특성 → 특성 공학(Feature Engineering)\n",
    "    - 특성 선택(Feature Selection) : 가지고 있는 특성 중 훈련에 가장 유용한 특성 선택\n",
    "    - 특성 추출(Feature Extraction) : 특성을 결합하여 더 유용한 특성 생성\n",
    "    - 데이터 수집 : 새로운 데이터를 수집해 새 특성 제작\n",
    "- 훈련 데이터 과대적합(Overfitting) : 모델이 훈련데이터에는 너무 잘 맞지만 일반성이 떨어지는 것\n",
    "- 훈련 데이터 과소적합(Underfitting) : 모델이 너무 단순해서 데이터의 내재된 구조를 학습하지 못함\n",
    "\n",
    "# 5. 테스트와 검증\n",
    "\n",
    "- 훈련 세트, 테스트 세트  분류\n",
    "- 일반화 오차(Generalization Error) : 새로운 샘플에 대한 오차 비율, 외부 샘플 오차\n",
    "\n",
    "## 1. 하이퍼파라미터 튜닝과 모델 선택\n",
    "\n",
    "- 테스트 세트 사용 → 모델 평가\n",
    "- 홀드아웃 검증(Holdout Validation) : 훈련 세트의 일부를 떼어내어 여러 후보 모델을 평가하고 가장 좋은 하나를 선택\n",
    "- 검증 세트(Validation Set) : 홀드아웃 세트, 개발 세트, 데브 세트\n",
    "- 교차 검증(Cross-Validation) : 작은 검증 세트를 여러 개를 사용해 반복적인 검증 수행\n",
    "\n",
    "## 2. 데이터 불일치\n",
    "\n",
    "- 검증 세트와 테스트 세트가 실전에서 기대하는 데이터를 가능한 잘 대표해야 함\n",
    "- 훈련-개발 세트 : 훈련 세트에서 일부를 떼어내 또 다른 세트를 만드는 것"
   ],
   "id": "c60e04b8d55396b"
  },
  {
   "cell_type": "code",
   "id": "initial_id",
   "metadata": {
    "collapsed": true,
    "ExecuteTime": {
     "end_time": "2024-06-12T07:24:40.897563Z",
     "start_time": "2024-06-12T07:24:40.893114Z"
    }
   },
   "source": [
    "import sys\n",
    "\n",
    "assert sys.version_info >= (3, 7)"
   ],
   "outputs": [],
   "execution_count": 1
  },
  {
   "metadata": {
    "ExecuteTime": {
     "end_time": "2024-06-12T07:25:00.228847Z",
     "start_time": "2024-06-12T07:24:59.165314Z"
    }
   },
   "cell_type": "code",
   "source": [
    "from packaging import version\n",
    "import sklearn\n",
    "\n",
    "assert version.parse(sklearn.__version__) >= version.parse(\"1.0.1\")"
   ],
   "id": "659139dbc0028ded",
   "outputs": [],
   "execution_count": 2
  },
  {
   "metadata": {
    "ExecuteTime": {
     "end_time": "2024-06-12T07:25:07.298084Z",
     "start_time": "2024-06-12T07:25:06.881483Z"
    }
   },
   "cell_type": "code",
   "source": [
    "import matplotlib.pyplot as plt\n",
    "\n",
    "plt.rc('font', size=12)\n",
    "plt.rc('axes', labelsize=14, titlesize=14)\n",
    "plt.rc('legend', fontsize=12)\n",
    "plt.rc('xtick', labelsize=10)\n",
    "plt.rc('ytick', labelsize=10)"
   ],
   "id": "1b856c2a4e641d28",
   "outputs": [],
   "execution_count": 3
  },
  {
   "metadata": {
    "ExecuteTime": {
     "end_time": "2024-06-12T07:25:12.272181Z",
     "start_time": "2024-06-12T07:25:12.269700Z"
    }
   },
   "cell_type": "code",
   "source": [
    "import numpy as np\n",
    "\n",
    "np.random.seed(42)"
   ],
   "id": "dd397050b9a50243",
   "outputs": [],
   "execution_count": 4
  },
  {
   "metadata": {
    "ExecuteTime": {
     "end_time": "2024-06-12T07:26:13.973657Z",
     "start_time": "2024-06-12T07:26:11.726528Z"
    }
   },
   "cell_type": "code",
   "source": [
    "import matplotlib.pyplot as plt\n",
    "import numpy as np\n",
    "import pandas as pd\n",
    "from sklearn.linear_model import LinearRegression\n",
    "\n",
    "# 데이터 준비\n",
    "data_root = \"https://github.com/ageron/data/raw/main/\"\n",
    "lifesat = pd.read_csv(data_root + \"lifesat/lifesat.csv\")\n",
    "X = lifesat[[\"GDP per capita (USD)\"]].values\n",
    "y = lifesat[[\"Life satisfaction\"]].values\n",
    "\n",
    "# 그래프 표현\n",
    "lifesat.plot(kind='scatter', grid=True, x=\"GDP per capita (USD)\", y=\"Life satisfaction\")\n",
    "plt.axis([23_500, 62_500, 4, 9])\n",
    "plt.show()\n",
    "\n",
    "# 선형 모델\n",
    "model = LinearRegression()\n",
    "model.fit(X, y)\n",
    "\n",
    "# 예측 생성\n",
    "X_new = [[37_655.2]]\n",
    "print(model.predict(X_new))"
   ],
   "id": "203c4ea462c38632",
   "outputs": [
    {
     "data": {
      "text/plain": [
       "<Figure size 640x480 with 1 Axes>"
      ],
      "image/png": "[encoded data removed]"
     },
     "metadata": {},
     "output_type": "display_data"
    },
    {
     "name": "stdout",
     "output_type": "stream",
     "text": [
      "[[6.30165767]]\n"
     ]
    }
   ],
   "execution_count": 5
  },
  {
   "metadata": {
    "ExecuteTime": {
     "end_time": "2024-06-12T07:26:49.759955Z",
     "start_time": "2024-06-12T07:26:49.702095Z"
    }
   },
   "cell_type": "code",
   "source": [
    "from sklearn.neighbors import KNeighborsRegressor\n",
    "\n",
    "model = KNeighborsRegressor(n_neighbors=3)\n",
    "model.fit(X, y)\n",
    "\n",
    "print(model.predict(X_new))"
   ],
   "id": "b0d0455f3eb08626",
   "outputs": [
    {
     "name": "stdout",
     "output_type": "stream",
     "text": [
      "[[6.33333333]]\n"
     ]
    }
   ],
   "execution_count": 6
  }
 ],
 "metadata": {
  "kernelspec": {
   "display_name": "Python 3",
   "language": "python",
   "name": "python3"
  },
  "language_info": {
   "codemirror_mode": {
    "name": "ipython",
    "version": 2
   },
   "file_extension": ".py",
   "mimetype": "text/x-python",
   "name": "python",
   "nbconvert_exporter": "python",
   "pygments_lexer": "ipython2",
   "version": "2.7.6"
  }
 },
 "nbformat": 4,
 "nbformat_minor": 5
}
