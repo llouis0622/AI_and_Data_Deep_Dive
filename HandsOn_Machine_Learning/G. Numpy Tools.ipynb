{
 "cells": [
  {
   "cell_type": "code",
   "id": "initial_id",
   "metadata": {
    "collapsed": true,
    "ExecuteTime": {
     "end_time": "2024-06-30T06:13:02.163223Z",
     "start_time": "2024-06-30T06:13:02.069651Z"
    }
   },
   "source": [
    "import numpy as np\n",
    "\n",
    "np.zeros(5)"
   ],
   "outputs": [
    {
     "data": {
      "text/plain": [
       "array([0., 0., 0., 0., 0.])"
      ]
     },
     "execution_count": 1,
     "metadata": {},
     "output_type": "execute_result"
    }
   ],
   "execution_count": 1
  },
  {
   "metadata": {
    "ExecuteTime": {
     "end_time": "2024-06-30T06:13:04.037245Z",
     "start_time": "2024-06-30T06:13:04.033538Z"
    }
   },
   "cell_type": "code",
   "source": "np.zeros((3, 4))",
   "id": "95c1376ee9407bd5",
   "outputs": [
    {
     "data": {
      "text/plain": [
       "array([[0., 0., 0., 0.],\n",
       "       [0., 0., 0., 0.],\n",
       "       [0., 0., 0., 0.]])"
      ]
     },
     "execution_count": 2,
     "metadata": {},
     "output_type": "execute_result"
    }
   ],
   "execution_count": 2
  },
  {
   "metadata": {
    "ExecuteTime": {
     "end_time": "2024-06-30T06:13:07.694670Z",
     "start_time": "2024-06-30T06:13:07.691468Z"
    }
   },
   "cell_type": "code",
   "source": [
    "a = np.zeros((3, 4))\n",
    "a"
   ],
   "id": "28a2a15c526c38e6",
   "outputs": [
    {
     "data": {
      "text/plain": [
       "array([[0., 0., 0., 0.],\n",
       "       [0., 0., 0., 0.],\n",
       "       [0., 0., 0., 0.]])"
      ]
     },
     "execution_count": 3,
     "metadata": {},
     "output_type": "execute_result"
    }
   ],
   "execution_count": 3
  },
  {
   "metadata": {
    "ExecuteTime": {
     "end_time": "2024-06-30T06:13:10.592297Z",
     "start_time": "2024-06-30T06:13:10.588817Z"
    }
   },
   "cell_type": "code",
   "source": "a.shape",
   "id": "e20ad3de1f548480",
   "outputs": [
    {
     "data": {
      "text/plain": [
       "(3, 4)"
      ]
     },
     "execution_count": 4,
     "metadata": {},
     "output_type": "execute_result"
    }
   ],
   "execution_count": 4
  },
  {
   "metadata": {
    "ExecuteTime": {
     "end_time": "2024-06-30T06:13:14.849019Z",
     "start_time": "2024-06-30T06:13:14.845888Z"
    }
   },
   "cell_type": "code",
   "source": "a.ndim",
   "id": "c4d193c880ab2672",
   "outputs": [
    {
     "data": {
      "text/plain": [
       "2"
      ]
     },
     "execution_count": 5,
     "metadata": {},
     "output_type": "execute_result"
    }
   ],
   "execution_count": 5
  },
  {
   "metadata": {
    "ExecuteTime": {
     "end_time": "2024-06-30T06:13:17.826395Z",
     "start_time": "2024-06-30T06:13:17.823311Z"
    }
   },
   "cell_type": "code",
   "source": "a.size",
   "id": "51b2294a529bd589",
   "outputs": [
    {
     "data": {
      "text/plain": [
       "12"
      ]
     },
     "execution_count": 6,
     "metadata": {},
     "output_type": "execute_result"
    }
   ],
   "execution_count": 6
  },
  {
   "metadata": {
    "ExecuteTime": {
     "end_time": "2024-06-30T06:13:20.290724Z",
     "start_time": "2024-06-30T06:13:20.287170Z"
    }
   },
   "cell_type": "code",
   "source": "np.zeros((2, 3, 4))",
   "id": "f401df749bb742ee",
   "outputs": [
    {
     "data": {
      "text/plain": [
       "array([[[0., 0., 0., 0.],\n",
       "        [0., 0., 0., 0.],\n",
       "        [0., 0., 0., 0.]],\n",
       "\n",
       "       [[0., 0., 0., 0.],\n",
       "        [0., 0., 0., 0.],\n",
       "        [0., 0., 0., 0.]]])"
      ]
     },
     "execution_count": 7,
     "metadata": {},
     "output_type": "execute_result"
    }
   ],
   "execution_count": 7
  },
  {
   "metadata": {
    "ExecuteTime": {
     "end_time": "2024-06-30T06:13:24.853212Z",
     "start_time": "2024-06-30T06:13:24.850272Z"
    }
   },
   "cell_type": "code",
   "source": "type(np.zeros((3, 4)))",
   "id": "c9708ac5e1136fda",
   "outputs": [
    {
     "data": {
      "text/plain": [
       "numpy.ndarray"
      ]
     },
     "execution_count": 8,
     "metadata": {},
     "output_type": "execute_result"
    }
   ],
   "execution_count": 8
  },
  {
   "metadata": {
    "ExecuteTime": {
     "end_time": "2024-06-30T06:13:27.532257Z",
     "start_time": "2024-06-30T06:13:27.528420Z"
    }
   },
   "cell_type": "code",
   "source": "np.ones((3, 4))",
   "id": "d5d353ccf3c36a11",
   "outputs": [
    {
     "data": {
      "text/plain": [
       "array([[1., 1., 1., 1.],\n",
       "       [1., 1., 1., 1.],\n",
       "       [1., 1., 1., 1.]])"
      ]
     },
     "execution_count": 9,
     "metadata": {},
     "output_type": "execute_result"
    }
   ],
   "execution_count": 9
  },
  {
   "metadata": {
    "ExecuteTime": {
     "end_time": "2024-06-30T06:13:37.681300Z",
     "start_time": "2024-06-30T06:13:37.678513Z"
    }
   },
   "cell_type": "code",
   "source": "np.full((3, 4), np.pi)",
   "id": "7dcaeeda9b220a27",
   "outputs": [
    {
     "data": {
      "text/plain": [
       "array([[3.14159265, 3.14159265, 3.14159265, 3.14159265],\n",
       "       [3.14159265, 3.14159265, 3.14159265, 3.14159265],\n",
       "       [3.14159265, 3.14159265, 3.14159265, 3.14159265]])"
      ]
     },
     "execution_count": 10,
     "metadata": {},
     "output_type": "execute_result"
    }
   ],
   "execution_count": 10
  },
  {
   "metadata": {
    "ExecuteTime": {
     "end_time": "2024-06-30T06:13:50.656684Z",
     "start_time": "2024-06-30T06:13:50.653621Z"
    }
   },
   "cell_type": "code",
   "source": "np.empty((2, 3))",
   "id": "4a70b5d97e0af7c1",
   "outputs": [
    {
     "data": {
      "text/plain": [
       "array([[0., 0., 0.],\n",
       "       [0., 0., 0.]])"
      ]
     },
     "execution_count": 11,
     "metadata": {},
     "output_type": "execute_result"
    }
   ],
   "execution_count": 11
  },
  {
   "metadata": {
    "ExecuteTime": {
     "end_time": "2024-06-30T06:13:54.385858Z",
     "start_time": "2024-06-30T06:13:54.381416Z"
    }
   },
   "cell_type": "code",
   "source": "np.array([[1, 2, 3, 4], [10, 20, 30, 40]])",
   "id": "ac824285ccc4abfa",
   "outputs": [
    {
     "data": {
      "text/plain": [
       "array([[ 1,  2,  3,  4],\n",
       "       [10, 20, 30, 40]])"
      ]
     },
     "execution_count": 12,
     "metadata": {},
     "output_type": "execute_result"
    }
   ],
   "execution_count": 12
  },
  {
   "metadata": {
    "ExecuteTime": {
     "end_time": "2024-06-30T06:14:00.969518Z",
     "start_time": "2024-06-30T06:14:00.966119Z"
    }
   },
   "cell_type": "code",
   "source": "np.arange(1, 5)",
   "id": "e583b43f82523265",
   "outputs": [
    {
     "data": {
      "text/plain": [
       "array([1, 2, 3, 4])"
      ]
     },
     "execution_count": 13,
     "metadata": {},
     "output_type": "execute_result"
    }
   ],
   "execution_count": 13
  },
  {
   "metadata": {
    "ExecuteTime": {
     "end_time": "2024-06-30T06:14:05.313137Z",
     "start_time": "2024-06-30T06:14:05.309871Z"
    }
   },
   "cell_type": "code",
   "source": "np.arange(1.0, 5.0)",
   "id": "2277dadadcd09d14",
   "outputs": [
    {
     "data": {
      "text/plain": [
       "array([1., 2., 3., 4.])"
      ]
     },
     "execution_count": 14,
     "metadata": {},
     "output_type": "execute_result"
    }
   ],
   "execution_count": 14
  },
  {
   "metadata": {
    "ExecuteTime": {
     "end_time": "2024-06-30T06:14:08.465647Z",
     "start_time": "2024-06-30T06:14:08.461928Z"
    }
   },
   "cell_type": "code",
   "source": "np.arange(1, 5, 0.5)",
   "id": "63c704ed45fdea9d",
   "outputs": [
    {
     "data": {
      "text/plain": [
       "array([1. , 1.5, 2. , 2.5, 3. , 3.5, 4. , 4.5])"
      ]
     },
     "execution_count": 15,
     "metadata": {},
     "output_type": "execute_result"
    }
   ],
   "execution_count": 15
  },
  {
   "metadata": {
    "ExecuteTime": {
     "end_time": "2024-06-30T06:14:44.177848Z",
     "start_time": "2024-06-30T06:14:44.172139Z"
    }
   },
   "cell_type": "code",
   "source": [
    "print(np.arange(0, 5 / 3, 1 / 3))\n",
    "print(np.arange(0, 5 / 3, 0.333333333))\n",
    "print(np.arange(0, 5 / 3, 0.333333334))"
   ],
   "id": "20518b4cd95ca6f0",
   "outputs": [
    {
     "name": "stdout",
     "output_type": "stream",
     "text": [
      "[0.         0.33333333 0.66666667 1.         1.33333333 1.66666667]\n",
      "[0.         0.33333333 0.66666667 1.         1.33333333 1.66666667]\n",
      "[0.         0.33333333 0.66666667 1.         1.33333334]\n"
     ]
    }
   ],
   "execution_count": 16
  },
  {
   "metadata": {
    "ExecuteTime": {
     "end_time": "2024-06-30T06:14:50.051593Z",
     "start_time": "2024-06-30T06:14:50.049066Z"
    }
   },
   "cell_type": "code",
   "source": "print(np.linspace(0, 5 / 3, 6))",
   "id": "59ed31c62ae1127b",
   "outputs": [
    {
     "name": "stdout",
     "output_type": "stream",
     "text": [
      "[0.         0.33333333 0.66666667 1.         1.33333333 1.66666667]\n"
     ]
    }
   ],
   "execution_count": 17
  },
  {
   "metadata": {
    "ExecuteTime": {
     "end_time": "2024-06-30T06:14:53.354975Z",
     "start_time": "2024-06-30T06:14:53.350510Z"
    }
   },
   "cell_type": "code",
   "source": "np.random.rand(3, 4)",
   "id": "ee08c5c0a723504",
   "outputs": [
    {
     "data": {
      "text/plain": [
       "array([[0.61891544, 0.04506366, 0.93249542, 0.28779011],\n",
       "       [0.3272715 , 0.0274504 , 0.12055459, 0.81278653],\n",
       "       [0.96404537, 0.83134679, 0.53448828, 0.69196402]])"
      ]
     },
     "execution_count": 18,
     "metadata": {},
     "output_type": "execute_result"
    }
   ],
   "execution_count": 18
  },
  {
   "metadata": {
    "ExecuteTime": {
     "end_time": "2024-06-30T06:14:55.932299Z",
     "start_time": "2024-06-30T06:14:55.928170Z"
    }
   },
   "cell_type": "code",
   "source": "np.random.randn(3, 4)",
   "id": "1451b012fcf8e125",
   "outputs": [
    {
     "data": {
      "text/plain": [
       "array([[ 1.09873866,  0.87603516,  0.10284885,  0.91631668],\n",
       "       [-0.00508256,  0.72142638,  1.04002041,  0.09823533],\n",
       "       [ 0.70021005,  1.10723689, -0.96043965, -0.12864301]])"
      ]
     },
     "execution_count": 19,
     "metadata": {},
     "output_type": "execute_result"
    }
   ],
   "execution_count": 19
  },
  {
   "metadata": {
    "ExecuteTime": {
     "end_time": "2024-06-30T06:15:15.485027Z",
     "start_time": "2024-06-30T06:15:14.543207Z"
    }
   },
   "cell_type": "code",
   "source": [
    "import matplotlib.pyplot as plt\n",
    "from matplotlib import rc\n",
    "import seaborn as sns\n",
    "%matplotlib inline\n",
    "\n",
    "rc('font', family='AppleGothic')\n",
    "plt.rcParams['axes.unicode_minus'] = False"
   ],
   "id": "16865f55e3247d5f",
   "outputs": [],
   "execution_count": 20
  },
  {
   "metadata": {
    "ExecuteTime": {
     "end_time": "2024-06-30T06:15:25.139816Z",
     "start_time": "2024-06-30T06:15:24.985961Z"
    }
   },
   "cell_type": "code",
   "source": [
    "plt.hist(np.random.rand(100000), density=True, bins=100, histtype=\"step\", color=\"blue\", label=\"rand\")\n",
    "plt.hist(np.random.randn(100000), density=True, bins=100, histtype=\"step\", color=\"red\", label=\"randn\")\n",
    "plt.axis([-2.5, 2.5, 0, 1.1])\n",
    "plt.legend(loc=\"upper left\")\n",
    "plt.title(\"랜덤 분포\")\n",
    "plt.xlabel(\"값\")\n",
    "plt.ylabel(\"밀도\")\n",
    "plt.show()"
   ],
   "id": "f715aae70e0914fc",
   "outputs": [
    {
     "data": {
      "text/plain": [
       "<Figure size 640x480 with 1 Axes>"
      ],
      "image/png": "[encoded data removed]"
     },
     "metadata": {},
     "output_type": "display_data"
    }
   ],
   "execution_count": 21
  },
  {
   "metadata": {
    "ExecuteTime": {
     "end_time": "2024-06-30T06:15:33.798664Z",
     "start_time": "2024-06-30T06:15:33.794997Z"
    }
   },
   "cell_type": "code",
   "source": [
    "def my_function(z, y, x):\n",
    "    return x + 10 * y + 100 * z\n",
    "\n",
    "\n",
    "np.fromfunction(my_function, (3, 2, 10))"
   ],
   "id": "cbc90e2e5d284725",
   "outputs": [
    {
     "data": {
      "text/plain": [
       "array([[[  0.,   1.,   2.,   3.,   4.,   5.,   6.,   7.,   8.,   9.],\n",
       "        [ 10.,  11.,  12.,  13.,  14.,  15.,  16.,  17.,  18.,  19.]],\n",
       "\n",
       "       [[100., 101., 102., 103., 104., 105., 106., 107., 108., 109.],\n",
       "        [110., 111., 112., 113., 114., 115., 116., 117., 118., 119.]],\n",
       "\n",
       "       [[200., 201., 202., 203., 204., 205., 206., 207., 208., 209.],\n",
       "        [210., 211., 212., 213., 214., 215., 216., 217., 218., 219.]]])"
      ]
     },
     "execution_count": 22,
     "metadata": {},
     "output_type": "execute_result"
    }
   ],
   "execution_count": 22
  },
  {
   "metadata": {
    "ExecuteTime": {
     "end_time": "2024-06-30T06:15:37.229885Z",
     "start_time": "2024-06-30T06:15:37.227041Z"
    }
   },
   "cell_type": "code",
   "source": [
    "c = np.arange(1, 5)\n",
    "print(c.dtype, c)"
   ],
   "id": "a02c76ef2e4f4fb9",
   "outputs": [
    {
     "name": "stdout",
     "output_type": "stream",
     "text": [
      "int64 [1 2 3 4]\n"
     ]
    }
   ],
   "execution_count": 23
  },
  {
   "metadata": {
    "ExecuteTime": {
     "end_time": "2024-06-30T06:15:39.810960Z",
     "start_time": "2024-06-30T06:15:39.808220Z"
    }
   },
   "cell_type": "code",
   "source": [
    "c = np.arange(1.0, 5.0)\n",
    "print(c.dtype, c)"
   ],
   "id": "a0a80df25b507a0d",
   "outputs": [
    {
     "name": "stdout",
     "output_type": "stream",
     "text": [
      "float64 [1. 2. 3. 4.]\n"
     ]
    }
   ],
   "execution_count": 24
  },
  {
   "metadata": {
    "ExecuteTime": {
     "end_time": "2024-06-30T06:15:42.351281Z",
     "start_time": "2024-06-30T06:15:42.348643Z"
    }
   },
   "cell_type": "code",
   "source": [
    "d = np.arange(1, 5, dtype=np.complex64)\n",
    "print(d.dtype, d)"
   ],
   "id": "21a5f89c457a2379",
   "outputs": [
    {
     "name": "stdout",
     "output_type": "stream",
     "text": [
      "complex64 [1.+0.j 2.+0.j 3.+0.j 4.+0.j]\n"
     ]
    }
   ],
   "execution_count": 25
  },
  {
   "metadata": {
    "ExecuteTime": {
     "end_time": "2024-06-30T06:15:46.980756Z",
     "start_time": "2024-06-30T06:15:46.977828Z"
    }
   },
   "cell_type": "code",
   "source": [
    "e = np.arange(1, 5, dtype=np.complex64)\n",
    "e.itemsize"
   ],
   "id": "22efee1ed5074200",
   "outputs": [
    {
     "data": {
      "text/plain": [
       "8"
      ]
     },
     "execution_count": 26,
     "metadata": {},
     "output_type": "execute_result"
    }
   ],
   "execution_count": 26
  },
  {
   "metadata": {
    "ExecuteTime": {
     "end_time": "2024-06-30T06:15:49.312244Z",
     "start_time": "2024-06-30T06:15:49.308910Z"
    }
   },
   "cell_type": "code",
   "source": [
    "f = np.array([[1, 2], [1000, 2000]], dtype=np.int32)\n",
    "f.data"
   ],
   "id": "87a21acde5901e58",
   "outputs": [
    {
     "data": {
      "text/plain": [
       "<memory at 0x143c69970>"
      ]
     },
     "execution_count": 27,
     "metadata": {},
     "output_type": "execute_result"
    }
   ],
   "execution_count": 27
  },
  {
   "metadata": {
    "ExecuteTime": {
     "end_time": "2024-06-30T06:15:59.196480Z",
     "start_time": "2024-06-30T06:15:59.193193Z"
    }
   },
   "cell_type": "code",
   "source": [
    "if (hasattr(f.data, \"tobytes\")):\n",
    "    data_bytes = f.data.tobytes()\n",
    "else:\n",
    "    data_bytes = memoryview(f.data).tobytes()\n",
    "\n",
    "data_bytes"
   ],
   "id": "529020a7c738d2e4",
   "outputs": [
    {
     "data": {
      "text/plain": [
       "b'\\x01\\x00\\x00\\x00\\x02\\x00\\x00\\x00\\xe8\\x03\\x00\\x00\\xd0\\x07\\x00\\x00'"
      ]
     },
     "execution_count": 28,
     "metadata": {},
     "output_type": "execute_result"
    }
   ],
   "execution_count": 28
  },
  {
   "metadata": {
    "ExecuteTime": {
     "end_time": "2024-06-30T06:16:03.804283Z",
     "start_time": "2024-06-30T06:16:03.801628Z"
    }
   },
   "cell_type": "code",
   "source": [
    "g = np.arange(24)\n",
    "print(g)\n",
    "print(\"랭크:\", g.ndim)"
   ],
   "id": "cff05d5bf321a51f",
   "outputs": [
    {
     "name": "stdout",
     "output_type": "stream",
     "text": [
      "[ 0  1  2  3  4  5  6  7  8  9 10 11 12 13 14 15 16 17 18 19 20 21 22 23]\n",
      "랭크: 1\n"
     ]
    }
   ],
   "execution_count": 29
  },
  {
   "metadata": {
    "ExecuteTime": {
     "end_time": "2024-06-30T06:16:08.147836Z",
     "start_time": "2024-06-30T06:16:08.145148Z"
    }
   },
   "cell_type": "code",
   "source": [
    "g.shape = (6, 4)\n",
    "print(g)\n",
    "print(\"랭크:\", g.ndim)"
   ],
   "id": "8c1ed89789ab5c97",
   "outputs": [
    {
     "name": "stdout",
     "output_type": "stream",
     "text": [
      "[[ 0  1  2  3]\n",
      " [ 4  5  6  7]\n",
      " [ 8  9 10 11]\n",
      " [12 13 14 15]\n",
      " [16 17 18 19]\n",
      " [20 21 22 23]]\n",
      "랭크: 2\n"
     ]
    }
   ],
   "execution_count": 30
  },
  {
   "metadata": {
    "ExecuteTime": {
     "end_time": "2024-06-30T06:16:17.290912Z",
     "start_time": "2024-06-30T06:16:17.288338Z"
    }
   },
   "cell_type": "code",
   "source": [
    "g.shape = (2, 3, 4)\n",
    "print(g)\n",
    "print(\"랭크:\", g.ndim)"
   ],
   "id": "679657225bb4455a",
   "outputs": [
    {
     "name": "stdout",
     "output_type": "stream",
     "text": [
      "[[[ 0  1  2  3]\n",
      "  [ 4  5  6  7]\n",
      "  [ 8  9 10 11]]\n",
      "\n",
      " [[12 13 14 15]\n",
      "  [16 17 18 19]\n",
      "  [20 21 22 23]]]\n",
      "랭크: 3\n"
     ]
    }
   ],
   "execution_count": 31
  },
  {
   "metadata": {
    "ExecuteTime": {
     "end_time": "2024-06-30T06:16:21.370024Z",
     "start_time": "2024-06-30T06:16:21.367746Z"
    }
   },
   "cell_type": "code",
   "source": [
    "g2 = g.reshape(4, 6)\n",
    "print(g2)\n",
    "print(\"랭크:\", g2.ndim)"
   ],
   "id": "608f2a0fc8204f74",
   "outputs": [
    {
     "name": "stdout",
     "output_type": "stream",
     "text": [
      "[[ 0  1  2  3  4  5]\n",
      " [ 6  7  8  9 10 11]\n",
      " [12 13 14 15 16 17]\n",
      " [18 19 20 21 22 23]]\n",
      "랭크: 2\n"
     ]
    }
   ],
   "execution_count": 32
  },
  {
   "metadata": {
    "ExecuteTime": {
     "end_time": "2024-06-30T06:16:24.235509Z",
     "start_time": "2024-06-30T06:16:24.232218Z"
    }
   },
   "cell_type": "code",
   "source": [
    "g2[1, 2] = 999\n",
    "g2"
   ],
   "id": "ca8811e07cf2f70c",
   "outputs": [
    {
     "data": {
      "text/plain": [
       "array([[  0,   1,   2,   3,   4,   5],\n",
       "       [  6,   7, 999,   9,  10,  11],\n",
       "       [ 12,  13,  14,  15,  16,  17],\n",
       "       [ 18,  19,  20,  21,  22,  23]])"
      ]
     },
     "execution_count": 33,
     "metadata": {},
     "output_type": "execute_result"
    }
   ],
   "execution_count": 33
  },
  {
   "metadata": {
    "ExecuteTime": {
     "end_time": "2024-06-30T06:16:33.089581Z",
     "start_time": "2024-06-30T06:16:33.086995Z"
    }
   },
   "cell_type": "code",
   "source": "g",
   "id": "f17cda5f4bee53fd",
   "outputs": [
    {
     "data": {
      "text/plain": [
       "array([[[  0,   1,   2,   3],\n",
       "        [  4,   5,   6,   7],\n",
       "        [999,   9,  10,  11]],\n",
       "\n",
       "       [[ 12,  13,  14,  15],\n",
       "        [ 16,  17,  18,  19],\n",
       "        [ 20,  21,  22,  23]]])"
      ]
     },
     "execution_count": 34,
     "metadata": {},
     "output_type": "execute_result"
    }
   ],
   "execution_count": 34
  },
  {
   "metadata": {
    "ExecuteTime": {
     "end_time": "2024-06-30T06:16:39.633162Z",
     "start_time": "2024-06-30T06:16:39.630459Z"
    }
   },
   "cell_type": "code",
   "source": "g.ravel()",
   "id": "9ccba3cbf5991ff6",
   "outputs": [
    {
     "data": {
      "text/plain": [
       "array([  0,   1,   2,   3,   4,   5,   6,   7, 999,   9,  10,  11,  12,\n",
       "        13,  14,  15,  16,  17,  18,  19,  20,  21,  22,  23])"
      ]
     },
     "execution_count": 35,
     "metadata": {},
     "output_type": "execute_result"
    }
   ],
   "execution_count": 35
  },
  {
   "metadata": {
    "ExecuteTime": {
     "end_time": "2024-06-30T06:16:43.564733Z",
     "start_time": "2024-06-30T06:16:43.561229Z"
    }
   },
   "cell_type": "code",
   "source": [
    "a = np.array([14, 23, 32, 41])\n",
    "b = np.array([5, 4, 3, 2])\n",
    "print(\"a + b  =\", a + b)\n",
    "print(\"a - b  =\", a - b)\n",
    "print(\"a * b  =\", a * b)\n",
    "print(\"a / b  =\", a / b)\n",
    "print(\"a // b  =\", a // b)\n",
    "print(\"a % b  =\", a % b)\n",
    "print(\"a ** b =\", a ** b)"
   ],
   "id": "afc2c46d407cf181",
   "outputs": [
    {
     "name": "stdout",
     "output_type": "stream",
     "text": [
      "a + b  = [19 27 35 43]\n",
      "a - b  = [ 9 19 29 39]\n",
      "a * b  = [70 92 96 82]\n",
      "a / b  = [ 2.8         5.75       10.66666667 20.5       ]\n",
      "a // b  = [ 2  5 10 20]\n",
      "a % b  = [4 3 2 1]\n",
      "a ** b = [537824 279841  32768   1681]\n"
     ]
    }
   ],
   "execution_count": 36
  },
  {
   "metadata": {
    "ExecuteTime": {
     "end_time": "2024-06-30T06:16:50.287023Z",
     "start_time": "2024-06-30T06:16:50.284205Z"
    }
   },
   "cell_type": "code",
   "source": [
    "h = np.arange(5).reshape(1, 1, 5)\n",
    "h"
   ],
   "id": "a4a393892abe0371",
   "outputs": [
    {
     "data": {
      "text/plain": [
       "array([[[0, 1, 2, 3, 4]]])"
      ]
     },
     "execution_count": 37,
     "metadata": {},
     "output_type": "execute_result"
    }
   ],
   "execution_count": 37
  },
  {
   "metadata": {
    "ExecuteTime": {
     "end_time": "2024-06-30T06:16:57.097369Z",
     "start_time": "2024-06-30T06:16:57.093933Z"
    }
   },
   "cell_type": "code",
   "source": "h + [10, 20, 30, 40, 50]",
   "id": "7e5acbfb75f89a30",
   "outputs": [
    {
     "data": {
      "text/plain": [
       "array([[[10, 21, 32, 43, 54]]])"
      ]
     },
     "execution_count": 38,
     "metadata": {},
     "output_type": "execute_result"
    }
   ],
   "execution_count": 38
  },
  {
   "metadata": {
    "ExecuteTime": {
     "end_time": "2024-06-30T06:17:00.692694Z",
     "start_time": "2024-06-30T06:17:00.689467Z"
    }
   },
   "cell_type": "code",
   "source": [
    "k = np.arange(6).reshape(2, 3)\n",
    "k"
   ],
   "id": "6f280a2b796077ed",
   "outputs": [
    {
     "data": {
      "text/plain": [
       "array([[0, 1, 2],\n",
       "       [3, 4, 5]])"
      ]
     },
     "execution_count": 39,
     "metadata": {},
     "output_type": "execute_result"
    }
   ],
   "execution_count": 39
  },
  {
   "metadata": {
    "ExecuteTime": {
     "end_time": "2024-06-30T06:17:05.870882Z",
     "start_time": "2024-06-30T06:17:05.867634Z"
    }
   },
   "cell_type": "code",
   "source": "k + [[100], [200]]",
   "id": "3b6dca518ddf2843",
   "outputs": [
    {
     "data": {
      "text/plain": [
       "array([[100, 101, 102],\n",
       "       [203, 204, 205]])"
      ]
     },
     "execution_count": 40,
     "metadata": {},
     "output_type": "execute_result"
    }
   ],
   "execution_count": 40
  },
  {
   "metadata": {
    "ExecuteTime": {
     "end_time": "2024-06-30T06:17:17.036104Z",
     "start_time": "2024-06-30T06:17:17.032932Z"
    }
   },
   "cell_type": "code",
   "source": "k + [100, 200, 300]",
   "id": "ac39feddf1548a2",
   "outputs": [
    {
     "data": {
      "text/plain": [
       "array([[100, 201, 302],\n",
       "       [103, 204, 305]])"
      ]
     },
     "execution_count": 41,
     "metadata": {},
     "output_type": "execute_result"
    }
   ],
   "execution_count": 41
  },
  {
   "metadata": {
    "ExecuteTime": {
     "end_time": "2024-06-30T06:17:31.510644Z",
     "start_time": "2024-06-30T06:17:31.508161Z"
    }
   },
   "cell_type": "code",
   "source": "k + 1000",
   "id": "a5f58f2e47c77cc0",
   "outputs": [
    {
     "data": {
      "text/plain": [
       "array([[1000, 1001, 1002],\n",
       "       [1003, 1004, 1005]])"
      ]
     },
     "execution_count": 42,
     "metadata": {},
     "output_type": "execute_result"
    }
   ],
   "execution_count": 42
  },
  {
   "metadata": {
    "ExecuteTime": {
     "end_time": "2024-06-30T06:17:40.136052Z",
     "start_time": "2024-06-30T06:17:40.133899Z"
    }
   },
   "cell_type": "code",
   "source": [
    "try:\n",
    "    k + [33, 44]\n",
    "except ValueError as e:\n",
    "    print(e)"
   ],
   "id": "4f953fd08694a90a",
   "outputs": [
    {
     "name": "stdout",
     "output_type": "stream",
     "text": [
      "operands could not be broadcast together with shapes (2,3) (2,) \n"
     ]
    }
   ],
   "execution_count": 43
  },
  {
   "metadata": {
    "ExecuteTime": {
     "end_time": "2024-06-30T06:17:59.251663Z",
     "start_time": "2024-06-30T06:17:59.249202Z"
    }
   },
   "cell_type": "code",
   "source": [
    "k1 = np.arange(0, 5, dtype=np.uint8)\n",
    "print(k1.dtype, k1)"
   ],
   "id": "6ac9bbf830306dce",
   "outputs": [
    {
     "name": "stdout",
     "output_type": "stream",
     "text": [
      "uint8 [0 1 2 3 4]\n"
     ]
    }
   ],
   "execution_count": 44
  },
  {
   "metadata": {
    "ExecuteTime": {
     "end_time": "2024-06-30T06:18:05.896264Z",
     "start_time": "2024-06-30T06:18:05.892909Z"
    }
   },
   "cell_type": "code",
   "source": [
    "k2 = k1 + np.array([5, 6, 7, 8, 9], dtype=np.int8)\n",
    "print(k2.dtype, k2)"
   ],
   "id": "a236d496a236eaff",
   "outputs": [
    {
     "name": "stdout",
     "output_type": "stream",
     "text": [
      "int16 [ 5  7  9 11 13]\n"
     ]
    }
   ],
   "execution_count": 45
  },
  {
   "metadata": {
    "ExecuteTime": {
     "end_time": "2024-06-30T06:18:08.809375Z",
     "start_time": "2024-06-30T06:18:08.806881Z"
    }
   },
   "cell_type": "code",
   "source": [
    "k3 = k1 + 1.5\n",
    "print(k3.dtype, k3)"
   ],
   "id": "83ca6283907a73b0",
   "outputs": [
    {
     "name": "stdout",
     "output_type": "stream",
     "text": [
      "float64 [1.5 2.5 3.5 4.5 5.5]\n"
     ]
    }
   ],
   "execution_count": 46
  },
  {
   "metadata": {
    "ExecuteTime": {
     "end_time": "2024-06-30T06:18:11.468377Z",
     "start_time": "2024-06-30T06:18:11.465095Z"
    }
   },
   "cell_type": "code",
   "source": [
    "m = np.array([20, -5, 30, 40])\n",
    "m < [15, 16, 35, 36]"
   ],
   "id": "53cb2937f2dc9fa7",
   "outputs": [
    {
     "data": {
      "text/plain": [
       "array([False,  True,  True, False])"
      ]
     },
     "execution_count": 47,
     "metadata": {},
     "output_type": "execute_result"
    }
   ],
   "execution_count": 47
  },
  {
   "metadata": {
    "ExecuteTime": {
     "end_time": "2024-06-30T06:18:20.365540Z",
     "start_time": "2024-06-30T06:18:20.362290Z"
    }
   },
   "cell_type": "code",
   "source": "m < 25",
   "id": "a8277c6cdbc03076",
   "outputs": [
    {
     "data": {
      "text/plain": [
       "array([ True,  True, False, False])"
      ]
     },
     "execution_count": 48,
     "metadata": {},
     "output_type": "execute_result"
    }
   ],
   "execution_count": 48
  },
  {
   "metadata": {
    "ExecuteTime": {
     "end_time": "2024-06-30T06:18:23.459160Z",
     "start_time": "2024-06-30T06:18:23.456139Z"
    }
   },
   "cell_type": "code",
   "source": "m[m < 25]",
   "id": "6f5edf9cb7514a14",
   "outputs": [
    {
     "data": {
      "text/plain": [
       "array([20, -5])"
      ]
     },
     "execution_count": 49,
     "metadata": {},
     "output_type": "execute_result"
    }
   ],
   "execution_count": 49
  },
  {
   "metadata": {
    "ExecuteTime": {
     "end_time": "2024-06-30T06:18:26.678047Z",
     "start_time": "2024-06-30T06:18:26.675382Z"
    }
   },
   "cell_type": "code",
   "source": [
    "a = np.array([[-2.5, 3.1, 7], [10, 11, 12]])\n",
    "print(a)\n",
    "print(\"평균 =\", a.mean())"
   ],
   "id": "b5a0009bc992d4a7",
   "outputs": [
    {
     "name": "stdout",
     "output_type": "stream",
     "text": [
      "[[-2.5  3.1  7. ]\n",
      " [10.  11.  12. ]]\n",
      "평균 = 6.766666666666667\n"
     ]
    }
   ],
   "execution_count": 50
  },
  {
   "metadata": {
    "ExecuteTime": {
     "end_time": "2024-06-30T06:18:53.047487Z",
     "start_time": "2024-06-30T06:18:53.044756Z"
    }
   },
   "cell_type": "code",
   "source": [
    "for func in (a.min, a.max, a.sum, a.prod, a.std, a.var):\n",
    "    print(func.__name__, \"=\", func())"
   ],
   "id": "8b5d3184c972001d",
   "outputs": [
    {
     "name": "stdout",
     "output_type": "stream",
     "text": [
      "min = -2.5\n",
      "max = 12.0\n",
      "sum = 40.6\n",
      "prod = -71610.0\n",
      "std = 5.084835843520964\n",
      "var = 25.855555555555554\n"
     ]
    }
   ],
   "execution_count": 51
  },
  {
   "metadata": {
    "ExecuteTime": {
     "end_time": "2024-06-30T06:18:58.276251Z",
     "start_time": "2024-06-30T06:18:58.273475Z"
    }
   },
   "cell_type": "code",
   "source": [
    "c = np.arange(24).reshape(2, 3, 4)\n",
    "c"
   ],
   "id": "21a5e02c8a7ed26c",
   "outputs": [
    {
     "data": {
      "text/plain": [
       "array([[[ 0,  1,  2,  3],\n",
       "        [ 4,  5,  6,  7],\n",
       "        [ 8,  9, 10, 11]],\n",
       "\n",
       "       [[12, 13, 14, 15],\n",
       "        [16, 17, 18, 19],\n",
       "        [20, 21, 22, 23]]])"
      ]
     },
     "execution_count": 52,
     "metadata": {},
     "output_type": "execute_result"
    }
   ],
   "execution_count": 52
  },
  {
   "metadata": {
    "ExecuteTime": {
     "end_time": "2024-06-30T06:19:07.602728Z",
     "start_time": "2024-06-30T06:19:07.599505Z"
    }
   },
   "cell_type": "code",
   "source": "c.sum(axis=0)",
   "id": "8f9f5275eb4f45ae",
   "outputs": [
    {
     "data": {
      "text/plain": [
       "array([[12, 14, 16, 18],\n",
       "       [20, 22, 24, 26],\n",
       "       [28, 30, 32, 34]])"
      ]
     },
     "execution_count": 53,
     "metadata": {},
     "output_type": "execute_result"
    }
   ],
   "execution_count": 53
  },
  {
   "metadata": {
    "ExecuteTime": {
     "end_time": "2024-06-30T06:19:14.079798Z",
     "start_time": "2024-06-30T06:19:14.076390Z"
    }
   },
   "cell_type": "code",
   "source": "c.sum(axis=1)",
   "id": "5d1e5f5dab0272cc",
   "outputs": [
    {
     "data": {
      "text/plain": [
       "array([[12, 15, 18, 21],\n",
       "       [48, 51, 54, 57]])"
      ]
     },
     "execution_count": 54,
     "metadata": {},
     "output_type": "execute_result"
    }
   ],
   "execution_count": 54
  },
  {
   "metadata": {
    "ExecuteTime": {
     "end_time": "2024-06-30T06:19:21.385495Z",
     "start_time": "2024-06-30T06:19:21.382377Z"
    }
   },
   "cell_type": "code",
   "source": "c.sum(axis=(0, 2))",
   "id": "62c0d63938d652f3",
   "outputs": [
    {
     "data": {
      "text/plain": [
       "array([ 60,  92, 124])"
      ]
     },
     "execution_count": 55,
     "metadata": {},
     "output_type": "execute_result"
    }
   ],
   "execution_count": 55
  },
  {
   "metadata": {
    "ExecuteTime": {
     "end_time": "2024-06-30T06:19:25.185377Z",
     "start_time": "2024-06-30T06:19:25.182246Z"
    }
   },
   "cell_type": "code",
   "source": "0 + 1 + 2 + 3 + 12 + 13 + 14 + 15, 4 + 5 + 6 + 7 + 16 + 17 + 18 + 19, 8 + 9 + 10 + 11 + 20 + 21 + 22 + 23",
   "id": "286fb218d1442782",
   "outputs": [
    {
     "data": {
      "text/plain": [
       "(60, 92, 124)"
      ]
     },
     "execution_count": 56,
     "metadata": {},
     "output_type": "execute_result"
    }
   ],
   "execution_count": 56
  },
  {
   "metadata": {
    "ExecuteTime": {
     "end_time": "2024-06-30T06:19:29.701479Z",
     "start_time": "2024-06-30T06:19:29.698478Z"
    }
   },
   "cell_type": "code",
   "source": [
    "a = np.array([[-2.5, 3.1, 7], [10, 11, 12]])\n",
    "np.square(a)"
   ],
   "id": "e2cafa2696feb35c",
   "outputs": [
    {
     "data": {
      "text/plain": [
       "array([[  6.25,   9.61,  49.  ],\n",
       "       [100.  , 121.  , 144.  ]])"
      ]
     },
     "execution_count": 57,
     "metadata": {},
     "output_type": "execute_result"
    }
   ],
   "execution_count": 57
  },
  {
   "metadata": {
    "ExecuteTime": {
     "end_time": "2024-06-30T06:19:33.989303Z",
     "start_time": "2024-06-30T06:19:33.985831Z"
    }
   },
   "cell_type": "code",
   "source": [
    "print(\"원본 ndarray\")\n",
    "print(a)\n",
    "for func in (np.abs, np.sqrt, np.exp, np.log, np.sign, np.ceil, np.modf, np.isnan, np.cos):\n",
    "    print(\"\\n\", func.__name__)\n",
    "    print(func(a))"
   ],
   "id": "a4f5de62462c220",
   "outputs": [
    {
     "name": "stdout",
     "output_type": "stream",
     "text": [
      "원본 ndarray\n",
      "[[-2.5  3.1  7. ]\n",
      " [10.  11.  12. ]]\n",
      "\n",
      " absolute\n",
      "[[ 2.5  3.1  7. ]\n",
      " [10.  11.  12. ]]\n",
      "\n",
      " sqrt\n",
      "[[       nan 1.76068169 2.64575131]\n",
      " [3.16227766 3.31662479 3.46410162]]\n",
      "\n",
      " exp\n",
      "[[8.20849986e-02 2.21979513e+01 1.09663316e+03]\n",
      " [2.20264658e+04 5.98741417e+04 1.62754791e+05]]\n",
      "\n",
      " log\n",
      "[[       nan 1.13140211 1.94591015]\n",
      " [2.30258509 2.39789527 2.48490665]]\n",
      "\n",
      " sign\n",
      "[[-1.  1.  1.]\n",
      " [ 1.  1.  1.]]\n",
      "\n",
      " ceil\n",
      "[[-2.  4.  7.]\n",
      " [10. 11. 12.]]\n",
      "\n",
      " modf\n",
      "(array([[-0.5,  0.1,  0. ],\n",
      "       [ 0. ,  0. ,  0. ]]), array([[-2.,  3.,  7.],\n",
      "       [10., 11., 12.]]))\n",
      "\n",
      " isnan\n",
      "[[False False False]\n",
      " [False False False]]\n",
      "\n",
      " cos\n",
      "[[-0.80114362 -0.99913515  0.75390225]\n",
      " [-0.83907153  0.0044257   0.84385396]]\n"
     ]
    },
    {
     "name": "stderr",
     "output_type": "stream",
     "text": [
      "/var/folders/3g/9z2y6vy916ncn7tzc7rkg8140000gn/T/ipykernel_37950/2129524604.py:5: RuntimeWarning: invalid value encountered in sqrt\n",
      "  print(func(a))\n",
      "/var/folders/3g/9z2y6vy916ncn7tzc7rkg8140000gn/T/ipykernel_37950/2129524604.py:5: RuntimeWarning: invalid value encountered in log\n",
      "  print(func(a))\n"
     ]
    }
   ],
   "execution_count": 58
  },
  {
   "metadata": {
    "ExecuteTime": {
     "end_time": "2024-06-30T06:19:46.630493Z",
     "start_time": "2024-06-30T06:19:46.626751Z"
    }
   },
   "cell_type": "code",
   "source": [
    "a = np.array([1, -2, 3, 4])\n",
    "b = np.array([2, 8, -1, 7])\n",
    "np.add(a, b)"
   ],
   "id": "5f995f13b4b8e8bc",
   "outputs": [
    {
     "data": {
      "text/plain": [
       "array([ 3,  6,  2, 11])"
      ]
     },
     "execution_count": 59,
     "metadata": {},
     "output_type": "execute_result"
    }
   ],
   "execution_count": 59
  },
  {
   "metadata": {
    "ExecuteTime": {
     "end_time": "2024-06-30T06:19:57.765583Z",
     "start_time": "2024-06-30T06:19:57.762737Z"
    }
   },
   "cell_type": "code",
   "source": "np.greater(a, b)",
   "id": "e11d96af2accdb87",
   "outputs": [
    {
     "data": {
      "text/plain": [
       "array([False, False,  True, False])"
      ]
     },
     "execution_count": 60,
     "metadata": {},
     "output_type": "execute_result"
    }
   ],
   "execution_count": 60
  },
  {
   "metadata": {
    "ExecuteTime": {
     "end_time": "2024-06-30T06:20:02.735371Z",
     "start_time": "2024-06-30T06:20:02.732433Z"
    }
   },
   "cell_type": "code",
   "source": "np.maximum(a, b)",
   "id": "9da61fe11a7bfead",
   "outputs": [
    {
     "data": {
      "text/plain": [
       "array([2, 8, 3, 7])"
      ]
     },
     "execution_count": 61,
     "metadata": {},
     "output_type": "execute_result"
    }
   ],
   "execution_count": 61
  },
  {
   "metadata": {
    "ExecuteTime": {
     "end_time": "2024-06-30T06:20:05.772064Z",
     "start_time": "2024-06-30T06:20:05.769134Z"
    }
   },
   "cell_type": "code",
   "source": "np.copysign(a, b)",
   "id": "85d1181403b963a1",
   "outputs": [
    {
     "data": {
      "text/plain": [
       "array([ 1.,  2., -3.,  4.])"
      ]
     },
     "execution_count": 62,
     "metadata": {},
     "output_type": "execute_result"
    }
   ],
   "execution_count": 62
  },
  {
   "metadata": {
    "ExecuteTime": {
     "end_time": "2024-06-30T06:20:10.137588Z",
     "start_time": "2024-06-30T06:20:10.134362Z"
    }
   },
   "cell_type": "code",
   "source": [
    "a = np.array([1, 5, 3, 19, 13, 7, 3])\n",
    "a[3]"
   ],
   "id": "4dd7f04b8d84d882",
   "outputs": [
    {
     "data": {
      "text/plain": [
       "19"
      ]
     },
     "execution_count": 63,
     "metadata": {},
     "output_type": "execute_result"
    }
   ],
   "execution_count": 63
  },
  {
   "metadata": {
    "ExecuteTime": {
     "end_time": "2024-06-30T06:20:14.468598Z",
     "start_time": "2024-06-30T06:20:14.465621Z"
    }
   },
   "cell_type": "code",
   "source": "a[2:5]",
   "id": "1bd0dc10c44535c5",
   "outputs": [
    {
     "data": {
      "text/plain": [
       "array([ 3, 19, 13])"
      ]
     },
     "execution_count": 64,
     "metadata": {},
     "output_type": "execute_result"
    }
   ],
   "execution_count": 64
  },
  {
   "metadata": {
    "ExecuteTime": {
     "end_time": "2024-06-30T06:20:17.495981Z",
     "start_time": "2024-06-30T06:20:17.493295Z"
    }
   },
   "cell_type": "code",
   "source": "a[2:-1]",
   "id": "c6c620ff3cb980ba",
   "outputs": [
    {
     "data": {
      "text/plain": [
       "array([ 3, 19, 13,  7])"
      ]
     },
     "execution_count": 65,
     "metadata": {},
     "output_type": "execute_result"
    }
   ],
   "execution_count": 65
  },
  {
   "metadata": {
    "ExecuteTime": {
     "end_time": "2024-06-30T06:20:20.894174Z",
     "start_time": "2024-06-30T06:20:20.891390Z"
    }
   },
   "cell_type": "code",
   "source": "a[:2]",
   "id": "d3bec042b66e4346",
   "outputs": [
    {
     "data": {
      "text/plain": [
       "array([1, 5])"
      ]
     },
     "execution_count": 66,
     "metadata": {},
     "output_type": "execute_result"
    }
   ],
   "execution_count": 66
  },
  {
   "metadata": {
    "ExecuteTime": {
     "end_time": "2024-06-30T06:20:24.447986Z",
     "start_time": "2024-06-30T06:20:24.444745Z"
    }
   },
   "cell_type": "code",
   "source": "a[2::2]",
   "id": "f8938c277bdf819",
   "outputs": [
    {
     "data": {
      "text/plain": [
       "array([ 3, 13,  3])"
      ]
     },
     "execution_count": 67,
     "metadata": {},
     "output_type": "execute_result"
    }
   ],
   "execution_count": 67
  },
  {
   "metadata": {
    "ExecuteTime": {
     "end_time": "2024-06-30T06:20:27.295618Z",
     "start_time": "2024-06-30T06:20:27.292984Z"
    }
   },
   "cell_type": "code",
   "source": "a[::-1]",
   "id": "47f517bf4644a9cb",
   "outputs": [
    {
     "data": {
      "text/plain": [
       "array([ 3,  7, 13, 19,  3,  5,  1])"
      ]
     },
     "execution_count": 68,
     "metadata": {},
     "output_type": "execute_result"
    }
   ],
   "execution_count": 68
  },
  {
   "metadata": {
    "ExecuteTime": {
     "end_time": "2024-06-30T06:20:32.592831Z",
     "start_time": "2024-06-30T06:20:32.590150Z"
    }
   },
   "cell_type": "code",
   "source": [
    "a[3] = 999\n",
    "a"
   ],
   "id": "c70c699b2dba5d24",
   "outputs": [
    {
     "data": {
      "text/plain": [
       "array([  1,   5,   3, 999,  13,   7,   3])"
      ]
     },
     "execution_count": 69,
     "metadata": {},
     "output_type": "execute_result"
    }
   ],
   "execution_count": 69
  },
  {
   "metadata": {
    "ExecuteTime": {
     "end_time": "2024-06-30T06:20:35.868514Z",
     "start_time": "2024-06-30T06:20:35.865365Z"
    }
   },
   "cell_type": "code",
   "source": [
    "a[2:5] = [997, 998, 999]\n",
    "a"
   ],
   "id": "8813659fb34a7b06",
   "outputs": [
    {
     "data": {
      "text/plain": [
       "array([  1,   5, 997, 998, 999,   7,   3])"
      ]
     },
     "execution_count": 70,
     "metadata": {},
     "output_type": "execute_result"
    }
   ],
   "execution_count": 70
  },
  {
   "metadata": {
    "ExecuteTime": {
     "end_time": "2024-06-30T06:20:38.725501Z",
     "start_time": "2024-06-30T06:20:38.722688Z"
    }
   },
   "cell_type": "code",
   "source": [
    "a[2:5] = -1\n",
    "a"
   ],
   "id": "9894680e35efd67",
   "outputs": [
    {
     "data": {
      "text/plain": [
       "array([ 1,  5, -1, -1, -1,  7,  3])"
      ]
     },
     "execution_count": 71,
     "metadata": {},
     "output_type": "execute_result"
    }
   ],
   "execution_count": 71
  },
  {
   "metadata": {
    "ExecuteTime": {
     "end_time": "2024-06-30T06:20:48.089756Z",
     "start_time": "2024-06-30T06:20:48.087571Z"
    }
   },
   "cell_type": "code",
   "source": [
    "try:\n",
    "    a[2:5] = [1, 2, 3, 4, 5, 6]\n",
    "except ValueError as e:\n",
    "    print(e)"
   ],
   "id": "4dbab85d88f312c4",
   "outputs": [
    {
     "name": "stdout",
     "output_type": "stream",
     "text": [
      "could not broadcast input array from shape (6,) into shape (3,)\n"
     ]
    }
   ],
   "execution_count": 72
  },
  {
   "metadata": {
    "ExecuteTime": {
     "end_time": "2024-06-30T06:20:55.404147Z",
     "start_time": "2024-06-30T06:20:55.401685Z"
    }
   },
   "cell_type": "code",
   "source": [
    "try:\n",
    "    del a[2:5]\n",
    "except ValueError as e:\n",
    "    print(e)"
   ],
   "id": "47a695f2eb1e9389",
   "outputs": [
    {
     "name": "stdout",
     "output_type": "stream",
     "text": [
      "cannot delete array elements\n"
     ]
    }
   ],
   "execution_count": 73
  },
  {
   "metadata": {
    "ExecuteTime": {
     "end_time": "2024-06-30T06:20:59.734110Z",
     "start_time": "2024-06-30T06:20:59.729651Z"
    }
   },
   "cell_type": "code",
   "source": [
    "a_slice = a[2:6]\n",
    "a_slice[1] = 1000\n",
    "a"
   ],
   "id": "ac3efb37b1515020",
   "outputs": [
    {
     "data": {
      "text/plain": [
       "array([   1,    5,   -1, 1000,   -1,    7,    3])"
      ]
     },
     "execution_count": 74,
     "metadata": {},
     "output_type": "execute_result"
    }
   ],
   "execution_count": 74
  },
  {
   "metadata": {
    "ExecuteTime": {
     "end_time": "2024-06-30T06:21:05.649028Z",
     "start_time": "2024-06-30T06:21:05.646448Z"
    }
   },
   "cell_type": "code",
   "source": [
    "a[3] = 2000\n",
    "a_slice"
   ],
   "id": "c629a80a7062c4b7",
   "outputs": [
    {
     "data": {
      "text/plain": [
       "array([  -1, 2000,   -1,    7])"
      ]
     },
     "execution_count": 75,
     "metadata": {},
     "output_type": "execute_result"
    }
   ],
   "execution_count": 75
  },
  {
   "metadata": {
    "ExecuteTime": {
     "end_time": "2024-06-30T06:21:12.234690Z",
     "start_time": "2024-06-30T06:21:12.231370Z"
    }
   },
   "cell_type": "code",
   "source": [
    "another_slice = a[2:6].copy()\n",
    "another_slice[1] = 3000\n",
    "a"
   ],
   "id": "cee093f31648cdab",
   "outputs": [
    {
     "data": {
      "text/plain": [
       "array([   1,    5,   -1, 2000,   -1,    7,    3])"
      ]
     },
     "execution_count": 76,
     "metadata": {},
     "output_type": "execute_result"
    }
   ],
   "execution_count": 76
  },
  {
   "metadata": {
    "ExecuteTime": {
     "end_time": "2024-06-30T06:21:18.518795Z",
     "start_time": "2024-06-30T06:21:18.516005Z"
    }
   },
   "cell_type": "code",
   "source": [
    "a[3] = 4000\n",
    "another_slice"
   ],
   "id": "2d80e9a73e2aa98b",
   "outputs": [
    {
     "data": {
      "text/plain": [
       "array([  -1, 3000,   -1,    7])"
      ]
     },
     "execution_count": 77,
     "metadata": {},
     "output_type": "execute_result"
    }
   ],
   "execution_count": 77
  },
  {
   "metadata": {
    "ExecuteTime": {
     "end_time": "2024-06-30T06:21:24.178653Z",
     "start_time": "2024-06-30T06:21:24.175637Z"
    }
   },
   "cell_type": "code",
   "source": [
    "b = np.arange(48).reshape(4, 12)\n",
    "b"
   ],
   "id": "46562804cabdfdb6",
   "outputs": [
    {
     "data": {
      "text/plain": [
       "array([[ 0,  1,  2,  3,  4,  5,  6,  7,  8,  9, 10, 11],\n",
       "       [12, 13, 14, 15, 16, 17, 18, 19, 20, 21, 22, 23],\n",
       "       [24, 25, 26, 27, 28, 29, 30, 31, 32, 33, 34, 35],\n",
       "       [36, 37, 38, 39, 40, 41, 42, 43, 44, 45, 46, 47]])"
      ]
     },
     "execution_count": 78,
     "metadata": {},
     "output_type": "execute_result"
    }
   ],
   "execution_count": 78
  },
  {
   "metadata": {
    "ExecuteTime": {
     "end_time": "2024-06-30T06:21:37.218520Z",
     "start_time": "2024-06-30T06:21:37.216213Z"
    }
   },
   "cell_type": "code",
   "source": "b[1, 2]",
   "id": "ecaa5a4e2ca06bba",
   "outputs": [
    {
     "data": {
      "text/plain": [
       "14"
      ]
     },
     "execution_count": 79,
     "metadata": {},
     "output_type": "execute_result"
    }
   ],
   "execution_count": 79
  },
  {
   "metadata": {
    "ExecuteTime": {
     "end_time": "2024-06-30T06:22:47.606792Z",
     "start_time": "2024-06-30T06:22:47.601542Z"
    }
   },
   "cell_type": "code",
   "source": "b[1, :]",
   "id": "5e254e331175302",
   "outputs": [
    {
     "data": {
      "text/plain": [
       "array([12, 13, 14, 15, 16, 17, 18, 19, 20, 21, 22, 23])"
      ]
     },
     "execution_count": 80,
     "metadata": {},
     "output_type": "execute_result"
    }
   ],
   "execution_count": 80
  },
  {
   "metadata": {
    "ExecuteTime": {
     "end_time": "2024-06-30T06:22:58.062675Z",
     "start_time": "2024-06-30T06:22:58.060036Z"
    }
   },
   "cell_type": "code",
   "source": "b[:, 1]",
   "id": "b73eb0a6f175bb7b",
   "outputs": [
    {
     "data": {
      "text/plain": [
       "array([ 1, 13, 25, 37])"
      ]
     },
     "execution_count": 81,
     "metadata": {},
     "output_type": "execute_result"
    }
   ],
   "execution_count": 81
  },
  {
   "metadata": {
    "ExecuteTime": {
     "end_time": "2024-06-30T06:23:03.351205Z",
     "start_time": "2024-06-30T06:23:03.348396Z"
    }
   },
   "cell_type": "code",
   "source": "b[1, :]",
   "id": "b8b3fb2feb4eaecb",
   "outputs": [
    {
     "data": {
      "text/plain": [
       "array([12, 13, 14, 15, 16, 17, 18, 19, 20, 21, 22, 23])"
      ]
     },
     "execution_count": 82,
     "metadata": {},
     "output_type": "execute_result"
    }
   ],
   "execution_count": 82
  },
  {
   "metadata": {
    "ExecuteTime": {
     "end_time": "2024-06-30T06:23:11.672953Z",
     "start_time": "2024-06-30T06:23:11.670466Z"
    }
   },
   "cell_type": "code",
   "source": "b[1:2, :]",
   "id": "de4d12ccd74e0fe",
   "outputs": [
    {
     "data": {
      "text/plain": [
       "array([[12, 13, 14, 15, 16, 17, 18, 19, 20, 21, 22, 23]])"
      ]
     },
     "execution_count": 83,
     "metadata": {},
     "output_type": "execute_result"
    }
   ],
   "execution_count": 83
  },
  {
   "metadata": {
    "ExecuteTime": {
     "end_time": "2024-06-30T06:23:16.246644Z",
     "start_time": "2024-06-30T06:23:16.243122Z"
    }
   },
   "cell_type": "code",
   "source": "b[(0, 2), 2:5]",
   "id": "78bf110aaeaf3f84",
   "outputs": [
    {
     "data": {
      "text/plain": [
       "array([[ 2,  3,  4],\n",
       "       [26, 27, 28]])"
      ]
     },
     "execution_count": 84,
     "metadata": {},
     "output_type": "execute_result"
    }
   ],
   "execution_count": 84
  },
  {
   "metadata": {
    "ExecuteTime": {
     "end_time": "2024-06-30T06:23:25.989305Z",
     "start_time": "2024-06-30T06:23:25.986650Z"
    }
   },
   "cell_type": "code",
   "source": "b[:, (-1, 2, -1)]",
   "id": "a3cbd71ce4b99c45",
   "outputs": [
    {
     "data": {
      "text/plain": [
       "array([[11,  2, 11],\n",
       "       [23, 14, 23],\n",
       "       [35, 26, 35],\n",
       "       [47, 38, 47]])"
      ]
     },
     "execution_count": 85,
     "metadata": {},
     "output_type": "execute_result"
    }
   ],
   "execution_count": 85
  },
  {
   "metadata": {
    "ExecuteTime": {
     "end_time": "2024-06-30T06:23:35.787743Z",
     "start_time": "2024-06-30T06:23:35.784964Z"
    }
   },
   "cell_type": "code",
   "source": "b[(-1, 2, -1, 2), (5, 9, 1, 9)]",
   "id": "695a67dcf9a1a9a1",
   "outputs": [
    {
     "data": {
      "text/plain": [
       "array([41, 33, 37, 33])"
      ]
     },
     "execution_count": 86,
     "metadata": {},
     "output_type": "execute_result"
    }
   ],
   "execution_count": 86
  },
  {
   "metadata": {
    "ExecuteTime": {
     "end_time": "2024-06-30T06:23:40.011759Z",
     "start_time": "2024-06-30T06:23:40.008390Z"
    }
   },
   "cell_type": "code",
   "source": [
    "c = b.reshape(4, 2, 6)\n",
    "c"
   ],
   "id": "79a3b784fd8f753d",
   "outputs": [
    {
     "data": {
      "text/plain": [
       "array([[[ 0,  1,  2,  3,  4,  5],\n",
       "        [ 6,  7,  8,  9, 10, 11]],\n",
       "\n",
       "       [[12, 13, 14, 15, 16, 17],\n",
       "        [18, 19, 20, 21, 22, 23]],\n",
       "\n",
       "       [[24, 25, 26, 27, 28, 29],\n",
       "        [30, 31, 32, 33, 34, 35]],\n",
       "\n",
       "       [[36, 37, 38, 39, 40, 41],\n",
       "        [42, 43, 44, 45, 46, 47]]])"
      ]
     },
     "execution_count": 87,
     "metadata": {},
     "output_type": "execute_result"
    }
   ],
   "execution_count": 87
  },
  {
   "metadata": {
    "ExecuteTime": {
     "end_time": "2024-06-30T06:23:46.017833Z",
     "start_time": "2024-06-30T06:23:46.014644Z"
    }
   },
   "cell_type": "code",
   "source": "c[2, 1, 4]",
   "id": "ceaddc0f48097362",
   "outputs": [
    {
     "data": {
      "text/plain": [
       "34"
      ]
     },
     "execution_count": 88,
     "metadata": {},
     "output_type": "execute_result"
    }
   ],
   "execution_count": 88
  },
  {
   "metadata": {
    "ExecuteTime": {
     "end_time": "2024-06-30T06:23:51.138325Z",
     "start_time": "2024-06-30T06:23:51.135794Z"
    }
   },
   "cell_type": "code",
   "source": "c[2, :, 3]",
   "id": "d225a809e65c57a9",
   "outputs": [
    {
     "data": {
      "text/plain": [
       "array([27, 33])"
      ]
     },
     "execution_count": 89,
     "metadata": {},
     "output_type": "execute_result"
    }
   ],
   "execution_count": 89
  },
  {
   "metadata": {
    "ExecuteTime": {
     "end_time": "2024-06-30T06:24:02.605939Z",
     "start_time": "2024-06-30T06:24:02.603287Z"
    }
   },
   "cell_type": "code",
   "source": "c[2, 1]",
   "id": "f51d6cca03cb6a3c",
   "outputs": [
    {
     "data": {
      "text/plain": [
       "array([30, 31, 32, 33, 34, 35])"
      ]
     },
     "execution_count": 90,
     "metadata": {},
     "output_type": "execute_result"
    }
   ],
   "execution_count": 90
  },
  {
   "metadata": {
    "ExecuteTime": {
     "end_time": "2024-06-30T06:24:11.532660Z",
     "start_time": "2024-06-30T06:24:11.530022Z"
    }
   },
   "cell_type": "code",
   "source": "c[2, ...]",
   "id": "3906281655db929",
   "outputs": [
    {
     "data": {
      "text/plain": [
       "array([[24, 25, 26, 27, 28, 29],\n",
       "       [30, 31, 32, 33, 34, 35]])"
      ]
     },
     "execution_count": 91,
     "metadata": {},
     "output_type": "execute_result"
    }
   ],
   "execution_count": 91
  },
  {
   "metadata": {
    "ExecuteTime": {
     "end_time": "2024-06-30T06:24:16.467450Z",
     "start_time": "2024-06-30T06:24:16.464785Z"
    }
   },
   "cell_type": "code",
   "source": "c[2, 1, ...]",
   "id": "ff5c0283b21ddc67",
   "outputs": [
    {
     "data": {
      "text/plain": [
       "array([30, 31, 32, 33, 34, 35])"
      ]
     },
     "execution_count": 92,
     "metadata": {},
     "output_type": "execute_result"
    }
   ],
   "execution_count": 92
  },
  {
   "metadata": {
    "ExecuteTime": {
     "end_time": "2024-06-30T06:24:21.909690Z",
     "start_time": "2024-06-30T06:24:21.907052Z"
    }
   },
   "cell_type": "code",
   "source": "c[2, ..., 3]",
   "id": "4bf469ee7c1e55f5",
   "outputs": [
    {
     "data": {
      "text/plain": [
       "array([27, 33])"
      ]
     },
     "execution_count": 93,
     "metadata": {},
     "output_type": "execute_result"
    }
   ],
   "execution_count": 93
  },
  {
   "metadata": {
    "ExecuteTime": {
     "end_time": "2024-06-30T06:24:35.718691Z",
     "start_time": "2024-06-30T06:24:35.715819Z"
    }
   },
   "cell_type": "code",
   "source": "c[..., 3]",
   "id": "3d8c1b2047911f41",
   "outputs": [
    {
     "data": {
      "text/plain": [
       "array([[ 3,  9],\n",
       "       [15, 21],\n",
       "       [27, 33],\n",
       "       [39, 45]])"
      ]
     },
     "execution_count": 94,
     "metadata": {},
     "output_type": "execute_result"
    }
   ],
   "execution_count": 94
  },
  {
   "metadata": {
    "ExecuteTime": {
     "end_time": "2024-06-30T06:24:47.827477Z",
     "start_time": "2024-06-30T06:24:47.824688Z"
    }
   },
   "cell_type": "code",
   "source": [
    "b = np.arange(48).reshape(4, 12)\n",
    "b"
   ],
   "id": "89ac705fcb4b3fa3",
   "outputs": [
    {
     "data": {
      "text/plain": [
       "array([[ 0,  1,  2,  3,  4,  5,  6,  7,  8,  9, 10, 11],\n",
       "       [12, 13, 14, 15, 16, 17, 18, 19, 20, 21, 22, 23],\n",
       "       [24, 25, 26, 27, 28, 29, 30, 31, 32, 33, 34, 35],\n",
       "       [36, 37, 38, 39, 40, 41, 42, 43, 44, 45, 46, 47]])"
      ]
     },
     "execution_count": 95,
     "metadata": {},
     "output_type": "execute_result"
    }
   ],
   "execution_count": 95
  },
  {
   "metadata": {
    "ExecuteTime": {
     "end_time": "2024-06-30T06:24:57.306218Z",
     "start_time": "2024-06-30T06:24:57.302927Z"
    }
   },
   "cell_type": "code",
   "source": [
    "rows_on = np.array([True, False, True, False])\n",
    "b[rows_on, :]"
   ],
   "id": "9abb103c5b6ee298",
   "outputs": [
    {
     "data": {
      "text/plain": [
       "array([[ 0,  1,  2,  3,  4,  5,  6,  7,  8,  9, 10, 11],\n",
       "       [24, 25, 26, 27, 28, 29, 30, 31, 32, 33, 34, 35]])"
      ]
     },
     "execution_count": 96,
     "metadata": {},
     "output_type": "execute_result"
    }
   ],
   "execution_count": 96
  },
  {
   "metadata": {
    "ExecuteTime": {
     "end_time": "2024-06-30T06:25:10.405065Z",
     "start_time": "2024-06-30T06:25:10.401683Z"
    }
   },
   "cell_type": "code",
   "source": [
    "cols_on = np.array([False, True, False] * 4)\n",
    "b[:, cols_on]"
   ],
   "id": "fe0bbd4b5819cdfe",
   "outputs": [
    {
     "data": {
      "text/plain": [
       "array([[ 1,  4,  7, 10],\n",
       "       [13, 16, 19, 22],\n",
       "       [25, 28, 31, 34],\n",
       "       [37, 40, 43, 46]])"
      ]
     },
     "execution_count": 97,
     "metadata": {},
     "output_type": "execute_result"
    }
   ],
   "execution_count": 97
  },
  {
   "metadata": {
    "ExecuteTime": {
     "end_time": "2024-06-30T06:25:15.222151Z",
     "start_time": "2024-06-30T06:25:15.219010Z"
    }
   },
   "cell_type": "code",
   "source": "b[np.ix_(rows_on, cols_on)]",
   "id": "b46ef2994a143716",
   "outputs": [
    {
     "data": {
      "text/plain": [
       "array([[ 1,  4,  7, 10],\n",
       "       [25, 28, 31, 34]])"
      ]
     },
     "execution_count": 98,
     "metadata": {},
     "output_type": "execute_result"
    }
   ],
   "execution_count": 98
  },
  {
   "metadata": {
    "ExecuteTime": {
     "end_time": "2024-06-30T06:25:20.804195Z",
     "start_time": "2024-06-30T06:25:20.801009Z"
    }
   },
   "cell_type": "code",
   "source": "np.ix_(rows_on, cols_on)",
   "id": "79288b8540d2d962",
   "outputs": [
    {
     "data": {
      "text/plain": [
       "(array([[0],\n",
       "        [2]]),\n",
       " array([[ 1,  4,  7, 10]]))"
      ]
     },
     "execution_count": 99,
     "metadata": {},
     "output_type": "execute_result"
    }
   ],
   "execution_count": 99
  },
  {
   "metadata": {
    "ExecuteTime": {
     "end_time": "2024-06-30T06:25:39.828095Z",
     "start_time": "2024-06-30T06:25:39.825519Z"
    }
   },
   "cell_type": "code",
   "source": "b[b % 3 == 1]",
   "id": "b8ed0e78582e66b4",
   "outputs": [
    {
     "data": {
      "text/plain": [
       "array([ 1,  4,  7, 10, 13, 16, 19, 22, 25, 28, 31, 34, 37, 40, 43, 46])"
      ]
     },
     "execution_count": 100,
     "metadata": {},
     "output_type": "execute_result"
    }
   ],
   "execution_count": 100
  },
  {
   "metadata": {
    "ExecuteTime": {
     "end_time": "2024-06-30T06:25:45.149050Z",
     "start_time": "2024-06-30T06:25:45.146114Z"
    }
   },
   "cell_type": "code",
   "source": [
    "c = np.arange(24).reshape(2, 3, 4)\n",
    "c"
   ],
   "id": "d5bab99e441d99f6",
   "outputs": [
    {
     "data": {
      "text/plain": [
       "array([[[ 0,  1,  2,  3],\n",
       "        [ 4,  5,  6,  7],\n",
       "        [ 8,  9, 10, 11]],\n",
       "\n",
       "       [[12, 13, 14, 15],\n",
       "        [16, 17, 18, 19],\n",
       "        [20, 21, 22, 23]]])"
      ]
     },
     "execution_count": 101,
     "metadata": {},
     "output_type": "execute_result"
    }
   ],
   "execution_count": 101
  },
  {
   "metadata": {
    "ExecuteTime": {
     "end_time": "2024-06-30T06:25:48.405194Z",
     "start_time": "2024-06-30T06:25:48.402346Z"
    }
   },
   "cell_type": "code",
   "source": [
    "for m in c:\n",
    "    print(\"아이템:\")\n",
    "    print(m)"
   ],
   "id": "1b546eead990ebaa",
   "outputs": [
    {
     "name": "stdout",
     "output_type": "stream",
     "text": [
      "아이템:\n",
      "[[ 0  1  2  3]\n",
      " [ 4  5  6  7]\n",
      " [ 8  9 10 11]]\n",
      "아이템:\n",
      "[[12 13 14 15]\n",
      " [16 17 18 19]\n",
      " [20 21 22 23]]\n"
     ]
    }
   ],
   "execution_count": 102
  },
  {
   "metadata": {
    "ExecuteTime": {
     "end_time": "2024-06-30T06:25:54.426356Z",
     "start_time": "2024-06-30T06:25:54.424079Z"
    }
   },
   "cell_type": "code",
   "source": [
    "for i in range(len(c)):\n",
    "    print(\"아이템:\")\n",
    "    print(c[i])"
   ],
   "id": "8bfda6287fb3c681",
   "outputs": [
    {
     "name": "stdout",
     "output_type": "stream",
     "text": [
      "아이템:\n",
      "[[ 0  1  2  3]\n",
      " [ 4  5  6  7]\n",
      " [ 8  9 10 11]]\n",
      "아이템:\n",
      "[[12 13 14 15]\n",
      " [16 17 18 19]\n",
      " [20 21 22 23]]\n"
     ]
    }
   ],
   "execution_count": 103
  },
  {
   "metadata": {
    "ExecuteTime": {
     "end_time": "2024-06-30T06:25:59.275076Z",
     "start_time": "2024-06-30T06:25:59.272702Z"
    }
   },
   "cell_type": "code",
   "source": [
    "for i in c.flat:\n",
    "    print(\"아이템:\", i)"
   ],
   "id": "41ce86406dd7ac40",
   "outputs": [
    {
     "name": "stdout",
     "output_type": "stream",
     "text": [
      "아이템: 0\n",
      "아이템: 1\n",
      "아이템: 2\n",
      "아이템: 3\n",
      "아이템: 4\n",
      "아이템: 5\n",
      "아이템: 6\n",
      "아이템: 7\n",
      "아이템: 8\n",
      "아이템: 9\n",
      "아이템: 10\n",
      "아이템: 11\n",
      "아이템: 12\n",
      "아이템: 13\n",
      "아이템: 14\n",
      "아이템: 15\n",
      "아이템: 16\n",
      "아이템: 17\n",
      "아이템: 18\n",
      "아이템: 19\n",
      "아이템: 20\n",
      "아이템: 21\n",
      "아이템: 22\n",
      "아이템: 23\n"
     ]
    }
   ],
   "execution_count": 104
  },
  {
   "metadata": {
    "ExecuteTime": {
     "end_time": "2024-06-30T06:26:03.749513Z",
     "start_time": "2024-06-30T06:26:03.746401Z"
    }
   },
   "cell_type": "code",
   "source": [
    "q1 = np.full((3, 4), 1.0)\n",
    "q1"
   ],
   "id": "f050c7335e4bd282",
   "outputs": [
    {
     "data": {
      "text/plain": [
       "array([[1., 1., 1., 1.],\n",
       "       [1., 1., 1., 1.],\n",
       "       [1., 1., 1., 1.]])"
      ]
     },
     "execution_count": 105,
     "metadata": {},
     "output_type": "execute_result"
    }
   ],
   "execution_count": 105
  },
  {
   "metadata": {
    "ExecuteTime": {
     "end_time": "2024-06-30T06:26:08.296226Z",
     "start_time": "2024-06-30T06:26:08.293480Z"
    }
   },
   "cell_type": "code",
   "source": [
    "q2 = np.full((4, 4), 2.0)\n",
    "q2"
   ],
   "id": "eb2e71bfe0090e9",
   "outputs": [
    {
     "data": {
      "text/plain": [
       "array([[2., 2., 2., 2.],\n",
       "       [2., 2., 2., 2.],\n",
       "       [2., 2., 2., 2.],\n",
       "       [2., 2., 2., 2.]])"
      ]
     },
     "execution_count": 106,
     "metadata": {},
     "output_type": "execute_result"
    }
   ],
   "execution_count": 106
  },
  {
   "metadata": {
    "ExecuteTime": {
     "end_time": "2024-06-30T06:26:12.861984Z",
     "start_time": "2024-06-30T06:26:12.858779Z"
    }
   },
   "cell_type": "code",
   "source": [
    "q3 = np.full((3, 4), 3.0)\n",
    "q3"
   ],
   "id": "68933e1f1db53854",
   "outputs": [
    {
     "data": {
      "text/plain": [
       "array([[3., 3., 3., 3.],\n",
       "       [3., 3., 3., 3.],\n",
       "       [3., 3., 3., 3.]])"
      ]
     },
     "execution_count": 107,
     "metadata": {},
     "output_type": "execute_result"
    }
   ],
   "execution_count": 107
  },
  {
   "metadata": {
    "ExecuteTime": {
     "end_time": "2024-06-30T06:26:18.252535Z",
     "start_time": "2024-06-30T06:26:18.249085Z"
    }
   },
   "cell_type": "code",
   "source": [
    "q4 = np.vstack((q1, q2, q3))\n",
    "q4"
   ],
   "id": "cd6839ba6470c87e",
   "outputs": [
    {
     "data": {
      "text/plain": [
       "array([[1., 1., 1., 1.],\n",
       "       [1., 1., 1., 1.],\n",
       "       [1., 1., 1., 1.],\n",
       "       [2., 2., 2., 2.],\n",
       "       [2., 2., 2., 2.],\n",
       "       [2., 2., 2., 2.],\n",
       "       [2., 2., 2., 2.],\n",
       "       [3., 3., 3., 3.],\n",
       "       [3., 3., 3., 3.],\n",
       "       [3., 3., 3., 3.]])"
      ]
     },
     "execution_count": 108,
     "metadata": {},
     "output_type": "execute_result"
    }
   ],
   "execution_count": 108
  },
  {
   "metadata": {
    "ExecuteTime": {
     "end_time": "2024-06-30T06:26:23.281869Z",
     "start_time": "2024-06-30T06:26:23.279234Z"
    }
   },
   "cell_type": "code",
   "source": "q4.shape",
   "id": "6cf93487a044b851",
   "outputs": [
    {
     "data": {
      "text/plain": [
       "(10, 4)"
      ]
     },
     "execution_count": 109,
     "metadata": {},
     "output_type": "execute_result"
    }
   ],
   "execution_count": 109
  },
  {
   "metadata": {
    "ExecuteTime": {
     "end_time": "2024-06-30T06:26:26.000422Z",
     "start_time": "2024-06-30T06:26:25.997342Z"
    }
   },
   "cell_type": "code",
   "source": [
    "q5 = np.hstack((q1, q3))\n",
    "q5"
   ],
   "id": "8342a9a1678cf390",
   "outputs": [
    {
     "data": {
      "text/plain": [
       "array([[1., 1., 1., 1., 3., 3., 3., 3.],\n",
       "       [1., 1., 1., 1., 3., 3., 3., 3.],\n",
       "       [1., 1., 1., 1., 3., 3., 3., 3.]])"
      ]
     },
     "execution_count": 110,
     "metadata": {},
     "output_type": "execute_result"
    }
   ],
   "execution_count": 110
  },
  {
   "metadata": {
    "ExecuteTime": {
     "end_time": "2024-06-30T06:26:29.412021Z",
     "start_time": "2024-06-30T06:26:29.409409Z"
    }
   },
   "cell_type": "code",
   "source": "q5.shape",
   "id": "434cbe1a466cf109",
   "outputs": [
    {
     "data": {
      "text/plain": [
       "(3, 8)"
      ]
     },
     "execution_count": 111,
     "metadata": {},
     "output_type": "execute_result"
    }
   ],
   "execution_count": 111
  },
  {
   "metadata": {
    "ExecuteTime": {
     "end_time": "2024-06-30T06:26:32.366055Z",
     "start_time": "2024-06-30T06:26:32.363286Z"
    }
   },
   "cell_type": "code",
   "source": [
    "try:\n",
    "    q5 = np.hstack((q1, q2, q3))\n",
    "except ValueError as e:\n",
    "    print(e)"
   ],
   "id": "b1a0eeb760adba05",
   "outputs": [
    {
     "name": "stdout",
     "output_type": "stream",
     "text": [
      "all the input array dimensions except for the concatenation axis must match exactly, but along dimension 0, the array at index 0 has size 3 and the array at index 1 has size 4\n"
     ]
    }
   ],
   "execution_count": 112
  },
  {
   "metadata": {
    "ExecuteTime": {
     "end_time": "2024-06-30T06:26:39.454441Z",
     "start_time": "2024-06-30T06:26:39.451292Z"
    }
   },
   "cell_type": "code",
   "source": [
    "q7 = np.concatenate((q1, q2, q3), axis=0)\n",
    "q7"
   ],
   "id": "5fb92c594d35ef19",
   "outputs": [
    {
     "data": {
      "text/plain": [
       "array([[1., 1., 1., 1.],\n",
       "       [1., 1., 1., 1.],\n",
       "       [1., 1., 1., 1.],\n",
       "       [2., 2., 2., 2.],\n",
       "       [2., 2., 2., 2.],\n",
       "       [2., 2., 2., 2.],\n",
       "       [2., 2., 2., 2.],\n",
       "       [3., 3., 3., 3.],\n",
       "       [3., 3., 3., 3.],\n",
       "       [3., 3., 3., 3.]])"
      ]
     },
     "execution_count": 113,
     "metadata": {},
     "output_type": "execute_result"
    }
   ],
   "execution_count": 113
  },
  {
   "metadata": {
    "ExecuteTime": {
     "end_time": "2024-06-30T06:26:46.237005Z",
     "start_time": "2024-06-30T06:26:46.233983Z"
    }
   },
   "cell_type": "code",
   "source": "q7.shape",
   "id": "b4942ab4a7300ae0",
   "outputs": [
    {
     "data": {
      "text/plain": [
       "(10, 4)"
      ]
     },
     "execution_count": 114,
     "metadata": {},
     "output_type": "execute_result"
    }
   ],
   "execution_count": 114
  },
  {
   "metadata": {
    "ExecuteTime": {
     "end_time": "2024-06-30T06:27:00.269305Z",
     "start_time": "2024-06-30T06:27:00.266306Z"
    }
   },
   "cell_type": "code",
   "source": [
    "q8 = np.stack((q1, q3))\n",
    "q8"
   ],
   "id": "caffb7015419e130",
   "outputs": [
    {
     "data": {
      "text/plain": [
       "array([[[1., 1., 1., 1.],\n",
       "        [1., 1., 1., 1.],\n",
       "        [1., 1., 1., 1.]],\n",
       "\n",
       "       [[3., 3., 3., 3.],\n",
       "        [3., 3., 3., 3.],\n",
       "        [3., 3., 3., 3.]]])"
      ]
     },
     "execution_count": 115,
     "metadata": {},
     "output_type": "execute_result"
    }
   ],
   "execution_count": 115
  },
  {
   "metadata": {
    "ExecuteTime": {
     "end_time": "2024-06-30T06:27:02.927039Z",
     "start_time": "2024-06-30T06:27:02.924454Z"
    }
   },
   "cell_type": "code",
   "source": "q8.shape",
   "id": "aa4a2a27237c72ef",
   "outputs": [
    {
     "data": {
      "text/plain": [
       "(2, 3, 4)"
      ]
     },
     "execution_count": 116,
     "metadata": {},
     "output_type": "execute_result"
    }
   ],
   "execution_count": 116
  },
  {
   "metadata": {
    "ExecuteTime": {
     "end_time": "2024-06-30T06:27:07.812406Z",
     "start_time": "2024-06-30T06:27:07.809394Z"
    }
   },
   "cell_type": "code",
   "source": [
    "r = np.arange(24).reshape(6, 4)\n",
    "r"
   ],
   "id": "553ccc89ccb342d9",
   "outputs": [
    {
     "data": {
      "text/plain": [
       "array([[ 0,  1,  2,  3],\n",
       "       [ 4,  5,  6,  7],\n",
       "       [ 8,  9, 10, 11],\n",
       "       [12, 13, 14, 15],\n",
       "       [16, 17, 18, 19],\n",
       "       [20, 21, 22, 23]])"
      ]
     },
     "execution_count": 117,
     "metadata": {},
     "output_type": "execute_result"
    }
   ],
   "execution_count": 117
  },
  {
   "metadata": {
    "ExecuteTime": {
     "end_time": "2024-06-30T06:27:10.985609Z",
     "start_time": "2024-06-30T06:27:10.982619Z"
    }
   },
   "cell_type": "code",
   "source": [
    "r1, r2, r3 = np.vsplit(r, 3)\n",
    "r1"
   ],
   "id": "41a75ac0aa977500",
   "outputs": [
    {
     "data": {
      "text/plain": [
       "array([[0, 1, 2, 3],\n",
       "       [4, 5, 6, 7]])"
      ]
     },
     "execution_count": 118,
     "metadata": {},
     "output_type": "execute_result"
    }
   ],
   "execution_count": 118
  },
  {
   "metadata": {
    "ExecuteTime": {
     "end_time": "2024-06-30T06:27:19.941799Z",
     "start_time": "2024-06-30T06:27:19.939099Z"
    }
   },
   "cell_type": "code",
   "source": "r2",
   "id": "8500bba12ff5316e",
   "outputs": [
    {
     "data": {
      "text/plain": [
       "array([[ 8,  9, 10, 11],\n",
       "       [12, 13, 14, 15]])"
      ]
     },
     "execution_count": 119,
     "metadata": {},
     "output_type": "execute_result"
    }
   ],
   "execution_count": 119
  },
  {
   "metadata": {
    "ExecuteTime": {
     "end_time": "2024-06-30T06:27:23.457789Z",
     "start_time": "2024-06-30T06:27:23.455133Z"
    }
   },
   "cell_type": "code",
   "source": "r3",
   "id": "d205ac01dbc7838b",
   "outputs": [
    {
     "data": {
      "text/plain": [
       "array([[16, 17, 18, 19],\n",
       "       [20, 21, 22, 23]])"
      ]
     },
     "execution_count": 120,
     "metadata": {},
     "output_type": "execute_result"
    }
   ],
   "execution_count": 120
  },
  {
   "metadata": {
    "ExecuteTime": {
     "end_time": "2024-06-30T06:27:26.694349Z",
     "start_time": "2024-06-30T06:27:26.691454Z"
    }
   },
   "cell_type": "code",
   "source": [
    "r4, r5 = np.hsplit(r, 2)\n",
    "r4"
   ],
   "id": "38c7e82f8e95747b",
   "outputs": [
    {
     "data": {
      "text/plain": [
       "array([[ 0,  1],\n",
       "       [ 4,  5],\n",
       "       [ 8,  9],\n",
       "       [12, 13],\n",
       "       [16, 17],\n",
       "       [20, 21]])"
      ]
     },
     "execution_count": 121,
     "metadata": {},
     "output_type": "execute_result"
    }
   ],
   "execution_count": 121
  },
  {
   "metadata": {
    "ExecuteTime": {
     "end_time": "2024-06-30T06:27:31.666369Z",
     "start_time": "2024-06-30T06:27:31.663807Z"
    }
   },
   "cell_type": "code",
   "source": "r5",
   "id": "c655f602f37f2290",
   "outputs": [
    {
     "data": {
      "text/plain": [
       "array([[ 2,  3],\n",
       "       [ 6,  7],\n",
       "       [10, 11],\n",
       "       [14, 15],\n",
       "       [18, 19],\n",
       "       [22, 23]])"
      ]
     },
     "execution_count": 122,
     "metadata": {},
     "output_type": "execute_result"
    }
   ],
   "execution_count": 122
  },
  {
   "metadata": {
    "ExecuteTime": {
     "end_time": "2024-06-30T06:27:35.164736Z",
     "start_time": "2024-06-30T06:27:35.161777Z"
    }
   },
   "cell_type": "code",
   "source": [
    "t = np.arange(24).reshape(4, 2, 3)\n",
    "t"
   ],
   "id": "1654b705f52234db",
   "outputs": [
    {
     "data": {
      "text/plain": [
       "array([[[ 0,  1,  2],\n",
       "        [ 3,  4,  5]],\n",
       "\n",
       "       [[ 6,  7,  8],\n",
       "        [ 9, 10, 11]],\n",
       "\n",
       "       [[12, 13, 14],\n",
       "        [15, 16, 17]],\n",
       "\n",
       "       [[18, 19, 20],\n",
       "        [21, 22, 23]]])"
      ]
     },
     "execution_count": 123,
     "metadata": {},
     "output_type": "execute_result"
    }
   ],
   "execution_count": 123
  },
  {
   "metadata": {
    "ExecuteTime": {
     "end_time": "2024-06-30T06:27:37.994290Z",
     "start_time": "2024-06-30T06:27:37.991265Z"
    }
   },
   "cell_type": "code",
   "source": [
    "t1 = t.transpose((1, 2, 0))\n",
    "t1"
   ],
   "id": "a58eb2b203567ade",
   "outputs": [
    {
     "data": {
      "text/plain": [
       "array([[[ 0,  6, 12, 18],\n",
       "        [ 1,  7, 13, 19],\n",
       "        [ 2,  8, 14, 20]],\n",
       "\n",
       "       [[ 3,  9, 15, 21],\n",
       "        [ 4, 10, 16, 22],\n",
       "        [ 5, 11, 17, 23]]])"
      ]
     },
     "execution_count": 124,
     "metadata": {},
     "output_type": "execute_result"
    }
   ],
   "execution_count": 124
  },
  {
   "metadata": {
    "ExecuteTime": {
     "end_time": "2024-06-30T06:27:45.009210Z",
     "start_time": "2024-06-30T06:27:45.006382Z"
    }
   },
   "cell_type": "code",
   "source": "t1.shape",
   "id": "92cf9ebe6cf7637",
   "outputs": [
    {
     "data": {
      "text/plain": [
       "(2, 3, 4)"
      ]
     },
     "execution_count": 125,
     "metadata": {},
     "output_type": "execute_result"
    }
   ],
   "execution_count": 125
  },
  {
   "metadata": {
    "ExecuteTime": {
     "end_time": "2024-06-30T06:27:49.520514Z",
     "start_time": "2024-06-30T06:27:49.517458Z"
    }
   },
   "cell_type": "code",
   "source": [
    "t2 = t.transpose()\n",
    "t2"
   ],
   "id": "3248cf7b57455936",
   "outputs": [
    {
     "data": {
      "text/plain": [
       "array([[[ 0,  6, 12, 18],\n",
       "        [ 3,  9, 15, 21]],\n",
       "\n",
       "       [[ 1,  7, 13, 19],\n",
       "        [ 4, 10, 16, 22]],\n",
       "\n",
       "       [[ 2,  8, 14, 20],\n",
       "        [ 5, 11, 17, 23]]])"
      ]
     },
     "execution_count": 126,
     "metadata": {},
     "output_type": "execute_result"
    }
   ],
   "execution_count": 126
  },
  {
   "metadata": {
    "ExecuteTime": {
     "end_time": "2024-06-30T06:27:52.467499Z",
     "start_time": "2024-06-30T06:27:52.464355Z"
    }
   },
   "cell_type": "code",
   "source": "t2.shape",
   "id": "74a9dd2dee827459",
   "outputs": [
    {
     "data": {
      "text/plain": [
       "(3, 2, 4)"
      ]
     },
     "execution_count": 127,
     "metadata": {},
     "output_type": "execute_result"
    }
   ],
   "execution_count": 127
  },
  {
   "metadata": {
    "ExecuteTime": {
     "end_time": "2024-06-30T06:27:55.122207Z",
     "start_time": "2024-06-30T06:27:55.118946Z"
    }
   },
   "cell_type": "code",
   "source": [
    "t3 = t.swapaxes(0, 1)\n",
    "t3"
   ],
   "id": "f71241c429939f9e",
   "outputs": [
    {
     "data": {
      "text/plain": [
       "array([[[ 0,  1,  2],\n",
       "        [ 6,  7,  8],\n",
       "        [12, 13, 14],\n",
       "        [18, 19, 20]],\n",
       "\n",
       "       [[ 3,  4,  5],\n",
       "        [ 9, 10, 11],\n",
       "        [15, 16, 17],\n",
       "        [21, 22, 23]]])"
      ]
     },
     "execution_count": 128,
     "metadata": {},
     "output_type": "execute_result"
    }
   ],
   "execution_count": 128
  },
  {
   "metadata": {
    "ExecuteTime": {
     "end_time": "2024-06-30T06:28:03.496360Z",
     "start_time": "2024-06-30T06:28:03.493270Z"
    }
   },
   "cell_type": "code",
   "source": "t3.shape",
   "id": "58724864ee9a7675",
   "outputs": [
    {
     "data": {
      "text/plain": [
       "(2, 4, 3)"
      ]
     },
     "execution_count": 129,
     "metadata": {},
     "output_type": "execute_result"
    }
   ],
   "execution_count": 129
  },
  {
   "metadata": {
    "ExecuteTime": {
     "end_time": "2024-06-30T06:28:06.072876Z",
     "start_time": "2024-06-30T06:28:06.069714Z"
    }
   },
   "cell_type": "code",
   "source": [
    "m1 = np.arange(10).reshape(2, 5)\n",
    "m1"
   ],
   "id": "825205984286fe7a",
   "outputs": [
    {
     "data": {
      "text/plain": [
       "array([[0, 1, 2, 3, 4],\n",
       "       [5, 6, 7, 8, 9]])"
      ]
     },
     "execution_count": 130,
     "metadata": {},
     "output_type": "execute_result"
    }
   ],
   "execution_count": 130
  },
  {
   "metadata": {
    "ExecuteTime": {
     "end_time": "2024-06-30T06:28:08.435158Z",
     "start_time": "2024-06-30T06:28:08.432033Z"
    }
   },
   "cell_type": "code",
   "source": "m1.T",
   "id": "54696149eb27361f",
   "outputs": [
    {
     "data": {
      "text/plain": [
       "array([[0, 5],\n",
       "       [1, 6],\n",
       "       [2, 7],\n",
       "       [3, 8],\n",
       "       [4, 9]])"
      ]
     },
     "execution_count": 131,
     "metadata": {},
     "output_type": "execute_result"
    }
   ],
   "execution_count": 131
  },
  {
   "metadata": {
    "ExecuteTime": {
     "end_time": "2024-06-30T06:28:10.899722Z",
     "start_time": "2024-06-30T06:28:10.896694Z"
    }
   },
   "cell_type": "code",
   "source": [
    "m2 = np.arange(5)\n",
    "m2"
   ],
   "id": "71b26aceb43b5ff0",
   "outputs": [
    {
     "data": {
      "text/plain": [
       "array([0, 1, 2, 3, 4])"
      ]
     },
     "execution_count": 132,
     "metadata": {},
     "output_type": "execute_result"
    }
   ],
   "execution_count": 132
  },
  {
   "metadata": {
    "ExecuteTime": {
     "end_time": "2024-06-30T06:28:16.151338Z",
     "start_time": "2024-06-30T06:28:16.147843Z"
    }
   },
   "cell_type": "code",
   "source": "m2.T",
   "id": "c09dc5544eec22b8",
   "outputs": [
    {
     "data": {
      "text/plain": [
       "array([0, 1, 2, 3, 4])"
      ]
     },
     "execution_count": 133,
     "metadata": {},
     "output_type": "execute_result"
    }
   ],
   "execution_count": 133
  },
  {
   "metadata": {
    "ExecuteTime": {
     "end_time": "2024-06-30T06:28:21.016142Z",
     "start_time": "2024-06-30T06:28:21.013029Z"
    }
   },
   "cell_type": "code",
   "source": [
    "m2r = m2.reshape(1, 5)\n",
    "m2r"
   ],
   "id": "334d88cedf93999d",
   "outputs": [
    {
     "data": {
      "text/plain": [
       "array([[0, 1, 2, 3, 4]])"
      ]
     },
     "execution_count": 134,
     "metadata": {},
     "output_type": "execute_result"
    }
   ],
   "execution_count": 134
  },
  {
   "metadata": {
    "ExecuteTime": {
     "end_time": "2024-06-30T06:28:24.242769Z",
     "start_time": "2024-06-30T06:28:24.239952Z"
    }
   },
   "cell_type": "code",
   "source": "m2r.T",
   "id": "2fa3bacc854d763d",
   "outputs": [
    {
     "data": {
      "text/plain": [
       "array([[0],\n",
       "       [1],\n",
       "       [2],\n",
       "       [3],\n",
       "       [4]])"
      ]
     },
     "execution_count": 135,
     "metadata": {},
     "output_type": "execute_result"
    }
   ],
   "execution_count": 135
  },
  {
   "metadata": {
    "ExecuteTime": {
     "end_time": "2024-06-30T06:28:28.674560Z",
     "start_time": "2024-06-30T06:28:28.671833Z"
    }
   },
   "cell_type": "code",
   "source": [
    "n1 = np.arange(10).reshape(2, 5)\n",
    "n1"
   ],
   "id": "48d681ae1020e152",
   "outputs": [
    {
     "data": {
      "text/plain": [
       "array([[0, 1, 2, 3, 4],\n",
       "       [5, 6, 7, 8, 9]])"
      ]
     },
     "execution_count": 136,
     "metadata": {},
     "output_type": "execute_result"
    }
   ],
   "execution_count": 136
  },
  {
   "metadata": {
    "ExecuteTime": {
     "end_time": "2024-06-30T06:28:32.774272Z",
     "start_time": "2024-06-30T06:28:32.771350Z"
    }
   },
   "cell_type": "code",
   "source": [
    "n2 = np.arange(15).reshape(5, 3)\n",
    "n2"
   ],
   "id": "769433b818b4faee",
   "outputs": [
    {
     "data": {
      "text/plain": [
       "array([[ 0,  1,  2],\n",
       "       [ 3,  4,  5],\n",
       "       [ 6,  7,  8],\n",
       "       [ 9, 10, 11],\n",
       "       [12, 13, 14]])"
      ]
     },
     "execution_count": 137,
     "metadata": {},
     "output_type": "execute_result"
    }
   ],
   "execution_count": 137
  },
  {
   "metadata": {
    "ExecuteTime": {
     "end_time": "2024-06-30T06:28:37.986325Z",
     "start_time": "2024-06-30T06:28:37.983299Z"
    }
   },
   "cell_type": "code",
   "source": "n1.dot(n2)",
   "id": "d770c98781277eba",
   "outputs": [
    {
     "data": {
      "text/plain": [
       "array([[ 90, 100, 110],\n",
       "       [240, 275, 310]])"
      ]
     },
     "execution_count": 138,
     "metadata": {},
     "output_type": "execute_result"
    }
   ],
   "execution_count": 138
  },
  {
   "metadata": {
    "ExecuteTime": {
     "end_time": "2024-06-30T06:28:41.900806Z",
     "start_time": "2024-06-30T06:28:41.897641Z"
    }
   },
   "cell_type": "code",
   "source": [
    "import numpy.linalg as linalg\n",
    "\n",
    "m3 = np.array([[1, 2, 3], [5, 7, 11], [21, 29, 31]])\n",
    "m3"
   ],
   "id": "27d01fd772c87b85",
   "outputs": [
    {
     "data": {
      "text/plain": [
       "array([[ 1,  2,  3],\n",
       "       [ 5,  7, 11],\n",
       "       [21, 29, 31]])"
      ]
     },
     "execution_count": 139,
     "metadata": {},
     "output_type": "execute_result"
    }
   ],
   "execution_count": 139
  },
  {
   "metadata": {
    "ExecuteTime": {
     "end_time": "2024-06-30T06:28:52.309842Z",
     "start_time": "2024-06-30T06:28:52.303585Z"
    }
   },
   "cell_type": "code",
   "source": "linalg.inv(m3)",
   "id": "689fdaf673702fdb",
   "outputs": [
    {
     "data": {
      "text/plain": [
       "array([[-2.31818182,  0.56818182,  0.02272727],\n",
       "       [ 1.72727273, -0.72727273,  0.09090909],\n",
       "       [-0.04545455,  0.29545455, -0.06818182]])"
      ]
     },
     "execution_count": 140,
     "metadata": {},
     "output_type": "execute_result"
    }
   ],
   "execution_count": 140
  },
  {
   "metadata": {
    "ExecuteTime": {
     "end_time": "2024-06-30T06:28:55.602651Z",
     "start_time": "2024-06-30T06:28:55.595938Z"
    }
   },
   "cell_type": "code",
   "source": "linalg.pinv(m3)",
   "id": "920be1cb007e28be",
   "outputs": [
    {
     "data": {
      "text/plain": [
       "array([[-2.31818182,  0.56818182,  0.02272727],\n",
       "       [ 1.72727273, -0.72727273,  0.09090909],\n",
       "       [-0.04545455,  0.29545455, -0.06818182]])"
      ]
     },
     "execution_count": 141,
     "metadata": {},
     "output_type": "execute_result"
    }
   ],
   "execution_count": 141
  },
  {
   "metadata": {
    "ExecuteTime": {
     "end_time": "2024-06-30T06:29:00.076836Z",
     "start_time": "2024-06-30T06:29:00.073630Z"
    }
   },
   "cell_type": "code",
   "source": "m3.dot(linalg.inv(m3))",
   "id": "cf7ae2da6a4d2afd",
   "outputs": [
    {
     "data": {
      "text/plain": [
       "array([[ 1.00000000e+00, -1.66533454e-16,  2.77555756e-17],\n",
       "       [-1.40859546e-15,  1.00000000e+00,  5.55111512e-17],\n",
       "       [-4.65599781e-15, -2.27595720e-15,  1.00000000e+00]])"
      ]
     },
     "execution_count": 142,
     "metadata": {},
     "output_type": "execute_result"
    }
   ],
   "execution_count": 142
  },
  {
   "metadata": {
    "ExecuteTime": {
     "end_time": "2024-06-30T06:29:08.494221Z",
     "start_time": "2024-06-30T06:29:08.491810Z"
    }
   },
   "cell_type": "code",
   "source": "np.eye(3)",
   "id": "c3ff66393e0a2285",
   "outputs": [
    {
     "data": {
      "text/plain": [
       "array([[1., 0., 0.],\n",
       "       [0., 1., 0.],\n",
       "       [0., 0., 1.]])"
      ]
     },
     "execution_count": 143,
     "metadata": {},
     "output_type": "execute_result"
    }
   ],
   "execution_count": 143
  },
  {
   "metadata": {
    "ExecuteTime": {
     "end_time": "2024-06-30T06:29:16.936746Z",
     "start_time": "2024-06-30T06:29:16.933830Z"
    }
   },
   "cell_type": "code",
   "source": [
    "q, r = linalg.qr(m3)\n",
    "q"
   ],
   "id": "ad9a25c09af2367c",
   "outputs": [
    {
     "data": {
      "text/plain": [
       "array([[-0.04627448,  0.98786672,  0.14824986],\n",
       "       [-0.23137241,  0.13377362, -0.96362411],\n",
       "       [-0.97176411, -0.07889213,  0.22237479]])"
      ]
     },
     "execution_count": 144,
     "metadata": {},
     "output_type": "execute_result"
    }
   ],
   "execution_count": 144
  },
  {
   "metadata": {
    "ExecuteTime": {
     "end_time": "2024-06-30T06:29:31.093650Z",
     "start_time": "2024-06-30T06:29:31.089901Z"
    }
   },
   "cell_type": "code",
   "source": "r",
   "id": "d6c53bfc0f0f7228",
   "outputs": [
    {
     "data": {
      "text/plain": [
       "array([[-21.61018278, -29.89331494, -32.80860727],\n",
       "       [  0.        ,   0.62427688,   1.9894538 ],\n",
       "       [  0.        ,   0.        ,  -3.26149699]])"
      ]
     },
     "execution_count": 145,
     "metadata": {},
     "output_type": "execute_result"
    }
   ],
   "execution_count": 145
  },
  {
   "metadata": {
    "ExecuteTime": {
     "end_time": "2024-06-30T06:29:38.303153Z",
     "start_time": "2024-06-30T06:29:38.299735Z"
    }
   },
   "cell_type": "code",
   "source": "q.dot(r)",
   "id": "bb63ef772395255e",
   "outputs": [
    {
     "data": {
      "text/plain": [
       "array([[ 1.,  2.,  3.],\n",
       "       [ 5.,  7., 11.],\n",
       "       [21., 29., 31.]])"
      ]
     },
     "execution_count": 146,
     "metadata": {},
     "output_type": "execute_result"
    }
   ],
   "execution_count": 146
  },
  {
   "metadata": {
    "ExecuteTime": {
     "end_time": "2024-06-30T06:29:45.667679Z",
     "start_time": "2024-06-30T06:29:45.663099Z"
    }
   },
   "cell_type": "code",
   "source": "linalg.det(m3)",
   "id": "7ed7b4e875cbc251",
   "outputs": [
    {
     "data": {
      "text/plain": [
       "43.99999999999999"
      ]
     },
     "execution_count": 147,
     "metadata": {},
     "output_type": "execute_result"
    }
   ],
   "execution_count": 147
  },
  {
   "metadata": {
    "ExecuteTime": {
     "end_time": "2024-06-30T06:29:52.617133Z",
     "start_time": "2024-06-30T06:29:52.612440Z"
    }
   },
   "cell_type": "code",
   "source": [
    "eigenvalues, eigenvectors = linalg.eig(m3)\n",
    "eigenvalues"
   ],
   "id": "e35b561494f08c44",
   "outputs": [
    {
     "data": {
      "text/plain": [
       "array([42.26600592, -0.35798416, -2.90802176])"
      ]
     },
     "execution_count": 148,
     "metadata": {},
     "output_type": "execute_result"
    }
   ],
   "execution_count": 148
  },
  {
   "metadata": {
    "ExecuteTime": {
     "end_time": "2024-06-30T06:29:58.022419Z",
     "start_time": "2024-06-30T06:29:58.019514Z"
    }
   },
   "cell_type": "code",
   "source": "eigenvectors",
   "id": "e0eac6fb45fc6d0c",
   "outputs": [
    {
     "data": {
      "text/plain": [
       "array([[-0.08381182, -0.76283526, -0.18913107],\n",
       "       [-0.3075286 ,  0.64133975, -0.6853186 ],\n",
       "       [-0.94784057, -0.08225377,  0.70325518]])"
      ]
     },
     "execution_count": 149,
     "metadata": {},
     "output_type": "execute_result"
    }
   ],
   "execution_count": 149
  },
  {
   "metadata": {
    "ExecuteTime": {
     "end_time": "2024-06-30T06:30:34.998402Z",
     "start_time": "2024-06-30T06:30:34.995355Z"
    }
   },
   "cell_type": "code",
   "source": "m3.dot(eigenvectors) - eigenvalues * eigenvectors",
   "id": "bb502176d805c7d0",
   "outputs": [
    {
     "data": {
      "text/plain": [
       "array([[6.21724894e-15, 2.77555756e-16, 1.44328993e-15],\n",
       "       [0.00000000e+00, 3.44169138e-15, 5.55111512e-15],\n",
       "       [2.13162821e-14, 8.28850877e-15, 1.19904087e-14]])"
      ]
     },
     "execution_count": 150,
     "metadata": {},
     "output_type": "execute_result"
    }
   ],
   "execution_count": 150
  },
  {
   "metadata": {
    "ExecuteTime": {
     "end_time": "2024-06-30T06:30:52.335571Z",
     "start_time": "2024-06-30T06:30:52.332340Z"
    }
   },
   "cell_type": "code",
   "source": [
    "m4 = np.array([[1, 0, 0, 0, 2], [0, 0, 3, 0, 0], [0, 0, 0, 0, 0], [0, 2, 0, 0, 0]])\n",
    "m4"
   ],
   "id": "ecd69d65179509d4",
   "outputs": [
    {
     "data": {
      "text/plain": [
       "array([[1, 0, 0, 0, 2],\n",
       "       [0, 0, 3, 0, 0],\n",
       "       [0, 0, 0, 0, 0],\n",
       "       [0, 2, 0, 0, 0]])"
      ]
     },
     "execution_count": 151,
     "metadata": {},
     "output_type": "execute_result"
    }
   ],
   "execution_count": 151
  },
  {
   "metadata": {
    "ExecuteTime": {
     "end_time": "2024-06-30T06:30:56.272970Z",
     "start_time": "2024-06-30T06:30:56.269793Z"
    }
   },
   "cell_type": "code",
   "source": [
    "U, S_diag, V = linalg.svd(m4)\n",
    "U"
   ],
   "id": "c48746c5f96b4211",
   "outputs": [
    {
     "data": {
      "text/plain": [
       "array([[ 0.,  1.,  0.,  0.],\n",
       "       [ 1.,  0.,  0.,  0.],\n",
       "       [ 0.,  0.,  0.,  1.],\n",
       "       [ 0.,  0., -1.,  0.]])"
      ]
     },
     "execution_count": 152,
     "metadata": {},
     "output_type": "execute_result"
    }
   ],
   "execution_count": 152
  },
  {
   "metadata": {
    "ExecuteTime": {
     "end_time": "2024-06-30T06:30:59.580391Z",
     "start_time": "2024-06-30T06:30:59.577285Z"
    }
   },
   "cell_type": "code",
   "source": "S_diag",
   "id": "c69ba56c60c586e0",
   "outputs": [
    {
     "data": {
      "text/plain": [
       "array([3.        , 2.23606798, 2.        , 0.        ])"
      ]
     },
     "execution_count": 153,
     "metadata": {},
     "output_type": "execute_result"
    }
   ],
   "execution_count": 153
  },
  {
   "metadata": {
    "ExecuteTime": {
     "end_time": "2024-06-30T06:31:05.301046Z",
     "start_time": "2024-06-30T06:31:05.297901Z"
    }
   },
   "cell_type": "code",
   "source": [
    "S = np.zeros((4, 5))\n",
    "S[np.diag_indices(4)] = S_diag\n",
    "S"
   ],
   "id": "61ffceb3d5acec7d",
   "outputs": [
    {
     "data": {
      "text/plain": [
       "array([[3.        , 0.        , 0.        , 0.        , 0.        ],\n",
       "       [0.        , 2.23606798, 0.        , 0.        , 0.        ],\n",
       "       [0.        , 0.        , 2.        , 0.        , 0.        ],\n",
       "       [0.        , 0.        , 0.        , 0.        , 0.        ]])"
      ]
     },
     "execution_count": 154,
     "metadata": {},
     "output_type": "execute_result"
    }
   ],
   "execution_count": 154
  },
  {
   "metadata": {
    "ExecuteTime": {
     "end_time": "2024-06-30T06:31:09.458138Z",
     "start_time": "2024-06-30T06:31:09.454974Z"
    }
   },
   "cell_type": "code",
   "source": "V",
   "id": "20b8c0b806d22406",
   "outputs": [
    {
     "data": {
      "text/plain": [
       "array([[-0.        ,  0.        ,  1.        , -0.        ,  0.        ],\n",
       "       [ 0.4472136 , -0.        , -0.        , -0.        ,  0.89442719],\n",
       "       [ 0.        , -1.        ,  0.        ,  0.        ,  0.        ],\n",
       "       [ 0.        ,  0.        ,  0.        ,  1.        ,  0.        ],\n",
       "       [-0.89442719,  0.        ,  0.        ,  0.        ,  0.4472136 ]])"
      ]
     },
     "execution_count": 155,
     "metadata": {},
     "output_type": "execute_result"
    }
   ],
   "execution_count": 155
  },
  {
   "metadata": {
    "ExecuteTime": {
     "end_time": "2024-06-30T06:31:14.595641Z",
     "start_time": "2024-06-30T06:31:14.592454Z"
    }
   },
   "cell_type": "code",
   "source": "U.dot(S).dot(V)",
   "id": "e39e6ae7a3d124d0",
   "outputs": [
    {
     "data": {
      "text/plain": [
       "array([[1., 0., 0., 0., 2.],\n",
       "       [0., 0., 3., 0., 0.],\n",
       "       [0., 0., 0., 0., 0.],\n",
       "       [0., 2., 0., 0., 0.]])"
      ]
     },
     "execution_count": 156,
     "metadata": {},
     "output_type": "execute_result"
    }
   ],
   "execution_count": 156
  },
  {
   "metadata": {
    "ExecuteTime": {
     "end_time": "2024-06-30T06:31:22.251275Z",
     "start_time": "2024-06-30T06:31:22.248085Z"
    }
   },
   "cell_type": "code",
   "source": "np.diag(m3)",
   "id": "69471dab1d16fa3",
   "outputs": [
    {
     "data": {
      "text/plain": [
       "array([ 1,  7, 31])"
      ]
     },
     "execution_count": 157,
     "metadata": {},
     "output_type": "execute_result"
    }
   ],
   "execution_count": 157
  },
  {
   "metadata": {
    "ExecuteTime": {
     "end_time": "2024-06-30T06:31:29.728057Z",
     "start_time": "2024-06-30T06:31:29.723585Z"
    }
   },
   "cell_type": "code",
   "source": "np.trace(m3)",
   "id": "7074db44712ce821",
   "outputs": [
    {
     "data": {
      "text/plain": [
       "39"
      ]
     },
     "execution_count": 158,
     "metadata": {},
     "output_type": "execute_result"
    }
   ],
   "execution_count": 158
  },
  {
   "metadata": {
    "ExecuteTime": {
     "end_time": "2024-06-30T06:31:32.477336Z",
     "start_time": "2024-06-30T06:31:32.471794Z"
    }
   },
   "cell_type": "code",
   "source": [
    "coeffs = np.array([[2, 6], [5, 3]])\n",
    "depvars = np.array([6, -9])\n",
    "solution = linalg.solve(coeffs, depvars)\n",
    "solution"
   ],
   "id": "a342e01ad6c783c3",
   "outputs": [
    {
     "data": {
      "text/plain": [
       "array([-3.,  2.])"
      ]
     },
     "execution_count": 159,
     "metadata": {},
     "output_type": "execute_result"
    }
   ],
   "execution_count": 159
  },
  {
   "metadata": {
    "ExecuteTime": {
     "end_time": "2024-06-30T06:31:40.786564Z",
     "start_time": "2024-06-30T06:31:40.783570Z"
    }
   },
   "cell_type": "code",
   "source": "coeffs.dot(solution), depvars",
   "id": "f77eec7574e06722",
   "outputs": [
    {
     "data": {
      "text/plain": [
       "(array([ 6., -9.]), array([ 6, -9]))"
      ]
     },
     "execution_count": 160,
     "metadata": {},
     "output_type": "execute_result"
    }
   ],
   "execution_count": 160
  },
  {
   "metadata": {
    "ExecuteTime": {
     "end_time": "2024-06-30T06:31:45.863664Z",
     "start_time": "2024-06-30T06:31:45.860463Z"
    }
   },
   "cell_type": "code",
   "source": "np.allclose(coeffs.dot(solution), depvars)",
   "id": "5f848172bf16993a",
   "outputs": [
    {
     "data": {
      "text/plain": [
       "True"
      ]
     },
     "execution_count": 161,
     "metadata": {},
     "output_type": "execute_result"
    }
   ],
   "execution_count": 161
  },
  {
   "metadata": {
    "ExecuteTime": {
     "end_time": "2024-06-30T06:32:02.773304Z",
     "start_time": "2024-06-30T06:32:02.625697Z"
    }
   },
   "cell_type": "code",
   "source": [
    "import math\n",
    "\n",
    "data = np.empty((768, 1024))\n",
    "for y in range(768):\n",
    "    for x in range(1024):\n",
    "        data[y, x] = math.sin(x * y / 40.5)"
   ],
   "id": "74004df7e98c43c4",
   "outputs": [],
   "execution_count": 162
  },
  {
   "metadata": {
    "ExecuteTime": {
     "end_time": "2024-06-30T06:32:09.814560Z",
     "start_time": "2024-06-30T06:32:09.810258Z"
    }
   },
   "cell_type": "code",
   "source": [
    "x_coords = np.arange(0, 1024)\n",
    "y_coords = np.arange(0, 768)\n",
    "X, Y = np.meshgrid(x_coords, y_coords)\n",
    "X"
   ],
   "id": "d2e2dc5ed34b5801",
   "outputs": [
    {
     "data": {
      "text/plain": [
       "array([[   0,    1,    2, ..., 1021, 1022, 1023],\n",
       "       [   0,    1,    2, ..., 1021, 1022, 1023],\n",
       "       [   0,    1,    2, ..., 1021, 1022, 1023],\n",
       "       ...,\n",
       "       [   0,    1,    2, ..., 1021, 1022, 1023],\n",
       "       [   0,    1,    2, ..., 1021, 1022, 1023],\n",
       "       [   0,    1,    2, ..., 1021, 1022, 1023]])"
      ]
     },
     "execution_count": 163,
     "metadata": {},
     "output_type": "execute_result"
    }
   ],
   "execution_count": 163
  },
  {
   "metadata": {
    "ExecuteTime": {
     "end_time": "2024-06-30T06:32:14.733230Z",
     "start_time": "2024-06-30T06:32:14.729865Z"
    }
   },
   "cell_type": "code",
   "source": "Y",
   "id": "53619727f465865",
   "outputs": [
    {
     "data": {
      "text/plain": [
       "array([[  0,   0,   0, ...,   0,   0,   0],\n",
       "       [  1,   1,   1, ...,   1,   1,   1],\n",
       "       [  2,   2,   2, ...,   2,   2,   2],\n",
       "       ...,\n",
       "       [765, 765, 765, ..., 765, 765, 765],\n",
       "       [766, 766, 766, ..., 766, 766, 766],\n",
       "       [767, 767, 767, ..., 767, 767, 767]])"
      ]
     },
     "execution_count": 164,
     "metadata": {},
     "output_type": "execute_result"
    }
   ],
   "execution_count": 164
  },
  {
   "metadata": {
    "ExecuteTime": {
     "end_time": "2024-06-30T06:32:23.013931Z",
     "start_time": "2024-06-30T06:32:23.002447Z"
    }
   },
   "cell_type": "code",
   "source": "data = np.sin(X * Y / 40.5)",
   "id": "923095bf5223b0d8",
   "outputs": [],
   "execution_count": 165
  },
  {
   "metadata": {
    "ExecuteTime": {
     "end_time": "2024-06-30T06:32:29.045726Z",
     "start_time": "2024-06-30T06:32:28.859945Z"
    }
   },
   "cell_type": "code",
   "source": [
    "import matplotlib.pyplot as plt\n",
    "import matplotlib.cm as cm\n",
    "\n",
    "fig = plt.figure(1, figsize=(7, 6))\n",
    "plt.imshow(data, cmap=cm.hot)\n",
    "plt.show()"
   ],
   "id": "5549245555402d8f",
   "outputs": [
    {
     "data": {
      "text/plain": [
       "<Figure size 700x600 with 1 Axes>"
      ],
      "image/png": "[encoded data removed]"
     },
     "metadata": {},
     "output_type": "display_data"
    }
   ],
   "execution_count": 166
  },
  {
   "metadata": {
    "ExecuteTime": {
     "end_time": "2024-06-30T06:35:41.094217Z",
     "start_time": "2024-06-30T06:35:41.090776Z"
    }
   },
   "cell_type": "code",
   "source": [
    "a = np.random.rand(2, 3)\n",
    "a"
   ],
   "id": "df732a5485db0eb8",
   "outputs": [
    {
     "data": {
      "text/plain": [
       "array([[0.94234455, 0.55597129, 0.22149058],\n",
       "       [0.05311546, 0.49937373, 0.94254521]])"
      ]
     },
     "execution_count": 167,
     "metadata": {},
     "output_type": "execute_result"
    }
   ],
   "execution_count": 167
  },
  {
   "metadata": {
    "ExecuteTime": {
     "end_time": "2024-06-30T06:35:48.359121Z",
     "start_time": "2024-06-30T06:35:48.354207Z"
    }
   },
   "cell_type": "code",
   "source": "np.save(\"my_array\", a)",
   "id": "ef1f3c4763d18ecf",
   "outputs": [],
   "execution_count": 168
  },
  {
   "metadata": {
    "ExecuteTime": {
     "end_time": "2024-06-30T06:35:51.724473Z",
     "start_time": "2024-06-30T06:35:51.721172Z"
    }
   },
   "cell_type": "code",
   "source": [
    "with open(\"my_array.npy\", \"rb\") as f:\n",
    "    content = f.read()\n",
    "\n",
    "content"
   ],
   "id": "6f6ed29e6a1fae6d",
   "outputs": [
    {
     "data": {
      "text/plain": [
       "b\"\\x93NUMPY\\x01\\x00v\\x00{'descr': '<f8', 'fortran_order': False, 'shape': (2, 3), }                                                          \\n-I\\xec\\xc1\\xaf'\\xee?\\xad\\x83\\xebK\\x84\\xca\\xe1?(\\x14\\xf9\\x9c\\xcdY\\xcc?\\x00\\x97\\x97>\\xf31\\xab?\\xc2\\xe3]<\\xbd\\xf5\\xdf?]\\xc5_\\x90T)\\xee?\""
      ]
     },
     "execution_count": 169,
     "metadata": {},
     "output_type": "execute_result"
    }
   ],
   "execution_count": 169
  },
  {
   "metadata": {
    "ExecuteTime": {
     "end_time": "2024-06-30T06:35:55.058948Z",
     "start_time": "2024-06-30T06:35:55.054824Z"
    }
   },
   "cell_type": "code",
   "source": [
    "a_loaded = np.load(\"my_array.npy\")\n",
    "a_loaded"
   ],
   "id": "63ce70db0f8aeb54",
   "outputs": [
    {
     "data": {
      "text/plain": [
       "array([[0.94234455, 0.55597129, 0.22149058],\n",
       "       [0.05311546, 0.49937373, 0.94254521]])"
      ]
     },
     "execution_count": 170,
     "metadata": {},
     "output_type": "execute_result"
    }
   ],
   "execution_count": 170
  },
  {
   "metadata": {
    "ExecuteTime": {
     "end_time": "2024-06-30T06:36:06.866210Z",
     "start_time": "2024-06-30T06:36:06.861466Z"
    }
   },
   "cell_type": "code",
   "source": "np.savetxt(\"my_array.csv\", a)",
   "id": "77b29b16e8b51c4e",
   "outputs": [],
   "execution_count": 171
  },
  {
   "metadata": {
    "ExecuteTime": {
     "end_time": "2024-06-30T06:36:10.700878Z",
     "start_time": "2024-06-30T06:36:10.698305Z"
    }
   },
   "cell_type": "code",
   "source": [
    "with open(\"my_array.csv\", \"rt\") as f:\n",
    "    print(f.read())"
   ],
   "id": "8b6513c001df93dd",
   "outputs": [
    {
     "name": "stdout",
     "output_type": "stream",
     "text": [
      "9.423445498999051262e-01 5.559712870418614949e-01 2.214905754537153104e-01\n",
      "5.311546458305649310e-02 4.993737306136233345e-01 9.425452060515159269e-01\n",
      "\n"
     ]
    }
   ],
   "execution_count": 172
  },
  {
   "metadata": {
    "ExecuteTime": {
     "end_time": "2024-06-30T06:36:14.084480Z",
     "start_time": "2024-06-30T06:36:14.081318Z"
    }
   },
   "cell_type": "code",
   "source": "np.savetxt(\"my_array.csv\", a, delimiter=\",\")",
   "id": "b94e01263db56efc",
   "outputs": [],
   "execution_count": 173
  },
  {
   "metadata": {
    "ExecuteTime": {
     "end_time": "2024-06-30T06:36:17.115834Z",
     "start_time": "2024-06-30T06:36:17.110804Z"
    }
   },
   "cell_type": "code",
   "source": [
    "a_loaded = np.loadtxt(\"my_array.csv\", delimiter=\",\")\n",
    "a_loaded"
   ],
   "id": "29b3bee1210ed653",
   "outputs": [
    {
     "data": {
      "text/plain": [
       "array([[0.94234455, 0.55597129, 0.22149058],\n",
       "       [0.05311546, 0.49937373, 0.94254521]])"
      ]
     },
     "execution_count": 174,
     "metadata": {},
     "output_type": "execute_result"
    }
   ],
   "execution_count": 174
  },
  {
   "metadata": {
    "ExecuteTime": {
     "end_time": "2024-06-30T06:36:20.134035Z",
     "start_time": "2024-06-30T06:36:20.131130Z"
    }
   },
   "cell_type": "code",
   "source": [
    "b = np.arange(24, dtype=np.uint8).reshape(2, 3, 4)\n",
    "b"
   ],
   "id": "8d9049fd2151c73d",
   "outputs": [
    {
     "data": {
      "text/plain": [
       "array([[[ 0,  1,  2,  3],\n",
       "        [ 4,  5,  6,  7],\n",
       "        [ 8,  9, 10, 11]],\n",
       "\n",
       "       [[12, 13, 14, 15],\n",
       "        [16, 17, 18, 19],\n",
       "        [20, 21, 22, 23]]], dtype=uint8)"
      ]
     },
     "execution_count": 175,
     "metadata": {},
     "output_type": "execute_result"
    }
   ],
   "execution_count": 175
  },
  {
   "metadata": {
    "ExecuteTime": {
     "end_time": "2024-06-30T06:36:26.835100Z",
     "start_time": "2024-06-30T06:36:26.832055Z"
    }
   },
   "cell_type": "code",
   "source": "np.savez(\"my_arrays\", my_a=a, my_b=b)",
   "id": "a36d84cac8427a9e",
   "outputs": [],
   "execution_count": 176
  },
  {
   "metadata": {
    "ExecuteTime": {
     "end_time": "2024-06-30T06:36:41.257149Z",
     "start_time": "2024-06-30T06:36:41.253939Z"
    }
   },
   "cell_type": "code",
   "source": [
    "with open(\"my_arrays.npz\", \"rb\") as f:\n",
    "    content = f.read()\n",
    "\n",
    "repr(content)[:180] + \"[...]\""
   ],
   "id": "7e62f3b5c452e87a",
   "outputs": [
    {
     "data": {
      "text/plain": [
       "'b\"PK\\\\x03\\\\x04-\\\\x00\\\\x00\\\\x00\\\\x00\\\\x00\\\\x00\\\\x00!\\\\x00\\\\xc0`s\\\\xa4\\\\xff\\\\xff\\\\xff\\\\xff\\\\xff\\\\xff\\\\xff\\\\xff\\\\x08\\\\x00\\\\x14\\\\x00my_a.npy\\\\x01\\\\x00\\\\x10\\\\x00\\\\xb0\\\\x00\\\\x00\\\\x00\\\\x00\\\\x00\\\\x00\\\\x00\\\\xb0\\\\x00\\\\x00\\\\x00\\\\x00[...]'"
      ]
     },
     "execution_count": 177,
     "metadata": {},
     "output_type": "execute_result"
    }
   ],
   "execution_count": 177
  },
  {
   "metadata": {
    "ExecuteTime": {
     "end_time": "2024-06-30T06:36:49.516954Z",
     "start_time": "2024-06-30T06:36:49.509937Z"
    }
   },
   "cell_type": "code",
   "source": [
    "my_arrays = np.load(\"my_arrays.npz\")\n",
    "my_arrays"
   ],
   "id": "83a78255736a15d7",
   "outputs": [
    {
     "data": {
      "text/plain": [
       "NpzFile 'my_arrays.npz' with keys: my_a, my_b"
      ]
     },
     "execution_count": 178,
     "metadata": {},
     "output_type": "execute_result"
    }
   ],
   "execution_count": 178
  },
  {
   "metadata": {
    "ExecuteTime": {
     "end_time": "2024-06-30T06:36:53.892344Z",
     "start_time": "2024-06-30T06:36:53.888106Z"
    }
   },
   "cell_type": "code",
   "source": "my_arrays.keys()",
   "id": "9786710755c5e64b",
   "outputs": [
    {
     "data": {
      "text/plain": [
       "KeysView(NpzFile 'my_arrays.npz' with keys: my_a, my_b)"
      ]
     },
     "execution_count": 179,
     "metadata": {},
     "output_type": "execute_result"
    }
   ],
   "execution_count": 179
  },
  {
   "metadata": {
    "ExecuteTime": {
     "end_time": "2024-06-30T06:36:57.210705Z",
     "start_time": "2024-06-30T06:36:57.206997Z"
    }
   },
   "cell_type": "code",
   "source": "my_arrays[\"my_a\"]",
   "id": "f1dd41eb47fac7f4",
   "outputs": [
    {
     "data": {
      "text/plain": [
       "array([[0.94234455, 0.55597129, 0.22149058],\n",
       "       [0.05311546, 0.49937373, 0.94254521]])"
      ]
     },
     "execution_count": 180,
     "metadata": {},
     "output_type": "execute_result"
    }
   ],
   "execution_count": 180
  }
 ],
 "metadata": {
  "kernelspec": {
   "display_name": "Python 3",
   "language": "python",
   "name": "python3"
  },
  "language_info": {
   "codemirror_mode": {
    "name": "ipython",
    "version": 2
   },
   "file_extension": ".py",
   "mimetype": "text/x-python",
   "name": "python",
   "nbconvert_exporter": "python",
   "pygments_lexer": "ipython2",
   "version": "2.7.6"
  }
 },
 "nbformat": 4,
 "nbformat_minor": 5
}
