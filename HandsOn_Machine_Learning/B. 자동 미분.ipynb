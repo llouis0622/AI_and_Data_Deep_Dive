{
 "cells": [
  {
   "metadata": {},
   "cell_type": "markdown",
   "source": [
    "# 1. 수동 미분\n",
    "\n",
    "- 직접 미적분을 통한 편도함수 유도\n",
    "- 매우 번거롭고 실수 가능성 존재\n",
    "\n",
    "# 2. 유한 차분 근사(Finite Difference Approximation)\n",
    "\n",
    "- 함수 → 도함수 : 해당 포인트에서 함수의 기울기\n",
    "- 해당 포인트에 무한히 가까워질 때 두 점을 지나는 접선의 기울기\n",
    "- 매우 작은 수를 사용해 도함수를 구하는 수치적 근사 방법\n",
    "- 뉴턴의 차분몫(Newton’s Difference Quotient) 방정식 사용\n",
    "\n",
    "# 3. 전진 모드 자동 미분\n",
    "\n",
    "- 입력에서 출력까지 계산 그래프를 따라 진행\n",
    "- 리프 노드 편도함수 → 곱셈 노드 → 덧셈 노드\n",
    "- 기호 미분(Symbolic Differentiation) : 전진 모드 자동 미분으로 다른 계산 그래프를 생성한 것\n",
    "\n",
    "# 4. 후진 모드 자동 미분(Reverse-Mode Autodiff)\n",
    "\n",
    "- 정방향으로 그래프 실행 → 각 노드 값 계산\n",
    "- 역방향으로 실행 → 모든 편도함수 계산\n",
    "- 미분 연쇄 법칙 사용"
   ],
   "id": "a410e6c110a9c6ee"
  },
  {
   "cell_type": "code",
   "id": "initial_id",
   "metadata": {
    "collapsed": true,
    "ExecuteTime": {
     "end_time": "2024-06-29T06:09:20.087984Z",
     "start_time": "2024-06-29T06:09:20.083529Z"
    }
   },
   "source": [
    "def f(x, y):\n",
    "    return x * x * y + y + 2"
   ],
   "outputs": [],
   "execution_count": 1
  },
  {
   "metadata": {
    "ExecuteTime": {
     "end_time": "2024-06-29T06:09:28.815067Z",
     "start_time": "2024-06-29T06:09:28.812763Z"
    }
   },
   "cell_type": "code",
   "source": [
    "def df(x, y):\n",
    "    return 2 * x * y, x * x + 1"
   ],
   "id": "baaf3d0606b7ce3d",
   "outputs": [],
   "execution_count": 2
  },
  {
   "metadata": {
    "ExecuteTime": {
     "end_time": "2024-06-29T06:09:32.539496Z",
     "start_time": "2024-06-29T06:09:32.535049Z"
    }
   },
   "cell_type": "code",
   "source": "df(3, 4)",
   "id": "8a8b4d07bc4d7d82",
   "outputs": [
    {
     "data": {
      "text/plain": [
       "(24, 10)"
      ]
     },
     "execution_count": 3,
     "metadata": {},
     "output_type": "execute_result"
    }
   ],
   "execution_count": 3
  },
  {
   "metadata": {
    "ExecuteTime": {
     "end_time": "2024-06-29T06:09:36.280138Z",
     "start_time": "2024-06-29T06:09:36.277728Z"
    }
   },
   "cell_type": "code",
   "source": [
    "def d2f(x, y):\n",
    "    return [2 * y, 2 * x], [2 * x, 0]"
   ],
   "id": "99d6f84e62c74561",
   "outputs": [],
   "execution_count": 4
  },
  {
   "metadata": {
    "ExecuteTime": {
     "end_time": "2024-06-29T06:09:39.745685Z",
     "start_time": "2024-06-29T06:09:39.742478Z"
    }
   },
   "cell_type": "code",
   "source": "d2f(3, 4)",
   "id": "4d2c6f4325c4714b",
   "outputs": [
    {
     "data": {
      "text/plain": [
       "([8, 6], [6, 0])"
      ]
     },
     "execution_count": 5,
     "metadata": {},
     "output_type": "execute_result"
    }
   ],
   "execution_count": 5
  },
  {
   "metadata": {
    "ExecuteTime": {
     "end_time": "2024-06-29T06:09:47.198441Z",
     "start_time": "2024-06-29T06:09:47.195814Z"
    }
   },
   "cell_type": "code",
   "source": [
    "def gradients(func, vars_list, eps=0.0001):\n",
    "    partial_derivatives = []\n",
    "    base_func_eval = func(*vars_list)\n",
    "    for idx in range(len(vars_list)):\n",
    "        tweaked_vars = vars_list[:]\n",
    "        tweaked_vars[idx] += eps\n",
    "        tweaked_func_eval = func(*tweaked_vars)\n",
    "        derivative = (tweaked_func_eval - base_func_eval) / eps\n",
    "        partial_derivatives.append(derivative)\n",
    "    return partial_derivatives"
   ],
   "id": "5d47f31972673cd5",
   "outputs": [],
   "execution_count": 6
  },
  {
   "metadata": {
    "ExecuteTime": {
     "end_time": "2024-06-29T06:09:51.872836Z",
     "start_time": "2024-06-29T06:09:51.870584Z"
    }
   },
   "cell_type": "code",
   "source": [
    "def df(x, y):\n",
    "    return gradients(f, [x, y])"
   ],
   "id": "c433859a80859091",
   "outputs": [],
   "execution_count": 7
  },
  {
   "metadata": {
    "ExecuteTime": {
     "end_time": "2024-06-29T06:09:55.087277Z",
     "start_time": "2024-06-29T06:09:55.084196Z"
    }
   },
   "cell_type": "code",
   "source": "df(3, 4)",
   "id": "8f2090ffb99ff722",
   "outputs": [
    {
     "data": {
      "text/plain": [
       "[24.000400000048216, 10.000000000047748]"
      ]
     },
     "execution_count": 8,
     "metadata": {},
     "output_type": "execute_result"
    }
   ],
   "execution_count": 8
  },
  {
   "metadata": {
    "ExecuteTime": {
     "end_time": "2024-06-29T06:09:59.598416Z",
     "start_time": "2024-06-29T06:09:59.594719Z"
    }
   },
   "cell_type": "code",
   "source": [
    "def dfdx(x, y):\n",
    "    return gradients(f, [x, y])[0]\n",
    "\n",
    "\n",
    "def dfdy(x, y):\n",
    "    return gradients(f, [x, y])[1]\n",
    "\n",
    "\n",
    "dfdx(3., 4.), dfdy(3., 4.)"
   ],
   "id": "7df791d1a7be0775",
   "outputs": [
    {
     "data": {
      "text/plain": [
       "(24.000400000048216, 10.000000000047748)"
      ]
     },
     "execution_count": 9,
     "metadata": {},
     "output_type": "execute_result"
    }
   ],
   "execution_count": 9
  },
  {
   "metadata": {
    "ExecuteTime": {
     "end_time": "2024-06-29T06:10:06.182707Z",
     "start_time": "2024-06-29T06:10:06.180411Z"
    }
   },
   "cell_type": "code",
   "source": [
    "def d2f(x, y):\n",
    "    return [gradients(dfdx, [3., 4.]), gradients(dfdy, [3., 4.])]"
   ],
   "id": "edd22d700a614b74",
   "outputs": [],
   "execution_count": 10
  },
  {
   "metadata": {
    "ExecuteTime": {
     "end_time": "2024-06-29T06:10:09.372493Z",
     "start_time": "2024-06-29T06:10:09.369316Z"
    }
   },
   "cell_type": "code",
   "source": "d2f(3, 4)",
   "id": "5741952b6ebbca46",
   "outputs": [
    {
     "data": {
      "text/plain": [
       "[[7.999999951380232, 6.000099261882497],\n",
       " [6.000099261882497, -1.4210854715202004e-06]]"
      ]
     },
     "execution_count": 11,
     "metadata": {},
     "output_type": "execute_result"
    }
   ],
   "execution_count": 11
  },
  {
   "metadata": {
    "ExecuteTime": {
     "end_time": "2024-06-29T06:10:15.267994Z",
     "start_time": "2024-06-29T06:10:15.263882Z"
    }
   },
   "cell_type": "code",
   "source": [
    "class Const(object):\n",
    "    def __init__(self, value):\n",
    "        self.value = value\n",
    "\n",
    "    def evaluate(self):\n",
    "        return self.value\n",
    "\n",
    "    def __str__(self):\n",
    "        return str(self.value)\n",
    "\n",
    "\n",
    "class Var(object):\n",
    "    def __init__(self, name, init_value=0):\n",
    "        self.value = init_value\n",
    "        self.name = name\n",
    "\n",
    "    def evaluate(self):\n",
    "        return self.value\n",
    "\n",
    "    def __str__(self):\n",
    "        return self.name\n",
    "\n",
    "\n",
    "class BinaryOperator(object):\n",
    "    def __init__(self, a, b):\n",
    "        self.a = a\n",
    "        self.b = b\n",
    "\n",
    "\n",
    "class Add(BinaryOperator):\n",
    "    def evaluate(self):\n",
    "        return self.a.evaluate() + self.b.evaluate()\n",
    "\n",
    "    def __str__(self):\n",
    "        return \"{} + {}\".format(self.a, self.b)\n",
    "\n",
    "\n",
    "class Mul(BinaryOperator):\n",
    "    def evaluate(self):\n",
    "        return self.a.evaluate() * self.b.evaluate()\n",
    "\n",
    "    def __str__(self):\n",
    "        return \"({}) * ({})\".format(self.a, self.b)"
   ],
   "id": "1b12852fc17658b7",
   "outputs": [],
   "execution_count": 12
  },
  {
   "metadata": {
    "ExecuteTime": {
     "end_time": "2024-06-29T06:10:26.214617Z",
     "start_time": "2024-06-29T06:10:26.212017Z"
    }
   },
   "cell_type": "code",
   "source": [
    "x = Var(\"x\")\n",
    "y = Var(\"y\")\n",
    "f = Add(Mul(Mul(x, x), y), Add(y, Const(2)))"
   ],
   "id": "bff89d0be097c36f",
   "outputs": [],
   "execution_count": 13
  },
  {
   "metadata": {
    "ExecuteTime": {
     "end_time": "2024-06-29T06:10:29.114459Z",
     "start_time": "2024-06-29T06:10:29.111061Z"
    }
   },
   "cell_type": "code",
   "source": [
    "x.value = 3\n",
    "y.value = 4\n",
    "f.evaluate()"
   ],
   "id": "e12cb0a69543a0bd",
   "outputs": [
    {
     "data": {
      "text/plain": [
       "42"
      ]
     },
     "execution_count": 14,
     "metadata": {},
     "output_type": "execute_result"
    }
   ],
   "execution_count": 14
  },
  {
   "metadata": {
    "ExecuteTime": {
     "end_time": "2024-06-29T06:10:32.775289Z",
     "start_time": "2024-06-29T06:10:32.772087Z"
    }
   },
   "cell_type": "code",
   "source": [
    "from math import sin\n",
    "\n",
    "\n",
    "def z(x):\n",
    "    return sin(x ** 2)\n",
    "\n",
    "\n",
    "gradients(z, [3])"
   ],
   "id": "a4330e675ef71f15",
   "outputs": [
    {
     "data": {
      "text/plain": [
       "[-5.46761419430053]"
      ]
     },
     "execution_count": 15,
     "metadata": {},
     "output_type": "execute_result"
    }
   ],
   "execution_count": 15
  },
  {
   "metadata": {
    "ExecuteTime": {
     "end_time": "2024-06-29T06:10:38.453884Z",
     "start_time": "2024-06-29T06:10:38.448581Z"
    }
   },
   "cell_type": "code",
   "source": [
    "Const.gradient = lambda self, var: Const(0)\n",
    "Var.gradient = lambda self, var: Const(1) if self is var else Const(0)\n",
    "Add.gradient = lambda self, var: Add(self.a.gradient(var), self.b.gradient(var))\n",
    "Mul.gradient = lambda self, var: Add(Mul(self.a, self.b.gradient(var)), Mul(self.a.gradient(var), self.b))\n",
    "\n",
    "x = Var(name=\"x\", init_value=3.)\n",
    "y = Var(name=\"y\", init_value=4.)\n",
    "f = Add(Mul(Mul(x, x), y), Add(y, Const(2)))\n",
    "\n",
    "dfdx = f.gradient(x)\n",
    "dfdy = f.gradient(y)"
   ],
   "id": "ac4071edd72e04b1",
   "outputs": [],
   "execution_count": 16
  },
  {
   "metadata": {
    "ExecuteTime": {
     "end_time": "2024-06-29T06:10:51.511786Z",
     "start_time": "2024-06-29T06:10:51.508536Z"
    }
   },
   "cell_type": "code",
   "source": "dfdx.evaluate(), dfdy.evaluate()",
   "id": "beab7498844b182b",
   "outputs": [
    {
     "data": {
      "text/plain": [
       "(24.0, 10.0)"
      ]
     },
     "execution_count": 17,
     "metadata": {},
     "output_type": "execute_result"
    }
   ],
   "execution_count": 17
  },
  {
   "metadata": {
    "ExecuteTime": {
     "end_time": "2024-06-29T06:11:00.827351Z",
     "start_time": "2024-06-29T06:11:00.824979Z"
    }
   },
   "cell_type": "code",
   "source": [
    "d2fdxdx = dfdx.gradient(x)\n",
    "d2fdxdy = dfdx.gradient(y)\n",
    "d2fdydx = dfdy.gradient(x)\n",
    "d2fdydy = dfdy.gradient(y)"
   ],
   "id": "26956bcccf13b4fa",
   "outputs": [],
   "execution_count": 18
  },
  {
   "metadata": {
    "ExecuteTime": {
     "end_time": "2024-06-29T06:11:07.927245Z",
     "start_time": "2024-06-29T06:11:07.923558Z"
    }
   },
   "cell_type": "code",
   "source": "[[d2fdxdx.evaluate(), d2fdxdy.evaluate()], [d2fdydx.evaluate(), d2fdydy.evaluate()]]",
   "id": "77c272f634b73c84",
   "outputs": [
    {
     "data": {
      "text/plain": [
       "[[8.0, 6.0], [6.0, 0.0]]"
      ]
     },
     "execution_count": 19,
     "metadata": {},
     "output_type": "execute_result"
    }
   ],
   "execution_count": 19
  },
  {
   "metadata": {
    "ExecuteTime": {
     "end_time": "2024-06-29T06:11:25.043591Z",
     "start_time": "2024-06-29T06:11:25.010118Z"
    }
   },
   "cell_type": "code",
   "source": [
    "class DualNumber(object):\n",
    "    def __init__(self, value=0.0, eps=0.0):\n",
    "        self.value = value\n",
    "        self.eps = eps\n",
    "\n",
    "    def __add__(self, b):\n",
    "        return DualNumber(self.value + self.to_dual(b).value, self.eps + self.to_dual(b).eps)\n",
    "\n",
    "    def __radd__(self, a):\n",
    "        return self.to_dual(a).__add__(self)\n",
    "\n",
    "    def __mul__(self, b):\n",
    "        return DualNumber(self.value * self.to_dual(b).value,\n",
    "                          self.eps * self.to_dual(b).value + self.value * self.to_dual(b).eps)\n",
    "\n",
    "    def __rmul__(self, a):\n",
    "        return self.to_dual(a).__mul__(self)\n",
    "\n",
    "    def __str__(self):\n",
    "        if self.eps:\n",
    "            return \"{:.1f} + {:.1f}ε\".format(self.value, self.eps)\n",
    "        else:\n",
    "            return \"{:.1f}\".format(self.value)\n",
    "\n",
    "    def __repr__(self):\n",
    "        return str(self)\n",
    "\n",
    "    @classmethod\n",
    "    def to_dual(cls, n):\n",
    "        if hasattr(n, \"value\"):\n",
    "            return n\n",
    "        else:\n",
    "            return cls(n)"
   ],
   "id": "9d3e32a1bdd0225e",
   "outputs": [],
   "execution_count": 20
  },
  {
   "metadata": {
    "ExecuteTime": {
     "end_time": "2024-06-29T06:11:29.186747Z",
     "start_time": "2024-06-29T06:11:29.183629Z"
    }
   },
   "cell_type": "code",
   "source": "3 + DualNumber(3, 4)",
   "id": "7e661a46084429b5",
   "outputs": [
    {
     "data": {
      "text/plain": [
       "6.0 + 4.0ε"
      ]
     },
     "execution_count": 21,
     "metadata": {},
     "output_type": "execute_result"
    }
   ],
   "execution_count": 21
  },
  {
   "metadata": {
    "ExecuteTime": {
     "end_time": "2024-06-29T06:11:31.530811Z",
     "start_time": "2024-06-29T06:11:31.527967Z"
    }
   },
   "cell_type": "code",
   "source": "DualNumber(3, 4) * DualNumber(5, 7)",
   "id": "27127d28cb9c441",
   "outputs": [
    {
     "data": {
      "text/plain": [
       "15.0 + 41.0ε"
      ]
     },
     "execution_count": 22,
     "metadata": {},
     "output_type": "execute_result"
    }
   ],
   "execution_count": 22
  },
  {
   "metadata": {
    "ExecuteTime": {
     "end_time": "2024-06-29T06:11:34.127572Z",
     "start_time": "2024-06-29T06:11:34.124793Z"
    }
   },
   "cell_type": "code",
   "source": [
    "x.value = DualNumber(3.0)\n",
    "y.value = DualNumber(4.0)\n",
    "\n",
    "f.evaluate()"
   ],
   "id": "2606c2313d08019d",
   "outputs": [
    {
     "data": {
      "text/plain": [
       "42.0"
      ]
     },
     "execution_count": 23,
     "metadata": {},
     "output_type": "execute_result"
    }
   ],
   "execution_count": 23
  },
  {
   "metadata": {
    "ExecuteTime": {
     "end_time": "2024-06-29T06:11:45.065966Z",
     "start_time": "2024-06-29T06:11:45.063209Z"
    }
   },
   "cell_type": "code",
   "source": [
    "x.value = DualNumber(3.0, 1.0)\n",
    "y.value = DualNumber(4.0)\n",
    "\n",
    "dfdx = f.evaluate().eps\n",
    "\n",
    "x.value = DualNumber(3.0)\n",
    "y.value = DualNumber(4.0, 1.0)\n",
    "\n",
    "dfdy = f.evaluate().eps"
   ],
   "id": "3ccc0ab1574fa0f2",
   "outputs": [],
   "execution_count": 24
  },
  {
   "metadata": {
    "ExecuteTime": {
     "end_time": "2024-06-29T06:11:51.057483Z",
     "start_time": "2024-06-29T06:11:51.055063Z"
    }
   },
   "cell_type": "code",
   "source": "dfdx",
   "id": "d18c3879a87e45ae",
   "outputs": [
    {
     "data": {
      "text/plain": [
       "24.0"
      ]
     },
     "execution_count": 25,
     "metadata": {},
     "output_type": "execute_result"
    }
   ],
   "execution_count": 25
  },
  {
   "metadata": {
    "ExecuteTime": {
     "end_time": "2024-06-29T06:11:54.926232Z",
     "start_time": "2024-06-29T06:11:54.923224Z"
    }
   },
   "cell_type": "code",
   "source": "dfdy",
   "id": "bd81ce69cbea7dac",
   "outputs": [
    {
     "data": {
      "text/plain": [
       "10.0"
      ]
     },
     "execution_count": 26,
     "metadata": {},
     "output_type": "execute_result"
    }
   ],
   "execution_count": 26
  },
  {
   "metadata": {
    "ExecuteTime": {
     "end_time": "2024-06-29T06:11:58.211784Z",
     "start_time": "2024-06-29T06:11:58.206703Z"
    }
   },
   "cell_type": "code",
   "source": [
    "class Const(object):\n",
    "    def __init__(self, value):\n",
    "        self.value = value\n",
    "\n",
    "    def evaluate(self):\n",
    "        return self.value\n",
    "\n",
    "    def backpropagate(self, gradient):\n",
    "        pass\n",
    "\n",
    "    def __str__(self):\n",
    "        return str(self.value)\n",
    "\n",
    "\n",
    "class Var(object):\n",
    "    def __init__(self, name, init_value=0):\n",
    "        self.value = init_value\n",
    "        self.name = name\n",
    "        self.gradient = 0\n",
    "\n",
    "    def evaluate(self):\n",
    "        return self.value\n",
    "\n",
    "    def backpropagate(self, gradient):\n",
    "        self.gradient += gradient\n",
    "\n",
    "    def __str__(self):\n",
    "        return self.name\n",
    "\n",
    "\n",
    "class BinaryOperator(object):\n",
    "    def __init__(self, a, b):\n",
    "        self.a = a\n",
    "        self.b = b\n",
    "\n",
    "\n",
    "class Add(BinaryOperator):\n",
    "    def evaluate(self):\n",
    "        self.value = self.a.evaluate() + self.b.evaluate()\n",
    "        return self.value\n",
    "\n",
    "    def backpropagate(self, gradient):\n",
    "        self.a.backpropagate(gradient)\n",
    "        self.b.backpropagate(gradient)\n",
    "\n",
    "    def __str__(self):\n",
    "        return \"{} + {}\".format(self.a, self.b)\n",
    "\n",
    "\n",
    "class Mul(BinaryOperator):\n",
    "    def evaluate(self):\n",
    "        self.value = self.a.evaluate() * self.b.evaluate()\n",
    "        return self.value\n",
    "\n",
    "    def backpropagate(self, gradient):\n",
    "        self.a.backpropagate(gradient * self.b.value)\n",
    "        self.b.backpropagate(gradient * self.a.value)\n",
    "\n",
    "    def __str__(self):\n",
    "        return \"({}) * ({})\".format(self.a, self.b)"
   ],
   "id": "bcb5e9fe01dea38",
   "outputs": [],
   "execution_count": 27
  },
  {
   "metadata": {
    "ExecuteTime": {
     "end_time": "2024-06-29T06:12:21.472233Z",
     "start_time": "2024-06-29T06:12:21.469481Z"
    }
   },
   "cell_type": "code",
   "source": [
    "x = Var(\"x\", init_value=3)\n",
    "y = Var(\"y\", init_value=4)\n",
    "f = Add(Mul(Mul(x, x), y), Add(y, Const(2)))\n",
    "\n",
    "result = f.evaluate()\n",
    "f.backpropagate(1.0)"
   ],
   "id": "a2a26c3657298347",
   "outputs": [],
   "execution_count": 28
  },
  {
   "metadata": {
    "ExecuteTime": {
     "end_time": "2024-06-29T06:12:26.733501Z",
     "start_time": "2024-06-29T06:12:26.731437Z"
    }
   },
   "cell_type": "code",
   "source": "print(f)",
   "id": "c83358b46188736b",
   "outputs": [
    {
     "name": "stdout",
     "output_type": "stream",
     "text": [
      "((x) * (x)) * (y) + y + 2\n"
     ]
    }
   ],
   "execution_count": 29
  },
  {
   "metadata": {
    "ExecuteTime": {
     "end_time": "2024-06-29T06:12:30.634786Z",
     "start_time": "2024-06-29T06:12:30.632065Z"
    }
   },
   "cell_type": "code",
   "source": "result",
   "id": "fc16254501bb8d14",
   "outputs": [
    {
     "data": {
      "text/plain": [
       "42"
      ]
     },
     "execution_count": 30,
     "metadata": {},
     "output_type": "execute_result"
    }
   ],
   "execution_count": 30
  },
  {
   "metadata": {
    "ExecuteTime": {
     "end_time": "2024-06-29T06:12:38.112540Z",
     "start_time": "2024-06-29T06:12:38.107104Z"
    }
   },
   "cell_type": "code",
   "source": "x.gradient",
   "id": "268d0437d41b7f5",
   "outputs": [
    {
     "data": {
      "text/plain": [
       "24.0"
      ]
     },
     "execution_count": 31,
     "metadata": {},
     "output_type": "execute_result"
    }
   ],
   "execution_count": 31
  },
  {
   "metadata": {
    "ExecuteTime": {
     "end_time": "2024-06-29T06:12:40.931500Z",
     "start_time": "2024-06-29T06:12:40.928299Z"
    }
   },
   "cell_type": "code",
   "source": "y.gradient",
   "id": "cf0dd4d2b81d9b19",
   "outputs": [
    {
     "data": {
      "text/plain": [
       "10.0"
      ]
     },
     "execution_count": 32,
     "metadata": {},
     "output_type": "execute_result"
    }
   ],
   "execution_count": 32
  },
  {
   "metadata": {
    "ExecuteTime": {
     "end_time": "2024-06-29T06:12:52.656114Z",
     "start_time": "2024-06-29T06:12:48.110431Z"
    }
   },
   "cell_type": "code",
   "source": [
    "import tensorflow as tf\n",
    "\n",
    "x = tf.Variable(3.)\n",
    "y = tf.Variable(4.)\n",
    "\n",
    "with tf.GradientTape() as tape:\n",
    "    f = x * x * y + y + 2\n",
    "\n",
    "jacobians = tape.gradient(f, [x, y])\n",
    "jacobians"
   ],
   "id": "f49af53afe2e4d",
   "outputs": [
    {
     "data": {
      "text/plain": [
       "[<tf.Tensor: shape=(), dtype=float32, numpy=24.0>,\n",
       " <tf.Tensor: shape=(), dtype=float32, numpy=10.0>]"
      ]
     },
     "execution_count": 33,
     "metadata": {},
     "output_type": "execute_result"
    }
   ],
   "execution_count": 33
  },
  {
   "metadata": {
    "ExecuteTime": {
     "end_time": "2024-06-29T06:12:58.086463Z",
     "start_time": "2024-06-29T06:12:58.079038Z"
    }
   },
   "cell_type": "code",
   "source": [
    "x = tf.Variable(3.)\n",
    "y = tf.Variable(4.)\n",
    "\n",
    "with tf.GradientTape(persistent=True) as tape:\n",
    "    f = x * x * y + y + 2\n",
    "    df_dx, df_dy = tape.gradient(f, [x, y])\n",
    "\n",
    "d2f_d2x, d2f_dydx = tape.gradient(df_dx, [x, y])\n",
    "d2f_dxdy, d2f_d2y = tape.gradient(df_dy, [x, y])\n",
    "del tape\n",
    "\n",
    "hessians = [[d2f_d2x, d2f_dydx], [d2f_dxdy, d2f_d2y]]\n",
    "hessians"
   ],
   "id": "8e7257fd6e89fa69",
   "outputs": [
    {
     "name": "stdout",
     "output_type": "stream",
     "text": [
      "WARNING:tensorflow:Calling GradientTape.gradient on a persistent tape inside its context is significantly less efficient than calling it outside the context (it causes the gradient ops to be recorded on the tape, leading to increased CPU and memory usage). Only call GradientTape.gradient inside the context if you actually want to trace the gradient in order to compute higher order derivatives.\n"
     ]
    },
    {
     "data": {
      "text/plain": [
       "[[<tf.Tensor: shape=(), dtype=float32, numpy=8.0>,\n",
       "  <tf.Tensor: shape=(), dtype=float32, numpy=6.0>],\n",
       " [<tf.Tensor: shape=(), dtype=float32, numpy=6.0>, None]]"
      ]
     },
     "execution_count": 34,
     "metadata": {},
     "output_type": "execute_result"
    }
   ],
   "execution_count": 34
  }
 ],
 "metadata": {
  "kernelspec": {
   "display_name": "Python 3",
   "language": "python",
   "name": "python3"
  },
  "language_info": {
   "codemirror_mode": {
    "name": "ipython",
    "version": 2
   },
   "file_extension": ".py",
   "mimetype": "text/x-python",
   "name": "python",
   "nbconvert_exporter": "python",
   "pygments_lexer": "ipython2",
   "version": "2.7.6"
  }
 },
 "nbformat": 4,
 "nbformat_minor": 5
}
