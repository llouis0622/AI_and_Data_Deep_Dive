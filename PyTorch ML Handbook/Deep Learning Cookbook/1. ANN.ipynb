{
 "cells": [
  {
   "cell_type": "code",
   "execution_count": null,
   "id": "initial_id",
   "metadata": {
    "collapsed": true
   },
   "outputs": [],
   "source": [
    "# 필요한 라이브러리 임포트\n",
    "import numpy as np\n",
    "import pandas as pd\n",
    "from sklearn.datasets import load_iris  # 붓꽃 데이터셋 로드\n",
    "from sklearn.model_selection import train_test_split  # 데이터 분할\n",
    "from sklearn.preprocessing import StandardScaler, LabelBinarizer  # 데이터 전처리\n",
    "from sklearn.metrics import accuracy_score, classification_report  # 모델 평가\n",
    "\n",
    "# 딥러닝 모델 구축을 위한 Keras\n",
    "from tensorflow.keras.models import Sequential\n",
    "from tensorflow.keras.layers import Dense\n",
    "from tensorflow.keras.utils import to_categorical\n",
    "\n",
    "# 1. 데이터 로드\n",
    "iris = load_iris()\n",
    "X = iris.data  # 특징 행렬\n",
    "y = iris.target  # 레이블 벡터\n",
    "\n",
    "# 2. 레이블 원-핫 인코딩\n",
    "y = to_categorical(y)\n",
    "\n",
    "# 3. 데이터 전처리\n",
    "# 3.1 데이터 스케일링\n",
    "scaler = StandardScaler()\n",
    "X_scaled = scaler.fit_transform(X)\n",
    "\n",
    "# 4. 데이터 분할\n",
    "X_train, X_test, y_train, y_test = train_test_split(\n",
    "    X_scaled, y, test_size=0.2, random_state=42)\n",
    "\n",
    "# 5. 모델 정의\n",
    "model = Sequential()\n",
    "# 입력층에서 첫 번째 은닉층으로의 연결 (은닉층 뉴런 수: 8)\n",
    "model.add(Dense(8, activation='relu', input_shape=(4,)))\n",
    "# 출력층 (클래스 수: 3)\n",
    "model.add(Dense(3, activation='softmax'))\n",
    "\n",
    "# 6. 모델 컴파일\n",
    "model.compile(optimizer='adam', loss='categorical_crossentropy', metrics=['accuracy'])\n",
    "\n",
    "# 7. 모델 학습\n",
    "history = model.fit(X_train, y_train, epochs=50, batch_size=5, validation_split=0.1)\n",
    "\n",
    "# 8. 모델 평가\n",
    "loss, accuracy = model.evaluate(X_test, y_test)\n",
    "print(f\"\\n테스트 정확도: {accuracy:.4f}\")\n",
    "\n",
    "# 9. 예측 및 보고서 출력\n",
    "y_pred = model.predict(X_test)\n",
    "y_pred_classes = np.argmax(y_pred, axis=1)\n",
    "y_true_classes = np.argmax(y_test, axis=1)\n",
    "\n",
    "print(\"\\n분류 보고서:\\n\", classification_report(y_true_classes, y_pred_classes))"
   ]
  }
 ],
 "metadata": {
  "kernelspec": {
   "display_name": "Python 3",
   "language": "python",
   "name": "python3"
  },
  "language_info": {
   "codemirror_mode": {
    "name": "ipython",
    "version": 2
   },
   "file_extension": ".py",
   "mimetype": "text/x-python",
   "name": "python",
   "nbconvert_exporter": "python",
   "pygments_lexer": "ipython2",
   "version": "2.7.6"
  }
 },
 "nbformat": 4,
 "nbformat_minor": 5
}
