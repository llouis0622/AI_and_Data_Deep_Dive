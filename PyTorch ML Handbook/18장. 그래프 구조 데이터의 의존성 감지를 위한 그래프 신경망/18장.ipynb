{
 "cells": [
  {
   "cell_type": "code",
   "id": "initial_id",
   "metadata": {
    "collapsed": true,
    "ExecuteTime": {
     "end_time": "2024-11-08T13:41:34.938231Z",
     "start_time": "2024-11-08T13:41:34.401634Z"
    }
   },
   "source": [
    "import networkx as nx\n",
    "import numpy as np\n",
    "\n",
    "G = nx.Graph()\n",
    "blue, orange, green = \"#1f77b4\", \"#ff7f0e\", \"#2ca02c\"\n",
    "G.add_nodes_from([(1, {\"color\": blue}),\n",
    "                  (2, {\"color\": orange}),\n",
    "                  (3, {\"color\": blue}),\n",
    "                  (4, {\"color\": green})])\n",
    "G.add_edges_from([(1, 2), (2, 3), (1, 3), (3, 4)])\n",
    "A = np.asarray(nx.adjacency_matrix(G).todense())\n",
    "print(A)"
   ],
   "outputs": [
    {
     "name": "stdout",
     "output_type": "stream",
     "text": [
      "[[0 1 1 0]\n",
      " [1 0 1 0]\n",
      " [1 1 0 1]\n",
      " [0 0 1 0]]\n"
     ]
    }
   ],
   "execution_count": 1
  },
  {
   "metadata": {
    "ExecuteTime": {
     "end_time": "2024-11-08T13:41:51.628306Z",
     "start_time": "2024-11-08T13:41:51.621526Z"
    }
   },
   "cell_type": "code",
   "source": [
    "def build_graph_color_label_representation(G, mapping_dict):\n",
    "    one_hot_idxs = np.array([mapping_dict[v] for v in nx.get_node_attributes(G, 'color').values()])\n",
    "    one_hot_encoding = np.zeros((one_hot_idxs.size, len(mapping_dict)))\n",
    "    one_hot_encoding[np.arange(one_hot_idxs.size), one_hot_idxs] = 1\n",
    "    return one_hot_encoding\n",
    "\n",
    "\n",
    "X = build_graph_color_label_representation(G, {green: 0, blue: 1, orange: 2})\n",
    "print(X)"
   ],
   "id": "dd2f97f464df100a",
   "outputs": [
    {
     "name": "stdout",
     "output_type": "stream",
     "text": [
      "[[0. 1. 0.]\n",
      " [0. 0. 1.]\n",
      " [0. 1. 0.]\n",
      " [1. 0. 0.]]\n"
     ]
    }
   ],
   "execution_count": 2
  },
  {
   "metadata": {
    "ExecuteTime": {
     "end_time": "2024-11-08T13:41:57.980122Z",
     "start_time": "2024-11-08T13:41:57.288768Z"
    }
   },
   "cell_type": "code",
   "source": [
    "color_map = nx.get_node_attributes(G, 'color').values()\n",
    "nx.draw(G, with_labels=True, node_color=color_map)"
   ],
   "id": "d0ed78de7fcf0f18",
   "outputs": [
    {
     "data": {
      "text/plain": [
       "<Figure size 640x480 with 1 Axes>"
      ],
      "image/png": "[encoded data removed]"
     },
     "metadata": {},
     "output_type": "display_data"
    }
   ],
   "execution_count": 3
  },
  {
   "metadata": {
    "ExecuteTime": {
     "end_time": "2024-11-08T13:42:09.020982Z",
     "start_time": "2024-11-08T13:42:09.018041Z"
    }
   },
   "cell_type": "code",
   "source": [
    "f_in, f_out = X.shape[1], 6\n",
    "W_1 = np.random.rand(f_in, f_out)\n",
    "W_2 = np.random.rand(f_in, f_out)\n",
    "h = np.dot(X, W_1) + np.dot(np.dot(A, X), W_2)"
   ],
   "id": "1d6fd14022697c5f",
   "outputs": [],
   "execution_count": 4
  },
  {
   "metadata": {
    "ExecuteTime": {
     "end_time": "2024-11-08T13:43:20.823360Z",
     "start_time": "2024-11-08T13:43:19.224634Z"
    }
   },
   "cell_type": "code",
   "source": [
    "import networkx as nx\n",
    "import torch\n",
    "from torch.nn.parameter import Parameter\n",
    "import numpy as np\n",
    "import torch.nn.functional as F\n",
    "\n",
    "\n",
    "class NodeNetwork(torch.nn.Module):\n",
    "    def __init__(self, input_features):\n",
    "        super().__init__()\n",
    "\n",
    "        self.conv_1 = BasicGraphConvolutionLayer(input_features, 32)\n",
    "        self.conv_2 = BasicGraphConvolutionLayer(32, 32)\n",
    "        self.fc_1 = torch.nn.Linear(32, 16)\n",
    "        self.out_layer = torch.nn.Linear(16, 2)\n",
    "\n",
    "    def forward(self, X, A, batch_mat):\n",
    "        x = self.conv_1(X, A).clamp(0)\n",
    "        x = self.conv_2(x, A).clamp(0)\n",
    "        output = global_sum_pool(x, batch_mat)\n",
    "        output = self.fc_1(output)\n",
    "        output = self.out_layer(output)\n",
    "        return F.softmax(output, dim=1)"
   ],
   "id": "649268211f7b42cd",
   "outputs": [],
   "execution_count": 5
  },
  {
   "metadata": {
    "ExecuteTime": {
     "end_time": "2024-11-08T13:43:38.506532Z",
     "start_time": "2024-11-08T13:43:38.502732Z"
    }
   },
   "cell_type": "code",
   "source": [
    "class BasicGraphConvolutionLayer(torch.nn.Module):\n",
    "    def __init__(self, in_channels, out_channels):\n",
    "        super().__init__()\n",
    "        self.in_channels = in_channels\n",
    "        self.out_channels = out_channels\n",
    "\n",
    "        self.W2 = Parameter(torch.rand((in_channels, out_channels), dtype=torch.float32))\n",
    "        self.W1 = Parameter(torch.rand((in_channels, out_channels), dtype=torch.float32))\n",
    "\n",
    "        self.bias = Parameter(torch.zeros(out_channels, dtype=torch.float32))\n",
    "\n",
    "    def forward(self, X, A):\n",
    "        potential_msgs = torch.mm(X, self.W2)\n",
    "        propagated_msgs = torch.mm(A, potential_msgs)\n",
    "        root_update = torch.mm(X, self.W1)\n",
    "        output = propagated_msgs + root_update + self.bias\n",
    "        return output"
   ],
   "id": "2addbd6c703f7b96",
   "outputs": [],
   "execution_count": 6
  },
  {
   "metadata": {
    "ExecuteTime": {
     "end_time": "2024-11-08T13:43:48.662531Z",
     "start_time": "2024-11-08T13:43:48.659756Z"
    }
   },
   "cell_type": "code",
   "source": [
    "def global_sum_pool(X, batch_mat):\n",
    "    if batch_mat is None or batch_mat.dim() == 1:\n",
    "        return torch.sum(X, dim=0).unsqueeze(0)\n",
    "    else:\n",
    "        return torch.mm(batch_mat, X)"
   ],
   "id": "74d417bd4bdad091",
   "outputs": [],
   "execution_count": 7
  },
  {
   "metadata": {
    "ExecuteTime": {
     "end_time": "2024-11-08T13:43:56.503868Z",
     "start_time": "2024-11-08T13:43:56.500680Z"
    }
   },
   "cell_type": "code",
   "source": [
    "def get_batch_tensor(graph_sizes):\n",
    "    starts = [sum(graph_sizes[:idx]) for idx in range(len(graph_sizes))]\n",
    "    stops = [starts[idx] + graph_sizes[idx] for idx in range(len(graph_sizes))]\n",
    "    tot_len = sum(graph_sizes)\n",
    "    batch_size = len(graph_sizes)\n",
    "    batch_mat = torch.zeros([batch_size, tot_len]).float()\n",
    "    for idx, starts_and_stops in enumerate(zip(starts, stops)):\n",
    "        start = starts_and_stops[0]\n",
    "        stop = starts_and_stops[1]\n",
    "        batch_mat[idx, start:stop] = 1\n",
    "    return batch_mat"
   ],
   "id": "64690b74865d391b",
   "outputs": [],
   "execution_count": 8
  },
  {
   "metadata": {
    "ExecuteTime": {
     "end_time": "2024-11-08T13:44:25.995860Z",
     "start_time": "2024-11-08T13:44:25.992347Z"
    }
   },
   "cell_type": "code",
   "source": [
    "def collate_graphs(batch):\n",
    "    adj_mats = [graph['A'] for graph in batch]\n",
    "    sizes = [A.size(0) for A in adj_mats]\n",
    "    tot_size = sum(sizes)\n",
    "    batch_mat = get_batch_tensor(sizes)\n",
    "    feat_mats = torch.cat([graph['X'] for graph in batch], dim=0)\n",
    "    labels = torch.cat([graph['y'] for graph in batch], dim=0)\n",
    "    batch_adj = torch.zeros([tot_size, tot_size], dtype=torch.float32)\n",
    "    accum = 0\n",
    "    for adj in adj_mats:\n",
    "        g_size = adj.shape[0]\n",
    "        batch_adj[accum:accum + g_size, accum:accum + g_size] = adj\n",
    "        accum = accum + g_size\n",
    "    repr_and_label = {'A': batch_adj, 'X': feat_mats, 'y': labels, 'batch': batch_mat}\n",
    "\n",
    "    return repr_and_label"
   ],
   "id": "4081dd0d3ec5393c",
   "outputs": [],
   "execution_count": 9
  },
  {
   "metadata": {
    "ExecuteTime": {
     "end_time": "2024-11-08T13:44:53.042042Z",
     "start_time": "2024-11-08T13:44:53.029819Z"
    }
   },
   "cell_type": "code",
   "source": [
    "def get_graph_dict(G, mapping_dict):\n",
    "    A = torch.from_numpy(np.asarray(nx.adjacency_matrix(G).todense())).float()\n",
    "    X = torch.from_numpy(build_graph_color_label_representation(G, mapping_dict)).float()\n",
    "    y = torch.tensor([[1, 0]]).float()\n",
    "    return {'A': A, 'X': X, 'y': y, 'batch': None}\n",
    "\n",
    "\n",
    "blue, orange, green = \"#1f77b4\", \"#ff7f0e\", \"#2ca02c\"\n",
    "mapping_dict = {green: 0, blue: 1, orange: 2}\n",
    "G1 = nx.Graph()\n",
    "G1.add_nodes_from([(1, {\"color\": blue}),\n",
    "                   (2, {\"color\": orange}),\n",
    "                   (3, {\"color\": blue}),\n",
    "                   (4, {\"color\": green})])\n",
    "G1.add_edges_from([(1, 2), (2, 3), (1, 3), (3, 4)])\n",
    "G2 = nx.Graph()\n",
    "G2.add_nodes_from([(1, {\"color\": green}),\n",
    "                   (2, {\"color\": green}),\n",
    "                   (3, {\"color\": orange}),\n",
    "                   (4, {\"color\": orange}),\n",
    "                   (5, {\"color\": blue})])\n",
    "G2.add_edges_from([(2, 3), (3, 4), (3, 1), (5, 1)])\n",
    "G3 = nx.Graph()\n",
    "G3.add_nodes_from([(1, {\"color\": orange}),\n",
    "                   (2, {\"color\": orange}),\n",
    "                   (3, {\"color\": green}),\n",
    "                   (4, {\"color\": green}),\n",
    "                   (5, {\"color\": blue}),\n",
    "                   (6, {\"color\": orange})])\n",
    "G3.add_edges_from([(2, 3), (3, 4), (3, 1), (5, 1), (2, 5), (6, 1)])\n",
    "G4 = nx.Graph()\n",
    "G4.add_nodes_from([(1, {\"color\": blue}), (2, {\"color\": blue}), (3, {\"color\": green})])\n",
    "G4.add_edges_from([(1, 2), (2, 3)])\n",
    "graph_list = [get_graph_dict(graph, mapping_dict) for graph in [G1, G2, G3, G4]]"
   ],
   "id": "4cd8e1a1030264e7",
   "outputs": [],
   "execution_count": 10
  },
  {
   "metadata": {
    "ExecuteTime": {
     "end_time": "2024-11-08T13:45:01.831856Z",
     "start_time": "2024-11-08T13:45:01.828044Z"
    }
   },
   "cell_type": "code",
   "source": [
    "from torch.utils.data import Dataset\n",
    "from torch.utils.data import DataLoader\n",
    "\n",
    "\n",
    "class ExampleDataset(Dataset):\n",
    "    def __init__(self, graph_list):\n",
    "        self.graphs = graph_list\n",
    "\n",
    "    def __len__(self):\n",
    "        return len(self.graphs)\n",
    "\n",
    "    def __getitem__(self, idx):\n",
    "        mol_rep = self.graphs[idx]\n",
    "        return mol_rep"
   ],
   "id": "39759d9217c07c51",
   "outputs": [],
   "execution_count": 11
  },
  {
   "metadata": {
    "ExecuteTime": {
     "end_time": "2024-11-08T13:45:10.551631Z",
     "start_time": "2024-11-08T13:45:10.548233Z"
    }
   },
   "cell_type": "code",
   "source": [
    "dset = ExampleDataset(graph_list)\n",
    "loader = DataLoader(dset, batch_size=2, shuffle=False, collate_fn=collate_graphs)"
   ],
   "id": "9163a1f7c96d3973",
   "outputs": [],
   "execution_count": 12
  },
  {
   "metadata": {
    "ExecuteTime": {
     "end_time": "2024-11-08T13:45:15.140402Z",
     "start_time": "2024-11-08T13:45:15.130166Z"
    }
   },
   "cell_type": "code",
   "source": [
    "torch.manual_seed(123)\n",
    "node_features = 3\n",
    "net = NodeNetwork(node_features)"
   ],
   "id": "4748d983626467d2",
   "outputs": [],
   "execution_count": 13
  },
  {
   "metadata": {
    "ExecuteTime": {
     "end_time": "2024-11-08T13:45:25.624296Z",
     "start_time": "2024-11-08T13:45:25.610820Z"
    }
   },
   "cell_type": "code",
   "source": [
    "batch_results = []\n",
    "for b in loader:\n",
    "    batch_results.append(net(b['X'], b['A'], b['batch']).detach())\n",
    "\n",
    "G1_rep = dset[1]\n",
    "G1_single = net(G1_rep['X'], G1_rep['A'], G1_rep['batch']).detach()\n",
    "G1_batch = batch_results[0][1]\n",
    "torch.all(torch.isclose(G1_single, G1_batch))"
   ],
   "id": "853c67c3880186fe",
   "outputs": [
    {
     "data": {
      "text/plain": [
       "tensor(True)"
      ]
     },
     "execution_count": 14,
     "metadata": {},
     "output_type": "execute_result"
    }
   ],
   "execution_count": 14
  },
  {
   "metadata": {
    "ExecuteTime": {
     "end_time": "2024-11-08T13:49:30.058385Z",
     "start_time": "2024-11-08T13:48:50.149578Z"
    }
   },
   "cell_type": "code",
   "source": [
    "import torch\n",
    "import torch.nn.functional as F\n",
    "import torch.nn as nn\n",
    "from torch_geometric.datasets import QM9\n",
    "from torch_geometric.loader import DataLoader\n",
    "from torch_geometric.nn import NNConv, global_add_pool\n",
    "import numpy as np\n",
    "\n",
    "dset = QM9('.')\n",
    "len(dset)"
   ],
   "id": "180a67822fe11e75",
   "outputs": [
    {
     "name": "stderr",
     "output_type": "stream",
     "text": [
      "Downloading https://data.pyg.org/datasets/qm9_v3.zip\n",
      "Extracting ./raw/qm9_v3.zip\n",
      "Processing...\n",
      "Using a pre-processed version of the dataset. Please install 'rdkit' to alternatively process the raw data.\n",
      "Done!\n"
     ]
    },
    {
     "data": {
      "text/plain": [
       "130831"
      ]
     },
     "execution_count": 15,
     "metadata": {},
     "output_type": "execute_result"
    }
   ],
   "execution_count": 15
  },
  {
   "metadata": {
    "ExecuteTime": {
     "end_time": "2024-11-08T13:51:34.655016Z",
     "start_time": "2024-11-08T13:51:34.649407Z"
    }
   },
   "cell_type": "code",
   "source": [
    "data = dset[0]\n",
    "data"
   ],
   "id": "91b5d456f5301845",
   "outputs": [
    {
     "data": {
      "text/plain": [
       "Data(x=[5, 11], edge_index=[2, 8], edge_attr=[8, 4], y=[1, 19], pos=[5, 3], idx=[1], name='gdb_1', z=[5])"
      ]
     },
     "execution_count": 16,
     "metadata": {},
     "output_type": "execute_result"
    }
   ],
   "execution_count": 16
  },
  {
   "metadata": {
    "ExecuteTime": {
     "end_time": "2024-11-08T13:51:42.290654Z",
     "start_time": "2024-11-08T13:51:42.286276Z"
    }
   },
   "cell_type": "code",
   "source": "data.z",
   "id": "2653744eb02b376a",
   "outputs": [
    {
     "data": {
      "text/plain": [
       "tensor([6, 1, 1, 1, 1])"
      ]
     },
     "execution_count": 17,
     "metadata": {},
     "output_type": "execute_result"
    }
   ],
   "execution_count": 17
  },
  {
   "metadata": {
    "ExecuteTime": {
     "end_time": "2024-11-08T13:51:46.894849Z",
     "start_time": "2024-11-08T13:51:46.891942Z"
    }
   },
   "cell_type": "code",
   "source": [
    "data.new_attribute = torch.tensor([1, 2, 3])\n",
    "data"
   ],
   "id": "ab58676b3430be5a",
   "outputs": [
    {
     "data": {
      "text/plain": [
       "Data(x=[5, 11], edge_index=[2, 8], edge_attr=[8, 4], y=[1, 19], pos=[5, 3], idx=[1], name='gdb_1', z=[5], new_attribute=[3])"
      ]
     },
     "execution_count": 18,
     "metadata": {},
     "output_type": "execute_result"
    }
   ],
   "execution_count": 18
  },
  {
   "metadata": {
    "ExecuteTime": {
     "end_time": "2024-11-08T13:51:56.072903Z",
     "start_time": "2024-11-08T13:51:56.008568Z"
    }
   },
   "cell_type": "code",
   "source": [
    "device = torch.device(\"cuda:0\" if torch.cuda.is_available() else \"mps\")\n",
    "data.to(device)\n",
    "data.new_attribute.is_cuda"
   ],
   "id": "5d55963b33d7f85a",
   "outputs": [
    {
     "data": {
      "text/plain": [
       "False"
      ]
     },
     "execution_count": 20,
     "metadata": {},
     "output_type": "execute_result"
    }
   ],
   "execution_count": 20
  },
  {
   "metadata": {
    "ExecuteTime": {
     "end_time": "2024-11-08T13:52:08.117641Z",
     "start_time": "2024-11-08T13:52:08.112458Z"
    }
   },
   "cell_type": "code",
   "source": [
    "class ExampleNet(torch.nn.Module):\n",
    "    def __init__(self, num_node_features, num_edge_features):\n",
    "        super().__init__()\n",
    "        conv1_net = nn.Sequential(nn.Linear(num_edge_features, 32),\n",
    "                                  nn.ReLU(),\n",
    "                                  nn.Linear(32, num_node_features * 32))\n",
    "        conv2_net = nn.Sequential(nn.Linear(num_edge_features, 32),\n",
    "                                  nn.ReLU(),\n",
    "                                  nn.Linear(32, 32 * 16))\n",
    "        self.conv1 = NNConv(num_node_features, 32, conv1_net)\n",
    "        self.conv2 = NNConv(32, 16, conv2_net)\n",
    "        self.fc_1 = nn.Linear(16, 32)\n",
    "        self.out = nn.Linear(32, 1)\n",
    "\n",
    "    def forward(self, data):\n",
    "        batch, x, edge_index, edge_attr = data.batch, data.x, data.edge_index, data.edge_attr\n",
    "        x = F.relu(self.conv1(x, edge_index, edge_attr))\n",
    "        x = F.relu(self.conv2(x, edge_index, edge_attr))\n",
    "        x = global_add_pool(x, batch)\n",
    "        x = F.relu(self.fc_1(x))\n",
    "        output = self.out(x)\n",
    "        return output"
   ],
   "id": "16c5ca170db42a7d",
   "outputs": [],
   "execution_count": 21
  },
  {
   "metadata": {
    "ExecuteTime": {
     "end_time": "2024-11-08T13:52:15.460580Z",
     "start_time": "2024-11-08T13:52:15.449128Z"
    }
   },
   "cell_type": "code",
   "source": [
    "from torch.utils.data import random_split\n",
    "\n",
    "train_set, valid_set, test_set = random_split(dset, [110000, 10831, 10000])\n",
    "trainloader = DataLoader(train_set, batch_size=32, shuffle=True)\n",
    "validloader = DataLoader(valid_set, batch_size=32, shuffle=True)\n",
    "testloader = DataLoader(test_set, batch_size=32, shuffle=True)"
   ],
   "id": "bfd13614ddbbc0cb",
   "outputs": [],
   "execution_count": 22
  },
  {
   "metadata": {
    "ExecuteTime": {
     "end_time": "2024-11-08T13:52:23.946640Z",
     "start_time": "2024-11-08T13:52:23.908868Z"
    }
   },
   "cell_type": "code",
   "source": [
    "qm9_node_feats, qm9_edge_feats = 11, 4\n",
    "epochs = 4\n",
    "net = ExampleNet(qm9_node_feats, qm9_edge_feats)\n",
    "\n",
    "optimizer = torch.optim.Adam(net.parameters(), lr=0.01)\n",
    "epochs = 4\n",
    "target_idx = 1"
   ],
   "id": "77b996bbfb108004",
   "outputs": [],
   "execution_count": 23
  },
  {
   "metadata": {
    "ExecuteTime": {
     "end_time": "2024-11-08T13:52:31.904289Z",
     "start_time": "2024-11-08T13:52:31.883546Z"
    }
   },
   "cell_type": "code",
   "source": [
    "device = torch.device(\"cuda:0\" if torch.cuda.is_available() else \"mps\")\n",
    "net.to(device)"
   ],
   "id": "f6646795582fbedd",
   "outputs": [
    {
     "data": {
      "text/plain": [
       "ExampleNet(\n",
       "  (conv1): NNConv(11, 32, aggr=add, nn=Sequential(\n",
       "    (0): Linear(in_features=4, out_features=32, bias=True)\n",
       "    (1): ReLU()\n",
       "    (2): Linear(in_features=32, out_features=352, bias=True)\n",
       "  ))\n",
       "  (conv2): NNConv(32, 16, aggr=add, nn=Sequential(\n",
       "    (0): Linear(in_features=4, out_features=32, bias=True)\n",
       "    (1): ReLU()\n",
       "    (2): Linear(in_features=32, out_features=512, bias=True)\n",
       "  ))\n",
       "  (fc_1): Linear(in_features=16, out_features=32, bias=True)\n",
       "  (out): Linear(in_features=32, out_features=1, bias=True)\n",
       ")"
      ]
     },
     "execution_count": 24,
     "metadata": {},
     "output_type": "execute_result"
    }
   ],
   "execution_count": 24
  },
  {
   "metadata": {
    "ExecuteTime": {
     "end_time": "2024-11-08T14:03:02.695575Z",
     "start_time": "2024-11-08T13:52:47.703093Z"
    }
   },
   "cell_type": "code",
   "source": [
    "for total_epochs in range(epochs):\n",
    "    epoch_loss = 0\n",
    "    total_graphs = 0\n",
    "    net.train()\n",
    "    for batch in trainloader:\n",
    "        batch.to(device)\n",
    "        optimizer.zero_grad()\n",
    "        output = net(batch)\n",
    "        loss = F.mse_loss(output, batch.y[:, target_idx].unsqueeze(1))\n",
    "        loss.backward()\n",
    "        epoch_loss += loss.item()\n",
    "        total_graphs += batch.num_graphs\n",
    "        optimizer.step()\n",
    "\n",
    "    train_avg_loss = epoch_loss / total_graphs\n",
    "    val_loss = 0\n",
    "    total_graphs = 0\n",
    "    net.eval()\n",
    "    for batch in validloader:\n",
    "        batch.to(device)\n",
    "        output = net(batch)\n",
    "        loss = F.mse_loss(output, batch.y[:, target_idx].unsqueeze(1))\n",
    "        val_loss += loss.item()\n",
    "        total_graphs += batch.num_graphs\n",
    "    val_avg_loss = val_loss / total_graphs\n",
    "\n",
    "    print(f\"에포크 : {total_epochs} | 훈련 평균 손실 : {train_avg_loss:.2f} | 검증 평균 손실 : {val_avg_loss:.2f}\")"
   ],
   "id": "11727e064360cc2a",
   "outputs": [
    {
     "name": "stdout",
     "output_type": "stream",
     "text": [
      "에포크 : 0 | 훈련 평균 손실 : 0.39 | 검증 평균 손실 : 0.21\n",
      "에포크 : 1 | 훈련 평균 손실 : 0.13 | 검증 평균 손실 : 0.36\n",
      "에포크 : 2 | 훈련 평균 손실 : 0.11 | 검증 평균 손실 : 0.07\n",
      "에포크 : 3 | 훈련 평균 손실 : 0.09 | 검증 평균 손실 : 0.05\n"
     ]
    }
   ],
   "execution_count": 25
  },
  {
   "metadata": {
    "ExecuteTime": {
     "end_time": "2024-11-08T15:06:02.041437Z",
     "start_time": "2024-11-08T15:05:51.433292Z"
    }
   },
   "cell_type": "code",
   "source": [
    "net.eval()\n",
    "predictions = []\n",
    "real = []\n",
    "\n",
    "for batch in testloader:\n",
    "    output = net(batch.to(device))\n",
    "    predictions.append(output.detach().cpu().numpy())\n",
    "    real.append(batch.y[:, target_idx].detach().cpu().numpy())\n",
    "\n",
    "predictions = np.concatenate(predictions)\n",
    "real = np.concatenate(real)"
   ],
   "id": "eeaf2ede657ae483",
   "outputs": [],
   "execution_count": 26
  },
  {
   "metadata": {
    "ExecuteTime": {
     "end_time": "2024-11-08T15:06:12.499433Z",
     "start_time": "2024-11-08T15:06:12.369251Z"
    }
   },
   "cell_type": "code",
   "source": [
    "import matplotlib.pyplot as plt\n",
    "\n",
    "plt.scatter(real[:500], predictions[:500])\n",
    "plt.ylabel('Predicted isotropic polarizability')\n",
    "plt.xlabel('Isotropic polarizability')"
   ],
   "id": "762811cbd9a56a6b",
   "outputs": [
    {
     "data": {
      "text/plain": [
       "Text(0.5, 0, 'Isotropic polarizability')"
      ]
     },
     "execution_count": 27,
     "metadata": {},
     "output_type": "execute_result"
    },
    {
     "data": {
      "text/plain": [
       "<Figure size 640x480 with 1 Axes>"
      ],
      "image/png": "[encoded data removed]"
     },
     "metadata": {},
     "output_type": "display_data"
    }
   ],
   "execution_count": 27
  }
 ],
 "metadata": {
  "kernelspec": {
   "display_name": "Python 3",
   "language": "python",
   "name": "python3"
  },
  "language_info": {
   "codemirror_mode": {
    "name": "ipython",
    "version": 2
   },
   "file_extension": ".py",
   "mimetype": "text/x-python",
   "name": "python",
   "nbconvert_exporter": "python",
   "pygments_lexer": "ipython2",
   "version": "2.7.6"
  }
 },
 "nbformat": 4,
 "nbformat_minor": 5
}
