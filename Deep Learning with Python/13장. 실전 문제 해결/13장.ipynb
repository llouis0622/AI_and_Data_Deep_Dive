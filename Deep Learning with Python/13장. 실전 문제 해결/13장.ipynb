{
 "cells": [
  {
   "cell_type": "code",
   "id": "initial_id",
   "metadata": {
    "collapsed": true,
    "ExecuteTime": {
     "end_time": "2024-08-23T04:45:12.562669Z",
     "start_time": "2024-08-23T04:45:12.558578Z"
    }
   },
   "source": [
    "from tensorflow import keras\n",
    "from tensorflow.keras import layers\n",
    "\n",
    "\n",
    "def build_model(hp):\n",
    "    units = hp.Int(name='units', min_value=16, max_value=64, step=16)\n",
    "    model = keras.Sequential([\n",
    "        layers.Dense(units, activation='relu'),\n",
    "        layers.Dense(10, activation='softmax')\n",
    "    ])\n",
    "    optimizer = hp.Choice(name='optimizer', values=['rmsprop', 'adam'])\n",
    "    model.compile(optimizer=optimizer, loss='sparse_categorical_crossentropy', metrics=['accuracy'])\n",
    "    return model"
   ],
   "outputs": [],
   "execution_count": 2
  },
  {
   "metadata": {
    "ExecuteTime": {
     "end_time": "2024-08-23T04:45:14.776370Z",
     "start_time": "2024-08-23T04:45:13.590122Z"
    }
   },
   "cell_type": "code",
   "source": [
    "import keras_tuner as kt\n",
    "\n",
    "\n",
    "class SimpleMLP(kt.HyperModel):\n",
    "    def __init__(self, num_classes):\n",
    "        self.num_classes = num_classes\n",
    "        \n",
    "    def build(self, hp):\n",
    "        units = hp.Int(name='units', min_value=16, max_value=64, step=16)\n",
    "        model = keras.Sequential([\n",
    "            layers.Dense(units, activation='relu'),\n",
    "            layers.Dense(self.num_classes, activation='softmax')\n",
    "        ])\n",
    "        optimizer = hp.Choice(name='optimizer', values=['rmsprop', 'adam'])\n",
    "        model.compile(optimizer=optimizer, loss='sparse_categorical_crossentropy', metrics=['accuracy'])\n",
    "        return model\n",
    "    \n",
    "\n",
    "hypermodel = SimpleMLP(num_classes=10)"
   ],
   "id": "50c815275538529",
   "outputs": [],
   "execution_count": 3
  },
  {
   "metadata": {
    "ExecuteTime": {
     "end_time": "2024-08-23T04:45:15.884705Z",
     "start_time": "2024-08-23T04:45:15.862286Z"
    }
   },
   "cell_type": "code",
   "source": [
    "tuner = kt.BayesianOptimization(\n",
    "    build_model,\n",
    "    objective='val_accuracy',\n",
    "    max_trials=100,\n",
    "    executions_per_trial=2,\n",
    "    directory='mnist_kt_test',\n",
    "    overwrite=True,\n",
    ")\n",
    "tuner.search_space_summary()"
   ],
   "id": "58c65e2e687fb011",
   "outputs": [
    {
     "name": "stdout",
     "output_type": "stream",
     "text": [
      "Search space summary\n",
      "Default search space size: 2\n",
      "units (Int)\n",
      "{'default': None, 'conditions': [], 'min_value': 16, 'max_value': 64, 'step': 16, 'sampling': 'linear'}\n",
      "optimizer (Choice)\n",
      "{'default': 'rmsprop', 'conditions': [], 'values': ['rmsprop', 'adam'], 'ordered': False}\n"
     ]
    }
   ],
   "execution_count": 4
  },
  {
   "metadata": {},
   "cell_type": "code",
   "source": [
    "(x_train, y_train), (x_test, y_test) = keras.datasets.mnist.load_data()\n",
    "x_train = x_train.reshape((-1, 28 * 28)).astype('float32') / 255\n",
    "x_test = x_test.reshape((-1, 28 * 28)).astype('float32') / 255\n",
    "x_train_full = x_train[:]\n",
    "y_train_full = y_train[:]\n",
    "num_val_samples = 10000\n",
    "x_train, x_val = x_train[:-num_val_samples], x_train[-num_val_samples:]\n",
    "y_train, y_val = y_train[:-num_val_samples], y_train[-num_val_samples:]\n",
    "callbacks = [\n",
    "    keras.callbacks.EarlyStopping(monitor='val_loss', patience=5),\n",
    "]\n",
    "tuner.search(\n",
    "    x_train, y_train,\n",
    "    batch_size=128,\n",
    "    epochs=100,\n",
    "    validation_data=(x_val, y_val),\n",
    "    callbacks=callbacks,\n",
    "    verbose=2,\n",
    ")"
   ],
   "id": "e8ea7cbe64239806",
   "execution_count": 6,
   "outputs": [
    {
     "name": "stdout",
     "output_type": "stream",
     "text": [
      "Trial 100 Complete [00h 00m 18s]\n",
      "val_accuracy: 0.975849986076355\n",
      "\n",
      "Best val_accuracy So Far: 0.9765999913215637\n",
      "Total elapsed time: 00h 28m 27s\n"
     ]
    }
   ]
  },
  {
   "metadata": {
    "ExecuteTime": {
     "end_time": "2024-08-23T05:18:20.708451Z",
     "start_time": "2024-08-23T05:18:20.699901Z"
    }
   },
   "cell_type": "code",
   "source": [
    "top_n = 4\n",
    "best_hps = tuner.get_best_hyperparameters(top_n)"
   ],
   "id": "67782a61899a0686",
   "outputs": [],
   "execution_count": 7
  },
  {
   "metadata": {
    "ExecuteTime": {
     "end_time": "2024-08-23T05:18:22.160418Z",
     "start_time": "2024-08-23T05:18:22.157153Z"
    }
   },
   "cell_type": "code",
   "source": [
    "def get_best_epoch(hp):\n",
    "    model = build_model(hp)\n",
    "    callbacks = [keras.callbacks.EarlyStopping(monitor='val_loss', mode='min', patience=10)]\n",
    "    history = model.fit(\n",
    "        x_train, y_train,\n",
    "        validation_data=(x_val, y_val),\n",
    "        epochs=100,\n",
    "        batch_size=128,\n",
    "        callbacks=callbacks\n",
    "    )\n",
    "    val_loss_per_epoch = history.history['val_loss']\n",
    "    best_epoch = val_loss_per_epoch.index(min(val_loss_per_epoch)) + 1\n",
    "    print(f'최상의 에포크 : {best_epoch}')\n",
    "    return best_epoch"
   ],
   "id": "92c2a630bcc2b9fc",
   "outputs": [],
   "execution_count": 8
  },
  {
   "metadata": {
    "ExecuteTime": {
     "end_time": "2024-08-23T05:18:34.389090Z",
     "start_time": "2024-08-23T05:18:23.919718Z"
    }
   },
   "cell_type": "code",
   "source": [
    "def get_best_trained_model(hp):\n",
    "    best_epoch = get_best_epoch(hp)\n",
    "    model.fit(x_train_full, y_train_full, batch_size=128, epochs=int(best_epoch * 1.2))\n",
    "    return model\n",
    "\n",
    "\n",
    "best_models = []\n",
    "for hp in best_hps:\n",
    "    model = get_best_trained_model(hp)\n",
    "    model.evaluate(x_test, y_test)\n",
    "    best_models.append(model)"
   ],
   "id": "68340a3eba36d89c",
   "outputs": [
    {
     "name": "stdout",
     "output_type": "stream",
     "text": [
      "Epoch 1/100\n",
      "\u001B[1m391/391\u001B[0m \u001B[32m━━━━━━━━━━━━━━━━━━━━\u001B[0m\u001B[37m\u001B[0m \u001B[1m1s\u001B[0m 1ms/step - accuracy: 0.8206 - loss: 0.6728 - val_accuracy: 0.9318 - val_loss: 0.2404\n",
      "Epoch 2/100\n",
      "\u001B[1m391/391\u001B[0m \u001B[32m━━━━━━━━━━━━━━━━━━━━\u001B[0m\u001B[37m\u001B[0m \u001B[1m0s\u001B[0m 931us/step - accuracy: 0.9325 - loss: 0.2389 - val_accuracy: 0.9506 - val_loss: 0.1812\n",
      "Epoch 3/100\n",
      "\u001B[1m391/391\u001B[0m \u001B[32m━━━━━━━━━━━━━━━━━━━━\u001B[0m\u001B[37m\u001B[0m \u001B[1m0s\u001B[0m 949us/step - accuracy: 0.9521 - loss: 0.1731 - val_accuracy: 0.9581 - val_loss: 0.1516\n",
      "Epoch 4/100\n",
      "\u001B[1m391/391\u001B[0m \u001B[32m━━━━━━━━━━━━━━━━━━━━\u001B[0m\u001B[37m\u001B[0m \u001B[1m0s\u001B[0m 879us/step - accuracy: 0.9598 - loss: 0.1388 - val_accuracy: 0.9632 - val_loss: 0.1303\n",
      "Epoch 5/100\n",
      "\u001B[1m391/391\u001B[0m \u001B[32m━━━━━━━━━━━━━━━━━━━━\u001B[0m\u001B[37m\u001B[0m \u001B[1m0s\u001B[0m 858us/step - accuracy: 0.9668 - loss: 0.1171 - val_accuracy: 0.9646 - val_loss: 0.1210\n",
      "Epoch 6/100\n",
      "\u001B[1m391/391\u001B[0m \u001B[32m━━━━━━━━━━━━━━━━━━━━\u001B[0m\u001B[37m\u001B[0m \u001B[1m0s\u001B[0m 830us/step - accuracy: 0.9715 - loss: 0.1010 - val_accuracy: 0.9682 - val_loss: 0.1111\n",
      "Epoch 7/100\n",
      "\u001B[1m391/391\u001B[0m \u001B[32m━━━━━━━━━━━━━━━━━━━━\u001B[0m\u001B[37m\u001B[0m \u001B[1m0s\u001B[0m 877us/step - accuracy: 0.9750 - loss: 0.0888 - val_accuracy: 0.9710 - val_loss: 0.1030\n",
      "Epoch 8/100\n",
      "\u001B[1m391/391\u001B[0m \u001B[32m━━━━━━━━━━━━━━━━━━━━\u001B[0m\u001B[37m\u001B[0m \u001B[1m0s\u001B[0m 877us/step - accuracy: 0.9783 - loss: 0.0762 - val_accuracy: 0.9709 - val_loss: 0.0993\n",
      "Epoch 9/100\n",
      "\u001B[1m391/391\u001B[0m \u001B[32m━━━━━━━━━━━━━━━━━━━━\u001B[0m\u001B[37m\u001B[0m \u001B[1m0s\u001B[0m 899us/step - accuracy: 0.9810 - loss: 0.0676 - val_accuracy: 0.9712 - val_loss: 0.1023\n",
      "Epoch 10/100\n",
      "\u001B[1m391/391\u001B[0m \u001B[32m━━━━━━━━━━━━━━━━━━━━\u001B[0m\u001B[37m\u001B[0m \u001B[1m0s\u001B[0m 898us/step - accuracy: 0.9840 - loss: 0.0602 - val_accuracy: 0.9694 - val_loss: 0.1057\n",
      "Epoch 11/100\n",
      "\u001B[1m391/391\u001B[0m \u001B[32m━━━━━━━━━━━━━━━━━━━━\u001B[0m\u001B[37m\u001B[0m \u001B[1m0s\u001B[0m 960us/step - accuracy: 0.9843 - loss: 0.0560 - val_accuracy: 0.9724 - val_loss: 0.0975\n",
      "Epoch 12/100\n",
      "\u001B[1m391/391\u001B[0m \u001B[32m━━━━━━━━━━━━━━━━━━━━\u001B[0m\u001B[37m\u001B[0m \u001B[1m0s\u001B[0m 894us/step - accuracy: 0.9858 - loss: 0.0522 - val_accuracy: 0.9726 - val_loss: 0.0954\n",
      "Epoch 13/100\n",
      "\u001B[1m391/391\u001B[0m \u001B[32m━━━━━━━━━━━━━━━━━━━━\u001B[0m\u001B[37m\u001B[0m \u001B[1m0s\u001B[0m 874us/step - accuracy: 0.9867 - loss: 0.0454 - val_accuracy: 0.9749 - val_loss: 0.0942\n",
      "Epoch 14/100\n",
      "\u001B[1m391/391\u001B[0m \u001B[32m━━━━━━━━━━━━━━━━━━━━\u001B[0m\u001B[37m\u001B[0m \u001B[1m0s\u001B[0m 928us/step - accuracy: 0.9878 - loss: 0.0429 - val_accuracy: 0.9755 - val_loss: 0.0934\n",
      "Epoch 15/100\n",
      "\u001B[1m391/391\u001B[0m \u001B[32m━━━━━━━━━━━━━━━━━━━━\u001B[0m\u001B[37m\u001B[0m \u001B[1m0s\u001B[0m 941us/step - accuracy: 0.9892 - loss: 0.0404 - val_accuracy: 0.9704 - val_loss: 0.1058\n",
      "Epoch 16/100\n",
      "\u001B[1m391/391\u001B[0m \u001B[32m━━━━━━━━━━━━━━━━━━━━\u001B[0m\u001B[37m\u001B[0m \u001B[1m0s\u001B[0m 921us/step - accuracy: 0.9895 - loss: 0.0370 - val_accuracy: 0.9734 - val_loss: 0.0941\n",
      "Epoch 17/100\n",
      "\u001B[1m391/391\u001B[0m \u001B[32m━━━━━━━━━━━━━━━━━━━━\u001B[0m\u001B[37m\u001B[0m \u001B[1m0s\u001B[0m 904us/step - accuracy: 0.9910 - loss: 0.0325 - val_accuracy: 0.9757 - val_loss: 0.0928\n",
      "Epoch 18/100\n",
      "\u001B[1m391/391\u001B[0m \u001B[32m━━━━━━━━━━━━━━━━━━━━\u001B[0m\u001B[37m\u001B[0m \u001B[1m0s\u001B[0m 899us/step - accuracy: 0.9915 - loss: 0.0313 - val_accuracy: 0.9748 - val_loss: 0.0942\n",
      "Epoch 19/100\n",
      "\u001B[1m391/391\u001B[0m \u001B[32m━━━━━━━━━━━━━━━━━━━━\u001B[0m\u001B[37m\u001B[0m \u001B[1m0s\u001B[0m 883us/step - accuracy: 0.9933 - loss: 0.0265 - val_accuracy: 0.9751 - val_loss: 0.0957\n",
      "Epoch 20/100\n",
      "\u001B[1m391/391\u001B[0m \u001B[32m━━━━━━━━━━━━━━━━━━━━\u001B[0m\u001B[37m\u001B[0m \u001B[1m0s\u001B[0m 920us/step - accuracy: 0.9929 - loss: 0.0262 - val_accuracy: 0.9749 - val_loss: 0.0971\n",
      "Epoch 21/100\n",
      "\u001B[1m391/391\u001B[0m \u001B[32m━━━━━━━━━━━━━━━━━━━━\u001B[0m\u001B[37m\u001B[0m \u001B[1m0s\u001B[0m 911us/step - accuracy: 0.9939 - loss: 0.0231 - val_accuracy: 0.9755 - val_loss: 0.0961\n",
      "Epoch 22/100\n",
      "\u001B[1m391/391\u001B[0m \u001B[32m━━━━━━━━━━━━━━━━━━━━\u001B[0m\u001B[37m\u001B[0m \u001B[1m0s\u001B[0m 900us/step - accuracy: 0.9950 - loss: 0.0209 - val_accuracy: 0.9733 - val_loss: 0.0976\n",
      "Epoch 23/100\n",
      "\u001B[1m391/391\u001B[0m \u001B[32m━━━━━━━━━━━━━━━━━━━━\u001B[0m\u001B[37m\u001B[0m \u001B[1m0s\u001B[0m 924us/step - accuracy: 0.9948 - loss: 0.0202 - val_accuracy: 0.9742 - val_loss: 0.0978\n",
      "Epoch 24/100\n",
      "\u001B[1m391/391\u001B[0m \u001B[32m━━━━━━━━━━━━━━━━━━━━\u001B[0m\u001B[37m\u001B[0m \u001B[1m0s\u001B[0m 892us/step - accuracy: 0.9958 - loss: 0.0179 - val_accuracy: 0.9728 - val_loss: 0.1049\n",
      "Epoch 25/100\n",
      "\u001B[1m391/391\u001B[0m \u001B[32m━━━━━━━━━━━━━━━━━━━━\u001B[0m\u001B[37m\u001B[0m \u001B[1m0s\u001B[0m 875us/step - accuracy: 0.9962 - loss: 0.0161 - val_accuracy: 0.9750 - val_loss: 0.1074\n",
      "Epoch 26/100\n",
      "\u001B[1m391/391\u001B[0m \u001B[32m━━━━━━━━━━━━━━━━━━━━\u001B[0m\u001B[37m\u001B[0m \u001B[1m0s\u001B[0m 911us/step - accuracy: 0.9970 - loss: 0.0147 - val_accuracy: 0.9747 - val_loss: 0.1094\n",
      "Epoch 27/100\n",
      "\u001B[1m391/391\u001B[0m \u001B[32m━━━━━━━━━━━━━━━━━━━━\u001B[0m\u001B[37m\u001B[0m \u001B[1m0s\u001B[0m 938us/step - accuracy: 0.9968 - loss: 0.0143 - val_accuracy: 0.9753 - val_loss: 0.1090\n",
      "최상의 에포크 : 17\n"
     ]
    },
    {
     "ename": "NameError",
     "evalue": "name 'model' is not defined",
     "output_type": "error",
     "traceback": [
      "\u001B[0;31m---------------------------------------------------------------------------\u001B[0m",
      "\u001B[0;31mNameError\u001B[0m                                 Traceback (most recent call last)",
      "Cell \u001B[0;32mIn[9], line 9\u001B[0m\n\u001B[1;32m      7\u001B[0m best_models \u001B[38;5;241m=\u001B[39m []\n\u001B[1;32m      8\u001B[0m \u001B[38;5;28;01mfor\u001B[39;00m hp \u001B[38;5;129;01min\u001B[39;00m best_hps:\n\u001B[0;32m----> 9\u001B[0m     model \u001B[38;5;241m=\u001B[39m get_best_trained_model(hp)\n\u001B[1;32m     10\u001B[0m     model\u001B[38;5;241m.\u001B[39mevaluate(x_test, y_test)\n\u001B[1;32m     11\u001B[0m     best_models\u001B[38;5;241m.\u001B[39mappend(model)\n",
      "Cell \u001B[0;32mIn[9], line 3\u001B[0m, in \u001B[0;36mget_best_trained_model\u001B[0;34m(hp)\u001B[0m\n\u001B[1;32m      1\u001B[0m \u001B[38;5;28;01mdef\u001B[39;00m \u001B[38;5;21mget_best_trained_model\u001B[39m(hp):\n\u001B[1;32m      2\u001B[0m     best_epoch \u001B[38;5;241m=\u001B[39m get_best_epoch(hp)\n\u001B[0;32m----> 3\u001B[0m     model\u001B[38;5;241m.\u001B[39mfit(x_train_full, y_train_full, batch_size\u001B[38;5;241m=\u001B[39m\u001B[38;5;241m128\u001B[39m, epochs\u001B[38;5;241m=\u001B[39m\u001B[38;5;28mint\u001B[39m(best_epoch \u001B[38;5;241m*\u001B[39m \u001B[38;5;241m1.2\u001B[39m))\n\u001B[1;32m      4\u001B[0m     \u001B[38;5;28;01mreturn\u001B[39;00m model\n",
      "\u001B[0;31mNameError\u001B[0m: name 'model' is not defined"
     ]
    }
   ],
   "execution_count": 9
  },
  {
   "metadata": {
    "ExecuteTime": {
     "end_time": "2024-08-23T05:19:24.802673Z",
     "start_time": "2024-08-23T05:19:24.800332Z"
    }
   },
   "cell_type": "code",
   "source": [
    "from tensorflow import keras\n",
    "\n",
    "keras.mixed_precision.set_global_policy('mixed_float16')"
   ],
   "id": "6cfc6bd68cb6f928",
   "outputs": [],
   "execution_count": 10
  },
  {
   "metadata": {
    "ExecuteTime": {
     "end_time": "2024-08-23T05:20:08.667263Z",
     "start_time": "2024-08-23T05:20:08.650221Z"
    }
   },
   "cell_type": "code",
   "source": [
    "import tensorflow as tf\n",
    "from tensorflow import keras\n",
    "from tensorflow.keras import layers\n",
    "\n",
    "strategy = tf.distribute.TPUStrategy(tpu)\n",
    "print(f'복제 모델 개수 : {strategy.num_replicas_in_sync}')\n",
    "\n",
    "\n",
    "def build_model(input_size):\n",
    "    inputs = keras.Input((input_size, input_size, 3))\n",
    "    x = keras.applications.resnet.preprocess_input(inputs)\n",
    "    x = keras.applications.resnet.ResNet50(weights=None, include_top=False, pooling='max')(x)\n",
    "    outputs = layers.Dense(10, activation='softmax')(x)\n",
    "    model = keras.Model(inputs, outputs)\n",
    "    model.compile(optimizer='rmsprop', loss='sparse_categorical_crossentropy', metrics=['accuracy'])\n",
    "    return model\n",
    "\n",
    "\n",
    "with strategy.scope():\n",
    "    model = build_model(input_size=32)"
   ],
   "id": "4d9027fb9563491f",
   "outputs": [
    {
     "ename": "NameError",
     "evalue": "name 'tpu' is not defined",
     "output_type": "error",
     "traceback": [
      "\u001B[0;31m---------------------------------------------------------------------------\u001B[0m",
      "\u001B[0;31mNameError\u001B[0m                                 Traceback (most recent call last)",
      "Cell \u001B[0;32mIn[12], line 5\u001B[0m\n\u001B[1;32m      2\u001B[0m \u001B[38;5;28;01mfrom\u001B[39;00m \u001B[38;5;21;01mtensorflow\u001B[39;00m \u001B[38;5;28;01mimport\u001B[39;00m keras\n\u001B[1;32m      3\u001B[0m \u001B[38;5;28;01mfrom\u001B[39;00m \u001B[38;5;21;01mtensorflow\u001B[39;00m\u001B[38;5;21;01m.\u001B[39;00m\u001B[38;5;21;01mkeras\u001B[39;00m \u001B[38;5;28;01mimport\u001B[39;00m layers\n\u001B[0;32m----> 5\u001B[0m strategy \u001B[38;5;241m=\u001B[39m tf\u001B[38;5;241m.\u001B[39mdistribute\u001B[38;5;241m.\u001B[39mTPUStrategy(tpu)\n\u001B[1;32m      6\u001B[0m \u001B[38;5;28mprint\u001B[39m(\u001B[38;5;124mf\u001B[39m\u001B[38;5;124m'\u001B[39m\u001B[38;5;124m복제 모델 개수 : \u001B[39m\u001B[38;5;132;01m{\u001B[39;00mstrategy\u001B[38;5;241m.\u001B[39mnum_replicas_in_sync\u001B[38;5;132;01m}\u001B[39;00m\u001B[38;5;124m'\u001B[39m)\n\u001B[1;32m      9\u001B[0m \u001B[38;5;28;01mdef\u001B[39;00m \u001B[38;5;21mbuild_model\u001B[39m(input_size):\n",
      "\u001B[0;31mNameError\u001B[0m: name 'tpu' is not defined"
     ]
    }
   ],
   "execution_count": 12
  }
 ],
 "metadata": {
  "kernelspec": {
   "display_name": "Python 3",
   "language": "python",
   "name": "python3"
  },
  "language_info": {
   "codemirror_mode": {
    "name": "ipython",
    "version": 2
   },
   "file_extension": ".py",
   "mimetype": "text/x-python",
   "name": "python",
   "nbconvert_exporter": "python",
   "pygments_lexer": "ipython2",
   "version": "2.7.6"
  }
 },
 "nbformat": 4,
 "nbformat_minor": 5
}
