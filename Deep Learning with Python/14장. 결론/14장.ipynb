{
 "cells": [
  {
   "metadata": {},
   "cell_type": "markdown",
   "source": "### 밀집 연결 네트워크",
   "id": "d9a0862f4a5b272c"
  },
  {
   "metadata": {},
   "cell_type": "markdown",
   "source": "#### 이진 분류",
   "id": "cd9c224ddc924dad"
  },
  {
   "cell_type": "code",
   "execution_count": null,
   "id": "initial_id",
   "metadata": {
    "collapsed": true
   },
   "outputs": [],
   "source": [
    "inputs = keras.Input(shape=(num_input_features,))\n",
    "x = layers.Dense(32, activation='relu')(inputs)\n",
    "x = layers.Dense(32, activation='relu')(x)\n",
    "outputs = layers.Dense(1, activation='sigmoid')(x)\n",
    "model = keras.Model(inputs, outputs)\n",
    "model.compile(optimizer='rmsprop', loss='binary_crossentropy')"
   ]
  },
  {
   "metadata": {},
   "cell_type": "markdown",
   "source": "#### 단일 레이블 다중 분류",
   "id": "22313d2de724d08b"
  },
  {
   "metadata": {},
   "cell_type": "code",
   "outputs": [],
   "execution_count": null,
   "source": [
    "inputs = keras.Input(shape=(num_input_features,))\n",
    "x = layers.Dense(32, activation='relu')(inputs)\n",
    "x = layers.Dense(32, activation='relu')(x)\n",
    "outputs = layers.Dense(num_classes, activation='softmax')(x)\n",
    "model = keras.Model(inputs, outputs)\n",
    "model.compile(optimizer='rmsprop', loss='categorical_crossentropy')"
   ],
   "id": "2a0b5065dc6faa45"
  },
  {
   "metadata": {},
   "cell_type": "markdown",
   "source": "#### 다중 레이블 다중 분류",
   "id": "dace96d3ce8f1585"
  },
  {
   "metadata": {},
   "cell_type": "code",
   "outputs": [],
   "execution_count": null,
   "source": [
    "inputs = keras.Input(shape=(num_input_features,))\n",
    "x = layers.Dense(32, activation='relu')(inputs)\n",
    "x = layers.Dense(32, activation='relu')(x)\n",
    "outputs = layers.Dense(num_classes, activation='sigmoid')(x)\n",
    "model = keras.Model(inputs, outputs)\n",
    "model.compile(optimizer='rmsprop', loss='binary_crossentropy')"
   ],
   "id": "2abe085e36cb6345"
  },
  {
   "metadata": {},
   "cell_type": "markdown",
   "source": "#### 회귀",
   "id": "c6fd99f70c5e6ac2"
  },
  {
   "metadata": {},
   "cell_type": "code",
   "outputs": [],
   "execution_count": null,
   "source": [
    "inputs = keras.Input(shape=(num_input_features,))\n",
    "x = layers.Dense(32, activation='relu')(inputs)\n",
    "x = layers.Dense(32, activation='relu')(x)\n",
    "outputs = layers.Dense(num_values)(x)\n",
    "model = keras.Model(inputs, outputs)\n",
    "model.compile(optimizer='rmsprop', loss='mse')"
   ],
   "id": "eee6a045ae53c7c7"
  },
  {
   "metadata": {},
   "cell_type": "markdown",
   "source": "### ConvNet",
   "id": "2dbbe38800a5c9f8"
  },
  {
   "metadata": {},
   "cell_type": "code",
   "outputs": [],
   "execution_count": null,
   "source": [
    "inputs = keras.Input(shape=(height, width, channels))\n",
    "x = layers.SeparableConv2D(32, 3, activation= 'relu ')(inputs)\n",
    "x = layers.SeparableConv2D(64, 3, activation= 'relu ')(x)\n",
    "x = layers.MaxPooling2D(2)(x)\n",
    "x = layers.SeparableConv2D(64, 3, activation= 'relu ')(x)\n",
    "x = layers.SeparableConv2D(128, 3, activation= 'relu ')(x)\n",
    "x = layers.MaxPooling2D(2)(x)\n",
    "x = layers.SeparableConv2D(64, 3, activation= 'relu ')(x)\n",
    "x = layers.SeparableConv2D(128, 3, activation= 'relu ')(x)\n",
    "x = layers.GlobalAveragePooling2D()(x)\n",
    "x = layers.Dense(32, activation= 'relu ')(x)\n",
    "outputs = layers.Dense(num_classes, activation= 'softmax ')(x)\n",
    "model = keras.Model(inputs, outputs)\n",
    "model.compile(optimizer= 'rmsprop ', loss= 'categorical_crossentropy ')"
   ],
   "id": "4d38ac1f9345029e"
  },
  {
   "metadata": {},
   "cell_type": "markdown",
   "source": "### RNN",
   "id": "f816a3897af5767a"
  },
  {
   "metadata": {},
   "cell_type": "code",
   "outputs": [],
   "execution_count": null,
   "source": [
    "inputs = keras.Input(shape=(num_timesteps, num_features))\n",
    "x = layers.LSTM(32)(inputs)\n",
    "outputs = layers.Dense(num_classes, activation= 'sigmoid ')(x)\n",
    "model = keras.Model(inputs, outputs)\n",
    "model.compile(optimizer= 'rmsprop ', loss= 'binary_crossentropy ')"
   ],
   "id": "73b551cef4f4e0c0"
  },
  {
   "metadata": {},
   "cell_type": "code",
   "outputs": [],
   "execution_count": null,
   "source": [
    "inputs = keras.Input(shape=(num_timesteps, num_features))\n",
    "x = layers.LSTM(32, return_sequences=True)(inputs)\n",
    "x = layers.LSTM(32, return_sequences=True)(x)\n",
    "x = layers.LSTM(32)(x)\n",
    "outputs = layers.Dense(num_classes, activation= 'sigmoid ')(x)\n",
    "model = keras.Model(inputs, outputs)\n",
    "model.compile(optimizer= 'rmsprop ', loss= 'binary_crossentropy ')"
   ],
   "id": "bd49bbdf8bd5e9e7"
  },
  {
   "metadata": {},
   "cell_type": "markdown",
   "source": "### 트랜스포머",
   "id": "fb3edd330ccd2b61"
  },
  {
   "metadata": {},
   "cell_type": "code",
   "outputs": [],
   "execution_count": null,
   "source": [
    "encoder_inputs = keras.Input(shape=(sequence_length,), dtype= 'int64 ')\n",
    "x = PositionalEmbedding(sequence_length, vocab_size, embed_dim)(encoder_inputs)\n",
    "encoder_outputs = TransformerEncoder(embed_dim, dense_dim, num_heads)(x)\n",
    "decoder_inputs = keras.Input(shape=(None,), dtype= 'int64 ')\n",
    "x = PositionalEmbedding(sequence_length, vocab_size, embed_dim)(decoder_inputs)\n",
    "x = TransformerDecoder(embed_dim, dense_dim, num_heads)(x, encoder_outputs)\n",
    "decoder_outputs = layers.Dense(vocab_size, activation= 'softmax ')(x)\n",
    "transformer = keras.Model([encoder_inputs, decoder_inputs], decoder_outputs)\n",
    "transformer.compile(optimizer= 'rmsprop ', loss= 'categorical_crossentropy ')"
   ],
   "id": "ef4dc63ce2ed53f3"
  },
  {
   "metadata": {},
   "cell_type": "code",
   "outputs": [],
   "execution_count": null,
   "source": [
    "inputs = keras.Input(shape=(sequence_length,), dtype= 'int64 ')\n",
    "x = PositionalEmbedding(sequence_length, vocab_size, embed_dim)(inputs)\n",
    "x = TransformerEncoder(embed_dim, dense_dim, num_heads)(x)\n",
    "x = layers.GlobalMaxPooling1D()(x)\n",
    "outputs = layers.Dense(1, activation= 'sigmoid ')(x)\n",
    "model = keras.Model(inputs, outputs)\n",
    "model.compile(optimizer= 'rmsprop ', loss= 'binary_crossentropy ')"
   ],
   "id": "b539fca866614bb1"
  }
 ],
 "metadata": {
  "kernelspec": {
   "display_name": "Python 3",
   "language": "python",
   "name": "python3"
  },
  "language_info": {
   "codemirror_mode": {
    "name": "ipython",
    "version": 2
   },
   "file_extension": ".py",
   "mimetype": "text/x-python",
   "name": "python",
   "nbconvert_exporter": "python",
   "pygments_lexer": "ipython2",
   "version": "2.7.6"
  }
 },
 "nbformat": 4,
 "nbformat_minor": 5
}
