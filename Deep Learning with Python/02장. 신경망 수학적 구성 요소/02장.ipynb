{
 "cells": [
  {
   "cell_type": "code",
   "id": "initial_id",
   "metadata": {
    "collapsed": true,
    "ExecuteTime": {
     "end_time": "2024-08-08T05:27:16.728427Z",
     "start_time": "2024-08-08T05:27:12.810044Z"
    }
   },
   "source": [
    "import numpy as np\n",
    "from tensorflow.keras.datasets import mnist\n",
    "\n",
    "(train_images, train_labels), (test_images, test_labels) = mnist.load_data()"
   ],
   "outputs": [],
   "execution_count": 1
  },
  {
   "metadata": {
    "ExecuteTime": {
     "end_time": "2024-08-08T05:27:19.337659Z",
     "start_time": "2024-08-08T05:27:19.329541Z"
    }
   },
   "cell_type": "code",
   "source": [
    "from tensorflow import keras\n",
    "from tensorflow.keras import layers\n",
    "\n",
    "model = keras.Sequential([\n",
    "    layers.Dense(512, activation='relu'),\n",
    "    layers.Dense(10, activation='softmax')\n",
    "])"
   ],
   "id": "897ae1e707a58eae",
   "outputs": [],
   "execution_count": 2
  },
  {
   "metadata": {
    "ExecuteTime": {
     "end_time": "2024-08-08T05:27:20.980907Z",
     "start_time": "2024-08-08T05:27:20.939605Z"
    }
   },
   "cell_type": "code",
   "source": "model.compile(optimizer='rmsprop', loss='sparse_categorical_crossentropy', metrics=['accuracy'])",
   "id": "c11962811efdf067",
   "outputs": [],
   "execution_count": 3
  },
  {
   "metadata": {
    "ExecuteTime": {
     "end_time": "2024-08-08T05:27:22.446487Z",
     "start_time": "2024-08-08T05:27:22.382068Z"
    }
   },
   "cell_type": "code",
   "source": [
    "train_images = train_images.reshape((60000, 28 * 28))\n",
    "train_images = train_images.astype('float32') / 255\n",
    "test_images = test_images.reshape((10000, 28 * 28))\n",
    "test_images = test_images.astype('float32') / 255"
   ],
   "id": "3f75851886753d83",
   "outputs": [],
   "execution_count": 4
  },
  {
   "metadata": {
    "ExecuteTime": {
     "end_time": "2024-08-08T05:27:51.614186Z",
     "start_time": "2024-08-08T05:27:44.596841Z"
    }
   },
   "cell_type": "code",
   "source": "model.fit(train_images, train_labels, epochs=5, batch_size=128)",
   "id": "539fcd4ccfef4447",
   "outputs": [
    {
     "name": "stdout",
     "output_type": "stream",
     "text": [
      "Epoch 1/5\n",
      "\u001B[1m469/469\u001B[0m \u001B[32m━━━━━━━━━━━━━━━━━━━━\u001B[0m\u001B[37m\u001B[0m \u001B[1m2s\u001B[0m 3ms/step - accuracy: 0.8773 - loss: 0.4332\n",
      "Epoch 2/5\n",
      "\u001B[1m469/469\u001B[0m \u001B[32m━━━━━━━━━━━━━━━━━━━━\u001B[0m\u001B[37m\u001B[0m \u001B[1m1s\u001B[0m 3ms/step - accuracy: 0.9664 - loss: 0.1148\n",
      "Epoch 3/5\n",
      "\u001B[1m469/469\u001B[0m \u001B[32m━━━━━━━━━━━━━━━━━━━━\u001B[0m\u001B[37m\u001B[0m \u001B[1m1s\u001B[0m 3ms/step - accuracy: 0.9792 - loss: 0.0718\n",
      "Epoch 4/5\n",
      "\u001B[1m469/469\u001B[0m \u001B[32m━━━━━━━━━━━━━━━━━━━━\u001B[0m\u001B[37m\u001B[0m \u001B[1m1s\u001B[0m 3ms/step - accuracy: 0.9847 - loss: 0.0507\n",
      "Epoch 5/5\n",
      "\u001B[1m469/469\u001B[0m \u001B[32m━━━━━━━━━━━━━━━━━━━━\u001B[0m\u001B[37m\u001B[0m \u001B[1m1s\u001B[0m 3ms/step - accuracy: 0.9889 - loss: 0.0369\n"
     ]
    },
    {
     "data": {
      "text/plain": [
       "<keras.src.callbacks.history.History at 0x168d30d50>"
      ]
     },
     "execution_count": 5,
     "metadata": {},
     "output_type": "execute_result"
    }
   ],
   "execution_count": 5
  },
  {
   "metadata": {
    "ExecuteTime": {
     "end_time": "2024-08-08T05:28:21.815280Z",
     "start_time": "2024-08-08T05:28:21.768565Z"
    }
   },
   "cell_type": "code",
   "source": [
    "test_digits = test_images[0:10]\n",
    "predictions = model.predict(test_digits)\n",
    "predictions[0]"
   ],
   "id": "d215adb3dad3e5ea",
   "outputs": [
    {
     "name": "stdout",
     "output_type": "stream",
     "text": [
      "\u001B[1m1/1\u001B[0m \u001B[32m━━━━━━━━━━━━━━━━━━━━\u001B[0m\u001B[37m\u001B[0m \u001B[1m0s\u001B[0m 22ms/step\n"
     ]
    },
    {
     "data": {
      "text/plain": [
       "array([5.6806531e-08, 7.9358129e-09, 5.3228432e-06, 1.1385365e-04,\n",
       "       4.3460496e-11, 7.9930871e-08, 2.4728388e-12, 9.9988008e-01,\n",
       "       1.2606964e-07, 4.7360385e-07], dtype=float32)"
      ]
     },
     "execution_count": 6,
     "metadata": {},
     "output_type": "execute_result"
    }
   ],
   "execution_count": 6
  },
  {
   "metadata": {
    "ExecuteTime": {
     "end_time": "2024-08-08T05:28:54.677681Z",
     "start_time": "2024-08-08T05:28:54.419989Z"
    }
   },
   "cell_type": "code",
   "source": [
    "test_loss, test_acc = model.evaluate(test_images, test_labels)\n",
    "print(f\"테스트 정확도 : {test_acc}\")"
   ],
   "id": "7446e7de9291cfed",
   "outputs": [
    {
     "name": "stdout",
     "output_type": "stream",
     "text": [
      "\u001B[1m313/313\u001B[0m \u001B[32m━━━━━━━━━━━━━━━━━━━━\u001B[0m\u001B[37m\u001B[0m \u001B[1m0s\u001B[0m 562us/step - accuracy: 0.9767 - loss: 0.0766\n",
      "테스트 정확도 : 0.9801999926567078\n"
     ]
    }
   ],
   "execution_count": 7
  },
  {
   "metadata": {
    "ExecuteTime": {
     "end_time": "2024-08-08T05:39:10.133440Z",
     "start_time": "2024-08-08T05:39:10.004121Z"
    }
   },
   "cell_type": "code",
   "source": [
    "import matplotlib.pyplot as plt\n",
    "\n",
    "digit = train_images[4].reshape(28, 28)\n",
    "plt.imshow(digit, cmap=plt.cm.binary)\n",
    "plt.show()"
   ],
   "id": "fbd6fb1050fdde88",
   "outputs": [
    {
     "data": {
      "text/plain": [
       "<Figure size 640x480 with 1 Axes>"
      ],
      "image/png": "[encoded data removed]"
     },
     "metadata": {},
     "output_type": "display_data"
    }
   ],
   "execution_count": 9
  },
  {
   "metadata": {
    "ExecuteTime": {
     "end_time": "2024-08-08T07:50:08.523451Z",
     "start_time": "2024-08-08T07:50:08.515740Z"
    }
   },
   "cell_type": "code",
   "source": [
    "import tensorflow as tf\n",
    "\n",
    "\n",
    "class NaiveDense:\n",
    "    def __init__(self, input_size, output_size, activation):\n",
    "        self.activation = activation\n",
    "\n",
    "        w_shape = (input_size, output_size)\n",
    "        w_initial_value = tf.random.uniform(w_shape, minval=0, maxval=1e-1)\n",
    "        self.W = tf.Variable(w_initial_value)\n",
    "\n",
    "        b_shape = (output_size,)\n",
    "        b_initial_value = tf.zeros(b_shape)\n",
    "        self.b = tf.Variable(b_initial_value)\n",
    "\n",
    "    def __call__(self, inputs):\n",
    "        return self.activation(tf.matmul(inputs, self.W) + self.b)\n",
    "\n",
    "    @property\n",
    "    def weights(self):\n",
    "        return [self.W, self.b]"
   ],
   "id": "1318fee73f12c1fa",
   "outputs": [],
   "execution_count": 10
  },
  {
   "metadata": {
    "ExecuteTime": {
     "end_time": "2024-08-08T07:51:17.488041Z",
     "start_time": "2024-08-08T07:51:17.484599Z"
    }
   },
   "cell_type": "code",
   "source": [
    "class NaiveSequential:\n",
    "    def __init__(self, layers):\n",
    "        self.layers = layers\n",
    "\n",
    "    def __call__(self, inputs):\n",
    "        x = inputs\n",
    "        for layer in self.layers:\n",
    "            x = layer(x)\n",
    "        return x\n",
    "\n",
    "    @property\n",
    "    def weights(self):\n",
    "        weights = []\n",
    "        for layer in self.layers:\n",
    "            weights += layer.weights\n",
    "        return weights"
   ],
   "id": "69c13135a2916488",
   "outputs": [],
   "execution_count": 11
  },
  {
   "metadata": {
    "ExecuteTime": {
     "end_time": "2024-08-08T07:52:48.568292Z",
     "start_time": "2024-08-08T07:52:48.544599Z"
    }
   },
   "cell_type": "code",
   "source": [
    "model = NaiveSequential([\n",
    "    NaiveDense(input_size=28 * 28, output_size=512, activation=tf.nn.relu),\n",
    "    NaiveDense(input_size=512, output_size=10, activation=tf.nn.softmax)\n",
    "])\n",
    "assert len(model.weights) == 4"
   ],
   "id": "cc0fdd22e616c26b",
   "outputs": [],
   "execution_count": 12
  },
  {
   "metadata": {
    "ExecuteTime": {
     "end_time": "2024-08-08T07:54:52.803845Z",
     "start_time": "2024-08-08T07:54:52.800506Z"
    }
   },
   "cell_type": "code",
   "source": [
    "import math\n",
    "\n",
    "\n",
    "class BatchGenerator:\n",
    "    def __init__(self, images, labels, batch_size=128):\n",
    "        assert len(images) == len(labels)\n",
    "        self.index = 0\n",
    "        self.images = images\n",
    "        self.labels = labels\n",
    "        self.batch_size = batch_size\n",
    "        self.num_batches = math.ceil(len(images) / batch_size)\n",
    "\n",
    "    def next(self):\n",
    "        images = self.images[self.index: self.index + self.batch_size]\n",
    "        labels = self.labels[self.index: self.index + self.batch_size]\n",
    "        self.index += self.batch_size\n",
    "        return images, labels"
   ],
   "id": "36ed8d19b5e3b1d2",
   "outputs": [],
   "execution_count": 13
  },
  {
   "metadata": {
    "ExecuteTime": {
     "end_time": "2024-08-08T07:56:29.147521Z",
     "start_time": "2024-08-08T07:56:29.140144Z"
    }
   },
   "cell_type": "code",
   "source": [
    "def one_training_step(model, images_batch, labels_batch):\n",
    "    with tf.GradientTape() as tape:\n",
    "        predictions = model(images_batch)\n",
    "        per_sample_losses = tf.keras.losses.sparse_categorical_crossentropy(labels_batch, predictions)\n",
    "        average_loss = tf.reduce_mean(per_sample_losses)\n",
    "    gradients = tape.gradient(average_loss, model.weights)\n",
    "    update_weights(gradients, model.weights)\n",
    "    return average_loss"
   ],
   "id": "a61371e05818dd71",
   "outputs": [],
   "execution_count": 14
  },
  {
   "metadata": {
    "ExecuteTime": {
     "end_time": "2024-08-08T07:57:12.743674Z",
     "start_time": "2024-08-08T07:57:12.741538Z"
    }
   },
   "cell_type": "code",
   "source": [
    "learning_rate = 1e-3\n",
    "\n",
    "\n",
    "def update_weights(gradients, weights):\n",
    "    for g, w in zip(gradients, weights):\n",
    "        w.assign_sub(learning_rate * g)"
   ],
   "id": "73a48c907aa505f5",
   "outputs": [],
   "execution_count": 15
  },
  {
   "metadata": {
    "ExecuteTime": {
     "end_time": "2024-08-08T07:58:03.964377Z",
     "start_time": "2024-08-08T07:58:03.957231Z"
    }
   },
   "cell_type": "code",
   "source": [
    "from tensorflow.keras import optimizers\n",
    "\n",
    "optimizer = optimizers.SGD(learning_rate=1e-3)\n",
    "\n",
    "\n",
    "def update_weights(gradients, weights):\n",
    "    optimizer.apply_gradients(zip(gradients, weights))"
   ],
   "id": "acd22c3604677c73",
   "outputs": [],
   "execution_count": 16
  },
  {
   "metadata": {
    "ExecuteTime": {
     "end_time": "2024-08-08T08:00:22.849549Z",
     "start_time": "2024-08-08T08:00:22.843833Z"
    }
   },
   "cell_type": "code",
   "source": [
    "def fit(model, images, labels, epochs, batch_size=128):\n",
    "    for epoch_counter in range(epochs):\n",
    "        print(f\"에포크 {epoch_counter}\")\n",
    "        batch_generator = BatchGenerator(images, labels)\n",
    "        for batch_counter in range(batch_generator.num_batches):\n",
    "            images_batch, labels_batch = batch_generator.next()\n",
    "            loss = one_training_step(model, images_batch, labels_batch)\n",
    "            if batch_counter % 100 == 0:\n",
    "                print(f\"{batch_counter}번째 배치 손실 : {loss:.2f}\")"
   ],
   "id": "934b408b01b28f90",
   "outputs": [],
   "execution_count": 17
  },
  {
   "metadata": {
    "ExecuteTime": {
     "end_time": "2024-08-08T08:01:42.804735Z",
     "start_time": "2024-08-08T08:01:17.252968Z"
    }
   },
   "cell_type": "code",
   "source": [
    "from tensorflow.keras.datasets import mnist\n",
    "\n",
    "(train_images, train_labels), (test_images, test_labels) = mnist.load_data()\n",
    "\n",
    "train_images = train_images.reshape((60000, 28 * 28))\n",
    "train_images = train_images.astype('float32') / 255\n",
    "test_images = test_images.reshape((10000, 28 * 28))\n",
    "test_images = test_images.astype('float32') / 255\n",
    "\n",
    "fit(model, train_images, train_labels, epochs=10, batch_size=128)"
   ],
   "id": "fb310b0014ee91f8",
   "outputs": [
    {
     "name": "stdout",
     "output_type": "stream",
     "text": [
      "에포크 0\n",
      "0번째 배치 손실 : 5.14\n",
      "100번째 배치 손실 : 2.23\n",
      "200번째 배치 손실 : 2.21\n",
      "300번째 배치 손실 : 2.07\n",
      "400번째 배치 손실 : 2.23\n",
      "에포크 1\n",
      "0번째 배치 손실 : 1.89\n",
      "100번째 배치 손실 : 1.86\n",
      "200번째 배치 손실 : 1.83\n",
      "300번째 배치 손실 : 1.68\n",
      "400번째 배치 손실 : 1.82\n",
      "에포크 2\n",
      "0번째 배치 손실 : 1.56\n",
      "100번째 배치 손실 : 1.56\n",
      "200번째 배치 손실 : 1.50\n",
      "300번째 배치 손실 : 1.39\n",
      "400번째 배치 손실 : 1.49\n",
      "에포크 3\n",
      "0번째 배치 손실 : 1.29\n",
      "100번째 배치 손실 : 1.32\n",
      "200번째 배치 손실 : 1.23\n",
      "300번째 배치 손실 : 1.17\n",
      "400번째 배치 손실 : 1.25\n",
      "에포크 4\n",
      "0번째 배치 손실 : 1.10\n",
      "100번째 배치 손실 : 1.15\n",
      "200번째 배치 손실 : 1.04\n",
      "300번째 배치 손실 : 1.02\n",
      "400번째 배치 손실 : 1.08\n",
      "에포크 5\n",
      "0번째 배치 손실 : 0.95\n",
      "100번째 배치 손실 : 1.01\n",
      "200번째 배치 손실 : 0.90\n",
      "300번째 배치 손실 : 0.90\n",
      "400번째 배치 손실 : 0.96\n",
      "에포크 6\n",
      "0번째 배치 손실 : 0.84\n",
      "100번째 배치 손실 : 0.91\n",
      "200번째 배치 손실 : 0.80\n",
      "300번째 배치 손실 : 0.81\n",
      "400번째 배치 손실 : 0.87\n",
      "에포크 7\n",
      "0번째 배치 손실 : 0.76\n",
      "100번째 배치 손실 : 0.82\n",
      "200번째 배치 손실 : 0.72\n",
      "300번째 배치 손실 : 0.75\n",
      "400번째 배치 손실 : 0.81\n",
      "에포크 8\n",
      "0번째 배치 손실 : 0.70\n",
      "100번째 배치 손실 : 0.76\n",
      "200번째 배치 손실 : 0.66\n",
      "300번째 배치 손실 : 0.69\n",
      "400번째 배치 손실 : 0.76\n",
      "에포크 9\n",
      "0번째 배치 손실 : 0.65\n",
      "100번째 배치 손실 : 0.70\n",
      "200번째 배치 손실 : 0.61\n",
      "300번째 배치 손실 : 0.65\n",
      "400번째 배치 손실 : 0.72\n"
     ]
    }
   ],
   "execution_count": 20
  },
  {
   "metadata": {
    "ExecuteTime": {
     "end_time": "2024-08-08T08:02:50.104829Z",
     "start_time": "2024-08-08T08:02:50.060398Z"
    }
   },
   "cell_type": "code",
   "source": [
    "import numpy as np\n",
    "\n",
    "predictions = model(test_images)\n",
    "predictions = predictions.numpy()\n",
    "predicted_labels = np.argmax(predictions, axis=1)\n",
    "matches = predicted_labels == test_labels\n",
    "print(f\"정확도 : {matches.mean():.2f}\")"
   ],
   "id": "10b7b34df42a3a34",
   "outputs": [
    {
     "name": "stdout",
     "output_type": "stream",
     "text": [
      "정확도 : 0.81\n"
     ]
    }
   ],
   "execution_count": 22
  }
 ],
 "metadata": {
  "kernelspec": {
   "display_name": "Python 3",
   "language": "python",
   "name": "python3"
  },
  "language_info": {
   "codemirror_mode": {
    "name": "ipython",
    "version": 2
   },
   "file_extension": ".py",
   "mimetype": "text/x-python",
   "name": "python",
   "nbconvert_exporter": "python",
   "pygments_lexer": "ipython2",
   "version": "2.7.6"
  }
 },
 "nbformat": 4,
 "nbformat_minor": 5
}
