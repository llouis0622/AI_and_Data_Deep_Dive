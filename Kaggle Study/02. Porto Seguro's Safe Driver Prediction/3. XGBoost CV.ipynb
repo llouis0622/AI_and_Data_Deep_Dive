{
 "cells": [
  {
   "cell_type": "code",
   "id": "initial_id",
   "metadata": {
    "collapsed": true,
    "ExecuteTime": {
     "end_time": "2024-07-05T05:15:18.777111Z",
     "start_time": "2024-07-05T05:15:18.772317Z"
    }
   },
   "source": [
    "MAX_ROUNDS = 400\n",
    "OPTIMIZE_ROUNDS = False\n",
    "LEARNING_RATE = 0.07\n",
    "EARLY_STOPPING_ROUNDS = 50"
   ],
   "outputs": [],
   "execution_count": 1
  },
  {
   "metadata": {
    "ExecuteTime": {
     "end_time": "2024-07-05T05:15:55.766592Z",
     "start_time": "2024-07-05T05:15:54.224634Z"
    }
   },
   "cell_type": "code",
   "source": [
    "import numpy as np\n",
    "import pandas as pd\n",
    "from xgboost import XGBClassifier\n",
    "from sklearn.model_selection import train_test_split\n",
    "from sklearn.model_selection import KFold\n",
    "from sklearn.preprocessing import LabelEncoder\n",
    "from numba import jit\n",
    "import time\n",
    "import gc\n",
    "import matplotlib.pyplot as plt\n",
    "from matplotlib import rc\n",
    "\n",
    "rc('font', family='AppleGothic')\n",
    "plt.rcParams['axes.unicode_minus'] = False"
   ],
   "id": "e556c460f7565808",
   "outputs": [],
   "execution_count": 2
  },
  {
   "metadata": {
    "ExecuteTime": {
     "end_time": "2024-07-05T05:16:07.001270Z",
     "start_time": "2024-07-05T05:16:06.978228Z"
    }
   },
   "cell_type": "code",
   "source": [
    "@jit\n",
    "def eval_gini(y_true, y_prob):\n",
    "    y_true = np.asarray(y_true)\n",
    "    y_true = y_true[np.argsort(y_prob)]\n",
    "    ntrue = 0\n",
    "    gini = 0\n",
    "    delta = 0\n",
    "    n = len(y_true)\n",
    "    for i in range(n - 1, -1, -1):\n",
    "        y_i = y_true[i]\n",
    "        ntrue += y_i\n",
    "        gini += y_i * delta\n",
    "        delta += 1 - y_i\n",
    "    gini = 1 - 2 * gini / (ntrue * (n - ntrue))\n",
    "    return gini"
   ],
   "id": "4daf7751221263e4",
   "outputs": [],
   "execution_count": 3
  },
  {
   "metadata": {
    "ExecuteTime": {
     "end_time": "2024-07-05T05:17:12.401822Z",
     "start_time": "2024-07-05T05:17:12.395797Z"
    }
   },
   "cell_type": "code",
   "source": [
    "def gini_xgb(preds, dtrain):\n",
    "    labels = dtrain.get_label()\n",
    "    gini_score = -eval_gini(labels, preds)\n",
    "    return [('gini', gini_score)]\n",
    "\n",
    "\n",
    "def add_noise(series, noise_level):\n",
    "    return series * (1 + noise_level * np.random.randn(len(series)))\n",
    "\n",
    "\n",
    "def target_encode(trn_series=None,\n",
    "                  val_series=None,\n",
    "                  tst_series=None,\n",
    "                  target=None,\n",
    "                  min_samples_leaf=1,\n",
    "                  smoothing=1,\n",
    "                  noise_level=0):\n",
    "    assert len(trn_series) == len(target)\n",
    "    assert trn_series.name == tst_series.name\n",
    "    temp = pd.concat([trn_series, target], axis=1)\n",
    "    averages = temp.groupby(by=trn_series.name)[target.name].agg([\"mean\", \"count\"])\n",
    "    smoothing = 1 / (1 + np.exp(-(averages[\"count\"] - min_samples_leaf) / smoothing))\n",
    "    prior = target.mean()\n",
    "    averages[target.name] = prior * (1 - smoothing) + averages[\"mean\"] * smoothing\n",
    "    averages.drop([\"mean\", \"count\"], axis=1, inplace=True)\n",
    "    ft_trn_series = pd.merge(\n",
    "        trn_series.to_frame(trn_series.name),\n",
    "        averages.reset_index().rename(columns={'index': target.name, target.name: 'average'}),\n",
    "        on=trn_series.name,\n",
    "        how='left')['average'].rename(trn_series.name + '_mean').fillna(prior)\n",
    "    ft_trn_series.index = trn_series.index\n",
    "    ft_val_series = pd.merge(\n",
    "        val_series.to_frame(val_series.name),\n",
    "        averages.reset_index().rename(columns={'index': target.name, target.name: 'average'}),\n",
    "        on=val_series.name,\n",
    "        how='left')['average'].rename(trn_series.name + '_mean').fillna(prior)\n",
    "    ft_val_series.index = val_series.index\n",
    "    ft_tst_series = pd.merge(\n",
    "        tst_series.to_frame(tst_series.name),\n",
    "        averages.reset_index().rename(columns={'index': target.name, target.name: 'average'}),\n",
    "        on=tst_series.name,\n",
    "        how='left')['average'].rename(trn_series.name + '_mean').fillna(prior)\n",
    "    ft_tst_series.index = tst_series.index\n",
    "    return add_noise(ft_trn_series, noise_level), add_noise(ft_val_series, noise_level), add_noise(ft_tst_series,\n",
    "                                                                                                   noise_level)"
   ],
   "id": "8dd4997101b1e571",
   "outputs": [],
   "execution_count": 4
  },
  {
   "metadata": {
    "ExecuteTime": {
     "end_time": "2024-07-05T05:17:49.212407Z",
     "start_time": "2024-07-05T05:17:45.470109Z"
    }
   },
   "cell_type": "code",
   "source": [
    "train_df = pd.read_csv('../data/porto/train.csv', na_values=\"-1\")\n",
    "test_df = pd.read_csv('../data/porto/test.csv', na_values=\"-1\")"
   ],
   "id": "d66ec8cb19438017",
   "outputs": [],
   "execution_count": 5
  },
  {
   "metadata": {
    "ExecuteTime": {
     "end_time": "2024-07-05T05:19:41.584662Z",
     "start_time": "2024-07-05T05:19:41.581417Z"
    }
   },
   "cell_type": "code",
   "source": [
    "train_features = [\n",
    "    \"ps_car_13\",\n",
    "    \"ps_reg_03\",\n",
    "    \"ps_ind_05_cat\",\n",
    "    \"ps_ind_03\",\n",
    "    \"ps_ind_15\",\n",
    "    \"ps_reg_02\",\n",
    "    \"ps_car_14\",\n",
    "    \"ps_car_12\",\n",
    "    \"ps_car_01_cat\",\n",
    "    \"ps_car_07_cat\",\n",
    "    \"ps_ind_17_bin\",\n",
    "    \"ps_car_03_cat\",\n",
    "    \"ps_reg_01\",\n",
    "    \"ps_car_15\",\n",
    "    \"ps_ind_01\",\n",
    "    \"ps_ind_16_bin\",\n",
    "    \"ps_ind_07_bin\",\n",
    "    \"ps_car_06_cat\",\n",
    "    \"ps_car_04_cat\",\n",
    "    \"ps_ind_06_bin\",\n",
    "    \"ps_car_09_cat\",\n",
    "    \"ps_car_02_cat\",\n",
    "    \"ps_ind_02_cat\",\n",
    "    \"ps_car_11\",\n",
    "    \"ps_car_05_cat\",\n",
    "    \"ps_calc_09\",\n",
    "    \"ps_calc_05\",\n",
    "    \"ps_ind_08_bin\",\n",
    "    \"ps_car_08_cat\",\n",
    "    \"ps_ind_09_bin\",\n",
    "    \"ps_ind_04_cat\",\n",
    "    \"ps_ind_18_bin\",\n",
    "    \"ps_ind_12_bin\",\n",
    "    \"ps_ind_14\",\n",
    "]\n",
    "combs = [\n",
    "    ('ps_reg_01', 'ps_car_02_cat'),\n",
    "    ('ps_reg_01', 'ps_car_04_cat'),\n",
    "]"
   ],
   "id": "cc13d2c4668afd96",
   "outputs": [],
   "execution_count": 6
  },
  {
   "metadata": {
    "ExecuteTime": {
     "end_time": "2024-07-05T05:19:57.656106Z",
     "start_time": "2024-07-05T05:19:54.356019Z"
    }
   },
   "cell_type": "code",
   "source": [
    "id_test = test_df['id'].values\n",
    "id_train = train_df['id'].values\n",
    "y = train_df['target']\n",
    "\n",
    "start = time.time()\n",
    "for n_c, (f1, f2) in enumerate(combs):\n",
    "    name1 = f1 + \"_plus_\" + f2\n",
    "    print('current feature %60s %4d in %5.1f'\n",
    "          % (name1, n_c + 1, (time.time() - start) / 60), end='')\n",
    "    print('\\r' * 75, end='')\n",
    "    train_df[name1] = train_df[f1].apply(lambda x: str(x)) + \"_\" + train_df[f2].apply(lambda x: str(x))\n",
    "    test_df[name1] = test_df[f1].apply(lambda x: str(x)) + \"_\" + test_df[f2].apply(lambda x: str(x))\n",
    "    # Label Encode\n",
    "    lbl = LabelEncoder()\n",
    "    lbl.fit(list(train_df[name1].values) + list(test_df[name1].values))\n",
    "    train_df[name1] = lbl.transform(list(train_df[name1].values))\n",
    "    test_df[name1] = lbl.transform(list(test_df[name1].values))\n",
    "\n",
    "    train_features.append(name1)\n",
    "\n",
    "X = train_df[train_features]\n",
    "test_df = test_df[train_features]\n",
    "\n",
    "f_cats = [f for f in X.columns if \"_cat\" in f]"
   ],
   "id": "81fc343b829cd78f",
   "outputs": [
    {
     "name": "stdout",
     "output_type": "stream",
     "text": [
      "current feature                                 ps_reg_01_plus_ps_car_04_cat    2 in   0.0\r"
     ]
    }
   ],
   "execution_count": 7
  },
  {
   "metadata": {
    "ExecuteTime": {
     "end_time": "2024-07-05T05:20:05.057089Z",
     "start_time": "2024-07-05T05:20:05.054205Z"
    }
   },
   "cell_type": "code",
   "source": [
    "y_valid_pred = 0 * y\n",
    "y_test_pred = 0"
   ],
   "id": "ddced5f62b5ce6cd",
   "outputs": [],
   "execution_count": 8
  },
  {
   "metadata": {
    "ExecuteTime": {
     "end_time": "2024-07-05T05:20:10.758399Z",
     "start_time": "2024-07-05T05:20:10.756040Z"
    }
   },
   "cell_type": "code",
   "source": [
    "K = 5\n",
    "kf = KFold(n_splits=K, random_state=1, shuffle=True)\n",
    "np.random.seed(0)"
   ],
   "id": "d2803a4f50b0ccc2",
   "outputs": [],
   "execution_count": 9
  },
  {
   "metadata": {
    "ExecuteTime": {
     "end_time": "2024-07-05T05:20:18.296268Z",
     "start_time": "2024-07-05T05:20:18.293771Z"
    }
   },
   "cell_type": "code",
   "source": [
    "model = XGBClassifier(\n",
    "    n_estimators=MAX_ROUNDS,\n",
    "    max_depth=4,\n",
    "    objective=\"binary:logistic\",\n",
    "    learning_rate=LEARNING_RATE,\n",
    "    subsample=.8,\n",
    "    min_child_weight=6,\n",
    "    colsample_bytree=.8,\n",
    "    scale_pos_weight=1.6,\n",
    "    gamma=10,\n",
    "    reg_alpha=8,\n",
    "    reg_lambda=1.3,\n",
    ")"
   ],
   "id": "a222168d19c20190",
   "outputs": [],
   "execution_count": 10
  },
  {
   "metadata": {
    "ExecuteTime": {
     "end_time": "2024-07-05T05:21:19.420461Z",
     "start_time": "2024-07-05T05:21:12.535019Z"
    }
   },
   "cell_type": "code",
   "source": [
    "for i, (train_index, test_index) in enumerate(kf.split(train_df)):\n",
    "    y_train, y_valid = y.iloc[train_index].copy(), y.iloc[test_index]\n",
    "    X_train, X_valid = X.iloc[train_index, :].copy(), X.iloc[test_index, :].copy()\n",
    "    X_test = test_df.copy()\n",
    "    print(\"\\nFold \", i)\n",
    "\n",
    "    for f in f_cats:\n",
    "        X_train[f + \"_avg\"], X_valid[f + \"_avg\"], X_test[f + \"_avg\"] = target_encode(\n",
    "            trn_series=X_train[f],\n",
    "            val_series=X_valid[f],\n",
    "            tst_series=X_test[f],\n",
    "            target=y_train,\n",
    "            min_samples_leaf=200,\n",
    "            smoothing=10,\n",
    "            noise_level=0\n",
    "        )\n",
    "    if OPTIMIZE_ROUNDS:\n",
    "        eval_set = [(X_valid, y_valid)]\n",
    "        fit_model = model.fit(X_train, y_train,\n",
    "                              eval_set=eval_set,\n",
    "                              eval_metric=gini_xgb,\n",
    "                              early_stopping_rounds=EARLY_STOPPING_ROUNDS,\n",
    "                              verbose=False\n",
    "                              )\n",
    "        print(\"  Best N trees = \", model.best_ntree_limit)\n",
    "        print(\"  Best gini = \", model.best_score)\n",
    "    else:\n",
    "        fit_model = model.fit(X_train, y_train)\n",
    "\n",
    "    pred = fit_model.predict_proba(X_valid)[:, 1]\n",
    "    print(\"  Gini = \", eval_gini(y_valid, pred))\n",
    "    y_valid_pred.iloc[test_index] = pred\n",
    "    y_test_pred += fit_model.predict_proba(X_test)[:, 1]\n",
    "\n",
    "    del X_test, X_train, X_valid, y_train\n",
    "\n",
    "y_test_pred /= K\n",
    "\n",
    "print(\"\\nGini for full training set:\")\n",
    "eval_gini(y, y_valid_pred)"
   ],
   "id": "550430590455da6a",
   "outputs": [
    {
     "name": "stdout",
     "output_type": "stream",
     "text": [
      "\n",
      "Fold  0\n"
     ]
    },
    {
     "ename": "TypingError",
     "evalue": "Failed in nopython mode pipeline (step: nopython frontend)\n\u001B[1m\u001B[1mnon-precise type pyobject\u001B[0m\n\u001B[0m\u001B[1mDuring: typing of argument at /var/folders/3g/9z2y6vy916ncn7tzc7rkg8140000gn/T/ipykernel_50117/1068770013.py (1)\u001B[0m\n\u001B[1m\nFile \"../../../../../../../var/folders/3g/9z2y6vy916ncn7tzc7rkg8140000gn/T/ipykernel_50117/1068770013.py\", line 1:\u001B[0m\n\u001B[1m<source missing, REPL/exec in use?>\u001B[0m \n\nThis error may have been caused by the following argument(s):\n- argument 0: \u001B[1mCannot determine Numba type of <class 'pandas.core.series.Series'>\u001B[0m\n",
     "output_type": "error",
     "traceback": [
      "\u001B[0;31m---------------------------------------------------------------------------\u001B[0m",
      "\u001B[0;31mTypingError\u001B[0m                               Traceback (most recent call last)",
      "Cell \u001B[0;32mIn[11], line 31\u001B[0m\n\u001B[1;32m     28\u001B[0m     fit_model \u001B[38;5;241m=\u001B[39m model\u001B[38;5;241m.\u001B[39mfit(X_train, y_train)\n\u001B[1;32m     30\u001B[0m pred \u001B[38;5;241m=\u001B[39m fit_model\u001B[38;5;241m.\u001B[39mpredict_proba(X_valid)[:, \u001B[38;5;241m1\u001B[39m]\n\u001B[0;32m---> 31\u001B[0m \u001B[38;5;28mprint\u001B[39m(\u001B[38;5;124m\"\u001B[39m\u001B[38;5;124m  Gini = \u001B[39m\u001B[38;5;124m\"\u001B[39m, eval_gini(y_valid, pred))\n\u001B[1;32m     32\u001B[0m y_valid_pred\u001B[38;5;241m.\u001B[39miloc[test_index] \u001B[38;5;241m=\u001B[39m pred\n\u001B[1;32m     33\u001B[0m y_test_pred \u001B[38;5;241m+\u001B[39m\u001B[38;5;241m=\u001B[39m fit_model\u001B[38;5;241m.\u001B[39mpredict_proba(X_test)[:, \u001B[38;5;241m1\u001B[39m]\n",
      "File \u001B[0;32m/opt/anaconda3/lib/python3.11/site-packages/numba/core/dispatcher.py:468\u001B[0m, in \u001B[0;36m_DispatcherBase._compile_for_args\u001B[0;34m(self, *args, **kws)\u001B[0m\n\u001B[1;32m    464\u001B[0m         msg \u001B[38;5;241m=\u001B[39m (\u001B[38;5;124mf\u001B[39m\u001B[38;5;124m\"\u001B[39m\u001B[38;5;132;01m{\u001B[39;00m\u001B[38;5;28mstr\u001B[39m(e)\u001B[38;5;241m.\u001B[39mrstrip()\u001B[38;5;132;01m}\u001B[39;00m\u001B[38;5;124m \u001B[39m\u001B[38;5;130;01m\\n\u001B[39;00m\u001B[38;5;130;01m\\n\u001B[39;00m\u001B[38;5;124mThis error may have been caused \u001B[39m\u001B[38;5;124m\"\u001B[39m\n\u001B[1;32m    465\u001B[0m                \u001B[38;5;124mf\u001B[39m\u001B[38;5;124m\"\u001B[39m\u001B[38;5;124mby the following argument(s):\u001B[39m\u001B[38;5;130;01m\\n\u001B[39;00m\u001B[38;5;132;01m{\u001B[39;00margs_str\u001B[38;5;132;01m}\u001B[39;00m\u001B[38;5;130;01m\\n\u001B[39;00m\u001B[38;5;124m\"\u001B[39m)\n\u001B[1;32m    466\u001B[0m         e\u001B[38;5;241m.\u001B[39mpatch_message(msg)\n\u001B[0;32m--> 468\u001B[0m     error_rewrite(e, \u001B[38;5;124m'\u001B[39m\u001B[38;5;124mtyping\u001B[39m\u001B[38;5;124m'\u001B[39m)\n\u001B[1;32m    469\u001B[0m \u001B[38;5;28;01mexcept\u001B[39;00m errors\u001B[38;5;241m.\u001B[39mUnsupportedError \u001B[38;5;28;01mas\u001B[39;00m e:\n\u001B[1;32m    470\u001B[0m     \u001B[38;5;66;03m# Something unsupported is present in the user code, add help info\u001B[39;00m\n\u001B[1;32m    471\u001B[0m     error_rewrite(e, \u001B[38;5;124m'\u001B[39m\u001B[38;5;124munsupported_error\u001B[39m\u001B[38;5;124m'\u001B[39m)\n",
      "File \u001B[0;32m/opt/anaconda3/lib/python3.11/site-packages/numba/core/dispatcher.py:409\u001B[0m, in \u001B[0;36m_DispatcherBase._compile_for_args.<locals>.error_rewrite\u001B[0;34m(e, issue_type)\u001B[0m\n\u001B[1;32m    407\u001B[0m     \u001B[38;5;28;01mraise\u001B[39;00m e\n\u001B[1;32m    408\u001B[0m \u001B[38;5;28;01melse\u001B[39;00m:\n\u001B[0;32m--> 409\u001B[0m     \u001B[38;5;28;01mraise\u001B[39;00m e\u001B[38;5;241m.\u001B[39mwith_traceback(\u001B[38;5;28;01mNone\u001B[39;00m)\n",
      "\u001B[0;31mTypingError\u001B[0m: Failed in nopython mode pipeline (step: nopython frontend)\n\u001B[1m\u001B[1mnon-precise type pyobject\u001B[0m\n\u001B[0m\u001B[1mDuring: typing of argument at /var/folders/3g/9z2y6vy916ncn7tzc7rkg8140000gn/T/ipykernel_50117/1068770013.py (1)\u001B[0m\n\u001B[1m\nFile \"../../../../../../../var/folders/3g/9z2y6vy916ncn7tzc7rkg8140000gn/T/ipykernel_50117/1068770013.py\", line 1:\u001B[0m\n\u001B[1m<source missing, REPL/exec in use?>\u001B[0m \n\nThis error may have been caused by the following argument(s):\n- argument 0: \u001B[1mCannot determine Numba type of <class 'pandas.core.series.Series'>\u001B[0m\n"
     ]
    }
   ],
   "execution_count": 11
  },
  {
   "metadata": {
    "ExecuteTime": {
     "end_time": "2024-07-05T05:21:23.704689Z",
     "start_time": "2024-07-05T05:21:23.449555Z"
    }
   },
   "cell_type": "code",
   "source": [
    "val = pd.DataFrame()\n",
    "val['id'] = id_train\n",
    "val['target'] = y_valid_pred.values\n",
    "val.to_csv('xgb_valid.csv', float_format='%.6f', index=False)"
   ],
   "id": "8c56d2b77a726c8a",
   "outputs": [],
   "execution_count": 12
  },
  {
   "metadata": {
    "ExecuteTime": {
     "end_time": "2024-07-05T05:21:31.384036Z",
     "start_time": "2024-07-05T05:21:31.006115Z"
    }
   },
   "cell_type": "code",
   "source": [
    "sub = pd.DataFrame()\n",
    "sub['id'] = id_test\n",
    "sub['target'] = y_test_pred\n",
    "sub.to_csv('xgb_submit.csv', float_format='%.6f', index=False)"
   ],
   "id": "4303452b9805cc5d",
   "outputs": [],
   "execution_count": 13
  }
 ],
 "metadata": {
  "kernelspec": {
   "display_name": "Python 3",
   "language": "python",
   "name": "python3"
  },
  "language_info": {
   "codemirror_mode": {
    "name": "ipython",
    "version": 2
   },
   "file_extension": ".py",
   "mimetype": "text/x-python",
   "name": "python",
   "nbconvert_exporter": "python",
   "pygments_lexer": "ipython2",
   "version": "2.7.6"
  }
 },
 "nbformat": 4,
 "nbformat_minor": 5
}
