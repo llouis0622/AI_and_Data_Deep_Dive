{
 "cells": [
  {
   "cell_type": "code",
   "id": "initial_id",
   "metadata": {
    "collapsed": true,
    "ExecuteTime": {
     "end_time": "2024-07-11T06:26:24.092709Z",
     "start_time": "2024-07-11T06:26:23.060493Z"
    }
   },
   "source": [
    "import numpy as np\n",
    "import pandas as pd\n",
    "from matplotlib import rc\n",
    "from subprocess import check_output\n",
    "from matplotlib import pyplot as plt\n",
    "\n",
    "print(check_output([\"ls\", \"../data/iceberg\"]).decode(\"utf8\"))\n",
    "\n",
    "rc('font', family='AppleGothic')\n",
    "plt.rcParams['axes.unicode_minus'] = False"
   ],
   "outputs": [
    {
     "name": "stdout",
     "output_type": "stream",
     "text": [
      "sample_submission.csv\n",
      "test.json\n",
      "train.json\n",
      "\n"
     ]
    }
   ],
   "execution_count": 1
  },
  {
   "metadata": {
    "ExecuteTime": {
     "end_time": "2024-07-11T06:27:18.901101Z",
     "start_time": "2024-07-11T06:27:10.198179Z"
    }
   },
   "cell_type": "code",
   "source": [
    "from sklearn.model_selection import train_test_split\n",
    "from sklearn.metrics import log_loss\n",
    "from sklearn.model_selection import StratifiedKFold, StratifiedShuffleSplit\n",
    "from os.path import join as opj\n",
    "from mpl_toolkits.mplot3d import Axes3D\n",
    "import pylab\n",
    "\n",
    "plt.rcParams['figure.figsize'] = 10, 10\n",
    "%matplotlib inline\n",
    "\n",
    "train = pd.read_json(\"../data/iceberg/train.json\")\n",
    "target_train = train['is_iceberg']\n",
    "test = pd.read_json(\"../data/iceberg/test.json\")"
   ],
   "id": "79d3566ed63a2a32",
   "outputs": [],
   "execution_count": 2
  },
  {
   "metadata": {
    "ExecuteTime": {
     "end_time": "2024-07-11T06:27:47.183738Z",
     "start_time": "2024-07-11T06:27:40.854716Z"
    }
   },
   "cell_type": "code",
   "source": [
    "target_train = train['is_iceberg']\n",
    "test['inc_angle'] = pd.to_numeric(test['inc_angle'], errors='coerce')\n",
    "train['inc_angle'] = pd.to_numeric(train['inc_angle'], errors='coerce')\n",
    "train['inc_angle'] = train['inc_angle'].fillna(method='pad')\n",
    "X_angle = train['inc_angle']\n",
    "test['inc_angle'] = pd.to_numeric(test['inc_angle'], errors='coerce')\n",
    "X_test_angle = test['inc_angle']\n",
    "\n",
    "X_band_1 = np.array([np.array(band).astype(np.float32).reshape(75, 75) for band in train[\"band_1\"]])\n",
    "X_band_2 = np.array([np.array(band).astype(np.float32).reshape(75, 75) for band in train[\"band_2\"]])\n",
    "X_band_3 = (X_band_1 + X_band_2) / 2\n",
    "X_train = np.concatenate([X_band_1[:, :, :, np.newaxis]\n",
    "                             , X_band_2[:, :, :, np.newaxis]\n",
    "                             , X_band_3[:, :, :, np.newaxis]], axis=-1)\n",
    "\n",
    "X_band_test_1 = np.array([np.array(band).astype(np.float32).reshape(75, 75) for band in test[\"band_1\"]])\n",
    "X_band_test_2 = np.array([np.array(band).astype(np.float32).reshape(75, 75) for band in test[\"band_2\"]])\n",
    "X_band_test_3 = (X_band_test_1 + X_band_test_2) / 2\n",
    "X_test = np.concatenate([X_band_test_1[:, :, :, np.newaxis]\n",
    "                            , X_band_test_2[:, :, :, np.newaxis]\n",
    "                            , X_band_test_3[:, :, :, np.newaxis]], axis=-1)"
   ],
   "id": "cdcda08b6391a867",
   "outputs": [
    {
     "name": "stderr",
     "output_type": "stream",
     "text": [
      "/var/folders/3g/9z2y6vy916ncn7tzc7rkg8140000gn/T/ipykernel_78779/4291809036.py:4: FutureWarning: Series.fillna with 'method' is deprecated and will raise in a future version. Use obj.ffill() or obj.bfill() instead.\n",
      "  train['inc_angle'] = train['inc_angle'].fillna(method='pad')\n"
     ]
    }
   ],
   "execution_count": 3
  },
  {
   "metadata": {
    "ExecuteTime": {
     "end_time": "2024-07-11T06:31:53.491835Z",
     "start_time": "2024-07-11T06:31:37.167066Z"
    }
   },
   "cell_type": "code",
   "source": [
    "from matplotlib import pyplot\n",
    "from keras.optimizers import RMSprop\n",
    "from keras.src.legacy.preprocessing.image import ImageDataGenerator\n",
    "from keras.models import Sequential\n",
    "from keras.layers import Conv2D, MaxPooling2D, Dense, Dropout, Input, Flatten, Activation\n",
    "from keras.layers import GlobalMaxPooling2D\n",
    "from tensorflow.keras.layers import BatchNormalization\n",
    "from keras.layers import Concatenate\n",
    "from keras.models import Model\n",
    "from keras import initializers\n",
    "from keras.optimizers import Adam\n",
    "from tensorflow.keras.optimizers import RMSprop\n",
    "from keras.layers import LeakyReLU, PReLU\n",
    "from keras.optimizers import SGD\n",
    "from keras.callbacks import ModelCheckpoint, Callback, EarlyStopping\n",
    "\n",
    "from keras.datasets import cifar10\n",
    "from keras.applications.inception_v3 import InceptionV3\n",
    "from keras.applications.vgg16 import VGG16\n",
    "from keras.applications.xception import Xception\n",
    "from keras.applications.mobilenet import MobileNet\n",
    "from keras.applications.vgg19 import VGG19\n",
    "from keras.layers import Concatenate, Dense, LSTM, Input, concatenate\n",
    "from keras.preprocessing import image\n",
    "from keras.applications.vgg16 import preprocess_input\n",
    "\n",
    "batch_size = 64\n",
    "\n",
    "gen = ImageDataGenerator(horizontal_flip=True,\n",
    "                         vertical_flip=True,\n",
    "                         width_shift_range=0.,\n",
    "                         height_shift_range=0.,\n",
    "                         channel_shift_range=0,\n",
    "                         zoom_range=0.2,\n",
    "                         rotation_range=10)\n",
    "\n",
    "\n",
    "def gen_flow_for_two_inputs(X1, X2, y):\n",
    "    genX1 = gen.flow(X1, y, batch_size=batch_size, seed=55)\n",
    "    genX2 = gen.flow(X1, X2, batch_size=batch_size, seed=55)\n",
    "    while True:\n",
    "        X1i = genX1.next()\n",
    "        X2i = genX2.next()\n",
    "        yield [X1i[0], X2i[1]], X1i[1]\n",
    "\n",
    "\n",
    "def get_callbacks(filepath, patience=2):\n",
    "    es = EarlyStopping('val_loss', patience=10, mode=\"min\")\n",
    "    msave = ModelCheckpoint(filepath, save_best_only=True)\n",
    "    return [es, msave]\n",
    "\n",
    "\n",
    "def getVggAngleModel():\n",
    "    input_2 = Input(shape=[1], name=\"angle\")\n",
    "    angle_layer = Dense(1, )(input_2)\n",
    "    base_model = VGG16(weights='imagenet', include_top=False,\n",
    "                       input_shape=X_train.shape[1:], classes=1)\n",
    "    x = base_model.get_layer('block5_pool').output\n",
    "\n",
    "    x = GlobalMaxPooling2D()(x)\n",
    "    merge_one = concatenate([x, angle_layer])\n",
    "    merge_one = Dense(512, activation='relu', name='fc2')(merge_one)\n",
    "    merge_one = Dropout(0.3)(merge_one)\n",
    "    merge_one = Dense(512, activation='relu', name='fc3')(merge_one)\n",
    "    merge_one = Dropout(0.3)(merge_one)\n",
    "\n",
    "    predictions = Dense(1, activation='sigmoid')(merge_one)\n",
    "\n",
    "    model = Model(input=[base_model.input, input_2], output=predictions)\n",
    "\n",
    "    sgd = SGD(lr=1e-3, decay=1e-6, momentum=0.9, nesterov=True)\n",
    "    model.compile(loss='binary_crossentropy',\n",
    "                  optimizer=sgd,\n",
    "                  metrics=['accuracy'])\n",
    "    return model\n",
    "\n",
    "\n",
    "def myAngleCV(X_train, X_angle, X_test):\n",
    "    K = 3\n",
    "    folds = list(StratifiedKFold(n_splits=K, shuffle=True, random_state=16).split(X_train, target_train))\n",
    "    y_test_pred_log = 0\n",
    "    y_train_pred_log = 0\n",
    "    y_valid_pred_log = 0.0 * target_train\n",
    "    for j, (train_idx, test_idx) in enumerate(folds):\n",
    "        print('\\n===================FOLD=', j)\n",
    "        X_train_cv = X_train[train_idx]\n",
    "        y_train_cv = target_train[train_idx]\n",
    "        X_holdout = X_train[test_idx]\n",
    "        Y_holdout = target_train[test_idx]\n",
    "\n",
    "        X_angle_cv = X_angle[train_idx]\n",
    "        X_angle_hold = X_angle[test_idx]\n",
    "\n",
    "        file_path = \"%s_aug_model_weights.keras\" % j\n",
    "        callbacks = get_callbacks(filepath=file_path, patience=5)\n",
    "        gen_flow = gen_flow_for_two_inputs(X_train_cv, X_angle_cv, y_train_cv)\n",
    "        galaxyModel = getVggAngleModel()\n",
    "        galaxyModel.fit_generator(\n",
    "            gen_flow,\n",
    "            steps_per_epoch=24,\n",
    "            epochs=100,\n",
    "            shuffle=True,\n",
    "            verbose=1,\n",
    "            validation_data=([X_holdout, X_angle_hold], Y_holdout),\n",
    "            callbacks=callbacks)\n",
    "\n",
    "        galaxyModel.load_weights(filepath=file_path)\n",
    "\n",
    "        score = galaxyModel.evaluate([X_train_cv, X_angle_cv], y_train_cv, verbose=0)\n",
    "        print('Train loss:', score[0])\n",
    "        print('Train accuracy:', score[1])\n",
    "\n",
    "        score = galaxyModel.evaluate([X_holdout, X_angle_hold], Y_holdout, verbose=0)\n",
    "        print('Test loss:', score[0])\n",
    "        print('Test accuracy:', score[1])\n",
    "\n",
    "        pred_valid = galaxyModel.predict([X_holdout, X_angle_hold])\n",
    "        y_valid_pred_log[test_idx] = pred_valid.reshape(pred_valid.shape[0])\n",
    "\n",
    "        temp_test = galaxyModel.predict([X_test, X_test_angle])\n",
    "        y_test_pred_log += temp_test.reshape(temp_test.shape[0])\n",
    "\n",
    "        temp_train = galaxyModel.predict([X_train, X_angle])\n",
    "        y_train_pred_log += temp_train.reshape(temp_train.shape[0])\n",
    "\n",
    "    y_test_pred_log = y_test_pred_log / K\n",
    "    y_train_pred_log = y_train_pred_log / K\n",
    "\n",
    "    print('\\n Train Log Loss Validation= ', log_loss(target_train, y_train_pred_log))\n",
    "    print(' Test Log Loss Validation= ', log_loss(target_train, y_valid_pred_log))\n",
    "    return y_test_pred_log"
   ],
   "id": "c77ce88659ff3c3c",
   "outputs": [],
   "execution_count": 4
  },
  {
   "metadata": {
    "ExecuteTime": {
     "end_time": "2024-07-11T06:32:11.080084Z",
     "start_time": "2024-07-11T06:32:02.900974Z"
    }
   },
   "cell_type": "code",
   "source": "preds = myAngleCV(X_train, X_angle, X_test)",
   "id": "db721aacc816ddf7",
   "outputs": [
    {
     "name": "stdout",
     "output_type": "stream",
     "text": [
      "\n",
      "===================FOLD= 0\n",
      "Downloading data from https://storage.googleapis.com/tensorflow/keras-applications/vgg16/vgg16_weights_tf_dim_ordering_tf_kernels_notop.h5\n",
      "\u001B[1m58889256/58889256\u001B[0m \u001B[32m━━━━━━━━━━━━━━━━━━━━\u001B[0m\u001B[37m\u001B[0m \u001B[1m3s\u001B[0m 0us/step\n"
     ]
    },
    {
     "ename": "ValueError",
     "evalue": "Unrecognized keyword arguments passed to Model: {'input': [<KerasTensor shape=(None, 75, 75, 3), dtype=float32, sparse=None, name=keras_tensor_1>, <KerasTensor shape=(None, 1), dtype=float32, sparse=None, name=angle>], 'output': <KerasTensor shape=(None, 1), dtype=float32, sparse=False, name=keras_tensor_26>}",
     "output_type": "error",
     "traceback": [
      "\u001B[0;31m---------------------------------------------------------------------------\u001B[0m",
      "\u001B[0;31mValueError\u001B[0m                                Traceback (most recent call last)",
      "Cell \u001B[0;32mIn[5], line 1\u001B[0m\n\u001B[0;32m----> 1\u001B[0m preds \u001B[38;5;241m=\u001B[39m myAngleCV(X_train, X_angle, X_test)\n",
      "Cell \u001B[0;32mIn[4], line 97\u001B[0m, in \u001B[0;36mmyAngleCV\u001B[0;34m(X_train, X_angle, X_test)\u001B[0m\n\u001B[1;32m     95\u001B[0m callbacks \u001B[38;5;241m=\u001B[39m get_callbacks(filepath\u001B[38;5;241m=\u001B[39mfile_path, patience\u001B[38;5;241m=\u001B[39m\u001B[38;5;241m5\u001B[39m)\n\u001B[1;32m     96\u001B[0m gen_flow \u001B[38;5;241m=\u001B[39m gen_flow_for_two_inputs(X_train_cv, X_angle_cv, y_train_cv)\n\u001B[0;32m---> 97\u001B[0m galaxyModel \u001B[38;5;241m=\u001B[39m getVggAngleModel()\n\u001B[1;32m     98\u001B[0m galaxyModel\u001B[38;5;241m.\u001B[39mfit_generator(\n\u001B[1;32m     99\u001B[0m     gen_flow,\n\u001B[1;32m    100\u001B[0m     steps_per_epoch\u001B[38;5;241m=\u001B[39m\u001B[38;5;241m24\u001B[39m,\n\u001B[0;32m   (...)\u001B[0m\n\u001B[1;32m    104\u001B[0m     validation_data\u001B[38;5;241m=\u001B[39m([X_holdout, X_angle_hold], Y_holdout),\n\u001B[1;32m    105\u001B[0m     callbacks\u001B[38;5;241m=\u001B[39mcallbacks)\n\u001B[1;32m    107\u001B[0m galaxyModel\u001B[38;5;241m.\u001B[39mload_weights(filepath\u001B[38;5;241m=\u001B[39mfile_path)\n",
      "Cell \u001B[0;32mIn[4], line 69\u001B[0m, in \u001B[0;36mgetVggAngleModel\u001B[0;34m()\u001B[0m\n\u001B[1;32m     65\u001B[0m merge_one \u001B[38;5;241m=\u001B[39m Dropout(\u001B[38;5;241m0.3\u001B[39m)(merge_one)\n\u001B[1;32m     67\u001B[0m predictions \u001B[38;5;241m=\u001B[39m Dense(\u001B[38;5;241m1\u001B[39m, activation\u001B[38;5;241m=\u001B[39m\u001B[38;5;124m'\u001B[39m\u001B[38;5;124msigmoid\u001B[39m\u001B[38;5;124m'\u001B[39m)(merge_one)\n\u001B[0;32m---> 69\u001B[0m model \u001B[38;5;241m=\u001B[39m Model(\u001B[38;5;28minput\u001B[39m\u001B[38;5;241m=\u001B[39m[base_model\u001B[38;5;241m.\u001B[39minput, input_2], output\u001B[38;5;241m=\u001B[39mpredictions)\n\u001B[1;32m     71\u001B[0m sgd \u001B[38;5;241m=\u001B[39m SGD(lr\u001B[38;5;241m=\u001B[39m\u001B[38;5;241m1e-3\u001B[39m, decay\u001B[38;5;241m=\u001B[39m\u001B[38;5;241m1e-6\u001B[39m, momentum\u001B[38;5;241m=\u001B[39m\u001B[38;5;241m0.9\u001B[39m, nesterov\u001B[38;5;241m=\u001B[39m\u001B[38;5;28;01mTrue\u001B[39;00m)\n\u001B[1;32m     72\u001B[0m model\u001B[38;5;241m.\u001B[39mcompile(loss\u001B[38;5;241m=\u001B[39m\u001B[38;5;124m'\u001B[39m\u001B[38;5;124mbinary_crossentropy\u001B[39m\u001B[38;5;124m'\u001B[39m,\n\u001B[1;32m     73\u001B[0m               optimizer\u001B[38;5;241m=\u001B[39msgd,\n\u001B[1;32m     74\u001B[0m               metrics\u001B[38;5;241m=\u001B[39m[\u001B[38;5;124m'\u001B[39m\u001B[38;5;124maccuracy\u001B[39m\u001B[38;5;124m'\u001B[39m])\n",
      "File \u001B[0;32m/opt/anaconda3/lib/python3.11/site-packages/keras/src/models/model.py:156\u001B[0m, in \u001B[0;36mModel.__init__\u001B[0;34m(self, *args, **kwargs)\u001B[0m\n\u001B[1;32m    154\u001B[0m     functional\u001B[38;5;241m.\u001B[39mFunctional\u001B[38;5;241m.\u001B[39m\u001B[38;5;21m__init__\u001B[39m(\u001B[38;5;28mself\u001B[39m, \u001B[38;5;241m*\u001B[39margs, \u001B[38;5;241m*\u001B[39m\u001B[38;5;241m*\u001B[39mkwargs)\n\u001B[1;32m    155\u001B[0m \u001B[38;5;28;01melse\u001B[39;00m:\n\u001B[0;32m--> 156\u001B[0m     Layer\u001B[38;5;241m.\u001B[39m\u001B[38;5;21m__init__\u001B[39m(\u001B[38;5;28mself\u001B[39m, \u001B[38;5;241m*\u001B[39margs, \u001B[38;5;241m*\u001B[39m\u001B[38;5;241m*\u001B[39mkwargs)\n",
      "File \u001B[0;32m/opt/anaconda3/lib/python3.11/site-packages/keras/src/layers/layer.py:264\u001B[0m, in \u001B[0;36mLayer.__init__\u001B[0;34m(self, activity_regularizer, trainable, dtype, autocast, name, **kwargs)\u001B[0m\n\u001B[1;32m    262\u001B[0m     \u001B[38;5;28mself\u001B[39m\u001B[38;5;241m.\u001B[39m_input_shape_arg \u001B[38;5;241m=\u001B[39m input_shape_arg\n\u001B[1;32m    263\u001B[0m \u001B[38;5;28;01mif\u001B[39;00m kwargs:\n\u001B[0;32m--> 264\u001B[0m     \u001B[38;5;28;01mraise\u001B[39;00m \u001B[38;5;167;01mValueError\u001B[39;00m(\n\u001B[1;32m    265\u001B[0m         \u001B[38;5;124m\"\u001B[39m\u001B[38;5;124mUnrecognized keyword arguments \u001B[39m\u001B[38;5;124m\"\u001B[39m\n\u001B[1;32m    266\u001B[0m         \u001B[38;5;124mf\u001B[39m\u001B[38;5;124m\"\u001B[39m\u001B[38;5;124mpassed to \u001B[39m\u001B[38;5;132;01m{\u001B[39;00m\u001B[38;5;28mself\u001B[39m\u001B[38;5;241m.\u001B[39m\u001B[38;5;18m__class__\u001B[39m\u001B[38;5;241m.\u001B[39m\u001B[38;5;18m__name__\u001B[39m\u001B[38;5;132;01m}\u001B[39;00m\u001B[38;5;124m: \u001B[39m\u001B[38;5;132;01m{\u001B[39;00mkwargs\u001B[38;5;132;01m}\u001B[39;00m\u001B[38;5;124m\"\u001B[39m\n\u001B[1;32m    267\u001B[0m     )\n\u001B[1;32m    269\u001B[0m \u001B[38;5;28mself\u001B[39m\u001B[38;5;241m.\u001B[39mbuilt \u001B[38;5;241m=\u001B[39m \u001B[38;5;28;01mFalse\u001B[39;00m\n\u001B[1;32m    270\u001B[0m \u001B[38;5;28mself\u001B[39m\u001B[38;5;241m.\u001B[39mautocast \u001B[38;5;241m=\u001B[39m autocast\n",
      "\u001B[0;31mValueError\u001B[0m: Unrecognized keyword arguments passed to Model: {'input': [<KerasTensor shape=(None, 75, 75, 3), dtype=float32, sparse=None, name=keras_tensor_1>, <KerasTensor shape=(None, 1), dtype=float32, sparse=None, name=angle>], 'output': <KerasTensor shape=(None, 1), dtype=float32, sparse=False, name=keras_tensor_26>}"
     ]
    }
   ],
   "execution_count": 5
  },
  {
   "metadata": {
    "ExecuteTime": {
     "end_time": "2024-07-11T06:32:16.229863Z",
     "start_time": "2024-07-11T06:32:16.206720Z"
    }
   },
   "cell_type": "code",
   "source": [
    "submission = pd.DataFrame()\n",
    "submission['id'] = test['id']\n",
    "submission['is_iceberg'] = preds\n",
    "submission.to_csv('sub.csv', index=False)"
   ],
   "id": "be1cb1501a83d022",
   "outputs": [
    {
     "ename": "NameError",
     "evalue": "name 'preds' is not defined",
     "output_type": "error",
     "traceback": [
      "\u001B[0;31m---------------------------------------------------------------------------\u001B[0m",
      "\u001B[0;31mNameError\u001B[0m                                 Traceback (most recent call last)",
      "Cell \u001B[0;32mIn[6], line 3\u001B[0m\n\u001B[1;32m      1\u001B[0m submission \u001B[38;5;241m=\u001B[39m pd\u001B[38;5;241m.\u001B[39mDataFrame()\n\u001B[1;32m      2\u001B[0m submission[\u001B[38;5;124m'\u001B[39m\u001B[38;5;124mid\u001B[39m\u001B[38;5;124m'\u001B[39m] \u001B[38;5;241m=\u001B[39m test[\u001B[38;5;124m'\u001B[39m\u001B[38;5;124mid\u001B[39m\u001B[38;5;124m'\u001B[39m]\n\u001B[0;32m----> 3\u001B[0m submission[\u001B[38;5;124m'\u001B[39m\u001B[38;5;124mis_iceberg\u001B[39m\u001B[38;5;124m'\u001B[39m] \u001B[38;5;241m=\u001B[39m preds\n\u001B[1;32m      4\u001B[0m submission\u001B[38;5;241m.\u001B[39mto_csv(\u001B[38;5;124m'\u001B[39m\u001B[38;5;124msub.csv\u001B[39m\u001B[38;5;124m'\u001B[39m, index\u001B[38;5;241m=\u001B[39m\u001B[38;5;28;01mFalse\u001B[39;00m)\n",
      "\u001B[0;31mNameError\u001B[0m: name 'preds' is not defined"
     ]
    }
   ],
   "execution_count": 6
  }
 ],
 "metadata": {
  "kernelspec": {
   "display_name": "Python 3",
   "language": "python",
   "name": "python3"
  },
  "language_info": {
   "codemirror_mode": {
    "name": "ipython",
    "version": 2
   },
   "file_extension": ".py",
   "mimetype": "text/x-python",
   "name": "python",
   "nbconvert_exporter": "python",
   "pygments_lexer": "ipython2",
   "version": "2.7.6"
  }
 },
 "nbformat": 4,
 "nbformat_minor": 5
}
