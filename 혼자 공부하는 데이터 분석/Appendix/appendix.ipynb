{
 "cells": [
  {
   "cell_type": "code",
   "execution_count": 6,
   "id": "initial_id",
   "metadata": {
    "collapsed": true,
    "ExecuteTime": {
     "end_time": "2024-03-21T15:40:43.205179Z",
     "start_time": "2024-03-21T15:40:43.201988Z"
    }
   },
   "outputs": [],
   "source": [
    "import sqlite3\n",
    "\n",
    "conn = sqlite3.connect('ns_lib.db')"
   ]
  },
  {
   "cell_type": "code",
   "outputs": [
    {
     "name": "stderr",
     "output_type": "stream",
     "text": [
      "Downloading...\n",
      "From: https://bit.ly/3RhoNho\n",
      "To: /Users/llouis/Desktop/LLouis/AI_and_Data_Deep_Dive/혼자 공부하는 데이터 분석/Data_Analysis/Appendix/ns_202104.csv\n",
      "100%|██████████| 57.6M/57.6M [00:06<00:00, 8.35MB/s]\n"
     ]
    },
    {
     "data": {
      "text/plain": "'ns_202104.csv'"
     },
     "execution_count": 7,
     "metadata": {},
     "output_type": "execute_result"
    }
   ],
   "source": [
    "import gdown\n",
    "\n",
    "gdown.download('https://bit.ly/3RhoNho', 'ns_202104.csv', quiet=False)"
   ],
   "metadata": {
    "collapsed": false,
    "ExecuteTime": {
     "end_time": "2024-03-21T15:40:55.230215Z",
     "start_time": "2024-03-21T15:40:44.233257Z"
    }
   },
   "id": "2f010ec9f376e13b",
   "execution_count": 7
  },
  {
   "cell_type": "code",
   "outputs": [
    {
     "ename": "OperationalError",
     "evalue": "table nslib_book already exists",
     "output_type": "error",
     "traceback": [
      "\u001B[0;31m---------------------------------------------------------------------------\u001B[0m",
      "\u001B[0;31mOperationalError\u001B[0m                          Traceback (most recent call last)",
      "Cell \u001B[0;32mIn[8], line 2\u001B[0m\n\u001B[1;32m      1\u001B[0m c \u001B[38;5;241m=\u001B[39m conn\u001B[38;5;241m.\u001B[39mcursor()\n\u001B[0;32m----> 2\u001B[0m c\u001B[38;5;241m.\u001B[39mexecute(\u001B[38;5;124m'\u001B[39m\u001B[38;5;124mCREATE TABLE nslib_book (name TEXT, author TEXT, borrow_count INTEGER)\u001B[39m\u001B[38;5;124m'\u001B[39m)\n",
      "\u001B[0;31mOperationalError\u001B[0m: table nslib_book already exists"
     ]
    }
   ],
   "source": [
    "c = conn.cursor()\n",
    "c.execute('CREATE TABLE nslib_book (name TEXT, author TEXT, borrow_count INTEGER)')"
   ],
   "metadata": {
    "collapsed": false,
    "ExecuteTime": {
     "end_time": "2024-03-21T15:40:58.165956Z",
     "start_time": "2024-03-21T15:40:58.153963Z"
    }
   },
   "id": "1659e692e8bfabbb",
   "execution_count": 8
  },
  {
   "cell_type": "code",
   "outputs": [
    {
     "data": {
      "text/plain": "   번호                    도서명                저자    출판사  발행년도           ISBN  \\\n0   1                인공지능과 흙            김동훈 지음    민음사  2021  9788937444319   \n1   2           가짜 행복 권하는 사회            김태형 지음   갈매나무  2021  9791190123969   \n2   3  나도 한 문장 잘 쓰면 바랄 게 없겠네            김선영 지음   블랙피쉬  2021  9788968332982   \n3   4                예루살렘 해변  이도 게펜 지음, 임재희 옮김  문학세계사  2021  9788970759906   \n4   5  김성곤의 중국한시기행 : 장강·황하 편            김성곤 지음    김영사  2021  9788934990833   \n\n  세트 ISBN 부가기호    권 주제분류번호  도서권수  대출건수        등록일자  Unnamed: 13  \n0     NaN  NaN  NaN    NaN     1     0  2021-03-19          NaN  \n1     NaN  NaN  NaN    NaN     1     0  2021-03-19          NaN  \n2     NaN  NaN  NaN    NaN     1     0  2021-03-19          NaN  \n3     NaN  NaN  NaN    NaN     1     0  2021-03-19          NaN  \n4     NaN  NaN  NaN    NaN     1     0  2021-03-19          NaN  ",
      "text/html": "<div>\n<style scoped>\n    .dataframe tbody tr th:only-of-type {\n        vertical-align: middle;\n    }\n\n    .dataframe tbody tr th {\n        vertical-align: top;\n    }\n\n    .dataframe thead th {\n        text-align: right;\n    }\n</style>\n<table border=\"1\" class=\"dataframe\">\n  <thead>\n    <tr style=\"text-align: right;\">\n      <th></th>\n      <th>번호</th>\n      <th>도서명</th>\n      <th>저자</th>\n      <th>출판사</th>\n      <th>발행년도</th>\n      <th>ISBN</th>\n      <th>세트 ISBN</th>\n      <th>부가기호</th>\n      <th>권</th>\n      <th>주제분류번호</th>\n      <th>도서권수</th>\n      <th>대출건수</th>\n      <th>등록일자</th>\n      <th>Unnamed: 13</th>\n    </tr>\n  </thead>\n  <tbody>\n    <tr>\n      <th>0</th>\n      <td>1</td>\n      <td>인공지능과 흙</td>\n      <td>김동훈 지음</td>\n      <td>민음사</td>\n      <td>2021</td>\n      <td>9788937444319</td>\n      <td>NaN</td>\n      <td>NaN</td>\n      <td>NaN</td>\n      <td>NaN</td>\n      <td>1</td>\n      <td>0</td>\n      <td>2021-03-19</td>\n      <td>NaN</td>\n    </tr>\n    <tr>\n      <th>1</th>\n      <td>2</td>\n      <td>가짜 행복 권하는 사회</td>\n      <td>김태형 지음</td>\n      <td>갈매나무</td>\n      <td>2021</td>\n      <td>9791190123969</td>\n      <td>NaN</td>\n      <td>NaN</td>\n      <td>NaN</td>\n      <td>NaN</td>\n      <td>1</td>\n      <td>0</td>\n      <td>2021-03-19</td>\n      <td>NaN</td>\n    </tr>\n    <tr>\n      <th>2</th>\n      <td>3</td>\n      <td>나도 한 문장 잘 쓰면 바랄 게 없겠네</td>\n      <td>김선영 지음</td>\n      <td>블랙피쉬</td>\n      <td>2021</td>\n      <td>9788968332982</td>\n      <td>NaN</td>\n      <td>NaN</td>\n      <td>NaN</td>\n      <td>NaN</td>\n      <td>1</td>\n      <td>0</td>\n      <td>2021-03-19</td>\n      <td>NaN</td>\n    </tr>\n    <tr>\n      <th>3</th>\n      <td>4</td>\n      <td>예루살렘 해변</td>\n      <td>이도 게펜 지음, 임재희 옮김</td>\n      <td>문학세계사</td>\n      <td>2021</td>\n      <td>9788970759906</td>\n      <td>NaN</td>\n      <td>NaN</td>\n      <td>NaN</td>\n      <td>NaN</td>\n      <td>1</td>\n      <td>0</td>\n      <td>2021-03-19</td>\n      <td>NaN</td>\n    </tr>\n    <tr>\n      <th>4</th>\n      <td>5</td>\n      <td>김성곤의 중국한시기행 : 장강·황하 편</td>\n      <td>김성곤 지음</td>\n      <td>김영사</td>\n      <td>2021</td>\n      <td>9788934990833</td>\n      <td>NaN</td>\n      <td>NaN</td>\n      <td>NaN</td>\n      <td>NaN</td>\n      <td>1</td>\n      <td>0</td>\n      <td>2021-03-19</td>\n      <td>NaN</td>\n    </tr>\n  </tbody>\n</table>\n</div>"
     },
     "execution_count": 9,
     "metadata": {},
     "output_type": "execute_result"
    }
   ],
   "source": [
    "import pandas as pd\n",
    "\n",
    "ns_df = pd.read_csv('ns_202104.csv', low_memory=False)\n",
    "ns_df.head()"
   ],
   "metadata": {
    "collapsed": false,
    "ExecuteTime": {
     "end_time": "2024-03-21T15:41:19.935371Z",
     "start_time": "2024-03-21T15:41:18.198715Z"
    }
   },
   "id": "dca3cce2acc2868",
   "execution_count": 9
  },
  {
   "cell_type": "code",
   "outputs": [
    {
     "data": {
      "text/plain": "<sqlite3.Cursor at 0x109adb6c0>"
     },
     "execution_count": 10,
     "metadata": {},
     "output_type": "execute_result"
    }
   ],
   "source": [
    "c.execute('INSERT INTO nslib_book (name, author, borrow_count) VALUES (?, ?, ?)', ('인공지능과 흙', '김동훈 지음', 0))"
   ],
   "metadata": {
    "collapsed": false,
    "ExecuteTime": {
     "end_time": "2024-03-21T15:42:48.525224Z",
     "start_time": "2024-03-21T15:42:48.521963Z"
    }
   },
   "id": "46ab455d649acaab",
   "execution_count": 10
  },
  {
   "cell_type": "code",
   "outputs": [],
   "source": [
    "for index, row in ns_df.iterrows():\n",
    "    c.execute('INSERT INTO nslib_book (name, author, borrow_count) VALUES (?, ?, ?)', (row['도서명'], row['저자'], row['대출건수']))"
   ],
   "metadata": {
    "collapsed": false,
    "ExecuteTime": {
     "end_time": "2024-03-21T15:43:55.146494Z",
     "start_time": "2024-03-21T15:43:47.588524Z"
    }
   },
   "id": "35f89e1444ca7a38",
   "execution_count": 11
  },
  {
   "cell_type": "code",
   "outputs": [
    {
     "data": {
      "text/plain": "                     도서명                저자  대출건수\n0                인공지능과 흙            김동훈 지음     0\n1           가짜 행복 권하는 사회            김태형 지음     0\n2  나도 한 문장 잘 쓰면 바랄 게 없겠네            김선영 지음     0\n3                예루살렘 해변  이도 게펜 지음, 임재희 옮김     0\n4  김성곤의 중국한시기행 : 장강·황하 편            김성곤 지음     0",
      "text/html": "<div>\n<style scoped>\n    .dataframe tbody tr th:only-of-type {\n        vertical-align: middle;\n    }\n\n    .dataframe tbody tr th {\n        vertical-align: top;\n    }\n\n    .dataframe thead th {\n        text-align: right;\n    }\n</style>\n<table border=\"1\" class=\"dataframe\">\n  <thead>\n    <tr style=\"text-align: right;\">\n      <th></th>\n      <th>도서명</th>\n      <th>저자</th>\n      <th>대출건수</th>\n    </tr>\n  </thead>\n  <tbody>\n    <tr>\n      <th>0</th>\n      <td>인공지능과 흙</td>\n      <td>김동훈 지음</td>\n      <td>0</td>\n    </tr>\n    <tr>\n      <th>1</th>\n      <td>가짜 행복 권하는 사회</td>\n      <td>김태형 지음</td>\n      <td>0</td>\n    </tr>\n    <tr>\n      <th>2</th>\n      <td>나도 한 문장 잘 쓰면 바랄 게 없겠네</td>\n      <td>김선영 지음</td>\n      <td>0</td>\n    </tr>\n    <tr>\n      <th>3</th>\n      <td>예루살렘 해변</td>\n      <td>이도 게펜 지음, 임재희 옮김</td>\n      <td>0</td>\n    </tr>\n    <tr>\n      <th>4</th>\n      <td>김성곤의 중국한시기행 : 장강·황하 편</td>\n      <td>김성곤 지음</td>\n      <td>0</td>\n    </tr>\n  </tbody>\n</table>\n</div>"
     },
     "execution_count": 12,
     "metadata": {},
     "output_type": "execute_result"
    }
   ],
   "source": [
    "book_df = ns_df[['도서명', '저자', '대출건수']]\n",
    "book_df.head()"
   ],
   "metadata": {
    "collapsed": false,
    "ExecuteTime": {
     "end_time": "2024-03-21T15:44:44.450599Z",
     "start_time": "2024-03-21T15:44:44.436316Z"
    }
   },
   "id": "5007e296f7e47710",
   "execution_count": 12
  },
  {
   "cell_type": "code",
   "outputs": [
    {
     "data": {
      "text/plain": "                    name            author  borrow_count\n0                인공지능과 흙            김동훈 지음             0\n1           가짜 행복 권하는 사회            김태형 지음             0\n2  나도 한 문장 잘 쓰면 바랄 게 없겠네            김선영 지음             0\n3                예루살렘 해변  이도 게펜 지음, 임재희 옮김             0\n4  김성곤의 중국한시기행 : 장강·황하 편            김성곤 지음             0",
      "text/html": "<div>\n<style scoped>\n    .dataframe tbody tr th:only-of-type {\n        vertical-align: middle;\n    }\n\n    .dataframe tbody tr th {\n        vertical-align: top;\n    }\n\n    .dataframe thead th {\n        text-align: right;\n    }\n</style>\n<table border=\"1\" class=\"dataframe\">\n  <thead>\n    <tr style=\"text-align: right;\">\n      <th></th>\n      <th>name</th>\n      <th>author</th>\n      <th>borrow_count</th>\n    </tr>\n  </thead>\n  <tbody>\n    <tr>\n      <th>0</th>\n      <td>인공지능과 흙</td>\n      <td>김동훈 지음</td>\n      <td>0</td>\n    </tr>\n    <tr>\n      <th>1</th>\n      <td>가짜 행복 권하는 사회</td>\n      <td>김태형 지음</td>\n      <td>0</td>\n    </tr>\n    <tr>\n      <th>2</th>\n      <td>나도 한 문장 잘 쓰면 바랄 게 없겠네</td>\n      <td>김선영 지음</td>\n      <td>0</td>\n    </tr>\n    <tr>\n      <th>3</th>\n      <td>예루살렘 해변</td>\n      <td>이도 게펜 지음, 임재희 옮김</td>\n      <td>0</td>\n    </tr>\n    <tr>\n      <th>4</th>\n      <td>김성곤의 중국한시기행 : 장강·황하 편</td>\n      <td>김성곤 지음</td>\n      <td>0</td>\n    </tr>\n  </tbody>\n</table>\n</div>"
     },
     "execution_count": 13,
     "metadata": {},
     "output_type": "execute_result"
    }
   ],
   "source": [
    "book_df.columns = ['name', 'author', 'borrow_count']\n",
    "book_df.head()"
   ],
   "metadata": {
    "collapsed": false,
    "ExecuteTime": {
     "end_time": "2024-03-21T15:45:59.869839Z",
     "start_time": "2024-03-21T15:45:59.865347Z"
    }
   },
   "id": "c78c10003acea822",
   "execution_count": 13
  },
  {
   "cell_type": "code",
   "outputs": [
    {
     "data": {
      "text/plain": "401682"
     },
     "execution_count": 14,
     "metadata": {},
     "output_type": "execute_result"
    }
   ],
   "source": [
    "book_df.to_sql('nslib_book', conn, if_exists='replace', index=False)"
   ],
   "metadata": {
    "collapsed": false,
    "ExecuteTime": {
     "end_time": "2024-03-21T15:46:23.981697Z",
     "start_time": "2024-03-21T15:46:23.410892Z"
    }
   },
   "id": "fc05c496e4b64fb9",
   "execution_count": 14
  },
  {
   "cell_type": "code",
   "outputs": [
    {
     "data": {
      "text/plain": "<sqlite3.Cursor at 0x109adb6c0>"
     },
     "execution_count": 15,
     "metadata": {},
     "output_type": "execute_result"
    }
   ],
   "source": [
    "c.execute('SELECT * FROM nslib_book')"
   ],
   "metadata": {
    "collapsed": false,
    "ExecuteTime": {
     "end_time": "2024-03-21T15:47:53.497719Z",
     "start_time": "2024-03-21T15:47:53.494082Z"
    }
   },
   "id": "236dea214e1c614",
   "execution_count": 15
  },
  {
   "cell_type": "code",
   "outputs": [
    {
     "data": {
      "text/plain": "('인공지능과 흙', '김동훈 지음', 0)"
     },
     "execution_count": 16,
     "metadata": {},
     "output_type": "execute_result"
    }
   ],
   "source": [
    "c.fetchone()"
   ],
   "metadata": {
    "collapsed": false,
    "ExecuteTime": {
     "end_time": "2024-03-21T15:47:59.883314Z",
     "start_time": "2024-03-21T15:47:59.880205Z"
    }
   },
   "id": "6eea6495df663a8a",
   "execution_count": 16
  },
  {
   "cell_type": "code",
   "outputs": [
    {
     "data": {
      "text/plain": "('가짜 행복 권하는 사회', '김태형 지음', 0)"
     },
     "execution_count": 17,
     "metadata": {},
     "output_type": "execute_result"
    }
   ],
   "source": [
    "c.fetchone()"
   ],
   "metadata": {
    "collapsed": false,
    "ExecuteTime": {
     "end_time": "2024-03-21T15:48:10.117235Z",
     "start_time": "2024-03-21T15:48:10.114283Z"
    }
   },
   "id": "d07b0c85c0b476ec",
   "execution_count": 17
  },
  {
   "cell_type": "code",
   "outputs": [
    {
     "data": {
      "text/plain": "[('나도 한 문장 잘 쓰면 바랄 게 없겠네', '김선영 지음', 0),\n ('예루살렘 해변', '이도 게펜 지음, 임재희 옮김', 0),\n ('김성곤의 중국한시기행 : 장강·황하 편', '김성곤 지음', 0)]"
     },
     "execution_count": 18,
     "metadata": {},
     "output_type": "execute_result"
    }
   ],
   "source": [
    "c.fetchmany(3)"
   ],
   "metadata": {
    "collapsed": false,
    "ExecuteTime": {
     "end_time": "2024-03-21T15:48:15.728459Z",
     "start_time": "2024-03-21T15:48:15.725125Z"
    }
   },
   "id": "b7d6f585f2084a71",
   "execution_count": 18
  },
  {
   "cell_type": "code",
   "outputs": [],
   "source": [
    "all_rows = c.fetchall()"
   ],
   "metadata": {
    "collapsed": false,
    "ExecuteTime": {
     "end_time": "2024-03-21T15:48:24.418610Z",
     "start_time": "2024-03-21T15:48:24.065416Z"
    }
   },
   "id": "6374bc2aac1ebf73",
   "execution_count": 19
  },
  {
   "cell_type": "code",
   "outputs": [
    {
     "data": {
      "text/plain": "                                     0                     1  2\n0                        처음 읽는 음식의 세계사  미야자키 마사카츠 지음, 한세희 옮김  0\n1  아르센 벵거 자서전 My Life in Red and White     아르센 벵거 지음, 이성모 옮김  0\n2                            쓰고 달콤한 직업                천운영 지음  0\n3                     일잘러의 노션 100% 활용법              제레미 강 지음  0\n4                         타이난 골목 노포 산책     천구이팡 지음, 심혜경 외 옮김  0",
      "text/html": "<div>\n<style scoped>\n    .dataframe tbody tr th:only-of-type {\n        vertical-align: middle;\n    }\n\n    .dataframe tbody tr th {\n        vertical-align: top;\n    }\n\n    .dataframe thead th {\n        text-align: right;\n    }\n</style>\n<table border=\"1\" class=\"dataframe\">\n  <thead>\n    <tr style=\"text-align: right;\">\n      <th></th>\n      <th>0</th>\n      <th>1</th>\n      <th>2</th>\n    </tr>\n  </thead>\n  <tbody>\n    <tr>\n      <th>0</th>\n      <td>처음 읽는 음식의 세계사</td>\n      <td>미야자키 마사카츠 지음, 한세희 옮김</td>\n      <td>0</td>\n    </tr>\n    <tr>\n      <th>1</th>\n      <td>아르센 벵거 자서전 My Life in Red and White</td>\n      <td>아르센 벵거 지음, 이성모 옮김</td>\n      <td>0</td>\n    </tr>\n    <tr>\n      <th>2</th>\n      <td>쓰고 달콤한 직업</td>\n      <td>천운영 지음</td>\n      <td>0</td>\n    </tr>\n    <tr>\n      <th>3</th>\n      <td>일잘러의 노션 100% 활용법</td>\n      <td>제레미 강 지음</td>\n      <td>0</td>\n    </tr>\n    <tr>\n      <th>4</th>\n      <td>타이난 골목 노포 산책</td>\n      <td>천구이팡 지음, 심혜경 외 옮김</td>\n      <td>0</td>\n    </tr>\n  </tbody>\n</table>\n</div>"
     },
     "execution_count": 20,
     "metadata": {},
     "output_type": "execute_result"
    }
   ],
   "source": [
    "book_df = pd.DataFrame(all_rows)\n",
    "book_df.head()"
   ],
   "metadata": {
    "collapsed": false,
    "ExecuteTime": {
     "end_time": "2024-03-21T15:48:37.781795Z",
     "start_time": "2024-03-21T15:48:37.686932Z"
    }
   },
   "id": "27625fde2815b48d",
   "execution_count": 20
  },
  {
   "cell_type": "code",
   "outputs": [
    {
     "data": {
      "text/plain": "                    name            author  borrow_count\n0                인공지능과 흙            김동훈 지음             0\n1           가짜 행복 권하는 사회            김태형 지음             0\n2  나도 한 문장 잘 쓰면 바랄 게 없겠네            김선영 지음             0\n3                예루살렘 해변  이도 게펜 지음, 임재희 옮김             0\n4  김성곤의 중국한시기행 : 장강·황하 편            김성곤 지음             0",
      "text/html": "<div>\n<style scoped>\n    .dataframe tbody tr th:only-of-type {\n        vertical-align: middle;\n    }\n\n    .dataframe tbody tr th {\n        vertical-align: top;\n    }\n\n    .dataframe thead th {\n        text-align: right;\n    }\n</style>\n<table border=\"1\" class=\"dataframe\">\n  <thead>\n    <tr style=\"text-align: right;\">\n      <th></th>\n      <th>name</th>\n      <th>author</th>\n      <th>borrow_count</th>\n    </tr>\n  </thead>\n  <tbody>\n    <tr>\n      <th>0</th>\n      <td>인공지능과 흙</td>\n      <td>김동훈 지음</td>\n      <td>0</td>\n    </tr>\n    <tr>\n      <th>1</th>\n      <td>가짜 행복 권하는 사회</td>\n      <td>김태형 지음</td>\n      <td>0</td>\n    </tr>\n    <tr>\n      <th>2</th>\n      <td>나도 한 문장 잘 쓰면 바랄 게 없겠네</td>\n      <td>김선영 지음</td>\n      <td>0</td>\n    </tr>\n    <tr>\n      <th>3</th>\n      <td>예루살렘 해변</td>\n      <td>이도 게펜 지음, 임재희 옮김</td>\n      <td>0</td>\n    </tr>\n    <tr>\n      <th>4</th>\n      <td>김성곤의 중국한시기행 : 장강·황하 편</td>\n      <td>김성곤 지음</td>\n      <td>0</td>\n    </tr>\n  </tbody>\n</table>\n</div>"
     },
     "execution_count": 23,
     "metadata": {},
     "output_type": "execute_result"
    }
   ],
   "source": [
    "book_df = pd.read_sql_query('SELECT * FROM nslib_book', conn)\n",
    "book_df.head()"
   ],
   "metadata": {
    "collapsed": false,
    "ExecuteTime": {
     "end_time": "2024-03-21T15:50:54.367277Z",
     "start_time": "2024-03-21T15:50:53.913213Z"
    }
   },
   "id": "806a751777be2058",
   "execution_count": 23
  },
  {
   "cell_type": "code",
   "outputs": [
    {
     "data": {
      "text/plain": "401682"
     },
     "execution_count": 24,
     "metadata": {},
     "output_type": "execute_result"
    }
   ],
   "source": [
    "len(book_df)"
   ],
   "metadata": {
    "collapsed": false,
    "ExecuteTime": {
     "end_time": "2024-03-21T15:51:23.127172Z",
     "start_time": "2024-03-21T15:51:23.123878Z"
    }
   },
   "id": "fb2e0351666a7b2a",
   "execution_count": 24
  },
  {
   "cell_type": "code",
   "outputs": [
    {
     "data": {
      "text/plain": "(401682,)"
     },
     "execution_count": 25,
     "metadata": {},
     "output_type": "execute_result"
    }
   ],
   "source": [
    "c.execute('SELECT count(*) FROM nslib_book')\n",
    "c.fetchone()"
   ],
   "metadata": {
    "collapsed": false,
    "ExecuteTime": {
     "end_time": "2024-03-21T15:51:45.517931Z",
     "start_time": "2024-03-21T15:51:45.502861Z"
    }
   },
   "id": "784202235391ec7b",
   "execution_count": 25
  },
  {
   "cell_type": "code",
   "outputs": [
    {
     "data": {
      "text/plain": "(4400145,)"
     },
     "execution_count": 26,
     "metadata": {},
     "output_type": "execute_result"
    }
   ],
   "source": [
    "c.execute('SELECT sum(borrow_count) FROM nslib_book')\n",
    "c.fetchone()"
   ],
   "metadata": {
    "collapsed": false,
    "ExecuteTime": {
     "end_time": "2024-03-21T15:52:04.439735Z",
     "start_time": "2024-03-21T15:52:04.412776Z"
    }
   },
   "id": "1d6e9af148e64f33",
   "execution_count": 26
  },
  {
   "cell_type": "code",
   "outputs": [
    {
     "data": {
      "text/plain": "(10.95429966988812,)"
     },
     "execution_count": 27,
     "metadata": {},
     "output_type": "execute_result"
    }
   ],
   "source": [
    "c.execute('SELECT avg(borrow_count) FROM nslib_book')\n",
    "c.fetchone()"
   ],
   "metadata": {
    "collapsed": false,
    "ExecuteTime": {
     "end_time": "2024-03-21T15:52:17.644315Z",
     "start_time": "2024-03-21T15:52:17.614310Z"
    }
   },
   "id": "d9a8215a7ecef7f5",
   "execution_count": 27
  },
  {
   "cell_type": "code",
   "outputs": [
    {
     "data": {
      "text/plain": "[('사피엔스 :유인원에서 사이보그까지, 인간 역사의 대담하고 위대한 질문 ', '유발 하라리 지음 ;조현욱 옮김', 1468),\n ('해커스 토익:Listening', 'David Cho 지음', 1065),\n ('7년의 밤 :정유정 장편소설 ', '정유정 저', 683),\n ('냉정과 열정사이:Blu', '츠지 히토나리 지음;양억관 옮김', 524),\n ('남한산성:김훈 장편소설', '김훈 지음', 501),\n ('해리포터와 혼혈왕자', '조앤 K. 롤링 지음;최인자 옮김', 451),\n ('해커스 토익:Listening', 'David Cho 지음', 440),\n ('다빈치 코드', '댄 브라운 지음;양선아 옮김', 440),\n ('신:베르나르 베르베르 장편소설', '베르나르 베르베르 지음;이세욱 옮김', 432),\n ('경제학 콘서트', '팀 하포드 지음;김명철 옮김', 425)]"
     },
     "execution_count": 28,
     "metadata": {},
     "output_type": "execute_result"
    }
   ],
   "source": [
    "c.execute('SELECT * FROM nslib_book ORDER BY borrow_count DESC LIMIT 10')\n",
    "c.fetchall()"
   ],
   "metadata": {
    "collapsed": false,
    "ExecuteTime": {
     "end_time": "2024-03-21T15:56:27.392165Z",
     "start_time": "2024-03-21T15:56:27.356597Z"
    }
   },
   "id": "409b7967e09fb2f8",
   "execution_count": 28
  },
  {
   "cell_type": "code",
   "outputs": [],
   "source": [
    "c.close()\n",
    "conn.close()"
   ],
   "metadata": {
    "collapsed": false,
    "ExecuteTime": {
     "end_time": "2024-03-21T15:56:36.512059Z",
     "start_time": "2024-03-21T15:56:36.509133Z"
    }
   },
   "id": "6303dd5296f27d9c",
   "execution_count": 29
  }
 ],
 "metadata": {
  "kernelspec": {
   "display_name": "Python 3",
   "language": "python",
   "name": "python3"
  },
  "language_info": {
   "codemirror_mode": {
    "name": "ipython",
    "version": 2
   },
   "file_extension": ".py",
   "mimetype": "text/x-python",
   "name": "python",
   "nbconvert_exporter": "python",
   "pygments_lexer": "ipython2",
   "version": "2.7.6"
  }
 },
 "nbformat": 4,
 "nbformat_minor": 5
}
