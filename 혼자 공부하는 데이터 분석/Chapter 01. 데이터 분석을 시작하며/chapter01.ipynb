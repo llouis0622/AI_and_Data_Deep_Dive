{
 "cells": [
  {
   "cell_type": "code",
   "execution_count": 5,
   "id": "initial_id",
   "metadata": {
    "collapsed": true,
    "ExecuteTime": {
     "end_time": "2024-03-18T08:12:52.891687Z",
     "start_time": "2024-03-18T08:12:51.351630Z"
    }
   },
   "outputs": [],
   "source": [
    "import pandas as pd\n",
    "\n",
    "df = pd.read_csv('서울특별시교육청남산도서관 장서 대출목록 (2024년 02월).csv', encoding='EUC-KR', low_memory=False)"
   ]
  },
  {
   "cell_type": "code",
   "outputs": [
    {
     "data": {
      "text/plain": "   번호               도서명                         저자     출판사  발행년도  \\\n0   1             노숙 인생           실뱅 테송 지음, 백선희 옮김    뮤진트리  2024   \n1   2       향문천의 한국어 비사                  향문천 (지은이)     김영사  2024   \n2   3    북으로 간 언어학자 김수경     이타가키 류타 지음, 고영진.임경화 옮김    푸른역사  2024   \n3   4        벨 훅스 같이 읽기         김동진 외 지음, 페페연구소 기획      동녘  2024   \n4   5  기꺼이 나의 죽음에 동의합니다  진 마모레오.조해나 슈넬러 지음, 김희정 옮김  위즈덤하우스  2024   \n\n            ISBN  세트 ISBN 부가기호    권 주제분류번호  도서권수  대출건수        등록일자  \\\n0  9791161111254      NaN  NaN  NaN    NaN     1     0  2024-02-29   \n1  9788934981015      NaN  NaN  NaN    NaN     1     0  2024-02-29   \n2  9791156122692      NaN  NaN  NaN    NaN     1     0  2024-02-29   \n3  9788972971146      NaN  NaN  NaN    NaN     1     0  2024-02-29   \n4  9791171711284      NaN  NaN  NaN    NaN     1     0  2024-02-29   \n\n   Unnamed: 13  \n0          NaN  \n1          NaN  \n2          NaN  \n3          NaN  \n4          NaN  ",
      "text/html": "<div>\n<style scoped>\n    .dataframe tbody tr th:only-of-type {\n        vertical-align: middle;\n    }\n\n    .dataframe tbody tr th {\n        vertical-align: top;\n    }\n\n    .dataframe thead th {\n        text-align: right;\n    }\n</style>\n<table border=\"1\" class=\"dataframe\">\n  <thead>\n    <tr style=\"text-align: right;\">\n      <th></th>\n      <th>번호</th>\n      <th>도서명</th>\n      <th>저자</th>\n      <th>출판사</th>\n      <th>발행년도</th>\n      <th>ISBN</th>\n      <th>세트 ISBN</th>\n      <th>부가기호</th>\n      <th>권</th>\n      <th>주제분류번호</th>\n      <th>도서권수</th>\n      <th>대출건수</th>\n      <th>등록일자</th>\n      <th>Unnamed: 13</th>\n    </tr>\n  </thead>\n  <tbody>\n    <tr>\n      <th>0</th>\n      <td>1</td>\n      <td>노숙 인생</td>\n      <td>실뱅 테송 지음, 백선희 옮김</td>\n      <td>뮤진트리</td>\n      <td>2024</td>\n      <td>9791161111254</td>\n      <td>NaN</td>\n      <td>NaN</td>\n      <td>NaN</td>\n      <td>NaN</td>\n      <td>1</td>\n      <td>0</td>\n      <td>2024-02-29</td>\n      <td>NaN</td>\n    </tr>\n    <tr>\n      <th>1</th>\n      <td>2</td>\n      <td>향문천의 한국어 비사</td>\n      <td>향문천 (지은이)</td>\n      <td>김영사</td>\n      <td>2024</td>\n      <td>9788934981015</td>\n      <td>NaN</td>\n      <td>NaN</td>\n      <td>NaN</td>\n      <td>NaN</td>\n      <td>1</td>\n      <td>0</td>\n      <td>2024-02-29</td>\n      <td>NaN</td>\n    </tr>\n    <tr>\n      <th>2</th>\n      <td>3</td>\n      <td>북으로 간 언어학자 김수경</td>\n      <td>이타가키 류타 지음, 고영진.임경화 옮김</td>\n      <td>푸른역사</td>\n      <td>2024</td>\n      <td>9791156122692</td>\n      <td>NaN</td>\n      <td>NaN</td>\n      <td>NaN</td>\n      <td>NaN</td>\n      <td>1</td>\n      <td>0</td>\n      <td>2024-02-29</td>\n      <td>NaN</td>\n    </tr>\n    <tr>\n      <th>3</th>\n      <td>4</td>\n      <td>벨 훅스 같이 읽기</td>\n      <td>김동진 외 지음, 페페연구소 기획</td>\n      <td>동녘</td>\n      <td>2024</td>\n      <td>9788972971146</td>\n      <td>NaN</td>\n      <td>NaN</td>\n      <td>NaN</td>\n      <td>NaN</td>\n      <td>1</td>\n      <td>0</td>\n      <td>2024-02-29</td>\n      <td>NaN</td>\n    </tr>\n    <tr>\n      <th>4</th>\n      <td>5</td>\n      <td>기꺼이 나의 죽음에 동의합니다</td>\n      <td>진 마모레오.조해나 슈넬러 지음, 김희정 옮김</td>\n      <td>위즈덤하우스</td>\n      <td>2024</td>\n      <td>9791171711284</td>\n      <td>NaN</td>\n      <td>NaN</td>\n      <td>NaN</td>\n      <td>NaN</td>\n      <td>1</td>\n      <td>0</td>\n      <td>2024-02-29</td>\n      <td>NaN</td>\n    </tr>\n  </tbody>\n</table>\n</div>"
     },
     "execution_count": 6,
     "metadata": {},
     "output_type": "execute_result"
    }
   ],
   "source": [
    "df.head()"
   ],
   "metadata": {
    "collapsed": false,
    "ExecuteTime": {
     "end_time": "2024-03-18T08:14:09.061349Z",
     "start_time": "2024-03-18T08:14:09.052288Z"
    }
   },
   "id": "8792fa68d2d9e126",
   "execution_count": 6
  },
  {
   "cell_type": "code",
   "outputs": [],
   "source": [
    "df.to_csv('ns_202402.csv')"
   ],
   "metadata": {
    "collapsed": false,
    "ExecuteTime": {
     "end_time": "2024-03-18T08:17:26.571859Z",
     "start_time": "2024-03-18T08:17:25.039347Z"
    }
   },
   "id": "38aff3b6e924b52f",
   "execution_count": 7
  }
 ],
 "metadata": {
  "kernelspec": {
   "display_name": "Python 3",
   "language": "python",
   "name": "python3"
  },
  "language_info": {
   "codemirror_mode": {
    "name": "ipython",
    "version": 2
   },
   "file_extension": ".py",
   "mimetype": "text/x-python",
   "name": "python",
   "nbconvert_exporter": "python",
   "pygments_lexer": "ipython2",
   "version": "2.7.6"
  }
 },
 "nbformat": 4,
 "nbformat_minor": 5
}
