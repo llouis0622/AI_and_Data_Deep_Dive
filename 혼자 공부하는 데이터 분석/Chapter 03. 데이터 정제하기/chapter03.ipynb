{
 "cells": [
  {
   "cell_type": "code",
   "execution_count": 1,
   "id": "initial_id",
   "metadata": {
    "collapsed": true,
    "ExecuteTime": {
     "end_time": "2024-03-19T07:37:08.172197Z",
     "start_time": "2024-03-19T07:36:55.559096Z"
    }
   },
   "outputs": [
    {
     "name": "stderr",
     "output_type": "stream",
     "text": [
      "Downloading...\n",
      "From: https://bit.ly/3RhoNho\n",
      "To: /Users/llouis/Desktop/LLouis/AI_and_Data_Deep_Dive/혼자 공부하는 데이터 분석/Data_Analysis/chapter 03/ns_202402.csv\n",
      "100%|██████████| 57.6M/57.6M [00:07<00:00, 7.67MB/s]\n"
     ]
    },
    {
     "data": {
      "text/plain": "'ns_202402.csv'"
     },
     "execution_count": 1,
     "metadata": {},
     "output_type": "execute_result"
    }
   ],
   "source": [
    "import gdown\n",
    "\n",
    "gdown.download('https://bit.ly/3RhoNho', 'ns_202402.csv', quiet=False)"
   ]
  },
  {
   "cell_type": "code",
   "outputs": [
    {
     "data": {
      "text/plain": "   번호                    도서명                저자    출판사  발행년도           ISBN  \\\n0   1                인공지능과 흙            김동훈 지음    민음사  2021  9788937444319   \n1   2           가짜 행복 권하는 사회            김태형 지음   갈매나무  2021  9791190123969   \n2   3  나도 한 문장 잘 쓰면 바랄 게 없겠네            김선영 지음   블랙피쉬  2021  9788968332982   \n3   4                예루살렘 해변  이도 게펜 지음, 임재희 옮김  문학세계사  2021  9788970759906   \n4   5  김성곤의 중국한시기행 : 장강·황하 편            김성곤 지음    김영사  2021  9788934990833   \n\n  세트 ISBN 부가기호    권 주제분류번호  도서권수  대출건수        등록일자  Unnamed: 13  \n0     NaN  NaN  NaN    NaN     1     0  2021-03-19          NaN  \n1     NaN  NaN  NaN    NaN     1     0  2021-03-19          NaN  \n2     NaN  NaN  NaN    NaN     1     0  2021-03-19          NaN  \n3     NaN  NaN  NaN    NaN     1     0  2021-03-19          NaN  \n4     NaN  NaN  NaN    NaN     1     0  2021-03-19          NaN  ",
      "text/html": "<div>\n<style scoped>\n    .dataframe tbody tr th:only-of-type {\n        vertical-align: middle;\n    }\n\n    .dataframe tbody tr th {\n        vertical-align: top;\n    }\n\n    .dataframe thead th {\n        text-align: right;\n    }\n</style>\n<table border=\"1\" class=\"dataframe\">\n  <thead>\n    <tr style=\"text-align: right;\">\n      <th></th>\n      <th>번호</th>\n      <th>도서명</th>\n      <th>저자</th>\n      <th>출판사</th>\n      <th>발행년도</th>\n      <th>ISBN</th>\n      <th>세트 ISBN</th>\n      <th>부가기호</th>\n      <th>권</th>\n      <th>주제분류번호</th>\n      <th>도서권수</th>\n      <th>대출건수</th>\n      <th>등록일자</th>\n      <th>Unnamed: 13</th>\n    </tr>\n  </thead>\n  <tbody>\n    <tr>\n      <th>0</th>\n      <td>1</td>\n      <td>인공지능과 흙</td>\n      <td>김동훈 지음</td>\n      <td>민음사</td>\n      <td>2021</td>\n      <td>9788937444319</td>\n      <td>NaN</td>\n      <td>NaN</td>\n      <td>NaN</td>\n      <td>NaN</td>\n      <td>1</td>\n      <td>0</td>\n      <td>2021-03-19</td>\n      <td>NaN</td>\n    </tr>\n    <tr>\n      <th>1</th>\n      <td>2</td>\n      <td>가짜 행복 권하는 사회</td>\n      <td>김태형 지음</td>\n      <td>갈매나무</td>\n      <td>2021</td>\n      <td>9791190123969</td>\n      <td>NaN</td>\n      <td>NaN</td>\n      <td>NaN</td>\n      <td>NaN</td>\n      <td>1</td>\n      <td>0</td>\n      <td>2021-03-19</td>\n      <td>NaN</td>\n    </tr>\n    <tr>\n      <th>2</th>\n      <td>3</td>\n      <td>나도 한 문장 잘 쓰면 바랄 게 없겠네</td>\n      <td>김선영 지음</td>\n      <td>블랙피쉬</td>\n      <td>2021</td>\n      <td>9788968332982</td>\n      <td>NaN</td>\n      <td>NaN</td>\n      <td>NaN</td>\n      <td>NaN</td>\n      <td>1</td>\n      <td>0</td>\n      <td>2021-03-19</td>\n      <td>NaN</td>\n    </tr>\n    <tr>\n      <th>3</th>\n      <td>4</td>\n      <td>예루살렘 해변</td>\n      <td>이도 게펜 지음, 임재희 옮김</td>\n      <td>문학세계사</td>\n      <td>2021</td>\n      <td>9788970759906</td>\n      <td>NaN</td>\n      <td>NaN</td>\n      <td>NaN</td>\n      <td>NaN</td>\n      <td>1</td>\n      <td>0</td>\n      <td>2021-03-19</td>\n      <td>NaN</td>\n    </tr>\n    <tr>\n      <th>4</th>\n      <td>5</td>\n      <td>김성곤의 중국한시기행 : 장강·황하 편</td>\n      <td>김성곤 지음</td>\n      <td>김영사</td>\n      <td>2021</td>\n      <td>9788934990833</td>\n      <td>NaN</td>\n      <td>NaN</td>\n      <td>NaN</td>\n      <td>NaN</td>\n      <td>1</td>\n      <td>0</td>\n      <td>2021-03-19</td>\n      <td>NaN</td>\n    </tr>\n  </tbody>\n</table>\n</div>"
     },
     "execution_count": 2,
     "metadata": {},
     "output_type": "execute_result"
    }
   ],
   "source": [
    "import pandas as pd\n",
    "\n",
    "ns_df = pd.read_csv('ns_202402.csv', low_memory=False)\n",
    "ns_df.head()"
   ],
   "metadata": {
    "collapsed": false,
    "ExecuteTime": {
     "end_time": "2024-03-19T07:37:43.860129Z",
     "start_time": "2024-03-19T07:37:42.184554Z"
    }
   },
   "id": "8ec218bb09260184",
   "execution_count": 2
  },
  {
   "cell_type": "code",
   "outputs": [
    {
     "data": {
      "text/plain": "   번호                    도서명                저자    출판사  발행년도           ISBN  \\\n0   1                인공지능과 흙            김동훈 지음    민음사  2021  9788937444319   \n1   2           가짜 행복 권하는 사회            김태형 지음   갈매나무  2021  9791190123969   \n2   3  나도 한 문장 잘 쓰면 바랄 게 없겠네            김선영 지음   블랙피쉬  2021  9788968332982   \n3   4                예루살렘 해변  이도 게펜 지음, 임재희 옮김  문학세계사  2021  9788970759906   \n4   5  김성곤의 중국한시기행 : 장강·황하 편            김성곤 지음    김영사  2021  9788934990833   \n\n  세트 ISBN 부가기호    권 주제분류번호  도서권수  대출건수        등록일자  \n0     NaN  NaN  NaN    NaN     1     0  2021-03-19  \n1     NaN  NaN  NaN    NaN     1     0  2021-03-19  \n2     NaN  NaN  NaN    NaN     1     0  2021-03-19  \n3     NaN  NaN  NaN    NaN     1     0  2021-03-19  \n4     NaN  NaN  NaN    NaN     1     0  2021-03-19  ",
      "text/html": "<div>\n<style scoped>\n    .dataframe tbody tr th:only-of-type {\n        vertical-align: middle;\n    }\n\n    .dataframe tbody tr th {\n        vertical-align: top;\n    }\n\n    .dataframe thead th {\n        text-align: right;\n    }\n</style>\n<table border=\"1\" class=\"dataframe\">\n  <thead>\n    <tr style=\"text-align: right;\">\n      <th></th>\n      <th>번호</th>\n      <th>도서명</th>\n      <th>저자</th>\n      <th>출판사</th>\n      <th>발행년도</th>\n      <th>ISBN</th>\n      <th>세트 ISBN</th>\n      <th>부가기호</th>\n      <th>권</th>\n      <th>주제분류번호</th>\n      <th>도서권수</th>\n      <th>대출건수</th>\n      <th>등록일자</th>\n    </tr>\n  </thead>\n  <tbody>\n    <tr>\n      <th>0</th>\n      <td>1</td>\n      <td>인공지능과 흙</td>\n      <td>김동훈 지음</td>\n      <td>민음사</td>\n      <td>2021</td>\n      <td>9788937444319</td>\n      <td>NaN</td>\n      <td>NaN</td>\n      <td>NaN</td>\n      <td>NaN</td>\n      <td>1</td>\n      <td>0</td>\n      <td>2021-03-19</td>\n    </tr>\n    <tr>\n      <th>1</th>\n      <td>2</td>\n      <td>가짜 행복 권하는 사회</td>\n      <td>김태형 지음</td>\n      <td>갈매나무</td>\n      <td>2021</td>\n      <td>9791190123969</td>\n      <td>NaN</td>\n      <td>NaN</td>\n      <td>NaN</td>\n      <td>NaN</td>\n      <td>1</td>\n      <td>0</td>\n      <td>2021-03-19</td>\n    </tr>\n    <tr>\n      <th>2</th>\n      <td>3</td>\n      <td>나도 한 문장 잘 쓰면 바랄 게 없겠네</td>\n      <td>김선영 지음</td>\n      <td>블랙피쉬</td>\n      <td>2021</td>\n      <td>9788968332982</td>\n      <td>NaN</td>\n      <td>NaN</td>\n      <td>NaN</td>\n      <td>NaN</td>\n      <td>1</td>\n      <td>0</td>\n      <td>2021-03-19</td>\n    </tr>\n    <tr>\n      <th>3</th>\n      <td>4</td>\n      <td>예루살렘 해변</td>\n      <td>이도 게펜 지음, 임재희 옮김</td>\n      <td>문학세계사</td>\n      <td>2021</td>\n      <td>9788970759906</td>\n      <td>NaN</td>\n      <td>NaN</td>\n      <td>NaN</td>\n      <td>NaN</td>\n      <td>1</td>\n      <td>0</td>\n      <td>2021-03-19</td>\n    </tr>\n    <tr>\n      <th>4</th>\n      <td>5</td>\n      <td>김성곤의 중국한시기행 : 장강·황하 편</td>\n      <td>김성곤 지음</td>\n      <td>김영사</td>\n      <td>2021</td>\n      <td>9788934990833</td>\n      <td>NaN</td>\n      <td>NaN</td>\n      <td>NaN</td>\n      <td>NaN</td>\n      <td>1</td>\n      <td>0</td>\n      <td>2021-03-19</td>\n    </tr>\n  </tbody>\n</table>\n</div>"
     },
     "execution_count": 3,
     "metadata": {},
     "output_type": "execute_result"
    }
   ],
   "source": [
    "ns_book = ns_df.loc[:, '번호':'등록일자']\n",
    "ns_book.head()"
   ],
   "metadata": {
    "collapsed": false,
    "ExecuteTime": {
     "end_time": "2024-03-19T07:38:37.151454Z",
     "start_time": "2024-03-19T07:38:37.104846Z"
    }
   },
   "id": "800f0af920a96f70",
   "execution_count": 3
  },
  {
   "cell_type": "code",
   "outputs": [
    {
     "data": {
      "text/plain": "array([ True,  True,  True,  True,  True,  True,  True,  True,  True,\n        True,  True,  True,  True, False])"
     },
     "execution_count": 4,
     "metadata": {},
     "output_type": "execute_result"
    }
   ],
   "source": [
    "ns_df.columns != 'Unnamed: 13'"
   ],
   "metadata": {
    "collapsed": false,
    "ExecuteTime": {
     "end_time": "2024-03-19T07:40:25.672709Z",
     "start_time": "2024-03-19T07:40:25.669567Z"
    }
   },
   "id": "6a3825c6f4d25aee",
   "execution_count": 4
  },
  {
   "cell_type": "code",
   "outputs": [
    {
     "data": {
      "text/plain": "   번호                    도서명                저자    출판사  발행년도           ISBN  \\\n0   1                인공지능과 흙            김동훈 지음    민음사  2021  9788937444319   \n1   2           가짜 행복 권하는 사회            김태형 지음   갈매나무  2021  9791190123969   \n2   3  나도 한 문장 잘 쓰면 바랄 게 없겠네            김선영 지음   블랙피쉬  2021  9788968332982   \n3   4                예루살렘 해변  이도 게펜 지음, 임재희 옮김  문학세계사  2021  9788970759906   \n4   5  김성곤의 중국한시기행 : 장강·황하 편            김성곤 지음    김영사  2021  9788934990833   \n\n  세트 ISBN 부가기호    권 주제분류번호  도서권수  대출건수        등록일자  \n0     NaN  NaN  NaN    NaN     1     0  2021-03-19  \n1     NaN  NaN  NaN    NaN     1     0  2021-03-19  \n2     NaN  NaN  NaN    NaN     1     0  2021-03-19  \n3     NaN  NaN  NaN    NaN     1     0  2021-03-19  \n4     NaN  NaN  NaN    NaN     1     0  2021-03-19  ",
      "text/html": "<div>\n<style scoped>\n    .dataframe tbody tr th:only-of-type {\n        vertical-align: middle;\n    }\n\n    .dataframe tbody tr th {\n        vertical-align: top;\n    }\n\n    .dataframe thead th {\n        text-align: right;\n    }\n</style>\n<table border=\"1\" class=\"dataframe\">\n  <thead>\n    <tr style=\"text-align: right;\">\n      <th></th>\n      <th>번호</th>\n      <th>도서명</th>\n      <th>저자</th>\n      <th>출판사</th>\n      <th>발행년도</th>\n      <th>ISBN</th>\n      <th>세트 ISBN</th>\n      <th>부가기호</th>\n      <th>권</th>\n      <th>주제분류번호</th>\n      <th>도서권수</th>\n      <th>대출건수</th>\n      <th>등록일자</th>\n    </tr>\n  </thead>\n  <tbody>\n    <tr>\n      <th>0</th>\n      <td>1</td>\n      <td>인공지능과 흙</td>\n      <td>김동훈 지음</td>\n      <td>민음사</td>\n      <td>2021</td>\n      <td>9788937444319</td>\n      <td>NaN</td>\n      <td>NaN</td>\n      <td>NaN</td>\n      <td>NaN</td>\n      <td>1</td>\n      <td>0</td>\n      <td>2021-03-19</td>\n    </tr>\n    <tr>\n      <th>1</th>\n      <td>2</td>\n      <td>가짜 행복 권하는 사회</td>\n      <td>김태형 지음</td>\n      <td>갈매나무</td>\n      <td>2021</td>\n      <td>9791190123969</td>\n      <td>NaN</td>\n      <td>NaN</td>\n      <td>NaN</td>\n      <td>NaN</td>\n      <td>1</td>\n      <td>0</td>\n      <td>2021-03-19</td>\n    </tr>\n    <tr>\n      <th>2</th>\n      <td>3</td>\n      <td>나도 한 문장 잘 쓰면 바랄 게 없겠네</td>\n      <td>김선영 지음</td>\n      <td>블랙피쉬</td>\n      <td>2021</td>\n      <td>9788968332982</td>\n      <td>NaN</td>\n      <td>NaN</td>\n      <td>NaN</td>\n      <td>NaN</td>\n      <td>1</td>\n      <td>0</td>\n      <td>2021-03-19</td>\n    </tr>\n    <tr>\n      <th>3</th>\n      <td>4</td>\n      <td>예루살렘 해변</td>\n      <td>이도 게펜 지음, 임재희 옮김</td>\n      <td>문학세계사</td>\n      <td>2021</td>\n      <td>9788970759906</td>\n      <td>NaN</td>\n      <td>NaN</td>\n      <td>NaN</td>\n      <td>NaN</td>\n      <td>1</td>\n      <td>0</td>\n      <td>2021-03-19</td>\n    </tr>\n    <tr>\n      <th>4</th>\n      <td>5</td>\n      <td>김성곤의 중국한시기행 : 장강·황하 편</td>\n      <td>김성곤 지음</td>\n      <td>김영사</td>\n      <td>2021</td>\n      <td>9788934990833</td>\n      <td>NaN</td>\n      <td>NaN</td>\n      <td>NaN</td>\n      <td>NaN</td>\n      <td>1</td>\n      <td>0</td>\n      <td>2021-03-19</td>\n    </tr>\n  </tbody>\n</table>\n</div>"
     },
     "execution_count": 7,
     "metadata": {},
     "output_type": "execute_result"
    }
   ],
   "source": [
    "selected_columns = ns_df.columns != 'Unnamed: 13'\n",
    "ns_book = ns_df.loc[:, selected_columns]\n",
    "ns_book.head()"
   ],
   "metadata": {
    "collapsed": false,
    "ExecuteTime": {
     "end_time": "2024-03-19T07:42:55.630832Z",
     "start_time": "2024-03-19T07:42:55.587645Z"
    }
   },
   "id": "837dfb3cc7811ded",
   "execution_count": 7
  },
  {
   "cell_type": "code",
   "outputs": [
    {
     "data": {
      "text/plain": "   번호                    도서명                저자    출판사  발행년도           ISBN  \\\n0   1                인공지능과 흙            김동훈 지음    민음사  2021  9788937444319   \n1   2           가짜 행복 권하는 사회            김태형 지음   갈매나무  2021  9791190123969   \n2   3  나도 한 문장 잘 쓰면 바랄 게 없겠네            김선영 지음   블랙피쉬  2021  9788968332982   \n3   4                예루살렘 해변  이도 게펜 지음, 임재희 옮김  문학세계사  2021  9788970759906   \n4   5  김성곤의 중국한시기행 : 장강·황하 편            김성곤 지음    김영사  2021  9788934990833   \n\n  세트 ISBN    권 주제분류번호  도서권수  대출건수        등록일자  Unnamed: 13  \n0     NaN  NaN    NaN     1     0  2021-03-19          NaN  \n1     NaN  NaN    NaN     1     0  2021-03-19          NaN  \n2     NaN  NaN    NaN     1     0  2021-03-19          NaN  \n3     NaN  NaN    NaN     1     0  2021-03-19          NaN  \n4     NaN  NaN    NaN     1     0  2021-03-19          NaN  ",
      "text/html": "<div>\n<style scoped>\n    .dataframe tbody tr th:only-of-type {\n        vertical-align: middle;\n    }\n\n    .dataframe tbody tr th {\n        vertical-align: top;\n    }\n\n    .dataframe thead th {\n        text-align: right;\n    }\n</style>\n<table border=\"1\" class=\"dataframe\">\n  <thead>\n    <tr style=\"text-align: right;\">\n      <th></th>\n      <th>번호</th>\n      <th>도서명</th>\n      <th>저자</th>\n      <th>출판사</th>\n      <th>발행년도</th>\n      <th>ISBN</th>\n      <th>세트 ISBN</th>\n      <th>권</th>\n      <th>주제분류번호</th>\n      <th>도서권수</th>\n      <th>대출건수</th>\n      <th>등록일자</th>\n      <th>Unnamed: 13</th>\n    </tr>\n  </thead>\n  <tbody>\n    <tr>\n      <th>0</th>\n      <td>1</td>\n      <td>인공지능과 흙</td>\n      <td>김동훈 지음</td>\n      <td>민음사</td>\n      <td>2021</td>\n      <td>9788937444319</td>\n      <td>NaN</td>\n      <td>NaN</td>\n      <td>NaN</td>\n      <td>1</td>\n      <td>0</td>\n      <td>2021-03-19</td>\n      <td>NaN</td>\n    </tr>\n    <tr>\n      <th>1</th>\n      <td>2</td>\n      <td>가짜 행복 권하는 사회</td>\n      <td>김태형 지음</td>\n      <td>갈매나무</td>\n      <td>2021</td>\n      <td>9791190123969</td>\n      <td>NaN</td>\n      <td>NaN</td>\n      <td>NaN</td>\n      <td>1</td>\n      <td>0</td>\n      <td>2021-03-19</td>\n      <td>NaN</td>\n    </tr>\n    <tr>\n      <th>2</th>\n      <td>3</td>\n      <td>나도 한 문장 잘 쓰면 바랄 게 없겠네</td>\n      <td>김선영 지음</td>\n      <td>블랙피쉬</td>\n      <td>2021</td>\n      <td>9788968332982</td>\n      <td>NaN</td>\n      <td>NaN</td>\n      <td>NaN</td>\n      <td>1</td>\n      <td>0</td>\n      <td>2021-03-19</td>\n      <td>NaN</td>\n    </tr>\n    <tr>\n      <th>3</th>\n      <td>4</td>\n      <td>예루살렘 해변</td>\n      <td>이도 게펜 지음, 임재희 옮김</td>\n      <td>문학세계사</td>\n      <td>2021</td>\n      <td>9788970759906</td>\n      <td>NaN</td>\n      <td>NaN</td>\n      <td>NaN</td>\n      <td>1</td>\n      <td>0</td>\n      <td>2021-03-19</td>\n      <td>NaN</td>\n    </tr>\n    <tr>\n      <th>4</th>\n      <td>5</td>\n      <td>김성곤의 중국한시기행 : 장강·황하 편</td>\n      <td>김성곤 지음</td>\n      <td>김영사</td>\n      <td>2021</td>\n      <td>9788934990833</td>\n      <td>NaN</td>\n      <td>NaN</td>\n      <td>NaN</td>\n      <td>1</td>\n      <td>0</td>\n      <td>2021-03-19</td>\n      <td>NaN</td>\n    </tr>\n  </tbody>\n</table>\n</div>"
     },
     "execution_count": 8,
     "metadata": {},
     "output_type": "execute_result"
    }
   ],
   "source": [
    "selected_columns = ns_df.columns != '부가기호'\n",
    "ns_book = ns_df.loc[:, selected_columns]\n",
    "ns_book.head()"
   ],
   "metadata": {
    "collapsed": false,
    "ExecuteTime": {
     "end_time": "2024-03-19T07:42:58.104674Z",
     "start_time": "2024-03-19T07:42:58.056159Z"
    }
   },
   "id": "ee1a93c343da7240",
   "execution_count": 8
  },
  {
   "cell_type": "code",
   "outputs": [
    {
     "data": {
      "text/plain": "   번호                    도서명                저자    출판사  발행년도           ISBN  \\\n0   1                인공지능과 흙            김동훈 지음    민음사  2021  9788937444319   \n1   2           가짜 행복 권하는 사회            김태형 지음   갈매나무  2021  9791190123969   \n2   3  나도 한 문장 잘 쓰면 바랄 게 없겠네            김선영 지음   블랙피쉬  2021  9788968332982   \n3   4                예루살렘 해변  이도 게펜 지음, 임재희 옮김  문학세계사  2021  9788970759906   \n4   5  김성곤의 중국한시기행 : 장강·황하 편            김성곤 지음    김영사  2021  9788934990833   \n\n  세트 ISBN 부가기호    권 주제분류번호  도서권수  대출건수        등록일자  \n0     NaN  NaN  NaN    NaN     1     0  2021-03-19  \n1     NaN  NaN  NaN    NaN     1     0  2021-03-19  \n2     NaN  NaN  NaN    NaN     1     0  2021-03-19  \n3     NaN  NaN  NaN    NaN     1     0  2021-03-19  \n4     NaN  NaN  NaN    NaN     1     0  2021-03-19  ",
      "text/html": "<div>\n<style scoped>\n    .dataframe tbody tr th:only-of-type {\n        vertical-align: middle;\n    }\n\n    .dataframe tbody tr th {\n        vertical-align: top;\n    }\n\n    .dataframe thead th {\n        text-align: right;\n    }\n</style>\n<table border=\"1\" class=\"dataframe\">\n  <thead>\n    <tr style=\"text-align: right;\">\n      <th></th>\n      <th>번호</th>\n      <th>도서명</th>\n      <th>저자</th>\n      <th>출판사</th>\n      <th>발행년도</th>\n      <th>ISBN</th>\n      <th>세트 ISBN</th>\n      <th>부가기호</th>\n      <th>권</th>\n      <th>주제분류번호</th>\n      <th>도서권수</th>\n      <th>대출건수</th>\n      <th>등록일자</th>\n    </tr>\n  </thead>\n  <tbody>\n    <tr>\n      <th>0</th>\n      <td>1</td>\n      <td>인공지능과 흙</td>\n      <td>김동훈 지음</td>\n      <td>민음사</td>\n      <td>2021</td>\n      <td>9788937444319</td>\n      <td>NaN</td>\n      <td>NaN</td>\n      <td>NaN</td>\n      <td>NaN</td>\n      <td>1</td>\n      <td>0</td>\n      <td>2021-03-19</td>\n    </tr>\n    <tr>\n      <th>1</th>\n      <td>2</td>\n      <td>가짜 행복 권하는 사회</td>\n      <td>김태형 지음</td>\n      <td>갈매나무</td>\n      <td>2021</td>\n      <td>9791190123969</td>\n      <td>NaN</td>\n      <td>NaN</td>\n      <td>NaN</td>\n      <td>NaN</td>\n      <td>1</td>\n      <td>0</td>\n      <td>2021-03-19</td>\n    </tr>\n    <tr>\n      <th>2</th>\n      <td>3</td>\n      <td>나도 한 문장 잘 쓰면 바랄 게 없겠네</td>\n      <td>김선영 지음</td>\n      <td>블랙피쉬</td>\n      <td>2021</td>\n      <td>9788968332982</td>\n      <td>NaN</td>\n      <td>NaN</td>\n      <td>NaN</td>\n      <td>NaN</td>\n      <td>1</td>\n      <td>0</td>\n      <td>2021-03-19</td>\n    </tr>\n    <tr>\n      <th>3</th>\n      <td>4</td>\n      <td>예루살렘 해변</td>\n      <td>이도 게펜 지음, 임재희 옮김</td>\n      <td>문학세계사</td>\n      <td>2021</td>\n      <td>9788970759906</td>\n      <td>NaN</td>\n      <td>NaN</td>\n      <td>NaN</td>\n      <td>NaN</td>\n      <td>1</td>\n      <td>0</td>\n      <td>2021-03-19</td>\n    </tr>\n    <tr>\n      <th>4</th>\n      <td>5</td>\n      <td>김성곤의 중국한시기행 : 장강·황하 편</td>\n      <td>김성곤 지음</td>\n      <td>김영사</td>\n      <td>2021</td>\n      <td>9788934990833</td>\n      <td>NaN</td>\n      <td>NaN</td>\n      <td>NaN</td>\n      <td>NaN</td>\n      <td>1</td>\n      <td>0</td>\n      <td>2021-03-19</td>\n    </tr>\n  </tbody>\n</table>\n</div>"
     },
     "execution_count": 10,
     "metadata": {},
     "output_type": "execute_result"
    }
   ],
   "source": [
    "ns_book = ns_df.drop('Unnamed: 13', axis=1)\n",
    "ns_book.head()"
   ],
   "metadata": {
    "collapsed": false,
    "ExecuteTime": {
     "end_time": "2024-03-19T07:43:12.638668Z",
     "start_time": "2024-03-19T07:43:12.592925Z"
    }
   },
   "id": "66050210d3f98386",
   "execution_count": 10
  },
  {
   "cell_type": "code",
   "outputs": [
    {
     "data": {
      "text/plain": "   번호                    도서명                저자    출판사  발행년도           ISBN  \\\n0   1                인공지능과 흙            김동훈 지음    민음사  2021  9788937444319   \n1   2           가짜 행복 권하는 사회            김태형 지음   갈매나무  2021  9791190123969   \n2   3  나도 한 문장 잘 쓰면 바랄 게 없겠네            김선영 지음   블랙피쉬  2021  9788968332982   \n3   4                예루살렘 해변  이도 게펜 지음, 임재희 옮김  문학세계사  2021  9788970759906   \n4   5  김성곤의 중국한시기행 : 장강·황하 편            김성곤 지음    김영사  2021  9788934990833   \n\n  세트 ISBN    권 주제분류번호  도서권수  대출건수        등록일자  \n0     NaN  NaN    NaN     1     0  2021-03-19  \n1     NaN  NaN    NaN     1     0  2021-03-19  \n2     NaN  NaN    NaN     1     0  2021-03-19  \n3     NaN  NaN    NaN     1     0  2021-03-19  \n4     NaN  NaN    NaN     1     0  2021-03-19  ",
      "text/html": "<div>\n<style scoped>\n    .dataframe tbody tr th:only-of-type {\n        vertical-align: middle;\n    }\n\n    .dataframe tbody tr th {\n        vertical-align: top;\n    }\n\n    .dataframe thead th {\n        text-align: right;\n    }\n</style>\n<table border=\"1\" class=\"dataframe\">\n  <thead>\n    <tr style=\"text-align: right;\">\n      <th></th>\n      <th>번호</th>\n      <th>도서명</th>\n      <th>저자</th>\n      <th>출판사</th>\n      <th>발행년도</th>\n      <th>ISBN</th>\n      <th>세트 ISBN</th>\n      <th>권</th>\n      <th>주제분류번호</th>\n      <th>도서권수</th>\n      <th>대출건수</th>\n      <th>등록일자</th>\n    </tr>\n  </thead>\n  <tbody>\n    <tr>\n      <th>0</th>\n      <td>1</td>\n      <td>인공지능과 흙</td>\n      <td>김동훈 지음</td>\n      <td>민음사</td>\n      <td>2021</td>\n      <td>9788937444319</td>\n      <td>NaN</td>\n      <td>NaN</td>\n      <td>NaN</td>\n      <td>1</td>\n      <td>0</td>\n      <td>2021-03-19</td>\n    </tr>\n    <tr>\n      <th>1</th>\n      <td>2</td>\n      <td>가짜 행복 권하는 사회</td>\n      <td>김태형 지음</td>\n      <td>갈매나무</td>\n      <td>2021</td>\n      <td>9791190123969</td>\n      <td>NaN</td>\n      <td>NaN</td>\n      <td>NaN</td>\n      <td>1</td>\n      <td>0</td>\n      <td>2021-03-19</td>\n    </tr>\n    <tr>\n      <th>2</th>\n      <td>3</td>\n      <td>나도 한 문장 잘 쓰면 바랄 게 없겠네</td>\n      <td>김선영 지음</td>\n      <td>블랙피쉬</td>\n      <td>2021</td>\n      <td>9788968332982</td>\n      <td>NaN</td>\n      <td>NaN</td>\n      <td>NaN</td>\n      <td>1</td>\n      <td>0</td>\n      <td>2021-03-19</td>\n    </tr>\n    <tr>\n      <th>3</th>\n      <td>4</td>\n      <td>예루살렘 해변</td>\n      <td>이도 게펜 지음, 임재희 옮김</td>\n      <td>문학세계사</td>\n      <td>2021</td>\n      <td>9788970759906</td>\n      <td>NaN</td>\n      <td>NaN</td>\n      <td>NaN</td>\n      <td>1</td>\n      <td>0</td>\n      <td>2021-03-19</td>\n    </tr>\n    <tr>\n      <th>4</th>\n      <td>5</td>\n      <td>김성곤의 중국한시기행 : 장강·황하 편</td>\n      <td>김성곤 지음</td>\n      <td>김영사</td>\n      <td>2021</td>\n      <td>9788934990833</td>\n      <td>NaN</td>\n      <td>NaN</td>\n      <td>NaN</td>\n      <td>1</td>\n      <td>0</td>\n      <td>2021-03-19</td>\n    </tr>\n  </tbody>\n</table>\n</div>"
     },
     "execution_count": 11,
     "metadata": {},
     "output_type": "execute_result"
    }
   ],
   "source": [
    "ns_book = ns_df.drop(['부가기호', 'Unnamed: 13'], axis=1)\n",
    "ns_book.head()"
   ],
   "metadata": {
    "collapsed": false,
    "ExecuteTime": {
     "end_time": "2024-03-19T07:43:50.927985Z",
     "start_time": "2024-03-19T07:43:50.888166Z"
    }
   },
   "id": "91b027cef7f67259",
   "execution_count": 11
  },
  {
   "cell_type": "code",
   "outputs": [
    {
     "ename": "AttributeError",
     "evalue": "'NoneType' object has no attribute 'drop'",
     "output_type": "error",
     "traceback": [
      "\u001B[0;31m---------------------------------------------------------------------------\u001B[0m",
      "\u001B[0;31mAttributeError\u001B[0m                            Traceback (most recent call last)",
      "Cell \u001B[0;32mIn[13], line 1\u001B[0m\n\u001B[0;32m----> 1\u001B[0m ns_book\u001B[38;5;241m.\u001B[39mdrop(\u001B[38;5;124m'\u001B[39m\u001B[38;5;124m주제분류번호\u001B[39m\u001B[38;5;124m'\u001B[39m, axis\u001B[38;5;241m=\u001B[39m\u001B[38;5;241m1\u001B[39m, inplace\u001B[38;5;241m=\u001B[39m\u001B[38;5;28;01mTrue\u001B[39;00m)\n\u001B[1;32m      2\u001B[0m ns_book\u001B[38;5;241m.\u001B[39mhead()\n",
      "\u001B[0;31mAttributeError\u001B[0m: 'NoneType' object has no attribute 'drop'"
     ]
    }
   ],
   "source": [
    "ns_book.drop('주제분류번호', axis=1, inplace=True)\n",
    "ns_book.head()"
   ],
   "metadata": {
    "collapsed": false,
    "ExecuteTime": {
     "end_time": "2024-03-19T07:44:55.532038Z",
     "start_time": "2024-03-19T07:44:55.520934Z"
    }
   },
   "id": "af0a83292bebe81f",
   "execution_count": 13
  },
  {
   "cell_type": "code",
   "outputs": [
    {
     "data": {
      "text/plain": "   번호           ISBN  도서권수  대출건수        등록일자\n0   1  9788937444319     1     0  2021-03-19\n1   2  9791190123969     1     0  2021-03-19\n2   3  9788968332982     1     0  2021-03-19\n3   4  9788970759906     1     0  2021-03-19\n4   5  9788934990833     1     0  2021-03-19",
      "text/html": "<div>\n<style scoped>\n    .dataframe tbody tr th:only-of-type {\n        vertical-align: middle;\n    }\n\n    .dataframe tbody tr th {\n        vertical-align: top;\n    }\n\n    .dataframe thead th {\n        text-align: right;\n    }\n</style>\n<table border=\"1\" class=\"dataframe\">\n  <thead>\n    <tr style=\"text-align: right;\">\n      <th></th>\n      <th>번호</th>\n      <th>ISBN</th>\n      <th>도서권수</th>\n      <th>대출건수</th>\n      <th>등록일자</th>\n    </tr>\n  </thead>\n  <tbody>\n    <tr>\n      <th>0</th>\n      <td>1</td>\n      <td>9788937444319</td>\n      <td>1</td>\n      <td>0</td>\n      <td>2021-03-19</td>\n    </tr>\n    <tr>\n      <th>1</th>\n      <td>2</td>\n      <td>9791190123969</td>\n      <td>1</td>\n      <td>0</td>\n      <td>2021-03-19</td>\n    </tr>\n    <tr>\n      <th>2</th>\n      <td>3</td>\n      <td>9788968332982</td>\n      <td>1</td>\n      <td>0</td>\n      <td>2021-03-19</td>\n    </tr>\n    <tr>\n      <th>3</th>\n      <td>4</td>\n      <td>9788970759906</td>\n      <td>1</td>\n      <td>0</td>\n      <td>2021-03-19</td>\n    </tr>\n    <tr>\n      <th>4</th>\n      <td>5</td>\n      <td>9788934990833</td>\n      <td>1</td>\n      <td>0</td>\n      <td>2021-03-19</td>\n    </tr>\n  </tbody>\n</table>\n</div>"
     },
     "execution_count": 14,
     "metadata": {},
     "output_type": "execute_result"
    }
   ],
   "source": [
    "ns_book = ns_df.dropna(axis=1)\n",
    "ns_book.head()"
   ],
   "metadata": {
    "collapsed": false,
    "ExecuteTime": {
     "end_time": "2024-03-19T07:46:24.984952Z",
     "start_time": "2024-03-19T07:46:24.884437Z"
    }
   },
   "id": "6e1d0aef2a947693",
   "execution_count": 14
  },
  {
   "cell_type": "code",
   "outputs": [
    {
     "data": {
      "text/plain": "   번호                    도서명                저자    출판사  발행년도           ISBN  \\\n0   1                인공지능과 흙            김동훈 지음    민음사  2021  9788937444319   \n1   2           가짜 행복 권하는 사회            김태형 지음   갈매나무  2021  9791190123969   \n2   3  나도 한 문장 잘 쓰면 바랄 게 없겠네            김선영 지음   블랙피쉬  2021  9788968332982   \n3   4                예루살렘 해변  이도 게펜 지음, 임재희 옮김  문학세계사  2021  9788970759906   \n4   5  김성곤의 중국한시기행 : 장강·황하 편            김성곤 지음    김영사  2021  9788934990833   \n\n  세트 ISBN 부가기호    권  도서권수  대출건수        등록일자  \n0     NaN  NaN  NaN     1     0  2021-03-19  \n1     NaN  NaN  NaN     1     0  2021-03-19  \n2     NaN  NaN  NaN     1     0  2021-03-19  \n3     NaN  NaN  NaN     1     0  2021-03-19  \n4     NaN  NaN  NaN     1     0  2021-03-19  ",
      "text/html": "<div>\n<style scoped>\n    .dataframe tbody tr th:only-of-type {\n        vertical-align: middle;\n    }\n\n    .dataframe tbody tr th {\n        vertical-align: top;\n    }\n\n    .dataframe thead th {\n        text-align: right;\n    }\n</style>\n<table border=\"1\" class=\"dataframe\">\n  <thead>\n    <tr style=\"text-align: right;\">\n      <th></th>\n      <th>번호</th>\n      <th>도서명</th>\n      <th>저자</th>\n      <th>출판사</th>\n      <th>발행년도</th>\n      <th>ISBN</th>\n      <th>세트 ISBN</th>\n      <th>부가기호</th>\n      <th>권</th>\n      <th>도서권수</th>\n      <th>대출건수</th>\n      <th>등록일자</th>\n    </tr>\n  </thead>\n  <tbody>\n    <tr>\n      <th>0</th>\n      <td>1</td>\n      <td>인공지능과 흙</td>\n      <td>김동훈 지음</td>\n      <td>민음사</td>\n      <td>2021</td>\n      <td>9788937444319</td>\n      <td>NaN</td>\n      <td>NaN</td>\n      <td>NaN</td>\n      <td>1</td>\n      <td>0</td>\n      <td>2021-03-19</td>\n    </tr>\n    <tr>\n      <th>1</th>\n      <td>2</td>\n      <td>가짜 행복 권하는 사회</td>\n      <td>김태형 지음</td>\n      <td>갈매나무</td>\n      <td>2021</td>\n      <td>9791190123969</td>\n      <td>NaN</td>\n      <td>NaN</td>\n      <td>NaN</td>\n      <td>1</td>\n      <td>0</td>\n      <td>2021-03-19</td>\n    </tr>\n    <tr>\n      <th>2</th>\n      <td>3</td>\n      <td>나도 한 문장 잘 쓰면 바랄 게 없겠네</td>\n      <td>김선영 지음</td>\n      <td>블랙피쉬</td>\n      <td>2021</td>\n      <td>9788968332982</td>\n      <td>NaN</td>\n      <td>NaN</td>\n      <td>NaN</td>\n      <td>1</td>\n      <td>0</td>\n      <td>2021-03-19</td>\n    </tr>\n    <tr>\n      <th>3</th>\n      <td>4</td>\n      <td>예루살렘 해변</td>\n      <td>이도 게펜 지음, 임재희 옮김</td>\n      <td>문학세계사</td>\n      <td>2021</td>\n      <td>9788970759906</td>\n      <td>NaN</td>\n      <td>NaN</td>\n      <td>NaN</td>\n      <td>1</td>\n      <td>0</td>\n      <td>2021-03-19</td>\n    </tr>\n    <tr>\n      <th>4</th>\n      <td>5</td>\n      <td>김성곤의 중국한시기행 : 장강·황하 편</td>\n      <td>김성곤 지음</td>\n      <td>김영사</td>\n      <td>2021</td>\n      <td>9788934990833</td>\n      <td>NaN</td>\n      <td>NaN</td>\n      <td>NaN</td>\n      <td>1</td>\n      <td>0</td>\n      <td>2021-03-19</td>\n    </tr>\n  </tbody>\n</table>\n</div>"
     },
     "execution_count": 15,
     "metadata": {},
     "output_type": "execute_result"
    }
   ],
   "source": [
    "ns_book = ns_df.dropna(axis=1, how='all')\n",
    "ns_book.head()"
   ],
   "metadata": {
    "collapsed": false,
    "ExecuteTime": {
     "end_time": "2024-03-19T07:46:49.686805Z",
     "start_time": "2024-03-19T07:46:49.564190Z"
    }
   },
   "id": "dddf5760ca256f0f",
   "execution_count": 15
  },
  {
   "cell_type": "code",
   "outputs": [
    {
     "data": {
      "text/plain": "   번호                                  도서명                    저자  \\\n2   3                나도 한 문장 잘 쓰면 바랄 게 없겠네                김선영 지음   \n3   4                              예루살렘 해변      이도 게펜 지음, 임재희 옮김   \n4   5                김성곤의 중국한시기행 : 장강·황하 편                김성곤 지음   \n5   6                        처음 읽는 음식의 세계사  미야자키 마사카츠 지음, 한세희 옮김   \n6   7  아르센 벵거 자서전 My Life in Red and White     아르센 벵거 지음, 이성모 옮김   \n\n            출판사  발행년도           ISBN 세트 ISBN 부가기호    권  도서권수  대출건수        등록일자  \n2          블랙피쉬  2021  9788968332982     NaN  NaN  NaN     1     0  2021-03-19  \n3         문학세계사  2021  9788970759906     NaN  NaN  NaN     1     0  2021-03-19  \n4           김영사  2021  9788934990833     NaN  NaN  NaN     1     0  2021-03-19  \n5          탐나는책  2021  9791189550370     NaN  NaN  NaN     1     0  2021-03-19  \n6  한즈미디어(한스미디어)  2021  9791160075793     NaN  NaN  NaN     1     0  2021-03-19  ",
      "text/html": "<div>\n<style scoped>\n    .dataframe tbody tr th:only-of-type {\n        vertical-align: middle;\n    }\n\n    .dataframe tbody tr th {\n        vertical-align: top;\n    }\n\n    .dataframe thead th {\n        text-align: right;\n    }\n</style>\n<table border=\"1\" class=\"dataframe\">\n  <thead>\n    <tr style=\"text-align: right;\">\n      <th></th>\n      <th>번호</th>\n      <th>도서명</th>\n      <th>저자</th>\n      <th>출판사</th>\n      <th>발행년도</th>\n      <th>ISBN</th>\n      <th>세트 ISBN</th>\n      <th>부가기호</th>\n      <th>권</th>\n      <th>도서권수</th>\n      <th>대출건수</th>\n      <th>등록일자</th>\n    </tr>\n  </thead>\n  <tbody>\n    <tr>\n      <th>2</th>\n      <td>3</td>\n      <td>나도 한 문장 잘 쓰면 바랄 게 없겠네</td>\n      <td>김선영 지음</td>\n      <td>블랙피쉬</td>\n      <td>2021</td>\n      <td>9788968332982</td>\n      <td>NaN</td>\n      <td>NaN</td>\n      <td>NaN</td>\n      <td>1</td>\n      <td>0</td>\n      <td>2021-03-19</td>\n    </tr>\n    <tr>\n      <th>3</th>\n      <td>4</td>\n      <td>예루살렘 해변</td>\n      <td>이도 게펜 지음, 임재희 옮김</td>\n      <td>문학세계사</td>\n      <td>2021</td>\n      <td>9788970759906</td>\n      <td>NaN</td>\n      <td>NaN</td>\n      <td>NaN</td>\n      <td>1</td>\n      <td>0</td>\n      <td>2021-03-19</td>\n    </tr>\n    <tr>\n      <th>4</th>\n      <td>5</td>\n      <td>김성곤의 중국한시기행 : 장강·황하 편</td>\n      <td>김성곤 지음</td>\n      <td>김영사</td>\n      <td>2021</td>\n      <td>9788934990833</td>\n      <td>NaN</td>\n      <td>NaN</td>\n      <td>NaN</td>\n      <td>1</td>\n      <td>0</td>\n      <td>2021-03-19</td>\n    </tr>\n    <tr>\n      <th>5</th>\n      <td>6</td>\n      <td>처음 읽는 음식의 세계사</td>\n      <td>미야자키 마사카츠 지음, 한세희 옮김</td>\n      <td>탐나는책</td>\n      <td>2021</td>\n      <td>9791189550370</td>\n      <td>NaN</td>\n      <td>NaN</td>\n      <td>NaN</td>\n      <td>1</td>\n      <td>0</td>\n      <td>2021-03-19</td>\n    </tr>\n    <tr>\n      <th>6</th>\n      <td>7</td>\n      <td>아르센 벵거 자서전 My Life in Red and White</td>\n      <td>아르센 벵거 지음, 이성모 옮김</td>\n      <td>한즈미디어(한스미디어)</td>\n      <td>2021</td>\n      <td>9791160075793</td>\n      <td>NaN</td>\n      <td>NaN</td>\n      <td>NaN</td>\n      <td>1</td>\n      <td>0</td>\n      <td>2021-03-19</td>\n    </tr>\n  </tbody>\n</table>\n</div>"
     },
     "execution_count": 16,
     "metadata": {},
     "output_type": "execute_result"
    }
   ],
   "source": [
    "ns_book2 = ns_book.drop([0, 1])\n",
    "ns_book2.head()"
   ],
   "metadata": {
    "collapsed": false,
    "ExecuteTime": {
     "end_time": "2024-03-19T07:47:36.861430Z",
     "start_time": "2024-03-19T07:47:36.814380Z"
    }
   },
   "id": "c71d21cc9df6fd0",
   "execution_count": 16
  },
  {
   "cell_type": "code",
   "outputs": [
    {
     "data": {
      "text/plain": "   번호                                  도서명                    저자  \\\n2   3                나도 한 문장 잘 쓰면 바랄 게 없겠네                김선영 지음   \n3   4                              예루살렘 해변      이도 게펜 지음, 임재희 옮김   \n4   5                김성곤의 중국한시기행 : 장강·황하 편                김성곤 지음   \n5   6                        처음 읽는 음식의 세계사  미야자키 마사카츠 지음, 한세희 옮김   \n6   7  아르센 벵거 자서전 My Life in Red and White     아르센 벵거 지음, 이성모 옮김   \n\n            출판사  발행년도           ISBN 세트 ISBN 부가기호    권  도서권수  대출건수        등록일자  \n2          블랙피쉬  2021  9788968332982     NaN  NaN  NaN     1     0  2021-03-19  \n3         문학세계사  2021  9788970759906     NaN  NaN  NaN     1     0  2021-03-19  \n4           김영사  2021  9788934990833     NaN  NaN  NaN     1     0  2021-03-19  \n5          탐나는책  2021  9791189550370     NaN  NaN  NaN     1     0  2021-03-19  \n6  한즈미디어(한스미디어)  2021  9791160075793     NaN  NaN  NaN     1     0  2021-03-19  ",
      "text/html": "<div>\n<style scoped>\n    .dataframe tbody tr th:only-of-type {\n        vertical-align: middle;\n    }\n\n    .dataframe tbody tr th {\n        vertical-align: top;\n    }\n\n    .dataframe thead th {\n        text-align: right;\n    }\n</style>\n<table border=\"1\" class=\"dataframe\">\n  <thead>\n    <tr style=\"text-align: right;\">\n      <th></th>\n      <th>번호</th>\n      <th>도서명</th>\n      <th>저자</th>\n      <th>출판사</th>\n      <th>발행년도</th>\n      <th>ISBN</th>\n      <th>세트 ISBN</th>\n      <th>부가기호</th>\n      <th>권</th>\n      <th>도서권수</th>\n      <th>대출건수</th>\n      <th>등록일자</th>\n    </tr>\n  </thead>\n  <tbody>\n    <tr>\n      <th>2</th>\n      <td>3</td>\n      <td>나도 한 문장 잘 쓰면 바랄 게 없겠네</td>\n      <td>김선영 지음</td>\n      <td>블랙피쉬</td>\n      <td>2021</td>\n      <td>9788968332982</td>\n      <td>NaN</td>\n      <td>NaN</td>\n      <td>NaN</td>\n      <td>1</td>\n      <td>0</td>\n      <td>2021-03-19</td>\n    </tr>\n    <tr>\n      <th>3</th>\n      <td>4</td>\n      <td>예루살렘 해변</td>\n      <td>이도 게펜 지음, 임재희 옮김</td>\n      <td>문학세계사</td>\n      <td>2021</td>\n      <td>9788970759906</td>\n      <td>NaN</td>\n      <td>NaN</td>\n      <td>NaN</td>\n      <td>1</td>\n      <td>0</td>\n      <td>2021-03-19</td>\n    </tr>\n    <tr>\n      <th>4</th>\n      <td>5</td>\n      <td>김성곤의 중국한시기행 : 장강·황하 편</td>\n      <td>김성곤 지음</td>\n      <td>김영사</td>\n      <td>2021</td>\n      <td>9788934990833</td>\n      <td>NaN</td>\n      <td>NaN</td>\n      <td>NaN</td>\n      <td>1</td>\n      <td>0</td>\n      <td>2021-03-19</td>\n    </tr>\n    <tr>\n      <th>5</th>\n      <td>6</td>\n      <td>처음 읽는 음식의 세계사</td>\n      <td>미야자키 마사카츠 지음, 한세희 옮김</td>\n      <td>탐나는책</td>\n      <td>2021</td>\n      <td>9791189550370</td>\n      <td>NaN</td>\n      <td>NaN</td>\n      <td>NaN</td>\n      <td>1</td>\n      <td>0</td>\n      <td>2021-03-19</td>\n    </tr>\n    <tr>\n      <th>6</th>\n      <td>7</td>\n      <td>아르센 벵거 자서전 My Life in Red and White</td>\n      <td>아르센 벵거 지음, 이성모 옮김</td>\n      <td>한즈미디어(한스미디어)</td>\n      <td>2021</td>\n      <td>9791160075793</td>\n      <td>NaN</td>\n      <td>NaN</td>\n      <td>NaN</td>\n      <td>1</td>\n      <td>0</td>\n      <td>2021-03-19</td>\n    </tr>\n  </tbody>\n</table>\n</div>"
     },
     "execution_count": 17,
     "metadata": {},
     "output_type": "execute_result"
    }
   ],
   "source": [
    "ns_book2 = ns_book[2:]\n",
    "ns_book2.head()"
   ],
   "metadata": {
    "collapsed": false,
    "ExecuteTime": {
     "end_time": "2024-03-19T07:48:35.988830Z",
     "start_time": "2024-03-19T07:48:35.982778Z"
    }
   },
   "id": "9ebd4e8665de9cd8",
   "execution_count": 17
  },
  {
   "cell_type": "code",
   "outputs": [
    {
     "data": {
      "text/plain": "   번호           도서명      저자   출판사  발행년도           ISBN 세트 ISBN 부가기호    권  \\\n0   1       인공지능과 흙  김동훈 지음   민음사  2021  9788937444319     NaN  NaN  NaN   \n1   2  가짜 행복 권하는 사회  김태형 지음  갈매나무  2021  9791190123969     NaN  NaN  NaN   \n\n   도서권수  대출건수        등록일자  \n0     1     0  2021-03-19  \n1     1     0  2021-03-19  ",
      "text/html": "<div>\n<style scoped>\n    .dataframe tbody tr th:only-of-type {\n        vertical-align: middle;\n    }\n\n    .dataframe tbody tr th {\n        vertical-align: top;\n    }\n\n    .dataframe thead th {\n        text-align: right;\n    }\n</style>\n<table border=\"1\" class=\"dataframe\">\n  <thead>\n    <tr style=\"text-align: right;\">\n      <th></th>\n      <th>번호</th>\n      <th>도서명</th>\n      <th>저자</th>\n      <th>출판사</th>\n      <th>발행년도</th>\n      <th>ISBN</th>\n      <th>세트 ISBN</th>\n      <th>부가기호</th>\n      <th>권</th>\n      <th>도서권수</th>\n      <th>대출건수</th>\n      <th>등록일자</th>\n    </tr>\n  </thead>\n  <tbody>\n    <tr>\n      <th>0</th>\n      <td>1</td>\n      <td>인공지능과 흙</td>\n      <td>김동훈 지음</td>\n      <td>민음사</td>\n      <td>2021</td>\n      <td>9788937444319</td>\n      <td>NaN</td>\n      <td>NaN</td>\n      <td>NaN</td>\n      <td>1</td>\n      <td>0</td>\n      <td>2021-03-19</td>\n    </tr>\n    <tr>\n      <th>1</th>\n      <td>2</td>\n      <td>가짜 행복 권하는 사회</td>\n      <td>김태형 지음</td>\n      <td>갈매나무</td>\n      <td>2021</td>\n      <td>9791190123969</td>\n      <td>NaN</td>\n      <td>NaN</td>\n      <td>NaN</td>\n      <td>1</td>\n      <td>0</td>\n      <td>2021-03-19</td>\n    </tr>\n  </tbody>\n</table>\n</div>"
     },
     "execution_count": 18,
     "metadata": {},
     "output_type": "execute_result"
    }
   ],
   "source": [
    "ns_book2 = ns_book[0:2]\n",
    "ns_book2.head()"
   ],
   "metadata": {
    "collapsed": false,
    "ExecuteTime": {
     "end_time": "2024-03-19T07:48:52.386926Z",
     "start_time": "2024-03-19T07:48:52.381746Z"
    }
   },
   "id": "523d7878acfab132",
   "execution_count": 18
  },
  {
   "cell_type": "code",
   "outputs": [
    {
     "data": {
      "text/plain": "      번호                                                도서명  \\\n60    61       (맛있는 디자인)프리미어 프로 CC: 쉽게 배워 제대로 써먹는 유튜브 영상 편집   \n70    71         처음 배우는 애저 (Azure Portal로 배우는 애저 도입부터 활용까지)   \n88    89  맛있는 디자인 프리미어 프로 CC 2021 - 쉽게 배워 제대로 써먹는 유튜브 영상 편집   \n156  157                    실전 보고서 작성 기술 with 파워포인트, 워드, 한글   \n198  199                                    처음 배우는 리액트 네이티브   \n\n                           저자    출판사  발행년도           ISBN 세트 ISBN 부가기호     권  \\\n60         정지원,심수진,윤성우,김덕영 지음  한빛미디어  2021  9791162244029     NaN    1  2021   \n70                        김도균  한빛미디어  2020  9791162243695     NaN  NaN   NaN   \n88   정지원, 심수진, 윤성우, 김덕영 (지은이)  한빛미디어  2021  9791162244029     NaN  NaN   NaN   \n156                    홍장표 지음  한빛미디어  2020  9791162243763     NaN  NaN   NaN   \n198                    김범준 지음  한빛미디어  2021  9791162243879     NaN  NaN   NaN   \n\n     도서권수  대출건수        등록일자  \n60      1     1  2021-03-15  \n70      1     1  2021-03-15  \n88      0     0  2021-03-15  \n156     1     0  2021-03-12  \n198     1     0  2021-03-12  ",
      "text/html": "<div>\n<style scoped>\n    .dataframe tbody tr th:only-of-type {\n        vertical-align: middle;\n    }\n\n    .dataframe tbody tr th {\n        vertical-align: top;\n    }\n\n    .dataframe thead th {\n        text-align: right;\n    }\n</style>\n<table border=\"1\" class=\"dataframe\">\n  <thead>\n    <tr style=\"text-align: right;\">\n      <th></th>\n      <th>번호</th>\n      <th>도서명</th>\n      <th>저자</th>\n      <th>출판사</th>\n      <th>발행년도</th>\n      <th>ISBN</th>\n      <th>세트 ISBN</th>\n      <th>부가기호</th>\n      <th>권</th>\n      <th>도서권수</th>\n      <th>대출건수</th>\n      <th>등록일자</th>\n    </tr>\n  </thead>\n  <tbody>\n    <tr>\n      <th>60</th>\n      <td>61</td>\n      <td>(맛있는 디자인)프리미어 프로 CC: 쉽게 배워 제대로 써먹는 유튜브 영상 편집</td>\n      <td>정지원,심수진,윤성우,김덕영 지음</td>\n      <td>한빛미디어</td>\n      <td>2021</td>\n      <td>9791162244029</td>\n      <td>NaN</td>\n      <td>1</td>\n      <td>2021</td>\n      <td>1</td>\n      <td>1</td>\n      <td>2021-03-15</td>\n    </tr>\n    <tr>\n      <th>70</th>\n      <td>71</td>\n      <td>처음 배우는 애저 (Azure Portal로 배우는 애저 도입부터 활용까지)</td>\n      <td>김도균</td>\n      <td>한빛미디어</td>\n      <td>2020</td>\n      <td>9791162243695</td>\n      <td>NaN</td>\n      <td>NaN</td>\n      <td>NaN</td>\n      <td>1</td>\n      <td>1</td>\n      <td>2021-03-15</td>\n    </tr>\n    <tr>\n      <th>88</th>\n      <td>89</td>\n      <td>맛있는 디자인 프리미어 프로 CC 2021 - 쉽게 배워 제대로 써먹는 유튜브 영상 편집</td>\n      <td>정지원, 심수진, 윤성우, 김덕영 (지은이)</td>\n      <td>한빛미디어</td>\n      <td>2021</td>\n      <td>9791162244029</td>\n      <td>NaN</td>\n      <td>NaN</td>\n      <td>NaN</td>\n      <td>0</td>\n      <td>0</td>\n      <td>2021-03-15</td>\n    </tr>\n    <tr>\n      <th>156</th>\n      <td>157</td>\n      <td>실전 보고서 작성 기술 with 파워포인트, 워드, 한글</td>\n      <td>홍장표 지음</td>\n      <td>한빛미디어</td>\n      <td>2020</td>\n      <td>9791162243763</td>\n      <td>NaN</td>\n      <td>NaN</td>\n      <td>NaN</td>\n      <td>1</td>\n      <td>0</td>\n      <td>2021-03-12</td>\n    </tr>\n    <tr>\n      <th>198</th>\n      <td>199</td>\n      <td>처음 배우는 리액트 네이티브</td>\n      <td>김범준 지음</td>\n      <td>한빛미디어</td>\n      <td>2021</td>\n      <td>9791162243879</td>\n      <td>NaN</td>\n      <td>NaN</td>\n      <td>NaN</td>\n      <td>1</td>\n      <td>0</td>\n      <td>2021-03-12</td>\n    </tr>\n  </tbody>\n</table>\n</div>"
     },
     "execution_count": 19,
     "metadata": {},
     "output_type": "execute_result"
    }
   ],
   "source": [
    "selected_rows = ns_df['출판사'] == '한빛미디어'\n",
    "ns_book2 = ns_book[selected_rows]\n",
    "ns_book2.head()"
   ],
   "metadata": {
    "collapsed": false,
    "ExecuteTime": {
     "end_time": "2024-03-19T07:50:06.208378Z",
     "start_time": "2024-03-19T07:50:06.184597Z"
    }
   },
   "id": "458a3fdeed7aca81",
   "execution_count": 19
  },
  {
   "cell_type": "code",
   "outputs": [
    {
     "data": {
      "text/plain": "            번호                                      도서명                 저자  \\\n94781    94782  사피엔스 :유인원에서 사이보그까지, 인간 역사의 대담하고 위대한 질문   유발 하라리 지음 ;조현욱 옮김   \n346944  346945                         해커스 토익:Listening       David Cho 지음   \n\n             출판사  발행년도           ISBN 세트 ISBN 부가기호    권  도서권수  대출건수  \\\n94781        김영사  2016  9788934972464     NaN  NaN  NaN    30  1468   \n346944  해커스어학연구소  2005  9788990700148     NaN    1  NaN    29  1065   \n\n              등록일자  \n94781   2016-04-22  \n346944  2005-02-01  ",
      "text/html": "<div>\n<style scoped>\n    .dataframe tbody tr th:only-of-type {\n        vertical-align: middle;\n    }\n\n    .dataframe tbody tr th {\n        vertical-align: top;\n    }\n\n    .dataframe thead th {\n        text-align: right;\n    }\n</style>\n<table border=\"1\" class=\"dataframe\">\n  <thead>\n    <tr style=\"text-align: right;\">\n      <th></th>\n      <th>번호</th>\n      <th>도서명</th>\n      <th>저자</th>\n      <th>출판사</th>\n      <th>발행년도</th>\n      <th>ISBN</th>\n      <th>세트 ISBN</th>\n      <th>부가기호</th>\n      <th>권</th>\n      <th>도서권수</th>\n      <th>대출건수</th>\n      <th>등록일자</th>\n    </tr>\n  </thead>\n  <tbody>\n    <tr>\n      <th>94781</th>\n      <td>94782</td>\n      <td>사피엔스 :유인원에서 사이보그까지, 인간 역사의 대담하고 위대한 질문</td>\n      <td>유발 하라리 지음 ;조현욱 옮김</td>\n      <td>김영사</td>\n      <td>2016</td>\n      <td>9788934972464</td>\n      <td>NaN</td>\n      <td>NaN</td>\n      <td>NaN</td>\n      <td>30</td>\n      <td>1468</td>\n      <td>2016-04-22</td>\n    </tr>\n    <tr>\n      <th>346944</th>\n      <td>346945</td>\n      <td>해커스 토익:Listening</td>\n      <td>David Cho 지음</td>\n      <td>해커스어학연구소</td>\n      <td>2005</td>\n      <td>9788990700148</td>\n      <td>NaN</td>\n      <td>1</td>\n      <td>NaN</td>\n      <td>29</td>\n      <td>1065</td>\n      <td>2005-02-01</td>\n    </tr>\n  </tbody>\n</table>\n</div>"
     },
     "execution_count": 20,
     "metadata": {},
     "output_type": "execute_result"
    }
   ],
   "source": [
    "ns_book2 = ns_book[ns_book['대출건수'] > 1000]\n",
    "ns_book2.head()"
   ],
   "metadata": {
    "collapsed": false,
    "ExecuteTime": {
     "end_time": "2024-03-19T07:50:42.784540Z",
     "start_time": "2024-03-19T07:50:42.779003Z"
    }
   },
   "id": "a426e77cc56be96b",
   "execution_count": 20
  },
  {
   "cell_type": "code",
   "outputs": [
    {
     "data": {
      "text/plain": "0"
     },
     "execution_count": 21,
     "metadata": {},
     "output_type": "execute_result"
    }
   ],
   "source": [
    "sum(ns_book.duplicated())"
   ],
   "metadata": {
    "collapsed": false,
    "ExecuteTime": {
     "end_time": "2024-03-19T07:51:57.985528Z",
     "start_time": "2024-03-19T07:51:57.693985Z"
    }
   },
   "id": "fdd2fb6ccc905c5f",
   "execution_count": 21
  },
  {
   "cell_type": "code",
   "outputs": [
    {
     "data": {
      "text/plain": "22096"
     },
     "execution_count": 22,
     "metadata": {},
     "output_type": "execute_result"
    }
   ],
   "source": [
    "sum(ns_book.duplicated(subset=['도서명', '저자', 'ISBN']))"
   ],
   "metadata": {
    "collapsed": false,
    "ExecuteTime": {
     "end_time": "2024-03-19T07:53:00.066026Z",
     "start_time": "2024-03-19T07:52:59.890989Z"
    }
   },
   "id": "673914f07c5590d6",
   "execution_count": 22
  },
  {
   "cell_type": "code",
   "outputs": [
    {
     "data": {
      "text/plain": "      번호                  도서명                 저자           출판사  발행년도  \\\n109  110                  파친코     이민진 지음 ;이미정 옮김          문학사상  2018   \n110  111                  파친코     이민진 지음 ;이미정 옮김          문학사상  2018   \n111  112  보건교사 안은영 :정세랑 장편소설            지은이: 정세랑           민음사  2021   \n112  113  보건교사 안은영 :정세랑 장편소설            지은이: 정세랑           민음사  2021   \n113  114                 스토너   존 윌리엄스 지음 ;김승욱 옮김  RHK(알에이치코리아)  2021   \n\n              ISBN        세트 ISBN 부가기호    권  도서권수  대출건수        등록일자  \n109  9788970129815  9788970129808    0    1     1     0  2021-03-12  \n110  9788970129822  9788970129808    0    2     1     0  2021-03-12  \n111  9788937479953            NaN    0  NaN     1     0  2021-03-12  \n112  9788937479953            NaN    0  NaN     1     1  2021-03-12  \n113  9788925538297            NaN    0  NaN     1     0  2021-03-12  ",
      "text/html": "<div>\n<style scoped>\n    .dataframe tbody tr th:only-of-type {\n        vertical-align: middle;\n    }\n\n    .dataframe tbody tr th {\n        vertical-align: top;\n    }\n\n    .dataframe thead th {\n        text-align: right;\n    }\n</style>\n<table border=\"1\" class=\"dataframe\">\n  <thead>\n    <tr style=\"text-align: right;\">\n      <th></th>\n      <th>번호</th>\n      <th>도서명</th>\n      <th>저자</th>\n      <th>출판사</th>\n      <th>발행년도</th>\n      <th>ISBN</th>\n      <th>세트 ISBN</th>\n      <th>부가기호</th>\n      <th>권</th>\n      <th>도서권수</th>\n      <th>대출건수</th>\n      <th>등록일자</th>\n    </tr>\n  </thead>\n  <tbody>\n    <tr>\n      <th>109</th>\n      <td>110</td>\n      <td>파친코</td>\n      <td>이민진 지음 ;이미정 옮김</td>\n      <td>문학사상</td>\n      <td>2018</td>\n      <td>9788970129815</td>\n      <td>9788970129808</td>\n      <td>0</td>\n      <td>1</td>\n      <td>1</td>\n      <td>0</td>\n      <td>2021-03-12</td>\n    </tr>\n    <tr>\n      <th>110</th>\n      <td>111</td>\n      <td>파친코</td>\n      <td>이민진 지음 ;이미정 옮김</td>\n      <td>문학사상</td>\n      <td>2018</td>\n      <td>9788970129822</td>\n      <td>9788970129808</td>\n      <td>0</td>\n      <td>2</td>\n      <td>1</td>\n      <td>0</td>\n      <td>2021-03-12</td>\n    </tr>\n    <tr>\n      <th>111</th>\n      <td>112</td>\n      <td>보건교사 안은영 :정세랑 장편소설</td>\n      <td>지은이: 정세랑</td>\n      <td>민음사</td>\n      <td>2021</td>\n      <td>9788937479953</td>\n      <td>NaN</td>\n      <td>0</td>\n      <td>NaN</td>\n      <td>1</td>\n      <td>0</td>\n      <td>2021-03-12</td>\n    </tr>\n    <tr>\n      <th>112</th>\n      <td>113</td>\n      <td>보건교사 안은영 :정세랑 장편소설</td>\n      <td>지은이: 정세랑</td>\n      <td>민음사</td>\n      <td>2021</td>\n      <td>9788937479953</td>\n      <td>NaN</td>\n      <td>0</td>\n      <td>NaN</td>\n      <td>1</td>\n      <td>1</td>\n      <td>2021-03-12</td>\n    </tr>\n    <tr>\n      <th>113</th>\n      <td>114</td>\n      <td>스토너</td>\n      <td>존 윌리엄스 지음 ;김승욱 옮김</td>\n      <td>RHK(알에이치코리아)</td>\n      <td>2021</td>\n      <td>9788925538297</td>\n      <td>NaN</td>\n      <td>0</td>\n      <td>NaN</td>\n      <td>1</td>\n      <td>0</td>\n      <td>2021-03-12</td>\n    </tr>\n  </tbody>\n</table>\n</div>"
     },
     "execution_count": 23,
     "metadata": {},
     "output_type": "execute_result"
    }
   ],
   "source": [
    "dup_rows = ns_book.duplicated(subset=['도서명', '저자', 'ISBN'], keep=False)\n",
    "ns_book3 = ns_book[dup_rows]\n",
    "ns_book3.head()"
   ],
   "metadata": {
    "collapsed": false,
    "ExecuteTime": {
     "end_time": "2024-03-19T07:54:16.950881Z",
     "start_time": "2024-03-19T07:54:16.784249Z"
    }
   },
   "id": "68c15d61aa181732",
   "execution_count": 23
  },
  {
   "cell_type": "code",
   "outputs": [
    {
     "data": {
      "text/plain": "                                                                                           대출건수\n도서명                                            저자                       ISBN          권        \n(꼭 필요한 것부터 쉽게 배우는) 자신만만 블로그 차근차근 배우기           김상현 지음                   9788955025637 NaN    38\n(맨처음 배우는) 세상의 직업                               엘레오노라 바르소티 글 ·그림 ;김태은 옮김 9788992924146 NaN    10\n(영잘원 리스닝과 패턴 영어의 절묘한 만남으로 태어난 ) 리스닝 ABC : 입문편  JD Kim 지음                9788993466089 NaN     4\n(즉석에서 바로바로 활용하는) 일상생활 베트남어 첫걸음                 FL4U컨텐츠 지음               9788971728000 NaN     3\n,에게                                            이기린(이진희)                 9791196137014 NaN     0",
      "text/html": "<div>\n<style scoped>\n    .dataframe tbody tr th:only-of-type {\n        vertical-align: middle;\n    }\n\n    .dataframe tbody tr th {\n        vertical-align: top;\n    }\n\n    .dataframe thead th {\n        text-align: right;\n    }\n</style>\n<table border=\"1\" class=\"dataframe\">\n  <thead>\n    <tr style=\"text-align: right;\">\n      <th></th>\n      <th></th>\n      <th></th>\n      <th></th>\n      <th>대출건수</th>\n    </tr>\n    <tr>\n      <th>도서명</th>\n      <th>저자</th>\n      <th>ISBN</th>\n      <th>권</th>\n      <th></th>\n    </tr>\n  </thead>\n  <tbody>\n    <tr>\n      <th>(꼭 필요한 것부터 쉽게 배우는) 자신만만 블로그 차근차근 배우기</th>\n      <th>김상현 지음</th>\n      <th>9788955025637</th>\n      <th>NaN</th>\n      <td>38</td>\n    </tr>\n    <tr>\n      <th>(맨처음 배우는) 세상의 직업</th>\n      <th>엘레오노라 바르소티 글 ·그림 ;김태은 옮김</th>\n      <th>9788992924146</th>\n      <th>NaN</th>\n      <td>10</td>\n    </tr>\n    <tr>\n      <th>(영잘원 리스닝과 패턴 영어의 절묘한 만남으로 태어난 ) 리스닝 ABC : 입문편</th>\n      <th>JD Kim 지음</th>\n      <th>9788993466089</th>\n      <th>NaN</th>\n      <td>4</td>\n    </tr>\n    <tr>\n      <th>(즉석에서 바로바로 활용하는) 일상생활 베트남어 첫걸음</th>\n      <th>FL4U컨텐츠 지음</th>\n      <th>9788971728000</th>\n      <th>NaN</th>\n      <td>3</td>\n    </tr>\n    <tr>\n      <th>,에게</th>\n      <th>이기린(이진희)</th>\n      <th>9791196137014</th>\n      <th>NaN</th>\n      <td>0</td>\n    </tr>\n  </tbody>\n</table>\n</div>"
     },
     "execution_count": 26,
     "metadata": {},
     "output_type": "execute_result"
    }
   ],
   "source": [
    "count_df = ns_book[['도서명', '저자', 'ISBN', '권', '대출건수']]\n",
    "group_df = count_df.groupby(by=['도서명', '저자', 'ISBN', '권'], dropna=False)\n",
    "loan_count = group_df.sum()\n",
    "loan_count = count_df.groupby(by=['도서명', '저자', 'ISBN', '권'], dropna=False).sum()\n",
    "loan_count.head()"
   ],
   "metadata": {
    "collapsed": false,
    "ExecuteTime": {
     "end_time": "2024-03-19T08:07:21.819739Z",
     "start_time": "2024-03-19T08:07:19.129372Z"
    }
   },
   "id": "5f66dccbc3a54835",
   "execution_count": 26
  },
  {
   "cell_type": "code",
   "outputs": [],
   "source": [
    "dup_rows = ns_book.duplicated(subset=['도서명', '저자', 'ISBN', '권'])\n",
    "unique_rows = ~dup_rows\n",
    "ns_book3 = ns_book[unique_rows].copy()"
   ],
   "metadata": {
    "collapsed": false,
    "ExecuteTime": {
     "end_time": "2024-03-19T08:14:17.666380Z",
     "start_time": "2024-03-19T08:14:17.413283Z"
    }
   },
   "id": "f9e5258e6f72334a",
   "execution_count": 27
  },
  {
   "cell_type": "code",
   "outputs": [
    {
     "data": {
      "text/plain": "0"
     },
     "execution_count": 28,
     "metadata": {},
     "output_type": "execute_result"
    }
   ],
   "source": [
    "sum(ns_book3.duplicated(subset=['도서명', '저자', 'ISBN', '권']))"
   ],
   "metadata": {
    "collapsed": false,
    "ExecuteTime": {
     "end_time": "2024-03-19T08:14:42.495876Z",
     "start_time": "2024-03-19T08:14:42.313039Z"
    }
   },
   "id": "ff6bd6b77a646f58",
   "execution_count": 28
  },
  {
   "cell_type": "code",
   "outputs": [
    {
     "data": {
      "text/plain": "                                                          번호    출판사  발행년도  \\\n도서명                   저자               ISBN          권                      \n인공지능과 흙               김동훈 지음           9788937444319 NaN   1    민음사  2021   \n가짜 행복 권하는 사회          김태형 지음           9791190123969 NaN   2   갈매나무  2021   \n나도 한 문장 잘 쓰면 바랄 게 없겠네 김선영 지음           9788968332982 NaN   3   블랙피쉬  2021   \n예루살렘 해변               이도 게펜 지음, 임재희 옮김 9788970759906 NaN   4  문학세계사  2021   \n김성곤의 중국한시기행 : 장강·황하 편 김성곤 지음           9788934990833 NaN   5    김영사  2021   \n\n                                                         세트 ISBN 부가기호  도서권수  \\\n도서명                   저자               ISBN          권                        \n인공지능과 흙               김동훈 지음           9788937444319 NaN     NaN  NaN     1   \n가짜 행복 권하는 사회          김태형 지음           9791190123969 NaN     NaN  NaN     1   \n나도 한 문장 잘 쓰면 바랄 게 없겠네 김선영 지음           9788968332982 NaN     NaN  NaN     1   \n예루살렘 해변               이도 게펜 지음, 임재희 옮김 9788970759906 NaN     NaN  NaN     1   \n김성곤의 중국한시기행 : 장강·황하 편 김성곤 지음           9788934990833 NaN     NaN  NaN     1   \n\n                                                          대출건수        등록일자  \n도서명                   저자               ISBN          권                      \n인공지능과 흙               김동훈 지음           9788937444319 NaN     0  2021-03-19  \n가짜 행복 권하는 사회          김태형 지음           9791190123969 NaN     0  2021-03-19  \n나도 한 문장 잘 쓰면 바랄 게 없겠네 김선영 지음           9788968332982 NaN     0  2021-03-19  \n예루살렘 해변               이도 게펜 지음, 임재희 옮김 9788970759906 NaN     0  2021-03-19  \n김성곤의 중국한시기행 : 장강·황하 편 김성곤 지음           9788934990833 NaN     0  2021-03-19  ",
      "text/html": "<div>\n<style scoped>\n    .dataframe tbody tr th:only-of-type {\n        vertical-align: middle;\n    }\n\n    .dataframe tbody tr th {\n        vertical-align: top;\n    }\n\n    .dataframe thead th {\n        text-align: right;\n    }\n</style>\n<table border=\"1\" class=\"dataframe\">\n  <thead>\n    <tr style=\"text-align: right;\">\n      <th></th>\n      <th></th>\n      <th></th>\n      <th></th>\n      <th>번호</th>\n      <th>출판사</th>\n      <th>발행년도</th>\n      <th>세트 ISBN</th>\n      <th>부가기호</th>\n      <th>도서권수</th>\n      <th>대출건수</th>\n      <th>등록일자</th>\n    </tr>\n    <tr>\n      <th>도서명</th>\n      <th>저자</th>\n      <th>ISBN</th>\n      <th>권</th>\n      <th></th>\n      <th></th>\n      <th></th>\n      <th></th>\n      <th></th>\n      <th></th>\n      <th></th>\n      <th></th>\n    </tr>\n  </thead>\n  <tbody>\n    <tr>\n      <th>인공지능과 흙</th>\n      <th>김동훈 지음</th>\n      <th>9788937444319</th>\n      <th>NaN</th>\n      <td>1</td>\n      <td>민음사</td>\n      <td>2021</td>\n      <td>NaN</td>\n      <td>NaN</td>\n      <td>1</td>\n      <td>0</td>\n      <td>2021-03-19</td>\n    </tr>\n    <tr>\n      <th>가짜 행복 권하는 사회</th>\n      <th>김태형 지음</th>\n      <th>9791190123969</th>\n      <th>NaN</th>\n      <td>2</td>\n      <td>갈매나무</td>\n      <td>2021</td>\n      <td>NaN</td>\n      <td>NaN</td>\n      <td>1</td>\n      <td>0</td>\n      <td>2021-03-19</td>\n    </tr>\n    <tr>\n      <th>나도 한 문장 잘 쓰면 바랄 게 없겠네</th>\n      <th>김선영 지음</th>\n      <th>9788968332982</th>\n      <th>NaN</th>\n      <td>3</td>\n      <td>블랙피쉬</td>\n      <td>2021</td>\n      <td>NaN</td>\n      <td>NaN</td>\n      <td>1</td>\n      <td>0</td>\n      <td>2021-03-19</td>\n    </tr>\n    <tr>\n      <th>예루살렘 해변</th>\n      <th>이도 게펜 지음, 임재희 옮김</th>\n      <th>9788970759906</th>\n      <th>NaN</th>\n      <td>4</td>\n      <td>문학세계사</td>\n      <td>2021</td>\n      <td>NaN</td>\n      <td>NaN</td>\n      <td>1</td>\n      <td>0</td>\n      <td>2021-03-19</td>\n    </tr>\n    <tr>\n      <th>김성곤의 중국한시기행 : 장강·황하 편</th>\n      <th>김성곤 지음</th>\n      <th>9788934990833</th>\n      <th>NaN</th>\n      <td>5</td>\n      <td>김영사</td>\n      <td>2021</td>\n      <td>NaN</td>\n      <td>NaN</td>\n      <td>1</td>\n      <td>0</td>\n      <td>2021-03-19</td>\n    </tr>\n  </tbody>\n</table>\n</div>"
     },
     "execution_count": 29,
     "metadata": {},
     "output_type": "execute_result"
    }
   ],
   "source": [
    "ns_book3.set_index(['도서명', '저자', 'ISBN', '권'], inplace=True)\n",
    "ns_book3.head()"
   ],
   "metadata": {
    "collapsed": false,
    "ExecuteTime": {
     "end_time": "2024-03-19T08:15:50.689568Z",
     "start_time": "2024-03-19T08:15:49.550187Z"
    }
   },
   "id": "dfbe16f53277c5c7",
   "execution_count": 29
  },
  {
   "cell_type": "code",
   "outputs": [
    {
     "data": {
      "text/plain": "                                                          번호    출판사  발행년도  \\\n도서명                   저자               ISBN          권                      \n인공지능과 흙               김동훈 지음           9788937444319 NaN   1    민음사  2021   \n가짜 행복 권하는 사회          김태형 지음           9791190123969 NaN   2   갈매나무  2021   \n나도 한 문장 잘 쓰면 바랄 게 없겠네 김선영 지음           9788968332982 NaN   3   블랙피쉬  2021   \n예루살렘 해변               이도 게펜 지음, 임재희 옮김 9788970759906 NaN   4  문학세계사  2021   \n김성곤의 중국한시기행 : 장강·황하 편 김성곤 지음           9788934990833 NaN   5    김영사  2021   \n\n                                                         세트 ISBN 부가기호  도서권수  \\\n도서명                   저자               ISBN          권                        \n인공지능과 흙               김동훈 지음           9788937444319 NaN     NaN  NaN     1   \n가짜 행복 권하는 사회          김태형 지음           9791190123969 NaN     NaN  NaN     1   \n나도 한 문장 잘 쓰면 바랄 게 없겠네 김선영 지음           9788968332982 NaN     NaN  NaN     1   \n예루살렘 해변               이도 게펜 지음, 임재희 옮김 9788970759906 NaN     NaN  NaN     1   \n김성곤의 중국한시기행 : 장강·황하 편 김성곤 지음           9788934990833 NaN     NaN  NaN     1   \n\n                                                          대출건수        등록일자  \n도서명                   저자               ISBN          권                      \n인공지능과 흙               김동훈 지음           9788937444319 NaN     0  2021-03-19  \n가짜 행복 권하는 사회          김태형 지음           9791190123969 NaN     0  2021-03-19  \n나도 한 문장 잘 쓰면 바랄 게 없겠네 김선영 지음           9788968332982 NaN     0  2021-03-19  \n예루살렘 해변               이도 게펜 지음, 임재희 옮김 9788970759906 NaN     0  2021-03-19  \n김성곤의 중국한시기행 : 장강·황하 편 김성곤 지음           9788934990833 NaN     0  2021-03-19  ",
      "text/html": "<div>\n<style scoped>\n    .dataframe tbody tr th:only-of-type {\n        vertical-align: middle;\n    }\n\n    .dataframe tbody tr th {\n        vertical-align: top;\n    }\n\n    .dataframe thead th {\n        text-align: right;\n    }\n</style>\n<table border=\"1\" class=\"dataframe\">\n  <thead>\n    <tr style=\"text-align: right;\">\n      <th></th>\n      <th></th>\n      <th></th>\n      <th></th>\n      <th>번호</th>\n      <th>출판사</th>\n      <th>발행년도</th>\n      <th>세트 ISBN</th>\n      <th>부가기호</th>\n      <th>도서권수</th>\n      <th>대출건수</th>\n      <th>등록일자</th>\n    </tr>\n    <tr>\n      <th>도서명</th>\n      <th>저자</th>\n      <th>ISBN</th>\n      <th>권</th>\n      <th></th>\n      <th></th>\n      <th></th>\n      <th></th>\n      <th></th>\n      <th></th>\n      <th></th>\n      <th></th>\n    </tr>\n  </thead>\n  <tbody>\n    <tr>\n      <th>인공지능과 흙</th>\n      <th>김동훈 지음</th>\n      <th>9788937444319</th>\n      <th>NaN</th>\n      <td>1</td>\n      <td>민음사</td>\n      <td>2021</td>\n      <td>NaN</td>\n      <td>NaN</td>\n      <td>1</td>\n      <td>0</td>\n      <td>2021-03-19</td>\n    </tr>\n    <tr>\n      <th>가짜 행복 권하는 사회</th>\n      <th>김태형 지음</th>\n      <th>9791190123969</th>\n      <th>NaN</th>\n      <td>2</td>\n      <td>갈매나무</td>\n      <td>2021</td>\n      <td>NaN</td>\n      <td>NaN</td>\n      <td>1</td>\n      <td>0</td>\n      <td>2021-03-19</td>\n    </tr>\n    <tr>\n      <th>나도 한 문장 잘 쓰면 바랄 게 없겠네</th>\n      <th>김선영 지음</th>\n      <th>9788968332982</th>\n      <th>NaN</th>\n      <td>3</td>\n      <td>블랙피쉬</td>\n      <td>2021</td>\n      <td>NaN</td>\n      <td>NaN</td>\n      <td>1</td>\n      <td>0</td>\n      <td>2021-03-19</td>\n    </tr>\n    <tr>\n      <th>예루살렘 해변</th>\n      <th>이도 게펜 지음, 임재희 옮김</th>\n      <th>9788970759906</th>\n      <th>NaN</th>\n      <td>4</td>\n      <td>문학세계사</td>\n      <td>2021</td>\n      <td>NaN</td>\n      <td>NaN</td>\n      <td>1</td>\n      <td>0</td>\n      <td>2021-03-19</td>\n    </tr>\n    <tr>\n      <th>김성곤의 중국한시기행 : 장강·황하 편</th>\n      <th>김성곤 지음</th>\n      <th>9788934990833</th>\n      <th>NaN</th>\n      <td>5</td>\n      <td>김영사</td>\n      <td>2021</td>\n      <td>NaN</td>\n      <td>NaN</td>\n      <td>1</td>\n      <td>0</td>\n      <td>2021-03-19</td>\n    </tr>\n  </tbody>\n</table>\n</div>"
     },
     "execution_count": 30,
     "metadata": {},
     "output_type": "execute_result"
    }
   ],
   "source": [
    "ns_book3.update(loan_count)\n",
    "ns_book3.head()"
   ],
   "metadata": {
    "collapsed": false,
    "ExecuteTime": {
     "end_time": "2024-03-19T08:16:28.222710Z",
     "start_time": "2024-03-19T08:16:27.226689Z"
    }
   },
   "id": "dab03342ae2beaa7",
   "execution_count": 30
  },
  {
   "cell_type": "code",
   "outputs": [
    {
     "data": {
      "text/plain": "                     도서명                저자           ISBN    권  번호    출판사  \\\n0                인공지능과 흙            김동훈 지음  9788937444319  NaN   1    민음사   \n1           가짜 행복 권하는 사회            김태형 지음  9791190123969  NaN   2   갈매나무   \n2  나도 한 문장 잘 쓰면 바랄 게 없겠네            김선영 지음  9788968332982  NaN   3   블랙피쉬   \n3                예루살렘 해변  이도 게펜 지음, 임재희 옮김  9788970759906  NaN   4  문학세계사   \n4  김성곤의 중국한시기행 : 장강·황하 편            김성곤 지음  9788934990833  NaN   5    김영사   \n\n   발행년도 세트 ISBN 부가기호  도서권수  대출건수        등록일자  \n0  2021     NaN  NaN     1     0  2021-03-19  \n1  2021     NaN  NaN     1     0  2021-03-19  \n2  2021     NaN  NaN     1     0  2021-03-19  \n3  2021     NaN  NaN     1     0  2021-03-19  \n4  2021     NaN  NaN     1     0  2021-03-19  ",
      "text/html": "<div>\n<style scoped>\n    .dataframe tbody tr th:only-of-type {\n        vertical-align: middle;\n    }\n\n    .dataframe tbody tr th {\n        vertical-align: top;\n    }\n\n    .dataframe thead th {\n        text-align: right;\n    }\n</style>\n<table border=\"1\" class=\"dataframe\">\n  <thead>\n    <tr style=\"text-align: right;\">\n      <th></th>\n      <th>도서명</th>\n      <th>저자</th>\n      <th>ISBN</th>\n      <th>권</th>\n      <th>번호</th>\n      <th>출판사</th>\n      <th>발행년도</th>\n      <th>세트 ISBN</th>\n      <th>부가기호</th>\n      <th>도서권수</th>\n      <th>대출건수</th>\n      <th>등록일자</th>\n    </tr>\n  </thead>\n  <tbody>\n    <tr>\n      <th>0</th>\n      <td>인공지능과 흙</td>\n      <td>김동훈 지음</td>\n      <td>9788937444319</td>\n      <td>NaN</td>\n      <td>1</td>\n      <td>민음사</td>\n      <td>2021</td>\n      <td>NaN</td>\n      <td>NaN</td>\n      <td>1</td>\n      <td>0</td>\n      <td>2021-03-19</td>\n    </tr>\n    <tr>\n      <th>1</th>\n      <td>가짜 행복 권하는 사회</td>\n      <td>김태형 지음</td>\n      <td>9791190123969</td>\n      <td>NaN</td>\n      <td>2</td>\n      <td>갈매나무</td>\n      <td>2021</td>\n      <td>NaN</td>\n      <td>NaN</td>\n      <td>1</td>\n      <td>0</td>\n      <td>2021-03-19</td>\n    </tr>\n    <tr>\n      <th>2</th>\n      <td>나도 한 문장 잘 쓰면 바랄 게 없겠네</td>\n      <td>김선영 지음</td>\n      <td>9788968332982</td>\n      <td>NaN</td>\n      <td>3</td>\n      <td>블랙피쉬</td>\n      <td>2021</td>\n      <td>NaN</td>\n      <td>NaN</td>\n      <td>1</td>\n      <td>0</td>\n      <td>2021-03-19</td>\n    </tr>\n    <tr>\n      <th>3</th>\n      <td>예루살렘 해변</td>\n      <td>이도 게펜 지음, 임재희 옮김</td>\n      <td>9788970759906</td>\n      <td>NaN</td>\n      <td>4</td>\n      <td>문학세계사</td>\n      <td>2021</td>\n      <td>NaN</td>\n      <td>NaN</td>\n      <td>1</td>\n      <td>0</td>\n      <td>2021-03-19</td>\n    </tr>\n    <tr>\n      <th>4</th>\n      <td>김성곤의 중국한시기행 : 장강·황하 편</td>\n      <td>김성곤 지음</td>\n      <td>9788934990833</td>\n      <td>NaN</td>\n      <td>5</td>\n      <td>김영사</td>\n      <td>2021</td>\n      <td>NaN</td>\n      <td>NaN</td>\n      <td>1</td>\n      <td>0</td>\n      <td>2021-03-19</td>\n    </tr>\n  </tbody>\n</table>\n</div>"
     },
     "execution_count": 31,
     "metadata": {},
     "output_type": "execute_result"
    }
   ],
   "source": [
    "ns_book4 = ns_book3.reset_index()\n",
    "ns_book4.head()"
   ],
   "metadata": {
    "collapsed": false,
    "ExecuteTime": {
     "end_time": "2024-03-19T08:17:07.493523Z",
     "start_time": "2024-03-19T08:17:07.409673Z"
    }
   },
   "id": "228fbc1da40d8a70",
   "execution_count": 31
  },
  {
   "cell_type": "code",
   "outputs": [
    {
     "data": {
      "text/plain": "2311"
     },
     "execution_count": 32,
     "metadata": {},
     "output_type": "execute_result"
    }
   ],
   "source": [
    "sum(ns_book['대출건수'] > 100)"
   ],
   "metadata": {
    "collapsed": false,
    "ExecuteTime": {
     "end_time": "2024-03-19T08:17:23.120745Z",
     "start_time": "2024-03-19T08:17:23.101485Z"
    }
   },
   "id": "5e8c16a4c1f9b469",
   "execution_count": 32
  },
  {
   "cell_type": "code",
   "outputs": [
    {
     "data": {
      "text/plain": "2550"
     },
     "execution_count": 33,
     "metadata": {},
     "output_type": "execute_result"
    }
   ],
   "source": [
    "sum(ns_book4['대출건수'] > 100)"
   ],
   "metadata": {
    "collapsed": false,
    "ExecuteTime": {
     "end_time": "2024-03-19T08:17:38.452783Z",
     "start_time": "2024-03-19T08:17:38.433957Z"
    }
   },
   "id": "7855d51e8b2369a6",
   "execution_count": 33
  },
  {
   "cell_type": "code",
   "outputs": [
    {
     "data": {
      "text/plain": "   번호                    도서명                저자    출판사  발행년도           ISBN  \\\n0   1                인공지능과 흙            김동훈 지음    민음사  2021  9788937444319   \n1   2           가짜 행복 권하는 사회            김태형 지음   갈매나무  2021  9791190123969   \n2   3  나도 한 문장 잘 쓰면 바랄 게 없겠네            김선영 지음   블랙피쉬  2021  9788968332982   \n3   4                예루살렘 해변  이도 게펜 지음, 임재희 옮김  문학세계사  2021  9788970759906   \n4   5  김성곤의 중국한시기행 : 장강·황하 편            김성곤 지음    김영사  2021  9788934990833   \n\n  세트 ISBN 부가기호    권  도서권수  대출건수        등록일자  \n0     NaN  NaN  NaN     1     0  2021-03-19  \n1     NaN  NaN  NaN     1     0  2021-03-19  \n2     NaN  NaN  NaN     1     0  2021-03-19  \n3     NaN  NaN  NaN     1     0  2021-03-19  \n4     NaN  NaN  NaN     1     0  2021-03-19  ",
      "text/html": "<div>\n<style scoped>\n    .dataframe tbody tr th:only-of-type {\n        vertical-align: middle;\n    }\n\n    .dataframe tbody tr th {\n        vertical-align: top;\n    }\n\n    .dataframe thead th {\n        text-align: right;\n    }\n</style>\n<table border=\"1\" class=\"dataframe\">\n  <thead>\n    <tr style=\"text-align: right;\">\n      <th></th>\n      <th>번호</th>\n      <th>도서명</th>\n      <th>저자</th>\n      <th>출판사</th>\n      <th>발행년도</th>\n      <th>ISBN</th>\n      <th>세트 ISBN</th>\n      <th>부가기호</th>\n      <th>권</th>\n      <th>도서권수</th>\n      <th>대출건수</th>\n      <th>등록일자</th>\n    </tr>\n  </thead>\n  <tbody>\n    <tr>\n      <th>0</th>\n      <td>1</td>\n      <td>인공지능과 흙</td>\n      <td>김동훈 지음</td>\n      <td>민음사</td>\n      <td>2021</td>\n      <td>9788937444319</td>\n      <td>NaN</td>\n      <td>NaN</td>\n      <td>NaN</td>\n      <td>1</td>\n      <td>0</td>\n      <td>2021-03-19</td>\n    </tr>\n    <tr>\n      <th>1</th>\n      <td>2</td>\n      <td>가짜 행복 권하는 사회</td>\n      <td>김태형 지음</td>\n      <td>갈매나무</td>\n      <td>2021</td>\n      <td>9791190123969</td>\n      <td>NaN</td>\n      <td>NaN</td>\n      <td>NaN</td>\n      <td>1</td>\n      <td>0</td>\n      <td>2021-03-19</td>\n    </tr>\n    <tr>\n      <th>2</th>\n      <td>3</td>\n      <td>나도 한 문장 잘 쓰면 바랄 게 없겠네</td>\n      <td>김선영 지음</td>\n      <td>블랙피쉬</td>\n      <td>2021</td>\n      <td>9788968332982</td>\n      <td>NaN</td>\n      <td>NaN</td>\n      <td>NaN</td>\n      <td>1</td>\n      <td>0</td>\n      <td>2021-03-19</td>\n    </tr>\n    <tr>\n      <th>3</th>\n      <td>4</td>\n      <td>예루살렘 해변</td>\n      <td>이도 게펜 지음, 임재희 옮김</td>\n      <td>문학세계사</td>\n      <td>2021</td>\n      <td>9788970759906</td>\n      <td>NaN</td>\n      <td>NaN</td>\n      <td>NaN</td>\n      <td>1</td>\n      <td>0</td>\n      <td>2021-03-19</td>\n    </tr>\n    <tr>\n      <th>4</th>\n      <td>5</td>\n      <td>김성곤의 중국한시기행 : 장강·황하 편</td>\n      <td>김성곤 지음</td>\n      <td>김영사</td>\n      <td>2021</td>\n      <td>9788934990833</td>\n      <td>NaN</td>\n      <td>NaN</td>\n      <td>NaN</td>\n      <td>1</td>\n      <td>0</td>\n      <td>2021-03-19</td>\n    </tr>\n  </tbody>\n</table>\n</div>"
     },
     "execution_count": 34,
     "metadata": {},
     "output_type": "execute_result"
    }
   ],
   "source": [
    "ns_book4 = ns_book4[ns_book.columns]\n",
    "ns_book4.head()"
   ],
   "metadata": {
    "collapsed": false,
    "ExecuteTime": {
     "end_time": "2024-03-19T08:18:08.573709Z",
     "start_time": "2024-03-19T08:18:08.534483Z"
    }
   },
   "id": "3623977233cda254",
   "execution_count": 34
  },
  {
   "cell_type": "code",
   "outputs": [],
   "source": [
    "ns_book4.to_csv('ns_book4.csv', index=False)"
   ],
   "metadata": {
    "collapsed": false,
    "ExecuteTime": {
     "end_time": "2024-03-19T08:21:59.486481Z",
     "start_time": "2024-03-19T08:21:58.432332Z"
    }
   },
   "id": "ab2bc9f2b6f851dd",
   "execution_count": 35
  },
  {
   "cell_type": "code",
   "outputs": [
    {
     "data": {
      "text/plain": "True"
     },
     "execution_count": 37,
     "metadata": {},
     "output_type": "execute_result"
    }
   ],
   "source": [
    "def data_cleaning(filename):\n",
    "    ns_df = pd.read_csv(filename, low_memory=False)\n",
    "    ns_book = ns_df.dropna(axis=1, how='all')\n",
    "    count_df = ns_book[['도서명', '저자', 'ISBN', '권', '대출건수']]\n",
    "    loan_count = count_df.groupby(by=['도서명', '저자', 'ISBN', '권'], dropna=False).sum()\n",
    "    dup_rows = ns_book.duplicated(subset=['도서명', '저자', 'ISBN', '권'])\n",
    "    unique_rows = ~dup_rows\n",
    "    ns_book3 = ns_book[unique_rows].copy()\n",
    "    ns_book3.set_index(['도서명', '저자', 'ISBN', '권'], inplace=True)\n",
    "    ns_book3.update(loan_count)\n",
    "    ns_book4 = ns_book3.reset_index()\n",
    "    ns_book4 = ns_book4[ns_book.columns]\n",
    "    return ns_book4\n",
    "\n",
    "new_ns_book4 = data_cleaning('ns_book4.csv')\n",
    "ns_book4.equals(new_ns_book4)"
   ],
   "metadata": {
    "collapsed": false,
    "ExecuteTime": {
     "end_time": "2024-03-19T08:29:07.900035Z",
     "start_time": "2024-03-19T08:29:02.606290Z"
    }
   },
   "id": "77a74779bd8e2f4a",
   "execution_count": 37
  },
  {
   "cell_type": "code",
   "outputs": [
    {
     "name": "stderr",
     "output_type": "stream",
     "text": [
      "Downloading...\n",
      "From: https://bit.ly/3GisL6J\n",
      "To: /Users/llouis/Desktop/LLouis/AI_and_Data_Deep_Dive/혼자 공부하는 데이터 분석/Data_Analysis/chapter 03/ns_202402.csv\n",
      "100%|██████████| 55.5M/55.5M [00:08<00:00, 6.67MB/s]\n"
     ]
    },
    {
     "data": {
      "text/plain": "'ns_202402.csv'"
     },
     "execution_count": 38,
     "metadata": {},
     "output_type": "execute_result"
    }
   ],
   "source": [
    "import gdown\n",
    "\n",
    "gdown.download('https://bit.ly/3GisL6J', 'ns_202402.csv', quiet=False)"
   ],
   "metadata": {
    "collapsed": false,
    "ExecuteTime": {
     "end_time": "2024-03-19T09:21:23.521031Z",
     "start_time": "2024-03-19T09:21:10.500893Z"
    }
   },
   "id": "ae074972cfc086da",
   "execution_count": 38
  },
  {
   "cell_type": "code",
   "outputs": [
    {
     "data": {
      "text/plain": "   번호                    도서명                저자    출판사  발행년도           ISBN  \\\n0   1                인공지능과 흙            김동훈 지음    민음사  2021  9788937444319   \n1   2           가짜 행복 권하는 사회            김태형 지음   갈매나무  2021  9791190123969   \n2   3  나도 한 문장 잘 쓰면 바랄 게 없겠네            김선영 지음   블랙피쉬  2021  9788968332982   \n3   4                예루살렘 해변  이도 게펜 지음, 임재희 옮김  문학세계사  2021  9788970759906   \n4   5  김성곤의 중국한시기행 : 장강·황하 편            김성곤 지음    김영사  2021  9788934990833   \n\n  세트 ISBN 부가기호    권  도서권수  대출건수        등록일자  \n0     NaN  NaN  NaN     1     0  2021-03-19  \n1     NaN  NaN  NaN     1     0  2021-03-19  \n2     NaN  NaN  NaN     1     0  2021-03-19  \n3     NaN  NaN  NaN     1     0  2021-03-19  \n4     NaN  NaN  NaN     1     0  2021-03-19  ",
      "text/html": "<div>\n<style scoped>\n    .dataframe tbody tr th:only-of-type {\n        vertical-align: middle;\n    }\n\n    .dataframe tbody tr th {\n        vertical-align: top;\n    }\n\n    .dataframe thead th {\n        text-align: right;\n    }\n</style>\n<table border=\"1\" class=\"dataframe\">\n  <thead>\n    <tr style=\"text-align: right;\">\n      <th></th>\n      <th>번호</th>\n      <th>도서명</th>\n      <th>저자</th>\n      <th>출판사</th>\n      <th>발행년도</th>\n      <th>ISBN</th>\n      <th>세트 ISBN</th>\n      <th>부가기호</th>\n      <th>권</th>\n      <th>도서권수</th>\n      <th>대출건수</th>\n      <th>등록일자</th>\n    </tr>\n  </thead>\n  <tbody>\n    <tr>\n      <th>0</th>\n      <td>1</td>\n      <td>인공지능과 흙</td>\n      <td>김동훈 지음</td>\n      <td>민음사</td>\n      <td>2021</td>\n      <td>9788937444319</td>\n      <td>NaN</td>\n      <td>NaN</td>\n      <td>NaN</td>\n      <td>1</td>\n      <td>0</td>\n      <td>2021-03-19</td>\n    </tr>\n    <tr>\n      <th>1</th>\n      <td>2</td>\n      <td>가짜 행복 권하는 사회</td>\n      <td>김태형 지음</td>\n      <td>갈매나무</td>\n      <td>2021</td>\n      <td>9791190123969</td>\n      <td>NaN</td>\n      <td>NaN</td>\n      <td>NaN</td>\n      <td>1</td>\n      <td>0</td>\n      <td>2021-03-19</td>\n    </tr>\n    <tr>\n      <th>2</th>\n      <td>3</td>\n      <td>나도 한 문장 잘 쓰면 바랄 게 없겠네</td>\n      <td>김선영 지음</td>\n      <td>블랙피쉬</td>\n      <td>2021</td>\n      <td>9788968332982</td>\n      <td>NaN</td>\n      <td>NaN</td>\n      <td>NaN</td>\n      <td>1</td>\n      <td>0</td>\n      <td>2021-03-19</td>\n    </tr>\n    <tr>\n      <th>3</th>\n      <td>4</td>\n      <td>예루살렘 해변</td>\n      <td>이도 게펜 지음, 임재희 옮김</td>\n      <td>문학세계사</td>\n      <td>2021</td>\n      <td>9788970759906</td>\n      <td>NaN</td>\n      <td>NaN</td>\n      <td>NaN</td>\n      <td>1</td>\n      <td>0</td>\n      <td>2021-03-19</td>\n    </tr>\n    <tr>\n      <th>4</th>\n      <td>5</td>\n      <td>김성곤의 중국한시기행 : 장강·황하 편</td>\n      <td>김성곤 지음</td>\n      <td>김영사</td>\n      <td>2021</td>\n      <td>9788934990833</td>\n      <td>NaN</td>\n      <td>NaN</td>\n      <td>NaN</td>\n      <td>1</td>\n      <td>0</td>\n      <td>2021-03-19</td>\n    </tr>\n  </tbody>\n</table>\n</div>"
     },
     "execution_count": 40,
     "metadata": {},
     "output_type": "execute_result"
    }
   ],
   "source": [
    "import pandas as pd\n",
    "\n",
    "ns_book4 = pd.read_csv('ns_book4.csv', low_memory=False)\n",
    "ns_book4.head()"
   ],
   "metadata": {
    "collapsed": false,
    "ExecuteTime": {
     "end_time": "2024-03-19T09:22:12.495101Z",
     "start_time": "2024-03-19T09:22:11.351244Z"
    }
   },
   "id": "c48b78ed4d90b6b",
   "execution_count": 40
  },
  {
   "cell_type": "code",
   "outputs": [
    {
     "name": "stdout",
     "output_type": "stream",
     "text": [
      "<class 'pandas.core.frame.DataFrame'>\n",
      "RangeIndex: 384591 entries, 0 to 384590\n",
      "Data columns (total 12 columns):\n",
      " #   Column   Non-Null Count   Dtype \n",
      "---  ------   --------------   ----- \n",
      " 0   번호       384591 non-null  int64 \n",
      " 1   도서명      384188 non-null  object\n",
      " 2   저자       384393 non-null  object\n",
      " 3   출판사      379950 non-null  object\n",
      " 4   발행년도     384577 non-null  object\n",
      " 5   ISBN     384591 non-null  object\n",
      " 6   세트 ISBN  56576 non-null   object\n",
      " 7   부가기호     310386 non-null  object\n",
      " 8   권        63378 non-null   object\n",
      " 9   도서권수     384591 non-null  int64 \n",
      " 10  대출건수     384591 non-null  int64 \n",
      " 11  등록일자     384591 non-null  object\n",
      "dtypes: int64(3), object(9)\n",
      "memory usage: 35.2+ MB\n"
     ]
    }
   ],
   "source": [
    "ns_book4.info()"
   ],
   "metadata": {
    "collapsed": false,
    "ExecuteTime": {
     "end_time": "2024-03-19T09:23:05.070066Z",
     "start_time": "2024-03-19T09:23:04.982480Z"
    }
   },
   "id": "55f54ef5761f968b",
   "execution_count": 41
  },
  {
   "cell_type": "code",
   "outputs": [
    {
     "data": {
      "text/plain": "번호              0\n도서명           403\n저자            198\n출판사          4641\n발행년도           14\nISBN            0\n세트 ISBN    328015\n부가기호        74205\n권          321213\n도서권수            0\n대출건수            0\n등록일자            0\ndtype: int64"
     },
     "execution_count": 42,
     "metadata": {},
     "output_type": "execute_result"
    }
   ],
   "source": [
    "ns_book4.isna().sum()"
   ],
   "metadata": {
    "collapsed": false,
    "ExecuteTime": {
     "end_time": "2024-03-19T09:26:27.638027Z",
     "start_time": "2024-03-19T09:26:27.556456Z"
    }
   },
   "id": "7672957619556fd",
   "execution_count": 42
  },
  {
   "cell_type": "code",
   "outputs": [
    {
     "data": {
      "text/plain": "1"
     },
     "execution_count": 45,
     "metadata": {},
     "output_type": "execute_result"
    }
   ],
   "source": [
    "ns_book4.loc[0, '도서권수'] = None\n",
    "ns_book4['도서권수'].isna().sum()"
   ],
   "metadata": {
    "collapsed": false,
    "ExecuteTime": {
     "end_time": "2024-03-19T09:30:19.725252Z",
     "start_time": "2024-03-19T09:30:19.721556Z"
    }
   },
   "id": "15c6819f47c6c762",
   "execution_count": 45
  },
  {
   "cell_type": "code",
   "outputs": [
    {
     "data": {
      "text/plain": "   번호           도서명      저자   출판사  발행년도           ISBN 세트 ISBN 부가기호    권  \\\n0   1       인공지능과 흙  김동훈 지음   민음사  2021  9788937444319     NaN  NaN  NaN   \n1   2  가짜 행복 권하는 사회  김태형 지음  갈매나무  2021  9791190123969     NaN  NaN  NaN   \n\n   도서권수  대출건수        등록일자  \n0   NaN     0  2021-03-19  \n1   1.0     0  2021-03-19  ",
      "text/html": "<div>\n<style scoped>\n    .dataframe tbody tr th:only-of-type {\n        vertical-align: middle;\n    }\n\n    .dataframe tbody tr th {\n        vertical-align: top;\n    }\n\n    .dataframe thead th {\n        text-align: right;\n    }\n</style>\n<table border=\"1\" class=\"dataframe\">\n  <thead>\n    <tr style=\"text-align: right;\">\n      <th></th>\n      <th>번호</th>\n      <th>도서명</th>\n      <th>저자</th>\n      <th>출판사</th>\n      <th>발행년도</th>\n      <th>ISBN</th>\n      <th>세트 ISBN</th>\n      <th>부가기호</th>\n      <th>권</th>\n      <th>도서권수</th>\n      <th>대출건수</th>\n      <th>등록일자</th>\n    </tr>\n  </thead>\n  <tbody>\n    <tr>\n      <th>0</th>\n      <td>1</td>\n      <td>인공지능과 흙</td>\n      <td>김동훈 지음</td>\n      <td>민음사</td>\n      <td>2021</td>\n      <td>9788937444319</td>\n      <td>NaN</td>\n      <td>NaN</td>\n      <td>NaN</td>\n      <td>NaN</td>\n      <td>0</td>\n      <td>2021-03-19</td>\n    </tr>\n    <tr>\n      <th>1</th>\n      <td>2</td>\n      <td>가짜 행복 권하는 사회</td>\n      <td>김태형 지음</td>\n      <td>갈매나무</td>\n      <td>2021</td>\n      <td>9791190123969</td>\n      <td>NaN</td>\n      <td>NaN</td>\n      <td>NaN</td>\n      <td>1.0</td>\n      <td>0</td>\n      <td>2021-03-19</td>\n    </tr>\n  </tbody>\n</table>\n</div>"
     },
     "execution_count": 46,
     "metadata": {},
     "output_type": "execute_result"
    }
   ],
   "source": [
    "ns_book4.head(2)"
   ],
   "metadata": {
    "collapsed": false,
    "ExecuteTime": {
     "end_time": "2024-03-19T09:30:31.414028Z",
     "start_time": "2024-03-19T09:30:31.407369Z"
    }
   },
   "id": "7e2bad31b4ceea4d",
   "execution_count": 46
  },
  {
   "cell_type": "code",
   "outputs": [
    {
     "data": {
      "text/plain": "   번호           도서명      저자   출판사  발행년도           ISBN 세트 ISBN 부가기호    권  \\\n0   1       인공지능과 흙  김동훈 지음   민음사  2021  9788937444319     NaN  NaN  NaN   \n1   2  가짜 행복 권하는 사회  김태형 지음  갈매나무  2021  9791190123969     NaN  NaN  NaN   \n\n   도서권수  대출건수        등록일자  도서건수  \n0     1     0  2021-03-19   1.0  \n1     1     0  2021-03-19   NaN  ",
      "text/html": "<div>\n<style scoped>\n    .dataframe tbody tr th:only-of-type {\n        vertical-align: middle;\n    }\n\n    .dataframe tbody tr th {\n        vertical-align: top;\n    }\n\n    .dataframe thead th {\n        text-align: right;\n    }\n</style>\n<table border=\"1\" class=\"dataframe\">\n  <thead>\n    <tr style=\"text-align: right;\">\n      <th></th>\n      <th>번호</th>\n      <th>도서명</th>\n      <th>저자</th>\n      <th>출판사</th>\n      <th>발행년도</th>\n      <th>ISBN</th>\n      <th>세트 ISBN</th>\n      <th>부가기호</th>\n      <th>권</th>\n      <th>도서권수</th>\n      <th>대출건수</th>\n      <th>등록일자</th>\n      <th>도서건수</th>\n    </tr>\n  </thead>\n  <tbody>\n    <tr>\n      <th>0</th>\n      <td>1</td>\n      <td>인공지능과 흙</td>\n      <td>김동훈 지음</td>\n      <td>민음사</td>\n      <td>2021</td>\n      <td>9788937444319</td>\n      <td>NaN</td>\n      <td>NaN</td>\n      <td>NaN</td>\n      <td>1</td>\n      <td>0</td>\n      <td>2021-03-19</td>\n      <td>1.0</td>\n    </tr>\n    <tr>\n      <th>1</th>\n      <td>2</td>\n      <td>가짜 행복 권하는 사회</td>\n      <td>김태형 지음</td>\n      <td>갈매나무</td>\n      <td>2021</td>\n      <td>9791190123969</td>\n      <td>NaN</td>\n      <td>NaN</td>\n      <td>NaN</td>\n      <td>1</td>\n      <td>0</td>\n      <td>2021-03-19</td>\n      <td>NaN</td>\n    </tr>\n  </tbody>\n</table>\n</div>"
     },
     "execution_count": 50,
     "metadata": {},
     "output_type": "execute_result"
    }
   ],
   "source": [
    "ns_book4.loc[0, '도서권수'] = 1\n",
    "ns_book4 = ns_book4.astype({'도서권수': 'int32', '대출건수': 'int32'})\n",
    "ns_book4.head(2)"
   ],
   "metadata": {
    "collapsed": false,
    "ExecuteTime": {
     "end_time": "2024-03-19T09:32:03.929870Z",
     "start_time": "2024-03-19T09:32:03.893207Z"
    }
   },
   "id": "c62d8a9938adc60c",
   "execution_count": 50
  },
  {
   "cell_type": "code",
   "outputs": [
    {
     "data": {
      "text/plain": "   번호           도서명      저자   출판사  발행년도           ISBN 세트 ISBN  부가기호    권  \\\n0   1       인공지능과 흙  김동훈 지음   민음사  2021  9788937444319     NaN  None  NaN   \n1   2  가짜 행복 권하는 사회  김태형 지음  갈매나무  2021  9791190123969     NaN   NaN  NaN   \n\n   도서권수  대출건수        등록일자  도서건수  \n0     1     0  2021-03-19   1.0  \n1     1     0  2021-03-19   NaN  ",
      "text/html": "<div>\n<style scoped>\n    .dataframe tbody tr th:only-of-type {\n        vertical-align: middle;\n    }\n\n    .dataframe tbody tr th {\n        vertical-align: top;\n    }\n\n    .dataframe thead th {\n        text-align: right;\n    }\n</style>\n<table border=\"1\" class=\"dataframe\">\n  <thead>\n    <tr style=\"text-align: right;\">\n      <th></th>\n      <th>번호</th>\n      <th>도서명</th>\n      <th>저자</th>\n      <th>출판사</th>\n      <th>발행년도</th>\n      <th>ISBN</th>\n      <th>세트 ISBN</th>\n      <th>부가기호</th>\n      <th>권</th>\n      <th>도서권수</th>\n      <th>대출건수</th>\n      <th>등록일자</th>\n      <th>도서건수</th>\n    </tr>\n  </thead>\n  <tbody>\n    <tr>\n      <th>0</th>\n      <td>1</td>\n      <td>인공지능과 흙</td>\n      <td>김동훈 지음</td>\n      <td>민음사</td>\n      <td>2021</td>\n      <td>9788937444319</td>\n      <td>NaN</td>\n      <td>None</td>\n      <td>NaN</td>\n      <td>1</td>\n      <td>0</td>\n      <td>2021-03-19</td>\n      <td>1.0</td>\n    </tr>\n    <tr>\n      <th>1</th>\n      <td>2</td>\n      <td>가짜 행복 권하는 사회</td>\n      <td>김태형 지음</td>\n      <td>갈매나무</td>\n      <td>2021</td>\n      <td>9791190123969</td>\n      <td>NaN</td>\n      <td>NaN</td>\n      <td>NaN</td>\n      <td>1</td>\n      <td>0</td>\n      <td>2021-03-19</td>\n      <td>NaN</td>\n    </tr>\n  </tbody>\n</table>\n</div>"
     },
     "execution_count": 51,
     "metadata": {},
     "output_type": "execute_result"
    }
   ],
   "source": [
    "ns_book4.loc[0, '부가기호'] = None\n",
    "ns_book4.head(2)"
   ],
   "metadata": {
    "collapsed": false,
    "ExecuteTime": {
     "end_time": "2024-03-19T09:32:05.173020Z",
     "start_time": "2024-03-19T09:32:05.166881Z"
    }
   },
   "id": "cb43511a4f898383",
   "execution_count": 51
  },
  {
   "cell_type": "code",
   "outputs": [
    {
     "data": {
      "text/plain": "   번호           도서명      저자   출판사  발행년도           ISBN 세트 ISBN 부가기호    권  \\\n0   1       인공지능과 흙  김동훈 지음   민음사  2021  9788937444319     NaN  NaN  NaN   \n1   2  가짜 행복 권하는 사회  김태형 지음  갈매나무  2021  9791190123969     NaN  NaN  NaN   \n\n   도서권수  대출건수        등록일자  도서건수  \n0     1     0  2021-03-19   1.0  \n1     1     0  2021-03-19   NaN  ",
      "text/html": "<div>\n<style scoped>\n    .dataframe tbody tr th:only-of-type {\n        vertical-align: middle;\n    }\n\n    .dataframe tbody tr th {\n        vertical-align: top;\n    }\n\n    .dataframe thead th {\n        text-align: right;\n    }\n</style>\n<table border=\"1\" class=\"dataframe\">\n  <thead>\n    <tr style=\"text-align: right;\">\n      <th></th>\n      <th>번호</th>\n      <th>도서명</th>\n      <th>저자</th>\n      <th>출판사</th>\n      <th>발행년도</th>\n      <th>ISBN</th>\n      <th>세트 ISBN</th>\n      <th>부가기호</th>\n      <th>권</th>\n      <th>도서권수</th>\n      <th>대출건수</th>\n      <th>등록일자</th>\n      <th>도서건수</th>\n    </tr>\n  </thead>\n  <tbody>\n    <tr>\n      <th>0</th>\n      <td>1</td>\n      <td>인공지능과 흙</td>\n      <td>김동훈 지음</td>\n      <td>민음사</td>\n      <td>2021</td>\n      <td>9788937444319</td>\n      <td>NaN</td>\n      <td>NaN</td>\n      <td>NaN</td>\n      <td>1</td>\n      <td>0</td>\n      <td>2021-03-19</td>\n      <td>1.0</td>\n    </tr>\n    <tr>\n      <th>1</th>\n      <td>2</td>\n      <td>가짜 행복 권하는 사회</td>\n      <td>김태형 지음</td>\n      <td>갈매나무</td>\n      <td>2021</td>\n      <td>9791190123969</td>\n      <td>NaN</td>\n      <td>NaN</td>\n      <td>NaN</td>\n      <td>1</td>\n      <td>0</td>\n      <td>2021-03-19</td>\n      <td>NaN</td>\n    </tr>\n  </tbody>\n</table>\n</div>"
     },
     "execution_count": 52,
     "metadata": {},
     "output_type": "execute_result"
    }
   ],
   "source": [
    "import numpy as np\n",
    "\n",
    "ns_book4.loc[0, '부가기호'] = np.nan\n",
    "ns_book4.head(2)"
   ],
   "metadata": {
    "collapsed": false,
    "ExecuteTime": {
     "end_time": "2024-03-19T09:32:06.077390Z",
     "start_time": "2024-03-19T09:32:06.069899Z"
    }
   },
   "id": "cd0f70f35e1837be",
   "execution_count": 52
  },
  {
   "cell_type": "code",
   "outputs": [
    {
     "data": {
      "text/plain": "0"
     },
     "execution_count": 53,
     "metadata": {},
     "output_type": "execute_result"
    }
   ],
   "source": [
    "set_isbn_na_rows = ns_book4['세트 ISBN'].isna()\n",
    "ns_book4.loc[set_isbn_na_rows, '세트 ISBN'] = ''\n",
    "ns_book4['세트 ISBN'].isna().sum()"
   ],
   "metadata": {
    "collapsed": false,
    "ExecuteTime": {
     "end_time": "2024-03-19T09:34:45.398335Z",
     "start_time": "2024-03-19T09:34:45.372401Z"
    }
   },
   "id": "40d2235cd8c04a5f",
   "execution_count": 53
  },
  {
   "cell_type": "code",
   "outputs": [
    {
     "data": {
      "text/plain": "번호         0\n도서명        0\n저자         0\n출판사        0\n발행년도       0\nISBN       0\n세트 ISBN    0\n부가기호       0\n권          0\n도서권수       0\n대출건수       0\n등록일자       0\n도서건수       0\ndtype: int64"
     },
     "execution_count": 54,
     "metadata": {},
     "output_type": "execute_result"
    }
   ],
   "source": [
    "ns_book4.fillna('없음').isna().sum()"
   ],
   "metadata": {
    "collapsed": false,
    "ExecuteTime": {
     "end_time": "2024-03-19T09:36:32.892983Z",
     "start_time": "2024-03-19T09:36:32.624069Z"
    }
   },
   "id": "73f0964c2827b060",
   "execution_count": 54
  },
  {
   "cell_type": "code",
   "outputs": [
    {
     "data": {
      "text/plain": "0"
     },
     "execution_count": 55,
     "metadata": {},
     "output_type": "execute_result"
    }
   ],
   "source": [
    "ns_book4['부가기호'].fillna('없음').isna().sum()"
   ],
   "metadata": {
    "collapsed": false,
    "ExecuteTime": {
     "end_time": "2024-03-19T09:36:58.643577Z",
     "start_time": "2024-03-19T09:36:58.614679Z"
    }
   },
   "id": "13148a54e183fa51",
   "execution_count": 55
  },
  {
   "cell_type": "code",
   "outputs": [
    {
     "data": {
      "text/plain": "번호              0\n도서명           403\n저자            198\n출판사          4641\n발행년도           14\nISBN            0\n세트 ISBN         0\n부가기호            0\n권          321213\n도서권수            0\n대출건수            0\n등록일자            0\n도서건수       384590\ndtype: int64"
     },
     "execution_count": 56,
     "metadata": {},
     "output_type": "execute_result"
    }
   ],
   "source": [
    "(ns_book4.fillna({'부가기호': '없음'}).isna().sum())"
   ],
   "metadata": {
    "collapsed": false,
    "ExecuteTime": {
     "end_time": "2024-03-19T09:37:23.845417Z",
     "start_time": "2024-03-19T09:37:23.651057Z"
    }
   },
   "id": "40a6fdf752ce2c2b",
   "execution_count": 56
  },
  {
   "cell_type": "code",
   "outputs": [
    {
     "data": {
      "text/plain": "번호         0\n도서명        0\n저자         0\n출판사        0\n발행년도       0\nISBN       0\n세트 ISBN    0\n부가기호       0\n권          0\n도서권수       0\n대출건수       0\n등록일자       0\n도서건수       0\ndtype: int64"
     },
     "execution_count": 57,
     "metadata": {},
     "output_type": "execute_result"
    }
   ],
   "source": [
    "ns_book4.replace(np.nan, '없음').isna().sum()"
   ],
   "metadata": {
    "collapsed": false,
    "ExecuteTime": {
     "end_time": "2024-03-19T09:38:32.951937Z",
     "start_time": "2024-03-19T09:38:32.640137Z"
    }
   },
   "id": "f1ca7b8a45de5e9",
   "execution_count": 57
  },
  {
   "cell_type": "code",
   "outputs": [
    {
     "data": {
      "text/plain": "   번호           도서명      저자   출판사 발행년도           ISBN 세트 ISBN 부가기호   권  도서권수  \\\n0   1       인공지능과 흙  김동훈 지음   민음사   21  9788937444319           없음  없음     1   \n1   2  가짜 행복 권하는 사회  김태형 지음  갈매나무   21  9791190123969           없음  없음     1   \n\n   대출건수        등록일자 도서건수  \n0     0  2021-03-19  1.0  \n1     0  2021-03-19   없음  ",
      "text/html": "<div>\n<style scoped>\n    .dataframe tbody tr th:only-of-type {\n        vertical-align: middle;\n    }\n\n    .dataframe tbody tr th {\n        vertical-align: top;\n    }\n\n    .dataframe thead th {\n        text-align: right;\n    }\n</style>\n<table border=\"1\" class=\"dataframe\">\n  <thead>\n    <tr style=\"text-align: right;\">\n      <th></th>\n      <th>번호</th>\n      <th>도서명</th>\n      <th>저자</th>\n      <th>출판사</th>\n      <th>발행년도</th>\n      <th>ISBN</th>\n      <th>세트 ISBN</th>\n      <th>부가기호</th>\n      <th>권</th>\n      <th>도서권수</th>\n      <th>대출건수</th>\n      <th>등록일자</th>\n      <th>도서건수</th>\n    </tr>\n  </thead>\n  <tbody>\n    <tr>\n      <th>0</th>\n      <td>1</td>\n      <td>인공지능과 흙</td>\n      <td>김동훈 지음</td>\n      <td>민음사</td>\n      <td>21</td>\n      <td>9788937444319</td>\n      <td></td>\n      <td>없음</td>\n      <td>없음</td>\n      <td>1</td>\n      <td>0</td>\n      <td>2021-03-19</td>\n      <td>1.0</td>\n    </tr>\n    <tr>\n      <th>1</th>\n      <td>2</td>\n      <td>가짜 행복 권하는 사회</td>\n      <td>김태형 지음</td>\n      <td>갈매나무</td>\n      <td>21</td>\n      <td>9791190123969</td>\n      <td></td>\n      <td>없음</td>\n      <td>없음</td>\n      <td>1</td>\n      <td>0</td>\n      <td>2021-03-19</td>\n      <td>없음</td>\n    </tr>\n  </tbody>\n</table>\n</div>"
     },
     "execution_count": 58,
     "metadata": {},
     "output_type": "execute_result"
    }
   ],
   "source": [
    "ns_book4.replace([np.nan, '2021'], ['없음', '21']).head(2)"
   ],
   "metadata": {
    "collapsed": false,
    "ExecuteTime": {
     "end_time": "2024-03-19T09:39:07.263428Z",
     "start_time": "2024-03-19T09:39:06.914197Z"
    }
   },
   "id": "1bbfbe48782d6bbc",
   "execution_count": 58
  },
  {
   "cell_type": "code",
   "outputs": [
    {
     "data": {
      "text/plain": "   번호           도서명      저자   출판사 발행년도           ISBN 세트 ISBN 부가기호   권  도서권수  \\\n0   1       인공지능과 흙  김동훈 지음   민음사   21  9788937444319           없음  없음     1   \n1   2  가짜 행복 권하는 사회  김태형 지음  갈매나무   21  9791190123969           없음  없음     1   \n\n   대출건수        등록일자 도서건수  \n0     0  2021-03-19  1.0  \n1     0  2021-03-19   없음  ",
      "text/html": "<div>\n<style scoped>\n    .dataframe tbody tr th:only-of-type {\n        vertical-align: middle;\n    }\n\n    .dataframe tbody tr th {\n        vertical-align: top;\n    }\n\n    .dataframe thead th {\n        text-align: right;\n    }\n</style>\n<table border=\"1\" class=\"dataframe\">\n  <thead>\n    <tr style=\"text-align: right;\">\n      <th></th>\n      <th>번호</th>\n      <th>도서명</th>\n      <th>저자</th>\n      <th>출판사</th>\n      <th>발행년도</th>\n      <th>ISBN</th>\n      <th>세트 ISBN</th>\n      <th>부가기호</th>\n      <th>권</th>\n      <th>도서권수</th>\n      <th>대출건수</th>\n      <th>등록일자</th>\n      <th>도서건수</th>\n    </tr>\n  </thead>\n  <tbody>\n    <tr>\n      <th>0</th>\n      <td>1</td>\n      <td>인공지능과 흙</td>\n      <td>김동훈 지음</td>\n      <td>민음사</td>\n      <td>21</td>\n      <td>9788937444319</td>\n      <td></td>\n      <td>없음</td>\n      <td>없음</td>\n      <td>1</td>\n      <td>0</td>\n      <td>2021-03-19</td>\n      <td>1.0</td>\n    </tr>\n    <tr>\n      <th>1</th>\n      <td>2</td>\n      <td>가짜 행복 권하는 사회</td>\n      <td>김태형 지음</td>\n      <td>갈매나무</td>\n      <td>21</td>\n      <td>9791190123969</td>\n      <td></td>\n      <td>없음</td>\n      <td>없음</td>\n      <td>1</td>\n      <td>0</td>\n      <td>2021-03-19</td>\n      <td>없음</td>\n    </tr>\n  </tbody>\n</table>\n</div>"
     },
     "execution_count": 59,
     "metadata": {},
     "output_type": "execute_result"
    }
   ],
   "source": [
    "ns_book4.replace({np.nan: '없음', '2021': '21'}).head(2)"
   ],
   "metadata": {
    "collapsed": false,
    "ExecuteTime": {
     "end_time": "2024-03-19T09:39:33.017876Z",
     "start_time": "2024-03-19T09:39:32.671172Z"
    }
   },
   "id": "117360105137130a",
   "execution_count": 59
  },
  {
   "cell_type": "code",
   "outputs": [
    {
     "data": {
      "text/plain": "   번호           도서명      저자   출판사  발행년도           ISBN 세트 ISBN 부가기호    권  \\\n0   1       인공지능과 흙  김동훈 지음   민음사  2021  9788937444319           없음  NaN   \n1   2  가짜 행복 권하는 사회  김태형 지음  갈매나무  2021  9791190123969           없음  NaN   \n\n   도서권수  대출건수        등록일자  도서건수  \n0     1     0  2021-03-19   1.0  \n1     1     0  2021-03-19   NaN  ",
      "text/html": "<div>\n<style scoped>\n    .dataframe tbody tr th:only-of-type {\n        vertical-align: middle;\n    }\n\n    .dataframe tbody tr th {\n        vertical-align: top;\n    }\n\n    .dataframe thead th {\n        text-align: right;\n    }\n</style>\n<table border=\"1\" class=\"dataframe\">\n  <thead>\n    <tr style=\"text-align: right;\">\n      <th></th>\n      <th>번호</th>\n      <th>도서명</th>\n      <th>저자</th>\n      <th>출판사</th>\n      <th>발행년도</th>\n      <th>ISBN</th>\n      <th>세트 ISBN</th>\n      <th>부가기호</th>\n      <th>권</th>\n      <th>도서권수</th>\n      <th>대출건수</th>\n      <th>등록일자</th>\n      <th>도서건수</th>\n    </tr>\n  </thead>\n  <tbody>\n    <tr>\n      <th>0</th>\n      <td>1</td>\n      <td>인공지능과 흙</td>\n      <td>김동훈 지음</td>\n      <td>민음사</td>\n      <td>2021</td>\n      <td>9788937444319</td>\n      <td></td>\n      <td>없음</td>\n      <td>NaN</td>\n      <td>1</td>\n      <td>0</td>\n      <td>2021-03-19</td>\n      <td>1.0</td>\n    </tr>\n    <tr>\n      <th>1</th>\n      <td>2</td>\n      <td>가짜 행복 권하는 사회</td>\n      <td>김태형 지음</td>\n      <td>갈매나무</td>\n      <td>2021</td>\n      <td>9791190123969</td>\n      <td></td>\n      <td>없음</td>\n      <td>NaN</td>\n      <td>1</td>\n      <td>0</td>\n      <td>2021-03-19</td>\n      <td>NaN</td>\n    </tr>\n  </tbody>\n</table>\n</div>"
     },
     "execution_count": 60,
     "metadata": {},
     "output_type": "execute_result"
    }
   ],
   "source": [
    "ns_book4.replace({'부가기호': np.nan}, '없음').head(2)"
   ],
   "metadata": {
    "collapsed": false,
    "ExecuteTime": {
     "end_time": "2024-03-19T09:39:57.928713Z",
     "start_time": "2024-03-19T09:39:57.819449Z"
    }
   },
   "id": "e3391799bfed4651",
   "execution_count": 60
  },
  {
   "cell_type": "code",
   "outputs": [
    {
     "data": {
      "text/plain": "   번호           도서명      저자   출판사 발행년도           ISBN 세트 ISBN 부가기호    권  도서권수  \\\n0   1       인공지능과 흙  김동훈 지음   민음사   21  9788937444319           없음  NaN     1   \n1   2  가짜 행복 권하는 사회  김태형 지음  갈매나무   21  9791190123969           없음  NaN     1   \n\n   대출건수        등록일자  도서건수  \n0     0  2021-03-19   1.0  \n1     0  2021-03-19   NaN  ",
      "text/html": "<div>\n<style scoped>\n    .dataframe tbody tr th:only-of-type {\n        vertical-align: middle;\n    }\n\n    .dataframe tbody tr th {\n        vertical-align: top;\n    }\n\n    .dataframe thead th {\n        text-align: right;\n    }\n</style>\n<table border=\"1\" class=\"dataframe\">\n  <thead>\n    <tr style=\"text-align: right;\">\n      <th></th>\n      <th>번호</th>\n      <th>도서명</th>\n      <th>저자</th>\n      <th>출판사</th>\n      <th>발행년도</th>\n      <th>ISBN</th>\n      <th>세트 ISBN</th>\n      <th>부가기호</th>\n      <th>권</th>\n      <th>도서권수</th>\n      <th>대출건수</th>\n      <th>등록일자</th>\n      <th>도서건수</th>\n    </tr>\n  </thead>\n  <tbody>\n    <tr>\n      <th>0</th>\n      <td>1</td>\n      <td>인공지능과 흙</td>\n      <td>김동훈 지음</td>\n      <td>민음사</td>\n      <td>21</td>\n      <td>9788937444319</td>\n      <td></td>\n      <td>없음</td>\n      <td>NaN</td>\n      <td>1</td>\n      <td>0</td>\n      <td>2021-03-19</td>\n      <td>1.0</td>\n    </tr>\n    <tr>\n      <th>1</th>\n      <td>2</td>\n      <td>가짜 행복 권하는 사회</td>\n      <td>김태형 지음</td>\n      <td>갈매나무</td>\n      <td>21</td>\n      <td>9791190123969</td>\n      <td></td>\n      <td>없음</td>\n      <td>NaN</td>\n      <td>1</td>\n      <td>0</td>\n      <td>2021-03-19</td>\n      <td>NaN</td>\n    </tr>\n  </tbody>\n</table>\n</div>"
     },
     "execution_count": 61,
     "metadata": {},
     "output_type": "execute_result"
    }
   ],
   "source": [
    "ns_book4.replace({'부가기호': {np.nan: '없음'}, '발행년도': {'2021': '21'}}).head(2)"
   ],
   "metadata": {
    "collapsed": false,
    "ExecuteTime": {
     "end_time": "2024-03-19T09:42:24.298893Z",
     "start_time": "2024-03-19T09:42:24.151334Z"
    }
   },
   "id": "49840c0e8559b8bc",
   "execution_count": 61
  },
  {
   "cell_type": "code",
   "outputs": [
    {
     "data": {
      "text/plain": "      번호                                        도서명  \\\n100  101                  No라고 말할 줄 아는 남편과 아내 - 개정판   \n101  102  D2C 레볼루션 - 스타트업부터 글로벌 기업까지, 마켓 체인저의 필수 전략   \n\n                                   저자   출판사  발행년도           ISBN 세트 ISBN 부가기호  \\\n100  헨리 클라우드, 존 타운센드 (지은이), 김진웅 (옮긴이)  좋은씨앗  2018  9788958743019          NaN   \n101        로런스 인그래시아 (지은이), 안기순 (옮긴이)    부키    21  9788960518483          NaN   \n\n       권  도서권수  대출건수        등록일자  도서건수  \n100  NaN     1     1  2021-03-15   NaN  \n101  NaN     1     0  2021-03-15   NaN  ",
      "text/html": "<div>\n<style scoped>\n    .dataframe tbody tr th:only-of-type {\n        vertical-align: middle;\n    }\n\n    .dataframe tbody tr th {\n        vertical-align: top;\n    }\n\n    .dataframe thead th {\n        text-align: right;\n    }\n</style>\n<table border=\"1\" class=\"dataframe\">\n  <thead>\n    <tr style=\"text-align: right;\">\n      <th></th>\n      <th>번호</th>\n      <th>도서명</th>\n      <th>저자</th>\n      <th>출판사</th>\n      <th>발행년도</th>\n      <th>ISBN</th>\n      <th>세트 ISBN</th>\n      <th>부가기호</th>\n      <th>권</th>\n      <th>도서권수</th>\n      <th>대출건수</th>\n      <th>등록일자</th>\n      <th>도서건수</th>\n    </tr>\n  </thead>\n  <tbody>\n    <tr>\n      <th>100</th>\n      <td>101</td>\n      <td>No라고 말할 줄 아는 남편과 아내 - 개정판</td>\n      <td>헨리 클라우드, 존 타운센드 (지은이), 김진웅 (옮긴이)</td>\n      <td>좋은씨앗</td>\n      <td>2018</td>\n      <td>9788958743019</td>\n      <td></td>\n      <td>NaN</td>\n      <td>NaN</td>\n      <td>1</td>\n      <td>1</td>\n      <td>2021-03-15</td>\n      <td>NaN</td>\n    </tr>\n    <tr>\n      <th>101</th>\n      <td>102</td>\n      <td>D2C 레볼루션 - 스타트업부터 글로벌 기업까지, 마켓 체인저의 필수 전략</td>\n      <td>로런스 인그래시아 (지은이), 안기순 (옮긴이)</td>\n      <td>부키</td>\n      <td>21</td>\n      <td>9788960518483</td>\n      <td></td>\n      <td>NaN</td>\n      <td>NaN</td>\n      <td>1</td>\n      <td>0</td>\n      <td>2021-03-15</td>\n      <td>NaN</td>\n    </tr>\n  </tbody>\n</table>\n</div>"
     },
     "execution_count": 62,
     "metadata": {},
     "output_type": "execute_result"
    }
   ],
   "source": [
    "ns_book4.replace({'발행년도': {'2021': '21'}})[100:102]"
   ],
   "metadata": {
    "collapsed": false,
    "ExecuteTime": {
     "end_time": "2024-03-19T09:43:32.747994Z",
     "start_time": "2024-03-19T09:43:32.626733Z"
    }
   },
   "id": "40995c7d75242e91",
   "execution_count": 62
  },
  {
   "cell_type": "code",
   "outputs": [
    {
     "data": {
      "text/plain": "      번호                                        도서명  \\\n100  101                  No라고 말할 줄 아는 남편과 아내 - 개정판   \n101  102  D2C 레볼루션 - 스타트업부터 글로벌 기업까지, 마켓 체인저의 필수 전략   \n\n                                   저자   출판사 발행년도           ISBN 세트 ISBN 부가기호  \\\n100  헨리 클라우드, 존 타운센드 (지은이), 김진웅 (옮긴이)  좋은씨앗   18  9788958743019          NaN   \n101        로런스 인그래시아 (지은이), 안기순 (옮긴이)    부키   21  9788960518483          NaN   \n\n       권  도서권수  대출건수        등록일자  도서건수  \n100  NaN     1     1  2021-03-15   NaN  \n101  NaN     1     0  2021-03-15   NaN  ",
      "text/html": "<div>\n<style scoped>\n    .dataframe tbody tr th:only-of-type {\n        vertical-align: middle;\n    }\n\n    .dataframe tbody tr th {\n        vertical-align: top;\n    }\n\n    .dataframe thead th {\n        text-align: right;\n    }\n</style>\n<table border=\"1\" class=\"dataframe\">\n  <thead>\n    <tr style=\"text-align: right;\">\n      <th></th>\n      <th>번호</th>\n      <th>도서명</th>\n      <th>저자</th>\n      <th>출판사</th>\n      <th>발행년도</th>\n      <th>ISBN</th>\n      <th>세트 ISBN</th>\n      <th>부가기호</th>\n      <th>권</th>\n      <th>도서권수</th>\n      <th>대출건수</th>\n      <th>등록일자</th>\n      <th>도서건수</th>\n    </tr>\n  </thead>\n  <tbody>\n    <tr>\n      <th>100</th>\n      <td>101</td>\n      <td>No라고 말할 줄 아는 남편과 아내 - 개정판</td>\n      <td>헨리 클라우드, 존 타운센드 (지은이), 김진웅 (옮긴이)</td>\n      <td>좋은씨앗</td>\n      <td>18</td>\n      <td>9788958743019</td>\n      <td></td>\n      <td>NaN</td>\n      <td>NaN</td>\n      <td>1</td>\n      <td>1</td>\n      <td>2021-03-15</td>\n      <td>NaN</td>\n    </tr>\n    <tr>\n      <th>101</th>\n      <td>102</td>\n      <td>D2C 레볼루션 - 스타트업부터 글로벌 기업까지, 마켓 체인저의 필수 전략</td>\n      <td>로런스 인그래시아 (지은이), 안기순 (옮긴이)</td>\n      <td>부키</td>\n      <td>21</td>\n      <td>9788960518483</td>\n      <td></td>\n      <td>NaN</td>\n      <td>NaN</td>\n      <td>1</td>\n      <td>0</td>\n      <td>2021-03-15</td>\n      <td>NaN</td>\n    </tr>\n  </tbody>\n</table>\n</div>"
     },
     "execution_count": 63,
     "metadata": {},
     "output_type": "execute_result"
    }
   ],
   "source": [
    "ns_book4.replace({'발행년도': {r'\\d\\d(\\d\\d)': r'\\1'}}, regex=True)[100:102]"
   ],
   "metadata": {
    "collapsed": false,
    "ExecuteTime": {
     "end_time": "2024-03-19T09:45:00.630958Z",
     "start_time": "2024-03-19T09:44:59.903067Z"
    }
   },
   "id": "fa103c9ba0939d69",
   "execution_count": 63
  },
  {
   "cell_type": "code",
   "outputs": [
    {
     "data": {
      "text/plain": "      번호                                        도서명  \\\n100  101                  No라고 말할 줄 아는 남편과 아내 - 개정판   \n101  102  D2C 레볼루션 - 스타트업부터 글로벌 기업까지, 마켓 체인저의 필수 전략   \n\n                                   저자   출판사 발행년도           ISBN 세트 ISBN 부가기호  \\\n100  헨리 클라우드, 존 타운센드 (지은이), 김진웅 (옮긴이)  좋은씨앗   18  9788958743019          NaN   \n101        로런스 인그래시아 (지은이), 안기순 (옮긴이)    부키   21  9788960518483          NaN   \n\n       권  도서권수  대출건수        등록일자  도서건수  \n100  NaN     1     1  2021-03-15   NaN  \n101  NaN     1     0  2021-03-15   NaN  ",
      "text/html": "<div>\n<style scoped>\n    .dataframe tbody tr th:only-of-type {\n        vertical-align: middle;\n    }\n\n    .dataframe tbody tr th {\n        vertical-align: top;\n    }\n\n    .dataframe thead th {\n        text-align: right;\n    }\n</style>\n<table border=\"1\" class=\"dataframe\">\n  <thead>\n    <tr style=\"text-align: right;\">\n      <th></th>\n      <th>번호</th>\n      <th>도서명</th>\n      <th>저자</th>\n      <th>출판사</th>\n      <th>발행년도</th>\n      <th>ISBN</th>\n      <th>세트 ISBN</th>\n      <th>부가기호</th>\n      <th>권</th>\n      <th>도서권수</th>\n      <th>대출건수</th>\n      <th>등록일자</th>\n      <th>도서건수</th>\n    </tr>\n  </thead>\n  <tbody>\n    <tr>\n      <th>100</th>\n      <td>101</td>\n      <td>No라고 말할 줄 아는 남편과 아내 - 개정판</td>\n      <td>헨리 클라우드, 존 타운센드 (지은이), 김진웅 (옮긴이)</td>\n      <td>좋은씨앗</td>\n      <td>18</td>\n      <td>9788958743019</td>\n      <td></td>\n      <td>NaN</td>\n      <td>NaN</td>\n      <td>1</td>\n      <td>1</td>\n      <td>2021-03-15</td>\n      <td>NaN</td>\n    </tr>\n    <tr>\n      <th>101</th>\n      <td>102</td>\n      <td>D2C 레볼루션 - 스타트업부터 글로벌 기업까지, 마켓 체인저의 필수 전략</td>\n      <td>로런스 인그래시아 (지은이), 안기순 (옮긴이)</td>\n      <td>부키</td>\n      <td>21</td>\n      <td>9788960518483</td>\n      <td></td>\n      <td>NaN</td>\n      <td>NaN</td>\n      <td>1</td>\n      <td>0</td>\n      <td>2021-03-15</td>\n      <td>NaN</td>\n    </tr>\n  </tbody>\n</table>\n</div>"
     },
     "execution_count": 64,
     "metadata": {},
     "output_type": "execute_result"
    }
   ],
   "source": [
    "ns_book4.replace({'발행년도': {r'\\d{2}(\\d{2})': r'\\1'}}, regex=True)[100:102]"
   ],
   "metadata": {
    "collapsed": false,
    "ExecuteTime": {
     "end_time": "2024-03-19T09:47:21.932691Z",
     "start_time": "2024-03-19T09:47:21.174211Z"
    }
   },
   "id": "1548cbcfa2535b3f",
   "execution_count": 64
  },
  {
   "cell_type": "code",
   "outputs": [
    {
     "data": {
      "text/plain": "      번호                                        도서명                    저자  \\\n100  101                  No라고 말할 줄 아는 남편과 아내 - 개정판  헨리 클라우드, 존 타운센드, 김진웅   \n101  102  D2C 레볼루션 - 스타트업부터 글로벌 기업까지, 마켓 체인저의 필수 전략        로런스 인그래시아, 안기순   \n\n      출판사 발행년도           ISBN 세트 ISBN 부가기호    권  도서권수  대출건수        등록일자  도서건수  \n100  좋은씨앗   18  9788958743019          NaN  NaN     1     1  2021-03-15   NaN  \n101    부키   21  9788960518483          NaN  NaN     1     0  2021-03-15   NaN  ",
      "text/html": "<div>\n<style scoped>\n    .dataframe tbody tr th:only-of-type {\n        vertical-align: middle;\n    }\n\n    .dataframe tbody tr th {\n        vertical-align: top;\n    }\n\n    .dataframe thead th {\n        text-align: right;\n    }\n</style>\n<table border=\"1\" class=\"dataframe\">\n  <thead>\n    <tr style=\"text-align: right;\">\n      <th></th>\n      <th>번호</th>\n      <th>도서명</th>\n      <th>저자</th>\n      <th>출판사</th>\n      <th>발행년도</th>\n      <th>ISBN</th>\n      <th>세트 ISBN</th>\n      <th>부가기호</th>\n      <th>권</th>\n      <th>도서권수</th>\n      <th>대출건수</th>\n      <th>등록일자</th>\n      <th>도서건수</th>\n    </tr>\n  </thead>\n  <tbody>\n    <tr>\n      <th>100</th>\n      <td>101</td>\n      <td>No라고 말할 줄 아는 남편과 아내 - 개정판</td>\n      <td>헨리 클라우드, 존 타운센드, 김진웅</td>\n      <td>좋은씨앗</td>\n      <td>18</td>\n      <td>9788958743019</td>\n      <td></td>\n      <td>NaN</td>\n      <td>NaN</td>\n      <td>1</td>\n      <td>1</td>\n      <td>2021-03-15</td>\n      <td>NaN</td>\n    </tr>\n    <tr>\n      <th>101</th>\n      <td>102</td>\n      <td>D2C 레볼루션 - 스타트업부터 글로벌 기업까지, 마켓 체인저의 필수 전략</td>\n      <td>로런스 인그래시아, 안기순</td>\n      <td>부키</td>\n      <td>21</td>\n      <td>9788960518483</td>\n      <td></td>\n      <td>NaN</td>\n      <td>NaN</td>\n      <td>1</td>\n      <td>0</td>\n      <td>2021-03-15</td>\n      <td>NaN</td>\n    </tr>\n  </tbody>\n</table>\n</div>"
     },
     "execution_count": 65,
     "metadata": {},
     "output_type": "execute_result"
    }
   ],
   "source": [
    "ns_book4.replace({'저자': {r'(.*)\\s\\(지은이\\)(.*)\\s\\(옮긴이\\)': r'\\1\\2'}, '발행년도': {r'\\d{2}(\\d{2})': r'\\1'}}, regex=True)[100:102]"
   ],
   "metadata": {
    "collapsed": false,
    "ExecuteTime": {
     "end_time": "2024-03-19T09:50:24.180152Z",
     "start_time": "2024-03-19T09:50:22.566338Z"
    }
   },
   "id": "6c6ac816cd7770fd",
   "execution_count": 65
  },
  {
   "cell_type": "code",
   "outputs": [
    {
     "ename": "ValueError",
     "evalue": "invalid literal for int() with base 10: '1988.': Error while type casting for column '발행년도'",
     "output_type": "error",
     "traceback": [
      "\u001B[0;31m---------------------------------------------------------------------------\u001B[0m",
      "\u001B[0;31mValueError\u001B[0m                                Traceback (most recent call last)",
      "Cell \u001B[0;32mIn[66], line 1\u001B[0m\n\u001B[0;32m----> 1\u001B[0m ns_book4\u001B[38;5;241m.\u001B[39mastype({\u001B[38;5;124m'\u001B[39m\u001B[38;5;124m발행년도\u001B[39m\u001B[38;5;124m'\u001B[39m: \u001B[38;5;124m'\u001B[39m\u001B[38;5;124mint32\u001B[39m\u001B[38;5;124m'\u001B[39m})\n",
      "File \u001B[0;32m/opt/anaconda3/envs/dataanalysis/lib/python3.11/site-packages/pandas/core/generic.py:6617\u001B[0m, in \u001B[0;36mNDFrame.astype\u001B[0;34m(self, dtype, copy, errors)\u001B[0m\n\u001B[1;32m   6615\u001B[0m \u001B[38;5;28;01melse\u001B[39;00m:\n\u001B[1;32m   6616\u001B[0m     \u001B[38;5;28;01mtry\u001B[39;00m:\n\u001B[0;32m-> 6617\u001B[0m         res_col \u001B[38;5;241m=\u001B[39m col\u001B[38;5;241m.\u001B[39mastype(dtype\u001B[38;5;241m=\u001B[39mcdt, copy\u001B[38;5;241m=\u001B[39mcopy, errors\u001B[38;5;241m=\u001B[39merrors)\n\u001B[1;32m   6618\u001B[0m     \u001B[38;5;28;01mexcept\u001B[39;00m \u001B[38;5;167;01mValueError\u001B[39;00m \u001B[38;5;28;01mas\u001B[39;00m ex:\n\u001B[1;32m   6619\u001B[0m         ex\u001B[38;5;241m.\u001B[39margs \u001B[38;5;241m=\u001B[39m (\n\u001B[1;32m   6620\u001B[0m             \u001B[38;5;124mf\u001B[39m\u001B[38;5;124m\"\u001B[39m\u001B[38;5;132;01m{\u001B[39;00mex\u001B[38;5;132;01m}\u001B[39;00m\u001B[38;5;124m: Error while type casting for column \u001B[39m\u001B[38;5;124m'\u001B[39m\u001B[38;5;132;01m{\u001B[39;00mcol_name\u001B[38;5;132;01m}\u001B[39;00m\u001B[38;5;124m'\u001B[39m\u001B[38;5;124m\"\u001B[39m,\n\u001B[1;32m   6621\u001B[0m         )\n",
      "File \u001B[0;32m/opt/anaconda3/envs/dataanalysis/lib/python3.11/site-packages/pandas/core/generic.py:6640\u001B[0m, in \u001B[0;36mNDFrame.astype\u001B[0;34m(self, dtype, copy, errors)\u001B[0m\n\u001B[1;32m   6634\u001B[0m     results \u001B[38;5;241m=\u001B[39m [\n\u001B[1;32m   6635\u001B[0m         ser\u001B[38;5;241m.\u001B[39mastype(dtype, copy\u001B[38;5;241m=\u001B[39mcopy, errors\u001B[38;5;241m=\u001B[39merrors) \u001B[38;5;28;01mfor\u001B[39;00m _, ser \u001B[38;5;129;01min\u001B[39;00m \u001B[38;5;28mself\u001B[39m\u001B[38;5;241m.\u001B[39mitems()\n\u001B[1;32m   6636\u001B[0m     ]\n\u001B[1;32m   6638\u001B[0m \u001B[38;5;28;01melse\u001B[39;00m:\n\u001B[1;32m   6639\u001B[0m     \u001B[38;5;66;03m# else, only a single dtype is given\u001B[39;00m\n\u001B[0;32m-> 6640\u001B[0m     new_data \u001B[38;5;241m=\u001B[39m \u001B[38;5;28mself\u001B[39m\u001B[38;5;241m.\u001B[39m_mgr\u001B[38;5;241m.\u001B[39mastype(dtype\u001B[38;5;241m=\u001B[39mdtype, copy\u001B[38;5;241m=\u001B[39mcopy, errors\u001B[38;5;241m=\u001B[39merrors)\n\u001B[1;32m   6641\u001B[0m     res \u001B[38;5;241m=\u001B[39m \u001B[38;5;28mself\u001B[39m\u001B[38;5;241m.\u001B[39m_constructor_from_mgr(new_data, axes\u001B[38;5;241m=\u001B[39mnew_data\u001B[38;5;241m.\u001B[39maxes)\n\u001B[1;32m   6642\u001B[0m     \u001B[38;5;28;01mreturn\u001B[39;00m res\u001B[38;5;241m.\u001B[39m__finalize__(\u001B[38;5;28mself\u001B[39m, method\u001B[38;5;241m=\u001B[39m\u001B[38;5;124m\"\u001B[39m\u001B[38;5;124mastype\u001B[39m\u001B[38;5;124m\"\u001B[39m)\n",
      "File \u001B[0;32m/opt/anaconda3/envs/dataanalysis/lib/python3.11/site-packages/pandas/core/internals/managers.py:430\u001B[0m, in \u001B[0;36mBaseBlockManager.astype\u001B[0;34m(self, dtype, copy, errors)\u001B[0m\n\u001B[1;32m    427\u001B[0m \u001B[38;5;28;01melif\u001B[39;00m using_copy_on_write():\n\u001B[1;32m    428\u001B[0m     copy \u001B[38;5;241m=\u001B[39m \u001B[38;5;28;01mFalse\u001B[39;00m\n\u001B[0;32m--> 430\u001B[0m \u001B[38;5;28;01mreturn\u001B[39;00m \u001B[38;5;28mself\u001B[39m\u001B[38;5;241m.\u001B[39mapply(\n\u001B[1;32m    431\u001B[0m     \u001B[38;5;124m\"\u001B[39m\u001B[38;5;124mastype\u001B[39m\u001B[38;5;124m\"\u001B[39m,\n\u001B[1;32m    432\u001B[0m     dtype\u001B[38;5;241m=\u001B[39mdtype,\n\u001B[1;32m    433\u001B[0m     copy\u001B[38;5;241m=\u001B[39mcopy,\n\u001B[1;32m    434\u001B[0m     errors\u001B[38;5;241m=\u001B[39merrors,\n\u001B[1;32m    435\u001B[0m     using_cow\u001B[38;5;241m=\u001B[39musing_copy_on_write(),\n\u001B[1;32m    436\u001B[0m )\n",
      "File \u001B[0;32m/opt/anaconda3/envs/dataanalysis/lib/python3.11/site-packages/pandas/core/internals/managers.py:363\u001B[0m, in \u001B[0;36mBaseBlockManager.apply\u001B[0;34m(self, f, align_keys, **kwargs)\u001B[0m\n\u001B[1;32m    361\u001B[0m         applied \u001B[38;5;241m=\u001B[39m b\u001B[38;5;241m.\u001B[39mapply(f, \u001B[38;5;241m*\u001B[39m\u001B[38;5;241m*\u001B[39mkwargs)\n\u001B[1;32m    362\u001B[0m     \u001B[38;5;28;01melse\u001B[39;00m:\n\u001B[0;32m--> 363\u001B[0m         applied \u001B[38;5;241m=\u001B[39m \u001B[38;5;28mgetattr\u001B[39m(b, f)(\u001B[38;5;241m*\u001B[39m\u001B[38;5;241m*\u001B[39mkwargs)\n\u001B[1;32m    364\u001B[0m     result_blocks \u001B[38;5;241m=\u001B[39m extend_blocks(applied, result_blocks)\n\u001B[1;32m    366\u001B[0m out \u001B[38;5;241m=\u001B[39m \u001B[38;5;28mtype\u001B[39m(\u001B[38;5;28mself\u001B[39m)\u001B[38;5;241m.\u001B[39mfrom_blocks(result_blocks, \u001B[38;5;28mself\u001B[39m\u001B[38;5;241m.\u001B[39maxes)\n",
      "File \u001B[0;32m/opt/anaconda3/envs/dataanalysis/lib/python3.11/site-packages/pandas/core/internals/blocks.py:758\u001B[0m, in \u001B[0;36mBlock.astype\u001B[0;34m(self, dtype, copy, errors, using_cow, squeeze)\u001B[0m\n\u001B[1;32m    755\u001B[0m         \u001B[38;5;28;01mraise\u001B[39;00m \u001B[38;5;167;01mValueError\u001B[39;00m(\u001B[38;5;124m\"\u001B[39m\u001B[38;5;124mCan not squeeze with more than one column.\u001B[39m\u001B[38;5;124m\"\u001B[39m)\n\u001B[1;32m    756\u001B[0m     values \u001B[38;5;241m=\u001B[39m values[\u001B[38;5;241m0\u001B[39m, :]  \u001B[38;5;66;03m# type: ignore[call-overload]\u001B[39;00m\n\u001B[0;32m--> 758\u001B[0m new_values \u001B[38;5;241m=\u001B[39m astype_array_safe(values, dtype, copy\u001B[38;5;241m=\u001B[39mcopy, errors\u001B[38;5;241m=\u001B[39merrors)\n\u001B[1;32m    760\u001B[0m new_values \u001B[38;5;241m=\u001B[39m maybe_coerce_values(new_values)\n\u001B[1;32m    762\u001B[0m refs \u001B[38;5;241m=\u001B[39m \u001B[38;5;28;01mNone\u001B[39;00m\n",
      "File \u001B[0;32m/opt/anaconda3/envs/dataanalysis/lib/python3.11/site-packages/pandas/core/dtypes/astype.py:237\u001B[0m, in \u001B[0;36mastype_array_safe\u001B[0;34m(values, dtype, copy, errors)\u001B[0m\n\u001B[1;32m    234\u001B[0m     dtype \u001B[38;5;241m=\u001B[39m dtype\u001B[38;5;241m.\u001B[39mnumpy_dtype\n\u001B[1;32m    236\u001B[0m \u001B[38;5;28;01mtry\u001B[39;00m:\n\u001B[0;32m--> 237\u001B[0m     new_values \u001B[38;5;241m=\u001B[39m astype_array(values, dtype, copy\u001B[38;5;241m=\u001B[39mcopy)\n\u001B[1;32m    238\u001B[0m \u001B[38;5;28;01mexcept\u001B[39;00m (\u001B[38;5;167;01mValueError\u001B[39;00m, \u001B[38;5;167;01mTypeError\u001B[39;00m):\n\u001B[1;32m    239\u001B[0m     \u001B[38;5;66;03m# e.g. _astype_nansafe can fail on object-dtype of strings\u001B[39;00m\n\u001B[1;32m    240\u001B[0m     \u001B[38;5;66;03m#  trying to convert to float\u001B[39;00m\n\u001B[1;32m    241\u001B[0m     \u001B[38;5;28;01mif\u001B[39;00m errors \u001B[38;5;241m==\u001B[39m \u001B[38;5;124m\"\u001B[39m\u001B[38;5;124mignore\u001B[39m\u001B[38;5;124m\"\u001B[39m:\n",
      "File \u001B[0;32m/opt/anaconda3/envs/dataanalysis/lib/python3.11/site-packages/pandas/core/dtypes/astype.py:182\u001B[0m, in \u001B[0;36mastype_array\u001B[0;34m(values, dtype, copy)\u001B[0m\n\u001B[1;32m    179\u001B[0m     values \u001B[38;5;241m=\u001B[39m values\u001B[38;5;241m.\u001B[39mastype(dtype, copy\u001B[38;5;241m=\u001B[39mcopy)\n\u001B[1;32m    181\u001B[0m \u001B[38;5;28;01melse\u001B[39;00m:\n\u001B[0;32m--> 182\u001B[0m     values \u001B[38;5;241m=\u001B[39m _astype_nansafe(values, dtype, copy\u001B[38;5;241m=\u001B[39mcopy)\n\u001B[1;32m    184\u001B[0m \u001B[38;5;66;03m# in pandas we don't store numpy str dtypes, so convert to object\u001B[39;00m\n\u001B[1;32m    185\u001B[0m \u001B[38;5;28;01mif\u001B[39;00m \u001B[38;5;28misinstance\u001B[39m(dtype, np\u001B[38;5;241m.\u001B[39mdtype) \u001B[38;5;129;01mand\u001B[39;00m \u001B[38;5;28missubclass\u001B[39m(values\u001B[38;5;241m.\u001B[39mdtype\u001B[38;5;241m.\u001B[39mtype, \u001B[38;5;28mstr\u001B[39m):\n",
      "File \u001B[0;32m/opt/anaconda3/envs/dataanalysis/lib/python3.11/site-packages/pandas/core/dtypes/astype.py:133\u001B[0m, in \u001B[0;36m_astype_nansafe\u001B[0;34m(arr, dtype, copy, skipna)\u001B[0m\n\u001B[1;32m    129\u001B[0m     \u001B[38;5;28;01mraise\u001B[39;00m \u001B[38;5;167;01mValueError\u001B[39;00m(msg)\n\u001B[1;32m    131\u001B[0m \u001B[38;5;28;01mif\u001B[39;00m copy \u001B[38;5;129;01mor\u001B[39;00m arr\u001B[38;5;241m.\u001B[39mdtype \u001B[38;5;241m==\u001B[39m \u001B[38;5;28mobject\u001B[39m \u001B[38;5;129;01mor\u001B[39;00m dtype \u001B[38;5;241m==\u001B[39m \u001B[38;5;28mobject\u001B[39m:\n\u001B[1;32m    132\u001B[0m     \u001B[38;5;66;03m# Explicit copy, or required since NumPy can't view from / to object.\u001B[39;00m\n\u001B[0;32m--> 133\u001B[0m     \u001B[38;5;28;01mreturn\u001B[39;00m arr\u001B[38;5;241m.\u001B[39mastype(dtype, copy\u001B[38;5;241m=\u001B[39m\u001B[38;5;28;01mTrue\u001B[39;00m)\n\u001B[1;32m    135\u001B[0m \u001B[38;5;28;01mreturn\u001B[39;00m arr\u001B[38;5;241m.\u001B[39mastype(dtype, copy\u001B[38;5;241m=\u001B[39mcopy)\n",
      "\u001B[0;31mValueError\u001B[0m: invalid literal for int() with base 10: '1988.': Error while type casting for column '발행년도'"
     ]
    }
   ],
   "source": [
    "ns_book4.astype({'발행년도': 'int32'})"
   ],
   "metadata": {
    "collapsed": false,
    "ExecuteTime": {
     "end_time": "2024-03-19T09:51:03.716406Z",
     "start_time": "2024-03-19T09:51:03.646911Z"
    }
   },
   "id": "379262e5f7b0ce5c",
   "execution_count": 66
  },
  {
   "cell_type": "code",
   "outputs": [
    {
     "data": {
      "text/plain": "407"
     },
     "execution_count": 67,
     "metadata": {},
     "output_type": "execute_result"
    }
   ],
   "source": [
    "ns_book4['발행년도'].str.contains('1988').sum()"
   ],
   "metadata": {
    "collapsed": false,
    "ExecuteTime": {
     "end_time": "2024-03-19T09:52:04.942168Z",
     "start_time": "2024-03-19T09:52:04.859026Z"
    }
   },
   "id": "29242f1965358543",
   "execution_count": 67
  },
  {
   "cell_type": "code",
   "outputs": [
    {
     "data": {
      "text/plain": "1777"
     },
     "execution_count": 68,
     "metadata": {},
     "output_type": "execute_result"
    }
   ],
   "source": [
    "invalid_number = ns_book4['발행년도'].str.contains('\\D', na=True)\n",
    "invalid_number.sum()"
   ],
   "metadata": {
    "collapsed": false,
    "ExecuteTime": {
     "end_time": "2024-03-19T09:52:50.899889Z",
     "start_time": "2024-03-19T09:52:50.822171Z"
    }
   },
   "id": "342e185cd0024e71",
   "execution_count": 68
  },
  {
   "cell_type": "code",
   "outputs": [
    {
     "data": {
      "text/plain": "          번호                       도서명  \\\n19138  19565                      단국강토   \n19227  19736                    삼성의 역사   \n26097  26812                  배고픈 애벌레    \n29817  30586  (The) Sopranos sessions    \n29940  30709                    다음엔 너야   \n\n                                                      저자                 출판사  \\\n19138                                              홍태수 저             매일경제신문사   \n19227                                              송부웅 撰                  삼양   \n26097                                  에릭 칼 글·그림 ;이희재 옮김               더큰컴퍼니   \n29817  Matt Zoller Seitz,$eAlan Sepinwall,$eLaura Lip...  Harry N Abrams Inc   \n29940                         에른스트 얀들 글;노르만 융에 그림;박상순 옮김                 비룡소   \n\n               발행년도           ISBN        세트 ISBN 부가기호    권  도서권수  대출건수  \\\n19138         1988.  9788974420031                 NaN  NaN     1     1   \n19227  단기4334[2001]  9788985464369                   0  NaN     1     1   \n26097        [2019]  9788959514083                 NaN  NaN     1     0   \n29817         2019.  9781419734946                 NaN  NaN     1     0   \n29940         2018.  9788949110646  9788949110004    7  NaN     1     9   \n\n             등록일자  도서건수  \n19138  2019-12-19   NaN  \n19227  2019-12-06   NaN  \n26097  2019-08-12   NaN  \n29817  2019-06-13   NaN  \n29940  2019-06-04   NaN  ",
      "text/html": "<div>\n<style scoped>\n    .dataframe tbody tr th:only-of-type {\n        vertical-align: middle;\n    }\n\n    .dataframe tbody tr th {\n        vertical-align: top;\n    }\n\n    .dataframe thead th {\n        text-align: right;\n    }\n</style>\n<table border=\"1\" class=\"dataframe\">\n  <thead>\n    <tr style=\"text-align: right;\">\n      <th></th>\n      <th>번호</th>\n      <th>도서명</th>\n      <th>저자</th>\n      <th>출판사</th>\n      <th>발행년도</th>\n      <th>ISBN</th>\n      <th>세트 ISBN</th>\n      <th>부가기호</th>\n      <th>권</th>\n      <th>도서권수</th>\n      <th>대출건수</th>\n      <th>등록일자</th>\n      <th>도서건수</th>\n    </tr>\n  </thead>\n  <tbody>\n    <tr>\n      <th>19138</th>\n      <td>19565</td>\n      <td>단국강토</td>\n      <td>홍태수 저</td>\n      <td>매일경제신문사</td>\n      <td>1988.</td>\n      <td>9788974420031</td>\n      <td></td>\n      <td>NaN</td>\n      <td>NaN</td>\n      <td>1</td>\n      <td>1</td>\n      <td>2019-12-19</td>\n      <td>NaN</td>\n    </tr>\n    <tr>\n      <th>19227</th>\n      <td>19736</td>\n      <td>삼성의 역사</td>\n      <td>송부웅 撰</td>\n      <td>삼양</td>\n      <td>단기4334[2001]</td>\n      <td>9788985464369</td>\n      <td></td>\n      <td>0</td>\n      <td>NaN</td>\n      <td>1</td>\n      <td>1</td>\n      <td>2019-12-06</td>\n      <td>NaN</td>\n    </tr>\n    <tr>\n      <th>26097</th>\n      <td>26812</td>\n      <td>배고픈 애벌레</td>\n      <td>에릭 칼 글·그림 ;이희재 옮김</td>\n      <td>더큰컴퍼니</td>\n      <td>[2019]</td>\n      <td>9788959514083</td>\n      <td></td>\n      <td>NaN</td>\n      <td>NaN</td>\n      <td>1</td>\n      <td>0</td>\n      <td>2019-08-12</td>\n      <td>NaN</td>\n    </tr>\n    <tr>\n      <th>29817</th>\n      <td>30586</td>\n      <td>(The) Sopranos sessions</td>\n      <td>Matt Zoller Seitz,$eAlan Sepinwall,$eLaura Lip...</td>\n      <td>Harry N Abrams Inc</td>\n      <td>2019.</td>\n      <td>9781419734946</td>\n      <td></td>\n      <td>NaN</td>\n      <td>NaN</td>\n      <td>1</td>\n      <td>0</td>\n      <td>2019-06-13</td>\n      <td>NaN</td>\n    </tr>\n    <tr>\n      <th>29940</th>\n      <td>30709</td>\n      <td>다음엔 너야</td>\n      <td>에른스트 얀들 글;노르만 융에 그림;박상순 옮김</td>\n      <td>비룡소</td>\n      <td>2018.</td>\n      <td>9788949110646</td>\n      <td>9788949110004</td>\n      <td>7</td>\n      <td>NaN</td>\n      <td>1</td>\n      <td>9</td>\n      <td>2019-06-04</td>\n      <td>NaN</td>\n    </tr>\n  </tbody>\n</table>\n</div>"
     },
     "execution_count": 69,
     "metadata": {},
     "output_type": "execute_result"
    }
   ],
   "source": [
    "ns_book4[invalid_number].head()"
   ],
   "metadata": {
    "collapsed": false,
    "ExecuteTime": {
     "end_time": "2024-03-19T09:53:02.212457Z",
     "start_time": "2024-03-19T09:53:02.205090Z"
    }
   },
   "id": "76ff58febf454a4a",
   "execution_count": 69
  },
  {
   "cell_type": "code",
   "outputs": [
    {
     "data": {
      "text/plain": "          번호                       도서명  \\\n19138  19565                      단국강토   \n19227  19736                    삼성의 역사   \n26097  26812                  배고픈 애벌레    \n29817  30586  (The) Sopranos sessions    \n29940  30709                    다음엔 너야   \n\n                                                      저자                 출판사  \\\n19138                                              홍태수 저             매일경제신문사   \n19227                                              송부웅 撰                  삼양   \n26097                                  에릭 칼 글·그림 ;이희재 옮김               더큰컴퍼니   \n29817  Matt Zoller Seitz,$eAlan Sepinwall,$eLaura Lip...  Harry N Abrams Inc   \n29940                         에른스트 얀들 글;노르만 융에 그림;박상순 옮김                 비룡소   \n\n       발행년도           ISBN        세트 ISBN 부가기호    권  도서권수  대출건수        등록일자  \\\n19138  1988  9788974420031                 NaN  NaN     1     1  2019-12-19   \n19227  2001  9788985464369                   0  NaN     1     1  2019-12-06   \n26097  2019  9788959514083                 NaN  NaN     1     0  2019-08-12   \n29817  2019  9781419734946                 NaN  NaN     1     0  2019-06-13   \n29940  2018  9788949110646  9788949110004    7  NaN     1     9  2019-06-04   \n\n       도서건수  \n19138   NaN  \n19227   NaN  \n26097   NaN  \n29817   NaN  \n29940   NaN  ",
      "text/html": "<div>\n<style scoped>\n    .dataframe tbody tr th:only-of-type {\n        vertical-align: middle;\n    }\n\n    .dataframe tbody tr th {\n        vertical-align: top;\n    }\n\n    .dataframe thead th {\n        text-align: right;\n    }\n</style>\n<table border=\"1\" class=\"dataframe\">\n  <thead>\n    <tr style=\"text-align: right;\">\n      <th></th>\n      <th>번호</th>\n      <th>도서명</th>\n      <th>저자</th>\n      <th>출판사</th>\n      <th>발행년도</th>\n      <th>ISBN</th>\n      <th>세트 ISBN</th>\n      <th>부가기호</th>\n      <th>권</th>\n      <th>도서권수</th>\n      <th>대출건수</th>\n      <th>등록일자</th>\n      <th>도서건수</th>\n    </tr>\n  </thead>\n  <tbody>\n    <tr>\n      <th>19138</th>\n      <td>19565</td>\n      <td>단국강토</td>\n      <td>홍태수 저</td>\n      <td>매일경제신문사</td>\n      <td>1988</td>\n      <td>9788974420031</td>\n      <td></td>\n      <td>NaN</td>\n      <td>NaN</td>\n      <td>1</td>\n      <td>1</td>\n      <td>2019-12-19</td>\n      <td>NaN</td>\n    </tr>\n    <tr>\n      <th>19227</th>\n      <td>19736</td>\n      <td>삼성의 역사</td>\n      <td>송부웅 撰</td>\n      <td>삼양</td>\n      <td>2001</td>\n      <td>9788985464369</td>\n      <td></td>\n      <td>0</td>\n      <td>NaN</td>\n      <td>1</td>\n      <td>1</td>\n      <td>2019-12-06</td>\n      <td>NaN</td>\n    </tr>\n    <tr>\n      <th>26097</th>\n      <td>26812</td>\n      <td>배고픈 애벌레</td>\n      <td>에릭 칼 글·그림 ;이희재 옮김</td>\n      <td>더큰컴퍼니</td>\n      <td>2019</td>\n      <td>9788959514083</td>\n      <td></td>\n      <td>NaN</td>\n      <td>NaN</td>\n      <td>1</td>\n      <td>0</td>\n      <td>2019-08-12</td>\n      <td>NaN</td>\n    </tr>\n    <tr>\n      <th>29817</th>\n      <td>30586</td>\n      <td>(The) Sopranos sessions</td>\n      <td>Matt Zoller Seitz,$eAlan Sepinwall,$eLaura Lip...</td>\n      <td>Harry N Abrams Inc</td>\n      <td>2019</td>\n      <td>9781419734946</td>\n      <td></td>\n      <td>NaN</td>\n      <td>NaN</td>\n      <td>1</td>\n      <td>0</td>\n      <td>2019-06-13</td>\n      <td>NaN</td>\n    </tr>\n    <tr>\n      <th>29940</th>\n      <td>30709</td>\n      <td>다음엔 너야</td>\n      <td>에른스트 얀들 글;노르만 융에 그림;박상순 옮김</td>\n      <td>비룡소</td>\n      <td>2018</td>\n      <td>9788949110646</td>\n      <td>9788949110004</td>\n      <td>7</td>\n      <td>NaN</td>\n      <td>1</td>\n      <td>9</td>\n      <td>2019-06-04</td>\n      <td>NaN</td>\n    </tr>\n  </tbody>\n</table>\n</div>"
     },
     "execution_count": 70,
     "metadata": {},
     "output_type": "execute_result"
    }
   ],
   "source": [
    "ns_book5 = ns_book4.replace({'발행년도': r'.*(\\d{4}).*'}, r'\\1', regex=True)\n",
    "ns_book5[invalid_number].head()"
   ],
   "metadata": {
    "collapsed": false,
    "ExecuteTime": {
     "end_time": "2024-03-19T09:54:20.103763Z",
     "start_time": "2024-03-19T09:54:19.501750Z"
    }
   },
   "id": "e02a64fde519333",
   "execution_count": 70
  },
  {
   "cell_type": "code",
   "outputs": [
    {
     "data": {
      "text/plain": "67"
     },
     "execution_count": 71,
     "metadata": {},
     "output_type": "execute_result"
    }
   ],
   "source": [
    "unknown_year = ns_book5['발행년도'].str.contains('\\D', na=True)\n",
    "unknown_year.sum()"
   ],
   "metadata": {
    "collapsed": false,
    "ExecuteTime": {
     "end_time": "2024-03-19T09:55:33.866496Z",
     "start_time": "2024-03-19T09:55:33.787133Z"
    }
   },
   "id": "8a953f8fb1f65355",
   "execution_count": 71
  },
  {
   "cell_type": "code",
   "outputs": [
    {
     "data": {
      "text/plain": "            번호                도서명        저자      출판사     발행년도           ISBN  \\\n30838    31616       본격 한중일 세계사 5  굽시니스트 지음   위즈덤하우스      NaN  9791190065092   \n39130    40141     정책금융의 현황과 발전과제   정책금융연구회   한국산업은행      NaN  9788992784108   \n39256    40268  서울지역 유적 발굴조사 총서 3   서울역사박물관  서울역사박물관      NaN  9791186324714   \n76836    81202            흰머리 큰줄기    한호진 지음    秀文出版社  [발행년불명]  9788973010769   \n150543  160436          (속) 경제학사     박장환 지음      NaN   [20--]  9788994339207   \n\n              세트 ISBN 부가기호    권  도서권수  대출건수        등록일자  도서건수  \n30838                  NaN  NaN     0     0  2019-05-28   NaN  \n39130                  NaN  NaN     1     0  2019-01-22   NaN  \n39256   9791186324431  NaN  NaN     0     0  2019-01-22   NaN  \n76836                    0  NaN     1     1  2016-11-10   NaN  \n150543                   1  NaN     1     2  2012-11-19   NaN  ",
      "text/html": "<div>\n<style scoped>\n    .dataframe tbody tr th:only-of-type {\n        vertical-align: middle;\n    }\n\n    .dataframe tbody tr th {\n        vertical-align: top;\n    }\n\n    .dataframe thead th {\n        text-align: right;\n    }\n</style>\n<table border=\"1\" class=\"dataframe\">\n  <thead>\n    <tr style=\"text-align: right;\">\n      <th></th>\n      <th>번호</th>\n      <th>도서명</th>\n      <th>저자</th>\n      <th>출판사</th>\n      <th>발행년도</th>\n      <th>ISBN</th>\n      <th>세트 ISBN</th>\n      <th>부가기호</th>\n      <th>권</th>\n      <th>도서권수</th>\n      <th>대출건수</th>\n      <th>등록일자</th>\n      <th>도서건수</th>\n    </tr>\n  </thead>\n  <tbody>\n    <tr>\n      <th>30838</th>\n      <td>31616</td>\n      <td>본격 한중일 세계사 5</td>\n      <td>굽시니스트 지음</td>\n      <td>위즈덤하우스</td>\n      <td>NaN</td>\n      <td>9791190065092</td>\n      <td></td>\n      <td>NaN</td>\n      <td>NaN</td>\n      <td>0</td>\n      <td>0</td>\n      <td>2019-05-28</td>\n      <td>NaN</td>\n    </tr>\n    <tr>\n      <th>39130</th>\n      <td>40141</td>\n      <td>정책금융의 현황과 발전과제</td>\n      <td>정책금융연구회</td>\n      <td>한국산업은행</td>\n      <td>NaN</td>\n      <td>9788992784108</td>\n      <td></td>\n      <td>NaN</td>\n      <td>NaN</td>\n      <td>1</td>\n      <td>0</td>\n      <td>2019-01-22</td>\n      <td>NaN</td>\n    </tr>\n    <tr>\n      <th>39256</th>\n      <td>40268</td>\n      <td>서울지역 유적 발굴조사 총서 3</td>\n      <td>서울역사박물관</td>\n      <td>서울역사박물관</td>\n      <td>NaN</td>\n      <td>9791186324714</td>\n      <td>9791186324431</td>\n      <td>NaN</td>\n      <td>NaN</td>\n      <td>0</td>\n      <td>0</td>\n      <td>2019-01-22</td>\n      <td>NaN</td>\n    </tr>\n    <tr>\n      <th>76836</th>\n      <td>81202</td>\n      <td>흰머리 큰줄기</td>\n      <td>한호진 지음</td>\n      <td>秀文出版社</td>\n      <td>[발행년불명]</td>\n      <td>9788973010769</td>\n      <td></td>\n      <td>0</td>\n      <td>NaN</td>\n      <td>1</td>\n      <td>1</td>\n      <td>2016-11-10</td>\n      <td>NaN</td>\n    </tr>\n    <tr>\n      <th>150543</th>\n      <td>160436</td>\n      <td>(속) 경제학사</td>\n      <td>박장환 지음</td>\n      <td>NaN</td>\n      <td>[20--]</td>\n      <td>9788994339207</td>\n      <td></td>\n      <td>1</td>\n      <td>NaN</td>\n      <td>1</td>\n      <td>2</td>\n      <td>2012-11-19</td>\n      <td>NaN</td>\n    </tr>\n  </tbody>\n</table>\n</div>"
     },
     "execution_count": 73,
     "metadata": {},
     "output_type": "execute_result"
    }
   ],
   "source": [
    "ns_book5[unknown_year].head()"
   ],
   "metadata": {
    "collapsed": false,
    "ExecuteTime": {
     "end_time": "2024-03-19T09:55:48.034466Z",
     "start_time": "2024-03-19T09:55:48.028107Z"
    }
   },
   "id": "44f8fa69edd89d62",
   "execution_count": 73
  },
  {
   "cell_type": "code",
   "outputs": [],
   "source": [
    "ns_book5.loc[unknown_year, '발행년도'] = '-1'\n",
    "ns_book5 = ns_book5.astype({'발행년도': 'int32'})"
   ],
   "metadata": {
    "collapsed": false,
    "ExecuteTime": {
     "end_time": "2024-03-19T09:56:27.283073Z",
     "start_time": "2024-03-19T09:56:27.233273Z"
    }
   },
   "id": "4bb5f4f1aeef650b",
   "execution_count": 74
  },
  {
   "cell_type": "code",
   "outputs": [
    {
     "data": {
      "text/plain": "131"
     },
     "execution_count": 75,
     "metadata": {},
     "output_type": "execute_result"
    }
   ],
   "source": [
    "ns_book5['발행년도'].gt(4000).sum()"
   ],
   "metadata": {
    "collapsed": false,
    "ExecuteTime": {
     "end_time": "2024-03-19T09:56:53.998990Z",
     "start_time": "2024-03-19T09:56:53.995711Z"
    }
   },
   "id": "6c27879e389c8a63",
   "execution_count": 75
  },
  {
   "cell_type": "code",
   "outputs": [
    {
     "data": {
      "text/plain": "13"
     },
     "execution_count": 76,
     "metadata": {},
     "output_type": "execute_result"
    }
   ],
   "source": [
    "dangun_yy_rows = ns_book5['발행년도'].gt(4000)\n",
    "ns_book5.loc[dangun_yy_rows, '발행년도'] = ns_book5.loc[dangun_yy_rows, '발행년도'] - 2333\n",
    "dangun_year = ns_book5['발행년도'].gt(4000)\n",
    "dangun_year.sum()"
   ],
   "metadata": {
    "collapsed": false,
    "ExecuteTime": {
     "end_time": "2024-03-19T10:04:21.244550Z",
     "start_time": "2024-03-19T10:04:21.239083Z"
    }
   },
   "id": "6d26e4efd45acce4",
   "execution_count": 76
  },
  {
   "cell_type": "code",
   "outputs": [
    {
     "data": {
      "text/plain": "            번호                                         도서명               저자  \\\n222858  234268                                  Modern art  [computer file]   \n270269  282852  현대 영어학=Linguistic theory in modern english              이재영   \n\n            출판사  발행년도           ISBN 세트 ISBN 부가기호    권  도서권수  대출건수  \\\n222858  GROLIER  7611  9780717233243          NaN  NaN     1     1   \n270269     열림기획  7634  9788986705072            1  NaN     1     6   \n\n              등록일자  도서건수  \n222858  2009-05-07   NaN  \n270269  2007-04-14   NaN  ",
      "text/html": "<div>\n<style scoped>\n    .dataframe tbody tr th:only-of-type {\n        vertical-align: middle;\n    }\n\n    .dataframe tbody tr th {\n        vertical-align: top;\n    }\n\n    .dataframe thead th {\n        text-align: right;\n    }\n</style>\n<table border=\"1\" class=\"dataframe\">\n  <thead>\n    <tr style=\"text-align: right;\">\n      <th></th>\n      <th>번호</th>\n      <th>도서명</th>\n      <th>저자</th>\n      <th>출판사</th>\n      <th>발행년도</th>\n      <th>ISBN</th>\n      <th>세트 ISBN</th>\n      <th>부가기호</th>\n      <th>권</th>\n      <th>도서권수</th>\n      <th>대출건수</th>\n      <th>등록일자</th>\n      <th>도서건수</th>\n    </tr>\n  </thead>\n  <tbody>\n    <tr>\n      <th>222858</th>\n      <td>234268</td>\n      <td>Modern art</td>\n      <td>[computer file]</td>\n      <td>GROLIER</td>\n      <td>7611</td>\n      <td>9780717233243</td>\n      <td></td>\n      <td>NaN</td>\n      <td>NaN</td>\n      <td>1</td>\n      <td>1</td>\n      <td>2009-05-07</td>\n      <td>NaN</td>\n    </tr>\n    <tr>\n      <th>270269</th>\n      <td>282852</td>\n      <td>현대 영어학=Linguistic theory in modern english</td>\n      <td>이재영</td>\n      <td>열림기획</td>\n      <td>7634</td>\n      <td>9788986705072</td>\n      <td></td>\n      <td>1</td>\n      <td>NaN</td>\n      <td>1</td>\n      <td>6</td>\n      <td>2007-04-14</td>\n      <td>NaN</td>\n    </tr>\n  </tbody>\n</table>\n</div>"
     },
     "execution_count": 77,
     "metadata": {},
     "output_type": "execute_result"
    }
   ],
   "source": [
    "ns_book5[dangun_year].head(2)"
   ],
   "metadata": {
    "collapsed": false,
    "ExecuteTime": {
     "end_time": "2024-03-19T10:04:32.638802Z",
     "start_time": "2024-03-19T10:04:32.633318Z"
    }
   },
   "id": "f29b9a45434e0d8a",
   "execution_count": 77
  },
  {
   "cell_type": "code",
   "outputs": [],
   "source": [
    "ns_book5.loc[dangun_year, '발행년도'] = -1"
   ],
   "metadata": {
    "collapsed": false,
    "ExecuteTime": {
     "end_time": "2024-03-19T10:05:01.056436Z",
     "start_time": "2024-03-19T10:05:01.053544Z"
    }
   },
   "id": "6b1061ca7809fc23",
   "execution_count": 78
  },
  {
   "cell_type": "code",
   "outputs": [
    {
     "data": {
      "text/plain": "            번호                                           도서명  \\\n61149    64093         고흐 씨, 시 읽어 줄까요 :내 마음을 알아주는 시와 그림의 만남    \n70566    74347                                  정신 병리학의 문제들    \n79550    84164  (최근 7년간) 중요 민법판례 :[2009년 1월~2016년 6월 중요 판례]    \n147950  157759              (한·중·일) 밥상 문화 :대표음식으로 본 3국 문화비교    \n194576  205407                                책으로 뒤덮인 집의 비밀    \n287252  300283                                     (밝혀질)우리歷史   \n\n                                   저자      출판사  발행년도           ISBN  \\\n61149                          이운진 지음      사계절   176  9788958284277   \n70566        지은이: 지그문트 프로이트 ;옮긴이: 황보석     열린책들   151  9788932905181   \n79550                          이광섭 편저      법학사   163  9788962898651   \n147950                         김경은 지음      이가서   132  9788958643012   \n194576  N.E. 보드 지음 ;피터 퍼거슨 그림 ;김지현 옮김     개암나무  1015  9788992844413   \n287252                          吳在城 著  黎民族史硏究會  1607  9788986892130   \n\n              세트 ISBN 부가기호    권  도서권수  대출건수        등록일자  도서건수  \n61149                    0  NaN     1     6  2017-10-27   NaN  \n70566   9788932905082    9   10     1     4  2017-04-26   NaN  \n79550                    9  NaN     1    14  2016-09-27   NaN  \n147950                   0  NaN     1    30  2013-02-19   NaN  \n194576                   7  NaN     1    15  2010-08-18   NaN  \n287252                   0  NaN     1     5  2006-07-06   NaN  ",
      "text/html": "<div>\n<style scoped>\n    .dataframe tbody tr th:only-of-type {\n        vertical-align: middle;\n    }\n\n    .dataframe tbody tr th {\n        vertical-align: top;\n    }\n\n    .dataframe thead th {\n        text-align: right;\n    }\n</style>\n<table border=\"1\" class=\"dataframe\">\n  <thead>\n    <tr style=\"text-align: right;\">\n      <th></th>\n      <th>번호</th>\n      <th>도서명</th>\n      <th>저자</th>\n      <th>출판사</th>\n      <th>발행년도</th>\n      <th>ISBN</th>\n      <th>세트 ISBN</th>\n      <th>부가기호</th>\n      <th>권</th>\n      <th>도서권수</th>\n      <th>대출건수</th>\n      <th>등록일자</th>\n      <th>도서건수</th>\n    </tr>\n  </thead>\n  <tbody>\n    <tr>\n      <th>61149</th>\n      <td>64093</td>\n      <td>고흐 씨, 시 읽어 줄까요 :내 마음을 알아주는 시와 그림의 만남</td>\n      <td>이운진 지음</td>\n      <td>사계절</td>\n      <td>176</td>\n      <td>9788958284277</td>\n      <td></td>\n      <td>0</td>\n      <td>NaN</td>\n      <td>1</td>\n      <td>6</td>\n      <td>2017-10-27</td>\n      <td>NaN</td>\n    </tr>\n    <tr>\n      <th>70566</th>\n      <td>74347</td>\n      <td>정신 병리학의 문제들</td>\n      <td>지은이: 지그문트 프로이트 ;옮긴이: 황보석</td>\n      <td>열린책들</td>\n      <td>151</td>\n      <td>9788932905181</td>\n      <td>9788932905082</td>\n      <td>9</td>\n      <td>10</td>\n      <td>1</td>\n      <td>4</td>\n      <td>2017-04-26</td>\n      <td>NaN</td>\n    </tr>\n    <tr>\n      <th>79550</th>\n      <td>84164</td>\n      <td>(최근 7년간) 중요 민법판례 :[2009년 1월~2016년 6월 중요 판례]</td>\n      <td>이광섭 편저</td>\n      <td>법학사</td>\n      <td>163</td>\n      <td>9788962898651</td>\n      <td></td>\n      <td>9</td>\n      <td>NaN</td>\n      <td>1</td>\n      <td>14</td>\n      <td>2016-09-27</td>\n      <td>NaN</td>\n    </tr>\n    <tr>\n      <th>147950</th>\n      <td>157759</td>\n      <td>(한·중·일) 밥상 문화 :대표음식으로 본 3국 문화비교</td>\n      <td>김경은 지음</td>\n      <td>이가서</td>\n      <td>132</td>\n      <td>9788958643012</td>\n      <td></td>\n      <td>0</td>\n      <td>NaN</td>\n      <td>1</td>\n      <td>30</td>\n      <td>2013-02-19</td>\n      <td>NaN</td>\n    </tr>\n    <tr>\n      <th>194576</th>\n      <td>205407</td>\n      <td>책으로 뒤덮인 집의 비밀</td>\n      <td>N.E. 보드 지음 ;피터 퍼거슨 그림 ;김지현 옮김</td>\n      <td>개암나무</td>\n      <td>1015</td>\n      <td>9788992844413</td>\n      <td></td>\n      <td>7</td>\n      <td>NaN</td>\n      <td>1</td>\n      <td>15</td>\n      <td>2010-08-18</td>\n      <td>NaN</td>\n    </tr>\n    <tr>\n      <th>287252</th>\n      <td>300283</td>\n      <td>(밝혀질)우리歷史</td>\n      <td>吳在城 著</td>\n      <td>黎民族史硏究會</td>\n      <td>1607</td>\n      <td>9788986892130</td>\n      <td></td>\n      <td>0</td>\n      <td>NaN</td>\n      <td>1</td>\n      <td>5</td>\n      <td>2006-07-06</td>\n      <td>NaN</td>\n    </tr>\n  </tbody>\n</table>\n</div>"
     },
     "execution_count": 79,
     "metadata": {},
     "output_type": "execute_result"
    }
   ],
   "source": [
    "old_books = ns_book5['발행년도'].gt(0) & ns_book5['발행년도'].lt(1900)\n",
    "ns_book5[old_books]"
   ],
   "metadata": {
    "collapsed": false,
    "ExecuteTime": {
     "end_time": "2024-03-19T10:05:37.627194Z",
     "start_time": "2024-03-19T10:05:37.620469Z"
    }
   },
   "id": "27176e4f7be8d9be",
   "execution_count": 79
  },
  {
   "cell_type": "code",
   "outputs": [
    {
     "data": {
      "text/plain": "86"
     },
     "execution_count": 80,
     "metadata": {},
     "output_type": "execute_result"
    }
   ],
   "source": [
    "ns_book5.loc[old_books, '발행년도'] = -1\n",
    "ns_book5['발행년도'].eq(-1).sum()"
   ],
   "metadata": {
    "collapsed": false,
    "ExecuteTime": {
     "end_time": "2024-03-19T10:06:14.285580Z",
     "start_time": "2024-03-19T10:06:14.281560Z"
    }
   },
   "id": "69ea6beae41f449e",
   "execution_count": 80
  },
  {
   "cell_type": "code",
   "outputs": [
    {
     "data": {
      "text/plain": "5268"
     },
     "execution_count": 81,
     "metadata": {},
     "output_type": "execute_result"
    }
   ],
   "source": [
    "na_rows = ns_book5['도서명'].isna() | ns_book5['저자'].isna() | ns_book5['출판사'].isna() | ns_book5['발행년도'].eq(-1)\n",
    "na_rows.sum()"
   ],
   "metadata": {
    "collapsed": false,
    "ExecuteTime": {
     "end_time": "2024-03-19T10:07:50.417081Z",
     "start_time": "2024-03-19T10:07:50.379366Z"
    }
   },
   "id": "d310ff8bcbaae144",
   "execution_count": 81
  },
  {
   "cell_type": "code",
   "outputs": [
    {
     "data": {
      "text/plain": "      번호          도서명          저자  출판사  발행년도           ISBN 세트 ISBN 부가기호    권  \\\n78    79   아산 정주영 레거시         김화진  NaN  2021  9788952129529          NaN  NaN   \n265  278  골목의 시간을 그리다  정명섭.김효찬 지음  NaN  2021  9791191266054          NaN  NaN   \n\n     도서권수  대출건수        등록일자  도서건수  \n78      1     1  2021-03-15   NaN  \n265     1     0  2021-03-12   NaN  ",
      "text/html": "<div>\n<style scoped>\n    .dataframe tbody tr th:only-of-type {\n        vertical-align: middle;\n    }\n\n    .dataframe tbody tr th {\n        vertical-align: top;\n    }\n\n    .dataframe thead th {\n        text-align: right;\n    }\n</style>\n<table border=\"1\" class=\"dataframe\">\n  <thead>\n    <tr style=\"text-align: right;\">\n      <th></th>\n      <th>번호</th>\n      <th>도서명</th>\n      <th>저자</th>\n      <th>출판사</th>\n      <th>발행년도</th>\n      <th>ISBN</th>\n      <th>세트 ISBN</th>\n      <th>부가기호</th>\n      <th>권</th>\n      <th>도서권수</th>\n      <th>대출건수</th>\n      <th>등록일자</th>\n      <th>도서건수</th>\n    </tr>\n  </thead>\n  <tbody>\n    <tr>\n      <th>78</th>\n      <td>79</td>\n      <td>아산 정주영 레거시</td>\n      <td>김화진</td>\n      <td>NaN</td>\n      <td>2021</td>\n      <td>9788952129529</td>\n      <td></td>\n      <td>NaN</td>\n      <td>NaN</td>\n      <td>1</td>\n      <td>1</td>\n      <td>2021-03-15</td>\n      <td>NaN</td>\n    </tr>\n    <tr>\n      <th>265</th>\n      <td>278</td>\n      <td>골목의 시간을 그리다</td>\n      <td>정명섭.김효찬 지음</td>\n      <td>NaN</td>\n      <td>2021</td>\n      <td>9791191266054</td>\n      <td></td>\n      <td>NaN</td>\n      <td>NaN</td>\n      <td>1</td>\n      <td>0</td>\n      <td>2021-03-12</td>\n      <td>NaN</td>\n    </tr>\n  </tbody>\n</table>\n</div>"
     },
     "execution_count": 82,
     "metadata": {},
     "output_type": "execute_result"
    }
   ],
   "source": [
    "ns_book5[na_rows].head(2)"
   ],
   "metadata": {
    "collapsed": false,
    "ExecuteTime": {
     "end_time": "2024-03-19T10:08:02.509578Z",
     "start_time": "2024-03-19T10:08:02.502588Z"
    }
   },
   "id": "ba75357bfae114d",
   "execution_count": 82
  },
  {
   "cell_type": "code",
   "outputs": [],
   "source": [
    "import requests\n",
    "from bs4 import BeautifulSoup"
   ],
   "metadata": {
    "collapsed": false,
    "ExecuteTime": {
     "end_time": "2024-03-19T10:08:20.760979Z",
     "start_time": "2024-03-19T10:08:20.758570Z"
    }
   },
   "id": "b3c41f8469b4a05f",
   "execution_count": 83
  },
  {
   "cell_type": "code",
   "outputs": [
    {
     "data": {
      "text/plain": "'골목의 시간을 그리다'"
     },
     "execution_count": 85,
     "metadata": {},
     "output_type": "execute_result"
    }
   ],
   "source": [
    "def get_book_title(isbn):\n",
    "    url = 'http://www.yes24.com/Product/Search?domain=BOOK&query={}'\n",
    "    r = requests.get(url.format(isbn))\n",
    "    soup = BeautifulSoup(r.text, 'html.parser')\n",
    "    title = soup.find('a', attrs={'class': 'gd_name'}).get_text()\n",
    "    return title\n",
    "\n",
    "get_book_title(9791191266054)"
   ],
   "metadata": {
    "collapsed": false,
    "ExecuteTime": {
     "end_time": "2024-03-19T10:12:02.918018Z",
     "start_time": "2024-03-19T10:12:02.406056Z"
    }
   },
   "id": "bca3e19091e1aa6f",
   "execution_count": 85
  },
  {
   "cell_type": "code",
   "outputs": [],
   "source": [
    "import re\n",
    "\n",
    "def get_book_info(row):\n",
    "    title = row['도서명']\n",
    "    author = row['저자']\n",
    "    pub = row['출판사']\n",
    "    year = row['발행년도']\n",
    "    url = 'http://www.yes24.com/Product/Search?domain=BOOK&query={}'\n",
    "    r = requests.get(url.format(row['ISBN']))\n",
    "    soup = BeautifulSoup(r.text, 'html.parser')\n",
    "    try:\n",
    "        if pd.isna(title):\n",
    "            title = soup.find('a', attrs={'class': 'gd_name'}).get_text()\n",
    "    except AttributeError:\n",
    "        pass\n",
    "    try:\n",
    "        if pd.isna(author):\n",
    "            authors = soup.find('span', attrs={'class': 'info_auth'}).find_all('a')\n",
    "            author_list = [auth.get_text() for auth in authors]\n",
    "            author = ','.join(author_list)\n",
    "    except AttributeError:\n",
    "        pass\n",
    "    try:\n",
    "        if pd.isna(pub):\n",
    "            pub = soup.find('span', attrs={'class': 'info_pub'}).find('a').get_text()\n",
    "    except AttributeError:\n",
    "        pass\n",
    "    try:\n",
    "        if year == -1:\n",
    "            year_str = soup.find('span', attrs={'class': 'info_date'}).get_text()\n",
    "            year = re.findall(r'\\d{4}', year_str)[0]\n",
    "    except AttributeError:\n",
    "        pass\n",
    "    \n",
    "    return title, author, pub, year"
   ],
   "metadata": {
    "collapsed": false,
    "ExecuteTime": {
     "end_time": "2024-03-19T10:18:00.704721Z",
     "start_time": "2024-03-19T10:18:00.700430Z"
    }
   },
   "id": "f8b330c09c6610ee",
   "execution_count": 86
  },
  {
   "cell_type": "code",
   "outputs": [
    {
     "data": {
      "text/plain": "               0           1           2     3\n78    아산 정주영 레거시         김화진  서울대학교출판문화원  2021\n265  골목의 시간을 그리다  정명섭.김효찬 지음      초록비책공방  2021",
      "text/html": "<div>\n<style scoped>\n    .dataframe tbody tr th:only-of-type {\n        vertical-align: middle;\n    }\n\n    .dataframe tbody tr th {\n        vertical-align: top;\n    }\n\n    .dataframe thead th {\n        text-align: right;\n    }\n</style>\n<table border=\"1\" class=\"dataframe\">\n  <thead>\n    <tr style=\"text-align: right;\">\n      <th></th>\n      <th>0</th>\n      <th>1</th>\n      <th>2</th>\n      <th>3</th>\n    </tr>\n  </thead>\n  <tbody>\n    <tr>\n      <th>78</th>\n      <td>아산 정주영 레거시</td>\n      <td>김화진</td>\n      <td>서울대학교출판문화원</td>\n      <td>2021</td>\n    </tr>\n    <tr>\n      <th>265</th>\n      <td>골목의 시간을 그리다</td>\n      <td>정명섭.김효찬 지음</td>\n      <td>초록비책공방</td>\n      <td>2021</td>\n    </tr>\n  </tbody>\n</table>\n</div>"
     },
     "execution_count": 87,
     "metadata": {},
     "output_type": "execute_result"
    }
   ],
   "source": [
    "updated_sample = ns_book5[na_rows].head(2).apply(get_book_info, axis=1, result_type='expand')\n",
    "updated_sample"
   ],
   "metadata": {
    "collapsed": false,
    "ExecuteTime": {
     "end_time": "2024-03-19T10:19:03.265149Z",
     "start_time": "2024-03-19T10:19:02.235651Z"
    }
   },
   "id": "88fbde1c03b5b6c5",
   "execution_count": 87
  },
  {
   "cell_type": "code",
   "outputs": [
    {
     "name": "stderr",
     "output_type": "stream",
     "text": [
      "Downloading...\n",
      "From: https://bit.ly/3UJZiHw\n",
      "To: /Users/llouis/Desktop/LLouis/AI_and_Data_Deep_Dive/혼자 공부하는 데이터 분석/Data_Analysis/chapter 03/ns_book5_update.csv\n",
      "100%|██████████| 406k/406k [00:00<00:00, 2.40MB/s]\n"
     ]
    },
    {
     "data": {
      "text/plain": "                          도서명               저자         출판사  발행년도\n78                 아산 정주영 레거시              김화진  서울대학교출판문화원  2021\n265               골목의 시간을 그리다       정명섭.김효찬 지음      초록비책공방  2021\n354                    한국인의 맛           정명섭 지음         추수밭  2021\n539              한성부, 달 밝은 밤에           김이삭 지음      고즈넉이엔티  2021\n607  100일 완성 마그마 러시아어 중고급 단어장  러포자 구제 연구소 외 지음         문예림  2021",
      "text/html": "<div>\n<style scoped>\n    .dataframe tbody tr th:only-of-type {\n        vertical-align: middle;\n    }\n\n    .dataframe tbody tr th {\n        vertical-align: top;\n    }\n\n    .dataframe thead th {\n        text-align: right;\n    }\n</style>\n<table border=\"1\" class=\"dataframe\">\n  <thead>\n    <tr style=\"text-align: right;\">\n      <th></th>\n      <th>도서명</th>\n      <th>저자</th>\n      <th>출판사</th>\n      <th>발행년도</th>\n    </tr>\n  </thead>\n  <tbody>\n    <tr>\n      <th>78</th>\n      <td>아산 정주영 레거시</td>\n      <td>김화진</td>\n      <td>서울대학교출판문화원</td>\n      <td>2021</td>\n    </tr>\n    <tr>\n      <th>265</th>\n      <td>골목의 시간을 그리다</td>\n      <td>정명섭.김효찬 지음</td>\n      <td>초록비책공방</td>\n      <td>2021</td>\n    </tr>\n    <tr>\n      <th>354</th>\n      <td>한국인의 맛</td>\n      <td>정명섭 지음</td>\n      <td>추수밭</td>\n      <td>2021</td>\n    </tr>\n    <tr>\n      <th>539</th>\n      <td>한성부, 달 밝은 밤에</td>\n      <td>김이삭 지음</td>\n      <td>고즈넉이엔티</td>\n      <td>2021</td>\n    </tr>\n    <tr>\n      <th>607</th>\n      <td>100일 완성 마그마 러시아어 중고급 단어장</td>\n      <td>러포자 구제 연구소 외 지음</td>\n      <td>문예림</td>\n      <td>2021</td>\n    </tr>\n  </tbody>\n</table>\n</div>"
     },
     "execution_count": 88,
     "metadata": {},
     "output_type": "execute_result"
    }
   ],
   "source": [
    "gdown.download('https://bit.ly/3UJZiHw', 'ns_book5_update.csv', quiet=False)\n",
    "ns_book5_update = pd.read_csv('ns_book5_update.csv', index_col=0)\n",
    "ns_book5_update.head()"
   ],
   "metadata": {
    "collapsed": false,
    "ExecuteTime": {
     "end_time": "2024-03-19T10:20:13.781744Z",
     "start_time": "2024-03-19T10:20:11.875396Z"
    }
   },
   "id": "3946c6bb56c5cded",
   "execution_count": 88
  },
  {
   "cell_type": "code",
   "outputs": [
    {
     "name": "stderr",
     "output_type": "stream",
     "text": [
      "/var/folders/3g/9z2y6vy916ncn7tzc7rkg8140000gn/T/ipykernel_42204/2388063243.py:1: FutureWarning: Setting an item of incompatible dtype is deprecated and will raise in a future error of pandas. Value '[2021 2021 2021 ... 1996 1996 1995]' has dtype incompatible with int32, please explicitly cast to a compatible dtype first.\n",
      "  ns_book5.update(ns_book5_update)\n"
     ]
    },
    {
     "data": {
      "text/plain": "4615"
     },
     "execution_count": 89,
     "metadata": {},
     "output_type": "execute_result"
    }
   ],
   "source": [
    "ns_book5.update(ns_book5_update)\n",
    "na_rows = ns_book5['도서명'].isna() | ns_book5['저자'].isna() | ns_book5['출판사'].isna() | ns_book5['발행년도'].eq(-1)\n",
    "na_rows.sum()"
   ],
   "metadata": {
    "collapsed": false,
    "ExecuteTime": {
     "end_time": "2024-03-19T10:21:35.105578Z",
     "start_time": "2024-03-19T10:21:34.986577Z"
    }
   },
   "id": "a454a8b5a710db3c",
   "execution_count": 89
  },
  {
   "cell_type": "code",
   "outputs": [
    {
     "data": {
      "text/plain": "   번호                    도서명                저자    출판사  발행년도           ISBN  \\\n0   1                인공지능과 흙            김동훈 지음    민음사  2021  9788937444319   \n1   2           가짜 행복 권하는 사회            김태형 지음   갈매나무  2021  9791190123969   \n2   3  나도 한 문장 잘 쓰면 바랄 게 없겠네            김선영 지음   블랙피쉬  2021  9788968332982   \n3   4                예루살렘 해변  이도 게펜 지음, 임재희 옮김  문학세계사  2021  9788970759906   \n4   5  김성곤의 중국한시기행 : 장강·황하 편            김성곤 지음    김영사  2021  9788934990833   \n\n  세트 ISBN 부가기호    권  도서권수  대출건수        등록일자  도서건수  \n0          NaN  NaN     1     0  2021-03-19   1.0  \n1          NaN  NaN     1     0  2021-03-19   NaN  \n2          NaN  NaN     1     0  2021-03-19   NaN  \n3          NaN  NaN     1     0  2021-03-19   NaN  \n4          NaN  NaN     1     0  2021-03-19   NaN  ",
      "text/html": "<div>\n<style scoped>\n    .dataframe tbody tr th:only-of-type {\n        vertical-align: middle;\n    }\n\n    .dataframe tbody tr th {\n        vertical-align: top;\n    }\n\n    .dataframe thead th {\n        text-align: right;\n    }\n</style>\n<table border=\"1\" class=\"dataframe\">\n  <thead>\n    <tr style=\"text-align: right;\">\n      <th></th>\n      <th>번호</th>\n      <th>도서명</th>\n      <th>저자</th>\n      <th>출판사</th>\n      <th>발행년도</th>\n      <th>ISBN</th>\n      <th>세트 ISBN</th>\n      <th>부가기호</th>\n      <th>권</th>\n      <th>도서권수</th>\n      <th>대출건수</th>\n      <th>등록일자</th>\n      <th>도서건수</th>\n    </tr>\n  </thead>\n  <tbody>\n    <tr>\n      <th>0</th>\n      <td>1</td>\n      <td>인공지능과 흙</td>\n      <td>김동훈 지음</td>\n      <td>민음사</td>\n      <td>2021</td>\n      <td>9788937444319</td>\n      <td></td>\n      <td>NaN</td>\n      <td>NaN</td>\n      <td>1</td>\n      <td>0</td>\n      <td>2021-03-19</td>\n      <td>1.0</td>\n    </tr>\n    <tr>\n      <th>1</th>\n      <td>2</td>\n      <td>가짜 행복 권하는 사회</td>\n      <td>김태형 지음</td>\n      <td>갈매나무</td>\n      <td>2021</td>\n      <td>9791190123969</td>\n      <td></td>\n      <td>NaN</td>\n      <td>NaN</td>\n      <td>1</td>\n      <td>0</td>\n      <td>2021-03-19</td>\n      <td>NaN</td>\n    </tr>\n    <tr>\n      <th>2</th>\n      <td>3</td>\n      <td>나도 한 문장 잘 쓰면 바랄 게 없겠네</td>\n      <td>김선영 지음</td>\n      <td>블랙피쉬</td>\n      <td>2021</td>\n      <td>9788968332982</td>\n      <td></td>\n      <td>NaN</td>\n      <td>NaN</td>\n      <td>1</td>\n      <td>0</td>\n      <td>2021-03-19</td>\n      <td>NaN</td>\n    </tr>\n    <tr>\n      <th>3</th>\n      <td>4</td>\n      <td>예루살렘 해변</td>\n      <td>이도 게펜 지음, 임재희 옮김</td>\n      <td>문학세계사</td>\n      <td>2021</td>\n      <td>9788970759906</td>\n      <td></td>\n      <td>NaN</td>\n      <td>NaN</td>\n      <td>1</td>\n      <td>0</td>\n      <td>2021-03-19</td>\n      <td>NaN</td>\n    </tr>\n    <tr>\n      <th>4</th>\n      <td>5</td>\n      <td>김성곤의 중국한시기행 : 장강·황하 편</td>\n      <td>김성곤 지음</td>\n      <td>김영사</td>\n      <td>2021</td>\n      <td>9788934990833</td>\n      <td></td>\n      <td>NaN</td>\n      <td>NaN</td>\n      <td>1</td>\n      <td>0</td>\n      <td>2021-03-19</td>\n      <td>NaN</td>\n    </tr>\n  </tbody>\n</table>\n</div>"
     },
     "execution_count": 90,
     "metadata": {},
     "output_type": "execute_result"
    }
   ],
   "source": [
    "ns_book5 = ns_book5.astype({'발행년도': 'int32'})\n",
    "ns_book6 = ns_book5.dropna(subset=['도서명', '저자', '출판사'])\n",
    "ns_book6 = ns_book6[ns_book6['발행년도'] != 1]\n",
    "ns_book6.head()"
   ],
   "metadata": {
    "collapsed": false,
    "ExecuteTime": {
     "end_time": "2024-03-19T10:24:22.157572Z",
     "start_time": "2024-03-19T10:24:21.932904Z"
    }
   },
   "id": "622c22f254937c21",
   "execution_count": 90
  },
  {
   "cell_type": "code",
   "outputs": [],
   "source": [
    "ns_book6.to_csv('n6_book6.csv', index=False)"
   ],
   "metadata": {
    "collapsed": false,
    "ExecuteTime": {
     "end_time": "2024-03-19T10:24:48.376297Z",
     "start_time": "2024-03-19T10:24:47.165561Z"
    }
   },
   "id": "6740499c4a794dd6",
   "execution_count": 91
  }
 ],
 "metadata": {
  "kernelspec": {
   "display_name": "Python 3",
   "language": "python",
   "name": "python3"
  },
  "language_info": {
   "codemirror_mode": {
    "name": "ipython",
    "version": 2
   },
   "file_extension": ".py",
   "mimetype": "text/x-python",
   "name": "python",
   "nbconvert_exporter": "python",
   "pygments_lexer": "ipython2",
   "version": "2.7.6"
  }
 },
 "nbformat": 4,
 "nbformat_minor": 5
}
