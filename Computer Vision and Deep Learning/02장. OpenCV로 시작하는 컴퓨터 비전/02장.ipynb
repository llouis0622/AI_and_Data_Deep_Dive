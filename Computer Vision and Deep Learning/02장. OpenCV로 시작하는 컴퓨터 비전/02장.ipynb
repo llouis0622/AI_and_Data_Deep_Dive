{
 "cells": [
  {
   "cell_type": "code",
   "id": "initial_id",
   "metadata": {
    "collapsed": true,
    "ExecuteTime": {
     "end_time": "2024-11-09T14:24:54.345235Z",
     "start_time": "2024-11-09T14:24:54.201697Z"
    }
   },
   "source": [
    "import numpy as np\n",
    "\n",
    "a = np.array([4, 5, 0, 1, 2, 3, 6, 7, 8, 9, 10, 11])\n",
    "print(a)\n",
    "print(type(a))\n",
    "print(a.shape)\n",
    "\n",
    "a.sort()\n",
    "print(a)\n",
    "\n",
    "b = np.array([-4.3, -2.3, 12.9, 8.99, 10.1, -1.2])\n",
    "b.sort()\n",
    "print(b)\n",
    "\n",
    "c = np.array(['one', 'two', 'three', 'four', 'five', 'six', 'seven'])\n",
    "c.sort()\n",
    "print(c)"
   ],
   "outputs": [
    {
     "name": "stdout",
     "output_type": "stream",
     "text": [
      "[ 4  5  0  1  2  3  6  7  8  9 10 11]\n",
      "<class 'numpy.ndarray'>\n",
      "(12,)\n",
      "[ 0  1  2  3  4  5  6  7  8  9 10 11]\n",
      "[-4.3  -2.3  -1.2   8.99 10.1  12.9 ]\n",
      "['five' 'four' 'one' 'seven' 'six' 'three' 'two']\n"
     ]
    }
   ],
   "execution_count": 1
  },
  {
   "metadata": {
    "ExecuteTime": {
     "end_time": "2024-11-09T14:27:46.929742Z",
     "start_time": "2024-11-09T14:27:31.900936Z"
    }
   },
   "cell_type": "code",
   "source": [
    "import cv2 as cv\n",
    "import sys\n",
    "\n",
    "img = cv.imread('soccer.jpg')\n",
    "\n",
    "if img is None:\n",
    "    sys.exit('파일을 찾을 수 없습니다.')\n",
    "\n",
    "cv.imshow('Image Display', img)\n",
    "\n",
    "cv.waitKey()\n",
    "cv.destroyAllWindows()"
   ],
   "id": "5273bd5faf37e185",
   "outputs": [
    {
     "name": "stderr",
     "output_type": "stream",
     "text": [
      "2024-11-09 23:27:35.283 python[84193:6618447] +[IMKClient subclass]: chose IMKClient_Legacy\n",
      "2024-11-09 23:27:35.284 python[84193:6618447] +[IMKInputSession subclass]: chose IMKInputSession_Legacy\n"
     ]
    }
   ],
   "execution_count": 2
  },
  {
   "metadata": {
    "ExecuteTime": {
     "end_time": "2024-11-09T14:30:39.020859Z",
     "start_time": "2024-11-09T14:30:32.569086Z"
    }
   },
   "cell_type": "code",
   "source": [
    "import cv2 as cv\n",
    "import sys\n",
    "\n",
    "img = cv.imread('soccer.jpg')\n",
    "\n",
    "if img is None:\n",
    "    sys.exit('파일을 찾을 수 없습니다.')\n",
    "\n",
    "gray = cv.cvtColor(img, cv.COLOR_BGR2GRAY)\n",
    "gray_small = cv.resize(gray, dsize=(0, 0), fx=0.5, fy=0.5)\n",
    "\n",
    "cv.imwrite('soccer_gray.jpg', gray)\n",
    "cv.imwrite('soccer_gray_small.jpg', gray_small)\n",
    "\n",
    "cv.imshow('Color image', img)\n",
    "cv.imshow('Gray image', gray)\n",
    "cv.imshow('Gray image small', gray_small)\n",
    "\n",
    "cv.waitKey()\n",
    "cv.destroyAllWindows()"
   ],
   "id": "132d6aab81f2ff2c",
   "outputs": [
    {
     "name": "stderr",
     "output_type": "stream",
     "text": [
      "2024-11-09 23:30:33.423 python[84472:6621296] +[IMKClient subclass]: chose IMKClient_Legacy\n",
      "2024-11-09 23:30:33.423 python[84472:6621296] +[IMKInputSession subclass]: chose IMKInputSession_Legacy\n"
     ]
    }
   ],
   "execution_count": 1
  },
  {
   "metadata": {
    "ExecuteTime": {
     "end_time": "2024-11-09T14:31:32.078717Z",
     "start_time": "2024-11-09T14:31:31.854713Z"
    }
   },
   "cell_type": "code",
   "source": [
    "import cv2 as cv\n",
    "import sys\n",
    "\n",
    "cap = cv.VideoCapture(0, cv.CAP_DSHOW)\n",
    "\n",
    "if not cap.isOpened():\n",
    "    sys.exit('카메라 연결 실패')\n",
    "\n",
    "while True:\n",
    "    ret, frame = cap.read()\n",
    "\n",
    "    if not ret:\n",
    "        print('프레임 획득에 실패하여 루프를 나갑니다.')\n",
    "        break\n",
    "\n",
    "    cv.imshow('Video display', frame)\n",
    "\n",
    "    key = cv.waitKey(1)\n",
    "\n",
    "    if key == ord('q'):\n",
    "        break\n",
    "\n",
    "cap.release()\n",
    "cv.destroyAllWindows()"
   ],
   "id": "94b6c7f331fee2c2",
   "outputs": [
    {
     "ename": "SystemExit",
     "evalue": "카메라 연결 실패",
     "output_type": "error",
     "traceback": [
      "An exception has occurred, use %tb to see the full traceback.\n",
      "\u001B[0;31mSystemExit\u001B[0m\u001B[0;31m:\u001B[0m 카메라 연결 실패\n"
     ]
    },
    {
     "name": "stderr",
     "output_type": "stream",
     "text": [
      "/opt/anaconda3/lib/python3.11/site-packages/IPython/core/interactiveshell.py:3561: UserWarning: To exit: use 'exit', 'quit', or Ctrl-D.\n",
      "  warn(\"To exit: use 'exit', 'quit', or Ctrl-D.\", stacklevel=1)\n"
     ]
    }
   ],
   "execution_count": 1
  },
  {
   "metadata": {
    "ExecuteTime": {
     "end_time": "2024-11-09T14:32:38.387281Z",
     "start_time": "2024-11-09T14:32:38.382375Z"
    }
   },
   "cell_type": "code",
   "source": [
    "import cv2 as cv\n",
    "import numpy as np\n",
    "import sys\n",
    "\n",
    "cap = cv.VideoCapture(0, cv.CAP_DSHOW)\n",
    "\n",
    "if not cap.isOpened():\n",
    "    sys.exit('카메라 연결 실패')\n",
    "\n",
    "frames = []\n",
    "\n",
    "while True:\n",
    "    ret, frame = cap.read()\n",
    "\n",
    "    if not ret:\n",
    "        print('프레임 획득에 실패하여 루프를 나갑니다.')\n",
    "        break\n",
    "\n",
    "    cv.imshow('Video display', frame)\n",
    "\n",
    "    key = cv.waitKey(1)\n",
    "\n",
    "    if key == ord('c'):\n",
    "        frames.append(frame)\n",
    "    elif key == ord('q'):\n",
    "        break\n",
    "\n",
    "cap.release()\n",
    "cv.destroyAllWindows()\n",
    "\n",
    "if len(frames) > 0:\n",
    "    imgs = frames[0]\n",
    "\n",
    "    for i in range(1, min(3, len(frames))):\n",
    "        imgs = np.hstack((imgs, frames[i]))\n",
    "\n",
    "    cv.imshow('collected images', imgs)\n",
    "\n",
    "    cv.waitKey()\n",
    "    cv.destroyAllWindows()"
   ],
   "id": "70d85d32296dac55",
   "outputs": [
    {
     "ename": "SystemExit",
     "evalue": "카메라 연결 실패",
     "output_type": "error",
     "traceback": [
      "An exception has occurred, use %tb to see the full traceback.\n",
      "\u001B[0;31mSystemExit\u001B[0m\u001B[0;31m:\u001B[0m 카메라 연결 실패\n"
     ]
    }
   ],
   "execution_count": 2
  },
  {
   "metadata": {
    "ExecuteTime": {
     "end_time": "2024-11-09T14:33:30.652494Z",
     "start_time": "2024-11-09T14:33:29.877122Z"
    }
   },
   "cell_type": "code",
   "source": [
    "import cv2 as cv\n",
    "import sys\n",
    "\n",
    "img = cv.imread('girl_laughing.jpg')\n",
    "\n",
    "if img is None:\n",
    "    sys.exit('파일을 찾을 수 없습니다.')\n",
    "\n",
    "cv.rectangle(img, (830, 30), (1000, 200), (0, 0, 255), 2)\n",
    "cv.putText(img, 'laugh', (830, 24), cv.FONT_HERSHEY_SIMPLEX, 1, (255, 0, 0), 2)\n",
    "\n",
    "cv.imshow('Draw', img)\n",
    "\n",
    "cv.waitKey()\n",
    "cv.destroyAllWindows()"
   ],
   "id": "57b90fffe27b6b7c",
   "outputs": [
    {
     "name": "stderr",
     "output_type": "stream",
     "text": [
      "2024-11-09 23:33:30.337 python[84687:6624080] +[IMKClient subclass]: chose IMKClient_Legacy\n",
      "2024-11-09 23:33:30.337 python[84687:6624080] +[IMKInputSession subclass]: chose IMKInputSession_Legacy\n"
     ]
    }
   ],
   "execution_count": 3
  },
  {
   "metadata": {
    "ExecuteTime": {
     "end_time": "2024-11-09T14:34:21.334645Z",
     "start_time": "2024-11-09T14:34:12.214380Z"
    }
   },
   "cell_type": "code",
   "source": [
    "import cv2 as cv\n",
    "import sys\n",
    "\n",
    "img = cv.imread('girl_laughing.jpg')\n",
    "\n",
    "if img is None:\n",
    "    sys.exit('파일을 찾을 수 없습니다.')\n",
    "\n",
    "\n",
    "def draw(event, x, y, flags, param):\n",
    "    if event == cv.EVENT_LBUTTONDOWN:\n",
    "        cv.rectangle(img, (x, y), (x + 200, y + 200), (0, 0, 255), 2)\n",
    "    elif event == cv.EVENT_RBUTTONDOWN:\n",
    "        cv.rectangle(img, (x, y), (x + 100, y + 100), (255, 0, 0), 2)\n",
    "\n",
    "    cv.imshow('Drawing', img)\n",
    "\n",
    "\n",
    "cv.namedWindow('Drawing')\n",
    "cv.imshow('Drawing', img)\n",
    "\n",
    "cv.setMouseCallback('Drawing', draw)\n",
    "\n",
    "while (True):\n",
    "    if cv.waitKey(1) == ord('q'):\n",
    "        cv.destroyAllWindows()\n",
    "        break"
   ],
   "id": "8a7d3a27f6ed261d",
   "outputs": [
    {
     "name": "stderr",
     "output_type": "stream",
     "text": [
      "2024-11-09 23:34:12.792 python[84960:6627102] +[IMKClient subclass]: chose IMKClient_Legacy\n",
      "2024-11-09 23:34:12.792 python[84960:6627102] +[IMKInputSession subclass]: chose IMKInputSession_Legacy\n"
     ]
    }
   ],
   "execution_count": 1
  },
  {
   "metadata": {
    "ExecuteTime": {
     "end_time": "2024-11-09T14:35:02.225531Z",
     "start_time": "2024-11-09T14:34:53.833579Z"
    }
   },
   "cell_type": "code",
   "source": [
    "import cv2 as cv\n",
    "import sys\n",
    "\n",
    "img = cv.imread('girl_laughing.jpg')\n",
    "\n",
    "if img is None:\n",
    "    sys.exit('파일을 찾을 수 없습니다.')\n",
    "\n",
    "\n",
    "def draw(event, x, y, flags, param):\n",
    "    global ix, iy\n",
    "\n",
    "    if event == cv.EVENT_LBUTTONDOWN:\n",
    "        ix, iy = x, y\n",
    "    elif event == cv.EVENT_LBUTTONUP:\n",
    "        cv.rectangle(img, (ix, iy), (x, y), (0, 0, 255), 2)\n",
    "\n",
    "    cv.imshow('Drawing', img)\n",
    "\n",
    "\n",
    "cv.namedWindow('Drawing')\n",
    "cv.imshow('Drawing', img)\n",
    "\n",
    "cv.setMouseCallback('Drawing', draw)\n",
    "\n",
    "while (True):\n",
    "    if cv.waitKey(1) == ord('q'):\n",
    "        cv.destroyAllWindows()\n",
    "        break"
   ],
   "id": "bc359b8834049540",
   "outputs": [
    {
     "name": "stderr",
     "output_type": "stream",
     "text": [
      "2024-11-09 23:34:54.488 python[85028:6628084] +[IMKClient subclass]: chose IMKClient_Legacy\n",
      "2024-11-09 23:34:54.488 python[85028:6628084] +[IMKInputSession subclass]: chose IMKInputSession_Legacy\n"
     ]
    }
   ],
   "execution_count": 1
  },
  {
   "metadata": {
    "ExecuteTime": {
     "end_time": "2024-11-09T14:36:01.490866Z",
     "start_time": "2024-11-09T14:35:50.957230Z"
    }
   },
   "cell_type": "code",
   "source": [
    "import cv2 as cv\n",
    "import sys\n",
    "\n",
    "img = cv.imread('soccer.jpg')\n",
    "\n",
    "if img is None:\n",
    "    sys.exit('파일을 찾을 수 없습니다.')\n",
    "\n",
    "BrushSiz = 5\n",
    "LColor, RColor = (255, 0, 0), (0, 0, 255)\n",
    "\n",
    "\n",
    "def painting(event, x, y, flags, param):\n",
    "    if event == cv.EVENT_LBUTTONDOWN:\n",
    "        cv.circle(img, (x, y), BrushSiz, LColor, -1)\n",
    "    elif event == cv.EVENT_RBUTTONDOWN:\n",
    "        cv.circle(img, (x, y), BrushSiz, RColor, -1)\n",
    "    elif event == cv.EVENT_MOUSEMOVE and flags == cv.EVENT_FLAG_LBUTTON:\n",
    "        cv.circle(img, (x, y), BrushSiz, LColor, -1)\n",
    "    elif event == cv.EVENT_MOUSEMOVE and flags == cv.EVENT_FLAG_RBUTTON:\n",
    "        cv.circle(img, (x, y), BrushSiz, RColor, -1)\n",
    "\n",
    "    cv.imshow('Painting', img)\n",
    "\n",
    "\n",
    "cv.namedWindow('Painting')\n",
    "cv.imshow('Painting', img)\n",
    "\n",
    "cv.setMouseCallback('Painting', painting)\n",
    "\n",
    "while (True):\n",
    "    if cv.waitKey(1) == ord('q'):\n",
    "        cv.destroyAllWindows()\n",
    "        break"
   ],
   "id": "9464016fcb1968c5",
   "outputs": [
    {
     "name": "stderr",
     "output_type": "stream",
     "text": [
      "2024-11-09 23:35:51.539 python[85101:6628987] +[IMKClient subclass]: chose IMKClient_Legacy\n",
      "2024-11-09 23:35:51.539 python[85101:6628987] +[IMKInputSession subclass]: chose IMKInputSession_Legacy\n"
     ]
    }
   ],
   "execution_count": 1
  }
 ],
 "metadata": {
  "kernelspec": {
   "display_name": "Python 3",
   "language": "python",
   "name": "python3"
  },
  "language_info": {
   "codemirror_mode": {
    "name": "ipython",
    "version": 2
   },
   "file_extension": ".py",
   "mimetype": "text/x-python",
   "name": "python",
   "nbconvert_exporter": "python",
   "pygments_lexer": "ipython2",
   "version": "2.7.6"
  }
 },
 "nbformat": 4,
 "nbformat_minor": 5
}
