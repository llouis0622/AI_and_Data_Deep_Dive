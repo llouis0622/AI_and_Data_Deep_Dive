{
 "cells": [
  {
   "cell_type": "code",
   "id": "initial_id",
   "metadata": {
    "collapsed": true,
    "ExecuteTime": {
     "end_time": "2024-11-16T13:33:49.761299Z",
     "start_time": "2024-11-16T13:33:33.217523Z"
    }
   },
   "source": [
    "import cv2 as cv\n",
    "\n",
    "img = cv.imread('../image/soccer.jpg')\n",
    "gray = cv.cvtColor(img, cv.COLOR_BGR2GRAY)\n",
    "\n",
    "grad_x = cv.Sobel(gray, cv.CV_32F, 1, 0, ksize=3)\n",
    "grad_y = cv.Sobel(gray, cv.CV_32F, 0, 1, ksize=3)\n",
    "\n",
    "sobel_x = cv.convertScaleAbs(grad_x)\n",
    "sobel_y = cv.convertScaleAbs(grad_y)\n",
    "\n",
    "edge_strength = cv.addWeighted(sobel_x, 0.5, sobel_y, 0.5, 0)\n",
    "\n",
    "cv.imshow('Original', gray)\n",
    "cv.imshow('sobelx', sobel_x)\n",
    "cv.imshow('sobely', sobel_y)\n",
    "cv.imshow('edge strength', edge_strength)\n",
    "\n",
    "cv.waitKey()\n",
    "cv.destroyAllWindows()"
   ],
   "outputs": [
    {
     "name": "stderr",
     "output_type": "stream",
     "text": [
      "2024-11-16 22:33:33.788 python[13747:9395065] +[IMKClient subclass]: chose IMKClient_Legacy\n",
      "2024-11-16 22:33:33.788 python[13747:9395065] +[IMKInputSession subclass]: chose IMKInputSession_Legacy\n"
     ]
    }
   ],
   "execution_count": 2
  },
  {
   "metadata": {
    "ExecuteTime": {
     "end_time": "2024-11-16T13:33:53.166162Z",
     "start_time": "2024-11-16T13:33:50.899237Z"
    }
   },
   "cell_type": "code",
   "source": [
    "import cv2 as cv\n",
    "\n",
    "img = cv.imread('../image/soccer.jpg')\n",
    "\n",
    "gray = cv.cvtColor(img, cv.COLOR_BGR2GRAY)\n",
    "\n",
    "canny1 = cv.Canny(gray, 50, 150)\n",
    "canny2 = cv.Canny(gray, 100, 200)\n",
    "\n",
    "cv.imshow('Original', gray)\n",
    "cv.imshow('Canny1', canny1)\n",
    "cv.imshow('Canny2', canny2)\n",
    "\n",
    "cv.waitKey()\n",
    "cv.destroyAllWindows()"
   ],
   "id": "bef809392a8055e9",
   "outputs": [],
   "execution_count": 4
  },
  {
   "metadata": {
    "ExecuteTime": {
     "end_time": "2024-11-16T13:33:50.885192Z",
     "start_time": "2024-11-16T13:33:49.767599Z"
    }
   },
   "cell_type": "code",
   "source": [
    "import cv2 as cv\n",
    "import numpy as np\n",
    "\n",
    "img = cv.imread('../image/soccer.jpg')\n",
    "gray = cv.cvtColor(img, cv.COLOR_BGR2GRAY)\n",
    "canny = cv.Canny(gray, 100, 200)\n",
    "\n",
    "contour, hierarchy = cv.findContours(canny, cv.RETR_LIST, cv.CHAIN_APPROX_NONE)\n",
    "\n",
    "lcontour = []\n",
    "for i in range(len(contour)):\n",
    "    if contour[i].shape[0] > 100:\n",
    "        lcontour.append(contour[i])\n",
    "\n",
    "cv.drawContours(img, lcontour, -1, (0, 255, 0), 3)\n",
    "\n",
    "cv.imshow('Original with contours', img)\n",
    "cv.imshow('Canny', canny)\n",
    "\n",
    "cv.waitKey()\n",
    "cv.destroyAllWindows()"
   ],
   "id": "a45ab06880218855",
   "outputs": [],
   "execution_count": 3
  },
  {
   "metadata": {
    "ExecuteTime": {
     "end_time": "2024-11-16T13:34:09.916948Z",
     "start_time": "2024-11-16T13:34:06.807936Z"
    }
   },
   "cell_type": "code",
   "source": [
    "import cv2 as cv\n",
    "\n",
    "img = cv.imread('../image/apples.jpg')\n",
    "gray = cv.cvtColor(img, cv.COLOR_BGR2GRAY)\n",
    "\n",
    "apples = cv.HoughCircles(gray, cv.HOUGH_GRADIENT, 1, 200, param1=150, param2=20, minRadius=50, maxRadius=120)\n",
    "\n",
    "for i in apples[0]:\n",
    "    cv.circle(img, (int(i[0]), int(i[1])), int(i[2]), (255, 0, 0), 2)\n",
    "\n",
    "cv.imshow('Apple detection', img)\n",
    "\n",
    "cv.waitKey()\n",
    "cv.destroyAllWindows()"
   ],
   "id": "46d7ea58cd03419e",
   "outputs": [
    {
     "name": "stderr",
     "output_type": "stream",
     "text": [
      "2024-11-16 22:34:08.695 python[13813:9396154] +[IMKClient subclass]: chose IMKClient_Legacy\n",
      "2024-11-16 22:34:08.695 python[13813:9396154] +[IMKInputSession subclass]: chose IMKInputSession_Legacy\n"
     ]
    }
   ],
   "execution_count": 1
  },
  {
   "metadata": {
    "ExecuteTime": {
     "end_time": "2024-11-16T13:34:31.335488Z",
     "start_time": "2024-11-16T13:34:26.536422Z"
    }
   },
   "cell_type": "code",
   "source": [
    "import skimage\n",
    "import numpy as np\n",
    "import cv2 as cv\n",
    "\n",
    "img = skimage.data.coffee()\n",
    "cv.imshow('../image/Coffee image', cv.cvtColor(img, cv.COLOR_RGB2BGR))\n",
    "\n",
    "slic1 = skimage.segmentation.slic(img, compactness=20, n_segments=600)\n",
    "sp_img1 = skimage.segmentation.mark_boundaries(img, slic1)\n",
    "sp_img1 = np.uint8(sp_img1 * 255.0)\n",
    "\n",
    "slic2 = skimage.segmentation.slic(img, compactness=40, n_segments=600)\n",
    "sp_img2 = skimage.segmentation.mark_boundaries(img, slic2)\n",
    "sp_img2 = np.uint8(sp_img2 * 255.0)\n",
    "\n",
    "cv.imshow('Super pixels (compact 20)', cv.cvtColor(sp_img1, cv.COLOR_RGB2BGR))\n",
    "cv.imshow('Super pixels (compact 40)', cv.cvtColor(sp_img2, cv.COLOR_RGB2BGR))\n",
    "\n",
    "cv.waitKey()\n",
    "cv.destroyAllWindows()"
   ],
   "id": "16eb9d929b24cd0b",
   "outputs": [],
   "execution_count": 1
  },
  {
   "metadata": {
    "ExecuteTime": {
     "end_time": "2024-11-16T13:34:41.031144Z",
     "start_time": "2024-11-16T13:34:39.755151Z"
    }
   },
   "cell_type": "code",
   "source": [
    "import skimage\n",
    "import numpy as np\n",
    "import cv2 as cv\n",
    "import time\n",
    "\n",
    "coffee = skimage.data.coffee()\n",
    "\n",
    "start = time.time()\n",
    "slic = skimage.segmentation.slic(coffee, compactness=20, n_segments=600, start_label=1)\n",
    "g = skimage.future.graph.rag_mean_color(coffee, slic, mode='similarity')\n",
    "ncut = skimage.future.graph.cut_normalized(slic, g)\n",
    "print(coffee.shape, ' Coffee 영상을 분할하는데 ', time.time() - start, '초 소요')\n",
    "\n",
    "marking = skimage.segmentation.mark_boundaries(coffee, ncut)\n",
    "ncut_coffee = np.uint8(marking * 255.0)\n",
    "\n",
    "cv.imshow('Normalized cut', cv.cvtColor(ncut_coffee, cv.COLOR_RGB2BGR))\n",
    "\n",
    "cv.waitKey()\n",
    "cv.destroyAllWindows()"
   ],
   "id": "2506fbdef96afada",
   "outputs": [
    {
     "ename": "AttributeError",
     "evalue": "No skimage.future attribute graph",
     "output_type": "error",
     "traceback": [
      "\u001B[0;31m---------------------------------------------------------------------------\u001B[0m",
      "\u001B[0;31mAttributeError\u001B[0m                            Traceback (most recent call last)",
      "Cell \u001B[0;32mIn[1], line 10\u001B[0m\n\u001B[1;32m      8\u001B[0m start \u001B[38;5;241m=\u001B[39m time\u001B[38;5;241m.\u001B[39mtime()\n\u001B[1;32m      9\u001B[0m slic \u001B[38;5;241m=\u001B[39m skimage\u001B[38;5;241m.\u001B[39msegmentation\u001B[38;5;241m.\u001B[39mslic(coffee, compactness\u001B[38;5;241m=\u001B[39m\u001B[38;5;241m20\u001B[39m, n_segments\u001B[38;5;241m=\u001B[39m\u001B[38;5;241m600\u001B[39m, start_label\u001B[38;5;241m=\u001B[39m\u001B[38;5;241m1\u001B[39m)\n\u001B[0;32m---> 10\u001B[0m g \u001B[38;5;241m=\u001B[39m skimage\u001B[38;5;241m.\u001B[39mfuture\u001B[38;5;241m.\u001B[39mgraph\u001B[38;5;241m.\u001B[39mrag_mean_color(coffee, slic, mode\u001B[38;5;241m=\u001B[39m\u001B[38;5;124m'\u001B[39m\u001B[38;5;124msimilarity\u001B[39m\u001B[38;5;124m'\u001B[39m)\n\u001B[1;32m     11\u001B[0m ncut \u001B[38;5;241m=\u001B[39m skimage\u001B[38;5;241m.\u001B[39mfuture\u001B[38;5;241m.\u001B[39mgraph\u001B[38;5;241m.\u001B[39mcut_normalized(slic, g)\n\u001B[1;32m     12\u001B[0m \u001B[38;5;28mprint\u001B[39m(coffee\u001B[38;5;241m.\u001B[39mshape, \u001B[38;5;124m'\u001B[39m\u001B[38;5;124m Coffee 영상을 분할하는데 \u001B[39m\u001B[38;5;124m'\u001B[39m, time\u001B[38;5;241m.\u001B[39mtime() \u001B[38;5;241m-\u001B[39m start, \u001B[38;5;124m'\u001B[39m\u001B[38;5;124m초 소요\u001B[39m\u001B[38;5;124m'\u001B[39m)\n",
      "File \u001B[0;32m/opt/anaconda3/lib/python3.11/site-packages/lazy_loader/__init__.py:89\u001B[0m, in \u001B[0;36mattach.<locals>.__getattr__\u001B[0;34m(name)\u001B[0m\n\u001B[1;32m     87\u001B[0m     \u001B[38;5;28;01mreturn\u001B[39;00m attr\n\u001B[1;32m     88\u001B[0m \u001B[38;5;28;01melse\u001B[39;00m:\n\u001B[0;32m---> 89\u001B[0m     \u001B[38;5;28;01mraise\u001B[39;00m \u001B[38;5;167;01mAttributeError\u001B[39;00m(\u001B[38;5;124mf\u001B[39m\u001B[38;5;124m\"\u001B[39m\u001B[38;5;124mNo \u001B[39m\u001B[38;5;132;01m{\u001B[39;00mpackage_name\u001B[38;5;132;01m}\u001B[39;00m\u001B[38;5;124m attribute \u001B[39m\u001B[38;5;132;01m{\u001B[39;00mname\u001B[38;5;132;01m}\u001B[39;00m\u001B[38;5;124m\"\u001B[39m)\n",
      "\u001B[0;31mAttributeError\u001B[0m: No skimage.future attribute graph"
     ]
    }
   ],
   "execution_count": 1
  },
  {
   "metadata": {
    "ExecuteTime": {
     "end_time": "2024-11-16T13:35:24.456067Z",
     "start_time": "2024-11-16T13:34:57.440754Z"
    }
   },
   "cell_type": "code",
   "source": [
    "import cv2 as cv\n",
    "import numpy as np\n",
    "\n",
    "img = cv.imread('../image/soccer.jpg')\n",
    "img_show = np.copy(img)\n",
    "\n",
    "mask = np.zeros((img.shape[0], img.shape[1]), np.uint8)\n",
    "mask[:, :] = cv.GC_PR_BGD\n",
    "\n",
    "BrushSiz = 9\n",
    "LColor, RColor = (255, 0, 0), (0, 0, 255)\n",
    "\n",
    "\n",
    "def painting(event, x, y, flags, param):\n",
    "    if event == cv.EVENT_LBUTTONDOWN:\n",
    "        cv.circle(img_show, (x, y), BrushSiz, LColor, -1)\n",
    "        cv.circle(mask, (x, y), BrushSiz, cv.GC_FGD, -1)\n",
    "    elif event == cv.EVENT_RBUTTONDOWN:\n",
    "        cv.circle(img_show, (x, y), BrushSiz, RColor, -1)\n",
    "        cv.circle(mask, (x, y), BrushSiz, cv.GC_BGD, -1)\n",
    "    elif event == cv.EVENT_MOUSEMOVE and flags == cv.EVENT_FLAG_LBUTTON:\n",
    "        cv.circle(img_show, (x, y), BrushSiz, LColor, -1)\n",
    "        cv.circle(mask, (x, y), BrushSiz, cv.GC_FGD, -1)\n",
    "    elif event == cv.EVENT_MOUSEMOVE and flags == cv.EVENT_FLAG_RBUTTON:\n",
    "        cv.circle(img_show, (x, y), BrushSiz, RColor, -1)\n",
    "        cv.circle(mask, (x, y), BrushSiz, cv.GC_BGD, -1)\n",
    "\n",
    "    cv.imshow('Painting', img_show)\n",
    "\n",
    "\n",
    "cv.namedWindow('Painting')\n",
    "cv.setMouseCallback('Painting', painting)\n",
    "\n",
    "while (True):\n",
    "    if cv.waitKey(1) == ord('q'):\n",
    "        break\n",
    "\n",
    "background = np.zeros((1, 65), np.float64)\n",
    "foreground = np.zeros((1, 65), np.float64)\n",
    "\n",
    "cv.grabCut(img, mask, None, background, foreground, 5, cv.GC_INIT_WITH_MASK)\n",
    "mask2 = np.where((mask == cv.GC_BGD) | (mask == cv.GC_PR_BGD), 0, 1).astype('uint8')\n",
    "grab = img * mask2[:, :, np.newaxis]\n",
    "cv.imshow('Grab cut image', grab)\n",
    "\n",
    "cv.waitKey()\n",
    "cv.destroyAllWindows()"
   ],
   "id": "eafe8640ed72dd62",
   "outputs": [
    {
     "name": "stderr",
     "output_type": "stream",
     "text": [
      "2024-11-16 22:34:57.878 python[13870:9397040] +[IMKClient subclass]: chose IMKClient_Legacy\n",
      "2024-11-16 22:34:57.878 python[13870:9397040] +[IMKInputSession subclass]: chose IMKInputSession_Legacy\n"
     ]
    },
    {
     "ename": "KeyboardInterrupt",
     "evalue": "",
     "output_type": "error",
     "traceback": [
      "\u001B[0;31m---------------------------------------------------------------------------\u001B[0m",
      "\u001B[0;31mKeyboardInterrupt\u001B[0m                         Traceback (most recent call last)",
      "Cell \u001B[0;32mIn[2], line 35\u001B[0m\n\u001B[1;32m     32\u001B[0m cv\u001B[38;5;241m.\u001B[39msetMouseCallback(\u001B[38;5;124m'\u001B[39m\u001B[38;5;124mPainting\u001B[39m\u001B[38;5;124m'\u001B[39m, painting)\n\u001B[1;32m     34\u001B[0m \u001B[38;5;28;01mwhile\u001B[39;00m (\u001B[38;5;28;01mTrue\u001B[39;00m):\n\u001B[0;32m---> 35\u001B[0m     \u001B[38;5;28;01mif\u001B[39;00m cv\u001B[38;5;241m.\u001B[39mwaitKey(\u001B[38;5;241m1\u001B[39m) \u001B[38;5;241m==\u001B[39m \u001B[38;5;28mord\u001B[39m(\u001B[38;5;124m'\u001B[39m\u001B[38;5;124mq\u001B[39m\u001B[38;5;124m'\u001B[39m):\n\u001B[1;32m     36\u001B[0m         \u001B[38;5;28;01mbreak\u001B[39;00m\n\u001B[1;32m     38\u001B[0m background \u001B[38;5;241m=\u001B[39m np\u001B[38;5;241m.\u001B[39mzeros((\u001B[38;5;241m1\u001B[39m, \u001B[38;5;241m65\u001B[39m), np\u001B[38;5;241m.\u001B[39mfloat64)\n",
      "\u001B[0;31mKeyboardInterrupt\u001B[0m: "
     ]
    }
   ],
   "execution_count": 2
  },
  {
   "metadata": {
    "ExecuteTime": {
     "end_time": "2024-11-16T13:35:30.339671Z",
     "start_time": "2024-11-16T13:35:26.316171Z"
    }
   },
   "cell_type": "code",
   "source": [
    "import skimage\n",
    "import numpy as np\n",
    "import cv2 as cv\n",
    "\n",
    "orig = skimage.data.horse()\n",
    "img = 255 - np.uint8(orig) * 255\n",
    "cv.imshow('../image/Horse', img)\n",
    "\n",
    "contours, hierarchy = cv.findContours(img, cv.RETR_EXTERNAL, cv.CHAIN_APPROX_NONE)\n",
    "\n",
    "img2 = cv.cvtColor(img, cv.COLOR_GRAY2BGR)\n",
    "cv.drawContours(img2, contours, -1, (255, 0, 255), 2)\n",
    "cv.imshow('Horse with contour', img2)\n",
    "\n",
    "contour = contours[0]\n",
    "\n",
    "m = cv.moments(contour)\n",
    "area = cv.contourArea(contour)\n",
    "cx, cy = m['m10'] / m['m00'], m['m01'] / m['m00']\n",
    "perimeter = cv.arcLength(contour, True)\n",
    "roundness = (4.0 * np.pi * area) / (perimeter * perimeter)\n",
    "print('면적 = ', area, '\\n중점 = (', cx, ',', cy, ')', '\\n둘레 = ', perimeter, '\\n둥근 정도 = ', roundness)\n",
    "\n",
    "img3 = cv.cvtColor(img, cv.COLOR_GRAY2BGR)\n",
    "\n",
    "contour_approx = cv.approxPolyDP(contour, 8, True)\n",
    "cv.drawContours(img3, [contour_approx], -1, (0, 255, 0), 2)\n",
    "\n",
    "hull = cv.convexHull(contour)\n",
    "hull = hull.reshape(1, hull.shape[0], hull.shape[2])\n",
    "cv.drawContours(img3, hull, -1, (0, 0, 255), 2)\n",
    "\n",
    "cv.imshow('Horse with line segments and convex hull', img3)\n",
    "\n",
    "cv.waitKey()\n",
    "cv.destroyAllWindows()"
   ],
   "id": "ce27cfb1c99061a8",
   "outputs": [
    {
     "name": "stdout",
     "output_type": "stream",
     "text": [
      "면적 =  42390.0 \n",
      "중점 = ( 187.72464024534088 , 144.43640402610677 ) \n",
      "둘레 =  2296.7291333675385 \n",
      "둥근 정도 =  0.1009842680321435\n"
     ]
    }
   ],
   "execution_count": 3
  }
 ],
 "metadata": {
  "kernelspec": {
   "display_name": "Python 3",
   "language": "python",
   "name": "python3"
  },
  "language_info": {
   "codemirror_mode": {
    "name": "ipython",
    "version": 2
   },
   "file_extension": ".py",
   "mimetype": "text/x-python",
   "name": "python",
   "nbconvert_exporter": "python",
   "pygments_lexer": "ipython2",
   "version": "2.7.6"
  }
 },
 "nbformat": 4,
 "nbformat_minor": 5
}
